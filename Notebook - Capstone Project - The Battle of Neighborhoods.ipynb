{
 "cells": [
  {
   "cell_type": "markdown",
   "metadata": {
    "collapsed": true
   },
   "source": [
    "# Capstone Project - The Battle of Neighborhoods by Anagha Kulkarni"
   ]
  },
  {
   "cell_type": "markdown",
   "metadata": {},
   "source": [
    "## 1. Introduction / Business Problem"
   ]
  },
  {
   "cell_type": "markdown",
   "metadata": {},
   "source": [
    "##### 1.1 Introduction"
   ]
  },
  {
   "cell_type": "markdown",
   "metadata": {},
   "source": [
    "Toronto, the most populous city in Canada is the capital of the province of Ontario. It is a major Canadian city along Lake Ontario’s northwestern shore. It is a dynamic metropolis with a core of soaring skyscrapers, all dwarfed by the iconic, free-standing CN Tower. Toronto has, in recent decades, been transformed into one of the most culturally and ethnically diverse cities in the world. More than 80 ethnic communities are represented, and over half of the city's residents were born outside Canada. \n",
    "\n",
    "Multicultural Toronto is home to a culinary wonderland of many cuisines and dishes unique to the city. Toronto's plethora of ethnic food places is a direct result of its multiculturalism. Indian cuisine has always been one of the most popular cuisines not only among the resident population but also among the tourists visiting this city.\n",
    "\n",
    "<img src=\"https://www.nydailynews.com/resizer/UpBkgnm55p4x-w62IvQ2LMEPpB4=/800x476/top/arc-anglerfish-arc2-prod-tronc.s3.amazonaws.com/public/PTHIHN5WMZEFDFLF5YRQCOQVMY.jpg\" width=600 height=357 />\n"
   ]
  },
  {
   "cell_type": "markdown",
   "metadata": {},
   "source": [
    "##### 1.2 Business Problem"
   ]
  },
  {
   "cell_type": "markdown",
   "metadata": {},
   "source": [
    "With the amount of popularity that  this cuisine has gained over the period of time and especially in the city of toronto, Indian restaurants are also gaining popularity from a business perspective. If you are someone looking to start your own Indian restaurant, then this information is for you. There are several aspects to be considered when starting a new business, we will be focusing on a few aspects here.<br> The success of any business, especially a restaurant, is heavily dependent on its location. The area has to be convenient and safe for the public. One of the other important factors is competition from existing peers. Fierce competition can be a great entry barrier and should be avoided as much as possible.  So, an area where there is a scarcity of Indian restaurants would be preferred. <br> This final project is directed towards finding a best neighborhood in Toronto based on its location, rating and most important, in my opinion, considering the safety of that neighborhood. "
   ]
  },
  {
   "cell_type": "markdown",
   "metadata": {},
   "source": [
    "##### 1.3 Target Audience"
   ]
  },
  {
   "cell_type": "markdown",
   "metadata": {},
   "source": [
    "The organizations, individuals and group of people who would be using and be benefited from this project are:\n",
    "1. Any organization or individual that wants to setup a new Indian restaurant or want to expand their footprint in Toronto area.\n",
    "2. Foodies who are looking for areas with best options for Indian cuisine based on ratings. \n",
    "3. People who are looking for neighborhoods with higher number of Indian restaurants.   "
   ]
  },
  {
   "cell_type": "markdown",
   "metadata": {},
   "source": [
    "## 2. Data and Data Sources"
   ]
  },
  {
   "cell_type": "markdown",
   "metadata": {},
   "source": [
    "**For this project we will need the following data:**\n",
    "\n",
    "**1. List of Postal Codes in Toronto area along with the Boroughs and Neighborhoods they belong to.<br>** \n",
    "This data set contains list of Postal Codes and corresponding Boroughs and Neighborhoods in Toronto area. This dataset will be merged with other dataset that contains geospatial co-ordinates of various postal codes in  Toronto to obtain Latitude & Longitude for each Neighborhood. <br>\n",
    "Link : https://en.wikipedia.org/wiki/List_of_postal_codes_of_Canada:_M\n",
    "<br><br>\n",
    "**2. List of postal codes in Toronto area along with their latitude and longitude.<br>**\n",
    "This data set contains geospatial co-ordinates of various postal codes in  Toronto. This dataset will be merged with other dataset that contains list of Postal Codes and corresponding Boroughs and Neighborhoods in Toronto to obtain Latitude & Longitude for each Neighborhood.<br>\n",
    "Link : http://cocl.us/Geospatial_data\n",
    "<br><br>\n",
    "**3. Current footprint of Indian restaurants in each neighborhood of Toronto area.<br>**\n",
    "This information will be gathered by marking a call to FourSquare API to fetch venues around each neighborhood within certain radius. We will then filter this dataset to get information about only Indian restaurants.<br>\n",
    "Link : https://developer.foursquare.com/docs/api-reference/venues/search/\n",
    "<br><br>\n",
    "**4. Recent Crime Data in Toronto neighborhoods.<br>**\n",
    "This dataset contains Toronto Police Data for Years 2014 through 2019. It provides information about what type of offenses were reported along with their location and type of premise where the crimes were committed.<br>\n",
    "Link : https://www.kaggle.com/kapastor/toronto-police-data-crime-rates-by-neighbourhood\n"
   ]
  },
  {
   "cell_type": "markdown",
   "metadata": {},
   "source": [
    "## 3. Problems to be solved with the help of above data"
   ]
  },
  {
   "cell_type": "markdown",
   "metadata": {},
   "source": [
    "* Which boroughs & neighborhoods in Toronto have ample of Indian Restaurants and which areas they are scarce?\n",
    "* Based on the ratings, which boroughs & neighborhoods have the best Indian Restaurants in Toronto?\n",
    "* In order to find a safer location for a new restaurant, which boroughs & neighborhoods have least crime rate in commercial premises?  \n",
    "* Considering above factors, what is the recommended location to setup a new Indian Restaurant in Toronto?"
   ]
  },
  {
   "cell_type": "markdown",
   "metadata": {},
   "source": [
    "## 4. Approach"
   ]
  },
  {
   "cell_type": "markdown",
   "metadata": {},
   "source": [
    "1. Build a dataset of boroughs & neighborhoods in Toronto area along with their geospatial coordinates.\n",
    "2. Using FourSquare Venue API, get list of all venues within half a mile radius for each neighborhood. \n",
    "3. Filter this list to build a dataset of only the Indian Restaurants in each neighborhood.\n",
    "4. Analyze above dataset to find boroughs & neighborhoods with the greatest number of Indian Restaurants & least number of Indian Restaurants.\n",
    "5. Using FourSquare Venue Details API, get details for each restaurant such as rating, tips and number of likes.\n",
    "6. Sort the list of restaurants by ratings and identify the boroughs & neighborhoods that have the best Indian Restaurants.\n",
    "7. Create a map of Toronto area to visualize the neighborhoods that have the best Indian Restaurants.\n",
    "8. Build a dataset of crimes committed in Toronto area in year 2019 with details such as Borough, Neighborhood, type of offence and type of premise.\n",
    "9. Filter this dataset to get information about crimes committed only in Commercial premises. \n",
    "10. Analyze the above dataset and identify the boroughs & neighborhoods that have least crime rate in commercial premises.\n",
    "11. Considering the above data holistically, recommended a location to setup a new Indian Restaurant in Toronto. "
   ]
  },
  {
   "cell_type": "markdown",
   "metadata": {},
   "source": [
    "## 5. Methodology"
   ]
  },
  {
   "cell_type": "markdown",
   "metadata": {},
   "source": [
    "Firstly, let's import required libraries for this project"
   ]
  },
  {
   "cell_type": "code",
   "execution_count": 1,
   "metadata": {},
   "outputs": [
    {
     "name": "stdout",
     "output_type": "stream",
     "text": [
      "Collecting folium\n",
      "  Downloading folium-0.11.0-py2.py3-none-any.whl (93 kB)\n",
      "\u001b[K     |████████████████████████████████| 93 kB 1.8 MB/s eta 0:00:011\n",
      "\u001b[?25hRequirement already satisfied: requests in /opt/conda/envs/Python-3.7-main/lib/python3.7/site-packages (from folium) (2.24.0)\n",
      "Requirement already satisfied: numpy in /opt/conda/envs/Python-3.7-main/lib/python3.7/site-packages (from folium) (1.18.5)\n",
      "Collecting branca>=0.3.0\n",
      "  Downloading branca-0.4.1-py3-none-any.whl (24 kB)\n",
      "Requirement already satisfied: jinja2>=2.9 in /opt/conda/envs/Python-3.7-main/lib/python3.7/site-packages (from folium) (2.11.2)\n",
      "Requirement already satisfied: urllib3!=1.25.0,!=1.25.1,<1.26,>=1.21.1 in /opt/conda/envs/Python-3.7-main/lib/python3.7/site-packages (from requests->folium) (1.25.9)\n",
      "Requirement already satisfied: certifi>=2017.4.17 in /opt/conda/envs/Python-3.7-main/lib/python3.7/site-packages (from requests->folium) (2020.12.5)\n",
      "Requirement already satisfied: chardet<4,>=3.0.2 in /opt/conda/envs/Python-3.7-main/lib/python3.7/site-packages (from requests->folium) (3.0.4)\n",
      "Requirement already satisfied: idna<3,>=2.5 in /opt/conda/envs/Python-3.7-main/lib/python3.7/site-packages (from requests->folium) (2.9)\n",
      "Requirement already satisfied: MarkupSafe>=0.23 in /opt/conda/envs/Python-3.7-main/lib/python3.7/site-packages (from jinja2>=2.9->folium) (1.1.1)\n",
      "Installing collected packages: branca, folium\n",
      "Successfully installed branca-0.4.1 folium-0.11.0\n",
      "Libraries imported.\n"
     ]
    }
   ],
   "source": [
    "import numpy as np # library to handle data in a vectorized manner\n",
    "\n",
    "import pandas as pd # library for data analsysis\n",
    "\n",
    "from geopy.geocoders import Nominatim # convert an address into latitude and longitude values\n",
    "\n",
    "import requests # library to handle requests\n",
    "from pandas.io.json import json_normalize # tranform JSON file into a pandas dataframe\n",
    "\n",
    "# Matplotlib and associated plotting modules\n",
    "import matplotlib.cm as cm\n",
    "import matplotlib.colors as colors\n",
    "import matplotlib.pyplot as plt\n",
    "import matplotlib as mpl\n",
    "\n",
    "from bs4 import BeautifulSoup\n",
    "\n",
    "import os\n",
    "\n",
    "!pip install folium\n",
    "import folium # map rendering library\n",
    "\n",
    "print('Libraries imported.')"
   ]
  },
  {
   "cell_type": "markdown",
   "metadata": {},
   "source": [
    "#### 5.1 Let's Build a dataset of boroughs & neighborhoods in Toronto area along with their geospatial coordinates"
   ]
  },
  {
   "cell_type": "markdown",
   "metadata": {},
   "source": [
    "Scraping the raw data (Wikipedia page) to build a dataframe of postal codes, boroughs & neighborhoods in Toronto"
   ]
  },
  {
   "cell_type": "code",
   "execution_count": 2,
   "metadata": {},
   "outputs": [
    {
     "data": {
      "text/html": [
       "<div>\n",
       "<style scoped>\n",
       "    .dataframe tbody tr th:only-of-type {\n",
       "        vertical-align: middle;\n",
       "    }\n",
       "\n",
       "    .dataframe tbody tr th {\n",
       "        vertical-align: top;\n",
       "    }\n",
       "\n",
       "    .dataframe thead th {\n",
       "        text-align: right;\n",
       "    }\n",
       "</style>\n",
       "<table border=\"1\" class=\"dataframe\">\n",
       "  <thead>\n",
       "    <tr style=\"text-align: right;\">\n",
       "      <th></th>\n",
       "      <th>PostalCode</th>\n",
       "      <th>Borough</th>\n",
       "      <th>Neighborhood</th>\n",
       "    </tr>\n",
       "  </thead>\n",
       "  <tbody>\n",
       "    <tr>\n",
       "      <th>0</th>\n",
       "      <td>M3A</td>\n",
       "      <td>North York</td>\n",
       "      <td>Parkwoods</td>\n",
       "    </tr>\n",
       "    <tr>\n",
       "      <th>1</th>\n",
       "      <td>M4A</td>\n",
       "      <td>North York</td>\n",
       "      <td>Victoria Village</td>\n",
       "    </tr>\n",
       "    <tr>\n",
       "      <th>2</th>\n",
       "      <td>M5A</td>\n",
       "      <td>Downtown Toronto</td>\n",
       "      <td>Regent Park</td>\n",
       "    </tr>\n",
       "    <tr>\n",
       "      <th>3</th>\n",
       "      <td>M6A</td>\n",
       "      <td>North York</td>\n",
       "      <td>Lawrence Manor</td>\n",
       "    </tr>\n",
       "    <tr>\n",
       "      <th>4</th>\n",
       "      <td>M7A</td>\n",
       "      <td>Downtown Toronto</td>\n",
       "      <td>Queen's Park</td>\n",
       "    </tr>\n",
       "  </tbody>\n",
       "</table>\n",
       "</div>"
      ],
      "text/plain": [
       "  PostalCode           Borough      Neighborhood\n",
       "0        M3A        North York         Parkwoods\n",
       "1        M4A        North York  Victoria Village\n",
       "2        M5A  Downtown Toronto       Regent Park\n",
       "3        M6A        North York    Lawrence Manor\n",
       "4        M7A  Downtown Toronto      Queen's Park"
      ]
     },
     "execution_count": 2,
     "metadata": {},
     "output_type": "execute_result"
    }
   ],
   "source": [
    "raw_data = requests.get(\"https://en.wikipedia.org/wiki/List_of_postal_codes_of_Canada:_M\").text\n",
    "soup = BeautifulSoup(raw_data, 'xml')\n",
    "\n",
    "table = soup.find(\"table\")\n",
    "table_rows = table.tbody.find_all(\"tr\")\n",
    "\n",
    "\n",
    "res = []\n",
    "for tr in table_rows:\n",
    "    td = tr.find_all(\"td\")\n",
    "    row = [tr.text for tr in td]\n",
    "    \n",
    "    # Cleaning up the data by ignoring cells with a borough that is Not assigned.\n",
    "    if row != [] and row[1] != \"Not assigned\\n\":\n",
    "        row[2] = row[2].split(\",\")[0]\n",
    "        # Assigning neighborhood to be the same as the borough, when a cell has a borough but a \"Not assigned\" neighborhood.\n",
    "        if \"Not assigned\" in row[2]: \n",
    "            row[2] = row[1]\n",
    "        res.append(row)\n",
    "    \n",
    "# Creating a Dataframe with 3 columns\n",
    "df = pd.DataFrame(res, columns = [\"PostalCode\", \"Borough\", \"Neighborhood\"])\n",
    "df[\"PostalCode\"] = df[\"PostalCode\"].str.replace(\"\\n\",\"\")\n",
    "df[\"Borough\"] = df[\"Borough\"].str.replace(\"\\n\",\"\")\n",
    "df[\"Neighborhood\"] = df[\"Neighborhood\"].str.replace(\"\\n\",\"\")\n",
    "df.head()    "
   ]
  },
  {
   "cell_type": "markdown",
   "metadata": {},
   "source": [
    "Getting the latitude and the longitude co-ordinates of each neighborhood"
   ]
  },
  {
   "cell_type": "code",
   "execution_count": 3,
   "metadata": {},
   "outputs": [
    {
     "data": {
      "text/html": [
       "<div>\n",
       "<style scoped>\n",
       "    .dataframe tbody tr th:only-of-type {\n",
       "        vertical-align: middle;\n",
       "    }\n",
       "\n",
       "    .dataframe tbody tr th {\n",
       "        vertical-align: top;\n",
       "    }\n",
       "\n",
       "    .dataframe thead th {\n",
       "        text-align: right;\n",
       "    }\n",
       "</style>\n",
       "<table border=\"1\" class=\"dataframe\">\n",
       "  <thead>\n",
       "    <tr style=\"text-align: right;\">\n",
       "      <th></th>\n",
       "      <th>Postal Code</th>\n",
       "      <th>Latitude</th>\n",
       "      <th>Longitude</th>\n",
       "    </tr>\n",
       "  </thead>\n",
       "  <tbody>\n",
       "    <tr>\n",
       "      <th>0</th>\n",
       "      <td>M1B</td>\n",
       "      <td>43.806686</td>\n",
       "      <td>-79.194353</td>\n",
       "    </tr>\n",
       "    <tr>\n",
       "      <th>1</th>\n",
       "      <td>M1C</td>\n",
       "      <td>43.784535</td>\n",
       "      <td>-79.160497</td>\n",
       "    </tr>\n",
       "    <tr>\n",
       "      <th>2</th>\n",
       "      <td>M1E</td>\n",
       "      <td>43.763573</td>\n",
       "      <td>-79.188711</td>\n",
       "    </tr>\n",
       "    <tr>\n",
       "      <th>3</th>\n",
       "      <td>M1G</td>\n",
       "      <td>43.770992</td>\n",
       "      <td>-79.216917</td>\n",
       "    </tr>\n",
       "    <tr>\n",
       "      <th>4</th>\n",
       "      <td>M1H</td>\n",
       "      <td>43.773136</td>\n",
       "      <td>-79.239476</td>\n",
       "    </tr>\n",
       "  </tbody>\n",
       "</table>\n",
       "</div>"
      ],
      "text/plain": [
       "  Postal Code   Latitude  Longitude\n",
       "0         M1B  43.806686 -79.194353\n",
       "1         M1C  43.784535 -79.160497\n",
       "2         M1E  43.763573 -79.188711\n",
       "3         M1G  43.770992 -79.216917\n",
       "4         M1H  43.773136 -79.239476"
      ]
     },
     "execution_count": 3,
     "metadata": {},
     "output_type": "execute_result"
    }
   ],
   "source": [
    "df_geo_coordinates = pd.read_csv('http://cocl.us/Geospatial_data')\n",
    "df_geo_coordinates.head()"
   ]
  },
  {
   "cell_type": "markdown",
   "metadata": {},
   "source": [
    "Combining the dataframe for neighborhood data with dataframe for geographical coordinates of each postal code to get final data frame"
   ]
  },
  {
   "cell_type": "code",
   "execution_count": 4,
   "metadata": {},
   "outputs": [
    {
     "data": {
      "text/html": [
       "<div>\n",
       "<style scoped>\n",
       "    .dataframe tbody tr th:only-of-type {\n",
       "        vertical-align: middle;\n",
       "    }\n",
       "\n",
       "    .dataframe tbody tr th {\n",
       "        vertical-align: top;\n",
       "    }\n",
       "\n",
       "    .dataframe thead th {\n",
       "        text-align: right;\n",
       "    }\n",
       "</style>\n",
       "<table border=\"1\" class=\"dataframe\">\n",
       "  <thead>\n",
       "    <tr style=\"text-align: right;\">\n",
       "      <th></th>\n",
       "      <th>Borough</th>\n",
       "      <th>Neighborhood</th>\n",
       "      <th>Latitude</th>\n",
       "      <th>Longitude</th>\n",
       "    </tr>\n",
       "  </thead>\n",
       "  <tbody>\n",
       "    <tr>\n",
       "      <th>0</th>\n",
       "      <td>North York</td>\n",
       "      <td>Parkwoods</td>\n",
       "      <td>43.753259</td>\n",
       "      <td>-79.329656</td>\n",
       "    </tr>\n",
       "    <tr>\n",
       "      <th>1</th>\n",
       "      <td>North York</td>\n",
       "      <td>Victoria Village</td>\n",
       "      <td>43.725882</td>\n",
       "      <td>-79.315572</td>\n",
       "    </tr>\n",
       "    <tr>\n",
       "      <th>2</th>\n",
       "      <td>Downtown Toronto</td>\n",
       "      <td>Regent Park</td>\n",
       "      <td>43.654260</td>\n",
       "      <td>-79.360636</td>\n",
       "    </tr>\n",
       "    <tr>\n",
       "      <th>3</th>\n",
       "      <td>North York</td>\n",
       "      <td>Lawrence Manor</td>\n",
       "      <td>43.718518</td>\n",
       "      <td>-79.464763</td>\n",
       "    </tr>\n",
       "    <tr>\n",
       "      <th>4</th>\n",
       "      <td>Downtown Toronto</td>\n",
       "      <td>Queen's Park</td>\n",
       "      <td>43.662301</td>\n",
       "      <td>-79.389494</td>\n",
       "    </tr>\n",
       "  </tbody>\n",
       "</table>\n",
       "</div>"
      ],
      "text/plain": [
       "            Borough      Neighborhood   Latitude  Longitude\n",
       "0        North York         Parkwoods  43.753259 -79.329656\n",
       "1        North York  Victoria Village  43.725882 -79.315572\n",
       "2  Downtown Toronto       Regent Park  43.654260 -79.360636\n",
       "3        North York    Lawrence Manor  43.718518 -79.464763\n",
       "4  Downtown Toronto      Queen's Park  43.662301 -79.389494"
      ]
     },
     "execution_count": 4,
     "metadata": {},
     "output_type": "execute_result"
    }
   ],
   "source": [
    "df_neighb_geo = pd.merge(df, df_geo_coordinates, how='left', left_on = 'PostalCode', right_on = 'Postal Code')\n",
    "\n",
    "# removing the \"Postal Code\" columns\n",
    "df_neighb_geo.drop([\"Postal Code\",\"PostalCode\"], axis=1, inplace=True)\n",
    "\n",
    "# as the postal code column was dropped, it would create duplicate records few boroughs & neighborhoods that had mutiple postal codes associated\n",
    "#dropping the duplicates\n",
    "df_neighb_geo=df_neighb_geo.drop_duplicates(subset=['Borough', 'Neighborhood'])\n",
    "df_neighb_geo.head()"
   ]
  },
  {
   "cell_type": "markdown",
   "metadata": {},
   "source": [
    "#### 5.2 Get list of all venues within half a mile radius for each neighborhood"
   ]
  },
  {
   "cell_type": "markdown",
   "metadata": {},
   "source": [
    "Let's define a function to get top 100 venues within a radius of 800 meters (roughly 1/2 mile) around a given latitude and longitude using FourSquare API. \n",
    "Below function will return a dataframe containing the venue ID, venue name and category."
   ]
  },
  {
   "cell_type": "code",
   "execution_count": 5,
   "metadata": {},
   "outputs": [],
   "source": [
    "def get_venues_foursq(lat,long):\n",
    "    \n",
    "    #setting up parameters to call foursquare api\n",
    "    radius=800 #roughly 1/2 mile\n",
    "    LIMIT=100\n",
    "    CLIENT_ID = 'EKAARII0A5OS21BF4HLAILPFX4AGU5YZD32CW2PR0IWCR2EZ' # Foursquare ID\n",
    "    CLIENT_SECRET = 'JHRKVXOZLOG1U42NTUBKJU1X3UNQMNX10OOMUIYKGFKLWXD2' # Foursquare Secret\n",
    "    VERSION = '20180605' # Foursquare API version\n",
    "    \n",
    "    #call foursquare api to get top 100 venues within a radius of 800 meters around a given latitude and longitude\n",
    "    url = 'https://api.foursquare.com/v2/venues/explore?&client_id={}&client_secret={}&v={}&ll={},{}&radius={}&limit={}'.format(\n",
    "            CLIENT_ID, \n",
    "            CLIENT_SECRET, \n",
    "            VERSION, \n",
    "            lat, \n",
    "            long, \n",
    "            radius, \n",
    "            LIMIT)\n",
    "    \n",
    "    # get the result to a json file\n",
    "    results = requests.get(url).json()\n",
    "    \n",
    "    #read the json file and convert it to a list\n",
    "    venues=results[\"response\"]['groups'][0]['items']\n",
    "    venue_list=[]\n",
    "    for row in venues:\n",
    "        try:\n",
    "            venue_id=row['venue']['id']\n",
    "            venue_name=row['venue']['name']\n",
    "            venue_category=row['venue']['categories'][0]['name']\n",
    "            venue_list.append([venue_id,venue_name,venue_category])\n",
    "        except KeyError:\n",
    "            pass\n",
    "        \n",
    "    df = pd.DataFrame(venue_list,columns=['ID','Name','Category'])\n",
    "    return df"
   ]
  },
  {
   "cell_type": "markdown",
   "metadata": {},
   "source": [
    "##### 5.3 Filter this list to build a dataset of only the Indian Restaurants in each neighborhood."
   ]
  },
  {
   "cell_type": "markdown",
   "metadata": {},
   "source": [
    "Building a dataframe of neighborhood that contains indian restaurants"
   ]
  },
  {
   "cell_type": "code",
   "execution_count": 6,
   "metadata": {},
   "outputs": [
    {
     "name": "stdout",
     "output_type": "stream",
     "text": [
      "Parkwoods, North York has 0 indian restaurants \n",
      "Victoria Village, North York has 0 indian restaurants \n",
      "Regent Park, Downtown Toronto has 0 indian restaurants \n",
      "Lawrence Manor, North York has 0 indian restaurants \n",
      "Queen's Park, Downtown Toronto has 1 indian restaurants \n",
      "Islington Avenue, Etobicoke has 0 indian restaurants \n",
      "Malvern, Scarborough has 0 indian restaurants \n",
      "Don Mills, North York has 0 indian restaurants \n",
      "Parkview Hill, East York has 0 indian restaurants \n",
      "Garden District, Downtown Toronto has 0 indian restaurants \n",
      "Glencairn, North York has 0 indian restaurants \n",
      "West Deane Park, Etobicoke has 0 indian restaurants \n",
      "Rouge Hill, Scarborough has 0 indian restaurants \n",
      "Woodbine Heights, East York has 0 indian restaurants \n",
      "St. James Town, Downtown Toronto has 0 indian restaurants \n",
      "Humewood-Cedarvale, York has 0 indian restaurants \n",
      "Eringate, Etobicoke has 0 indian restaurants \n",
      "Guildwood, Scarborough has 0 indian restaurants \n",
      "The Beaches, East Toronto has 1 indian restaurants \n",
      "Berczy Park, Downtown Toronto has 0 indian restaurants \n",
      "Caledonia-Fairbanks, York has 0 indian restaurants \n",
      "Woburn, Scarborough has 0 indian restaurants \n",
      "Leaside, East York has 1 indian restaurants \n",
      "Central Bay Street, Downtown Toronto has 0 indian restaurants \n",
      "Christie, Downtown Toronto has 2 indian restaurants \n",
      "Cedarbrae, Scarborough has 2 indian restaurants \n",
      "Hillcrest Village, North York has 0 indian restaurants \n",
      "Bathurst Manor, North York has 0 indian restaurants \n",
      "Thorncliffe Park, East York has 4 indian restaurants \n",
      "Richmond, Downtown Toronto has 0 indian restaurants \n",
      "Dufferin, West Toronto has 0 indian restaurants \n",
      "Scarborough Village, Scarborough has 0 indian restaurants \n",
      "Fairview, North York has 0 indian restaurants \n",
      "Northwood Park, North York has 0 indian restaurants \n",
      "East Toronto, East York has 0 indian restaurants \n",
      "Harbourfront East, Downtown Toronto has 1 indian restaurants \n",
      "Little Portugal, West Toronto has 0 indian restaurants \n",
      "Kennedy Park, Scarborough has 0 indian restaurants \n",
      "Bayview Village, North York has 0 indian restaurants \n",
      "Downsview, North York has 0 indian restaurants \n",
      "The Danforth West, East Toronto has 1 indian restaurants \n",
      "Toronto Dominion Centre, Downtown Toronto has 0 indian restaurants \n",
      "Brockton, West Toronto has 1 indian restaurants \n",
      "Golden Mile, Scarborough has 0 indian restaurants \n",
      "York Mills, North York has 0 indian restaurants \n",
      "India Bazaar, East Toronto has 8 indian restaurants \n",
      "Commerce Court, Downtown Toronto has 0 indian restaurants \n",
      "North Park, North York has 0 indian restaurants \n",
      "Humber Summit, North York has 0 indian restaurants \n",
      "Cliffside, Scarborough has 0 indian restaurants \n",
      "Willowdale, North York has 1 indian restaurants \n",
      "Studio District, East Toronto has 0 indian restaurants \n",
      "Bedford Park, North York has 1 indian restaurants \n",
      "Del Ray, York has 0 indian restaurants \n",
      "Humberlea, North York has 0 indian restaurants \n",
      "Birch Cliff, Scarborough has 0 indian restaurants \n",
      "Lawrence Park, Central Toronto has 0 indian restaurants \n",
      "Roselawn, Central Toronto has 0 indian restaurants \n",
      "Runnymede, York has 1 indian restaurants \n",
      "Weston, York has 0 indian restaurants \n",
      "Dorset Park, Scarborough has 2 indian restaurants \n",
      "York Mills West, North York has 0 indian restaurants \n",
      "Davisville North, Central Toronto has 0 indian restaurants \n",
      "Forest Hill North & West, Central Toronto has 0 indian restaurants \n",
      "High Park, West Toronto has 1 indian restaurants \n",
      "Westmount, Etobicoke has 0 indian restaurants \n",
      "Wexford, Scarborough has 0 indian restaurants \n",
      "North Toronto West, Central Toronto has 0 indian restaurants \n",
      "The Annex, Central Toronto has 1 indian restaurants \n",
      "Parkdale, West Toronto has 0 indian restaurants \n",
      "Canada Post Gateway Processing Centre, Mississauga has 2 indian restaurants \n",
      "Kingsview Village, Etobicoke has 0 indian restaurants \n",
      "Agincourt, Scarborough has 0 indian restaurants \n",
      "Davisville, Central Toronto has 2 indian restaurants \n",
      "University of Toronto, Downtown Toronto has 0 indian restaurants \n",
      "Runnymede, West Toronto has 1 indian restaurants \n",
      "Clarks Corners, Scarborough has 0 indian restaurants \n",
      "Moore Park, Central Toronto has 0 indian restaurants \n",
      "Kensington Market, Downtown Toronto has 1 indian restaurants \n",
      "Milliken, Scarborough has 0 indian restaurants \n",
      "Summerhill West, Central Toronto has 0 indian restaurants \n",
      "CN Tower, Downtown Toronto has 0 indian restaurants \n",
      "New Toronto, Etobicoke has 0 indian restaurants \n",
      "South Steeles, Etobicoke has 0 indian restaurants \n",
      "Steeles West, Scarborough has 1 indian restaurants \n",
      "Rosedale, Downtown Toronto has 0 indian restaurants \n",
      "Stn A PO Boxes, Downtown Toronto has 0 indian restaurants \n",
      "Alderwood, Etobicoke has 0 indian restaurants \n",
      "Northwest, Etobicoke has 0 indian restaurants \n",
      "Upper Rouge, Scarborough has 0 indian restaurants \n",
      "First Canadian Place, Downtown Toronto has 0 indian restaurants \n",
      "The Kingsway, Etobicoke has 0 indian restaurants \n",
      "Church and Wellesley, Downtown Toronto has 2 indian restaurants \n",
      "Business reply mail Processing Centre, East Toronto has 0 indian restaurants \n",
      "Old Mill South, Etobicoke has 0 indian restaurants \n",
      "Mimico NW, Etobicoke has 0 indian restaurants \n"
     ]
    }
   ],
   "source": [
    "toronto_indian_rest=pd.DataFrame(columns=['Borough', 'Neighborhood', 'ID','Name'])\n",
    "count=1\n",
    "for row in df_neighb_geo.values.tolist():\n",
    "    Borough, Neighborhood, Latitude, Longitude=row\n",
    "    venues = get_venues_foursq(Latitude,Longitude)\n",
    "    indian_restaurants=venues[venues['Category']=='Indian Restaurant']   \n",
    "    print(Neighborhood+', '+ Borough+ ' has '+str(len(indian_restaurants))+' indian restaurants ')\n",
    "    for resturant_detail in indian_restaurants.values.tolist():\n",
    "        id, name , category=resturant_detail\n",
    "        toronto_indian_rest = toronto_indian_rest.append({'Borough': Borough,\n",
    "                                                'Neighborhood': Neighborhood, \n",
    "                                                'ID': id,\n",
    "                                                'Name' : name\n",
    "                                               }, ignore_index=True)\n",
    "    count+=1"
   ]
  },
  {
   "cell_type": "code",
   "execution_count": 7,
   "metadata": {},
   "outputs": [
    {
     "data": {
      "text/html": [
       "<div>\n",
       "<style scoped>\n",
       "    .dataframe tbody tr th:only-of-type {\n",
       "        vertical-align: middle;\n",
       "    }\n",
       "\n",
       "    .dataframe tbody tr th {\n",
       "        vertical-align: top;\n",
       "    }\n",
       "\n",
       "    .dataframe thead th {\n",
       "        text-align: right;\n",
       "    }\n",
       "</style>\n",
       "<table border=\"1\" class=\"dataframe\">\n",
       "  <thead>\n",
       "    <tr style=\"text-align: right;\">\n",
       "      <th></th>\n",
       "      <th>Borough</th>\n",
       "      <th>Neighborhood</th>\n",
       "      <th>ID</th>\n",
       "      <th>Name</th>\n",
       "    </tr>\n",
       "  </thead>\n",
       "  <tbody>\n",
       "    <tr>\n",
       "      <th>0</th>\n",
       "      <td>Downtown Toronto</td>\n",
       "      <td>Queen's Park</td>\n",
       "      <td>4bedf8b5e24d20a17b567214</td>\n",
       "      <td>Kothur Indian Cuisine</td>\n",
       "    </tr>\n",
       "    <tr>\n",
       "      <th>1</th>\n",
       "      <td>East Toronto</td>\n",
       "      <td>The Beaches</td>\n",
       "      <td>4dcd7c6352b1f8915b7e7f7e</td>\n",
       "      <td>Delhi Bistro</td>\n",
       "    </tr>\n",
       "    <tr>\n",
       "      <th>2</th>\n",
       "      <td>East York</td>\n",
       "      <td>Leaside</td>\n",
       "      <td>504bcf32e4b0ef19b0e2ecf8</td>\n",
       "      <td>Mt Everest Restaurant</td>\n",
       "    </tr>\n",
       "    <tr>\n",
       "      <th>3</th>\n",
       "      <td>Downtown Toronto</td>\n",
       "      <td>Christie</td>\n",
       "      <td>4adb969ef964a520332921e3</td>\n",
       "      <td>Banjara Indian Cuisine</td>\n",
       "    </tr>\n",
       "    <tr>\n",
       "      <th>4</th>\n",
       "      <td>Downtown Toronto</td>\n",
       "      <td>Christie</td>\n",
       "      <td>4b7369d7f964a52049ad2de3</td>\n",
       "      <td>Madras Masala</td>\n",
       "    </tr>\n",
       "  </tbody>\n",
       "</table>\n",
       "</div>"
      ],
      "text/plain": [
       "            Borough  Neighborhood                        ID  \\\n",
       "0  Downtown Toronto  Queen's Park  4bedf8b5e24d20a17b567214   \n",
       "1      East Toronto   The Beaches  4dcd7c6352b1f8915b7e7f7e   \n",
       "2         East York       Leaside  504bcf32e4b0ef19b0e2ecf8   \n",
       "3  Downtown Toronto      Christie  4adb969ef964a520332921e3   \n",
       "4  Downtown Toronto      Christie  4b7369d7f964a52049ad2de3   \n",
       "\n",
       "                     Name  \n",
       "0   Kothur Indian Cuisine  \n",
       "1            Delhi Bistro  \n",
       "2   Mt Everest Restaurant  \n",
       "3  Banjara Indian Cuisine  \n",
       "4           Madras Masala  "
      ]
     },
     "execution_count": 7,
     "metadata": {},
     "output_type": "execute_result"
    }
   ],
   "source": [
    "toronto_indian_rest.head()"
   ]
  },
  {
   "cell_type": "code",
   "execution_count": 8,
   "metadata": {},
   "outputs": [
    {
     "data": {
      "text/plain": [
       "(38, 4)"
      ]
     },
     "execution_count": 8,
     "metadata": {},
     "output_type": "execute_result"
    }
   ],
   "source": [
    "toronto_indian_rest.shape"
   ]
  },
  {
   "cell_type": "markdown",
   "metadata": {},
   "source": [
    "From the above information we get that, there are total 38 Indian Restaurants around half a mile radius of neighborhoods in Toronto."
   ]
  },
  {
   "cell_type": "markdown",
   "metadata": {},
   "source": [
    "##### 5.4 Analyze above dataset to find boroughs & neighborhoods with the greatest number of Indian Restaurants & least number of Indian Restaurants."
   ]
  },
  {
   "cell_type": "markdown",
   "metadata": {},
   "source": [
    "Let's create a plot of Number of Indian Restaurants for each Borough in Toronto."
   ]
  },
  {
   "cell_type": "code",
   "execution_count": 16,
   "metadata": {},
   "outputs": [
    {
     "data": {
      "image/png": "[encoded data removed]",
      "text/plain": [
       "<Figure size 1080x576 with 1 Axes>"
      ]
     },
     "metadata": {
      "needs_background": "light"
     },
     "output_type": "display_data"
    }
   ],
   "source": [
    "# grouping the data by boroughs\n",
    "toronto_indian_rest_b=toronto_indian_rest.groupby('Borough')['ID'].count()\n",
    "\n",
    "#creating a plot\n",
    "ax = toronto_indian_rest_b.plot.bar(rot=90,figsize=(15, 8),color=\"tab:blue\",width=0.6,fontsize=14)\n",
    "plt.title(label=\"Number of Indian Restaurants for each Borough in Toronto\",fontdict={'fontsize':\"16\"} )           \n",
    "plt.legend(['No.of Indian Restaurants'],loc='upper right', fontsize=14)\n",
    "plt.xlabel('Borough', fontsize = 16)\n",
    "ax.get_yaxis().set_visible(False)\n",
    "for p in ax.patches:\n",
    "    ax.annotate(format(p.get_height(), '.0f'), \n",
    "                   (p.get_x() + p.get_width() / 2., p.get_height()), \n",
    "                   ha = 'center', va = 'center', \n",
    "                   size=14,\n",
    "                   xytext = (0, 10), \n",
    "                   textcoords = 'offset points')"
   ]
  },
  {
   "cell_type": "markdown",
   "metadata": {},
   "source": [
    "From the above plot, we can tell that <u>**East Toronto & Downtown Toronto**</u> have large number of indian restaurants and <u>**York & Central Toronto**</u> have least number of indian restaurants."
   ]
  },
  {
   "cell_type": "markdown",
   "metadata": {},
   "source": [
    "Let's take a glimpse of indian restaurants in 'East Toronto' borough"
   ]
  },
  {
   "cell_type": "code",
   "execution_count": 15,
   "metadata": {},
   "outputs": [
    {
     "data": {
      "text/html": [
       "<div>\n",
       "<style scoped>\n",
       "    .dataframe tbody tr th:only-of-type {\n",
       "        vertical-align: middle;\n",
       "    }\n",
       "\n",
       "    .dataframe tbody tr th {\n",
       "        vertical-align: top;\n",
       "    }\n",
       "\n",
       "    .dataframe thead th {\n",
       "        text-align: right;\n",
       "    }\n",
       "</style>\n",
       "<table border=\"1\" class=\"dataframe\">\n",
       "  <thead>\n",
       "    <tr style=\"text-align: right;\">\n",
       "      <th></th>\n",
       "      <th>Borough</th>\n",
       "      <th>Neighborhood</th>\n",
       "      <th>ID</th>\n",
       "      <th>Name</th>\n",
       "    </tr>\n",
       "  </thead>\n",
       "  <tbody>\n",
       "    <tr>\n",
       "      <th>1</th>\n",
       "      <td>East Toronto</td>\n",
       "      <td>The Beaches</td>\n",
       "      <td>4dcd7c6352b1f8915b7e7f7e</td>\n",
       "      <td>Delhi Bistro</td>\n",
       "    </tr>\n",
       "    <tr>\n",
       "      <th>12</th>\n",
       "      <td>East Toronto</td>\n",
       "      <td>The Danforth West</td>\n",
       "      <td>4c1d5337eac020a1cb1048c2</td>\n",
       "      <td>Sher-E-Punjab</td>\n",
       "    </tr>\n",
       "    <tr>\n",
       "      <th>14</th>\n",
       "      <td>East Toronto</td>\n",
       "      <td>India Bazaar</td>\n",
       "      <td>4ae0c7a8f964a520638221e3</td>\n",
       "      <td>Udupi Palace</td>\n",
       "    </tr>\n",
       "    <tr>\n",
       "      <th>15</th>\n",
       "      <td>East Toronto</td>\n",
       "      <td>India Bazaar</td>\n",
       "      <td>4afc9816f964a520312422e3</td>\n",
       "      <td>Motimahal</td>\n",
       "    </tr>\n",
       "    <tr>\n",
       "      <th>16</th>\n",
       "      <td>East Toronto</td>\n",
       "      <td>India Bazaar</td>\n",
       "      <td>4bac30a2f964a52018ea3ae3</td>\n",
       "      <td>Bombay Chowpatty</td>\n",
       "    </tr>\n",
       "    <tr>\n",
       "      <th>17</th>\n",
       "      <td>East Toronto</td>\n",
       "      <td>India Bazaar</td>\n",
       "      <td>4ad9052cf964a520301721e3</td>\n",
       "      <td>Regency Restaurant</td>\n",
       "    </tr>\n",
       "    <tr>\n",
       "      <th>18</th>\n",
       "      <td>East Toronto</td>\n",
       "      <td>India Bazaar</td>\n",
       "      <td>4bbcc0efa0a0c9b60ebd1a0f</td>\n",
       "      <td>Haandi 2000</td>\n",
       "    </tr>\n",
       "    <tr>\n",
       "      <th>19</th>\n",
       "      <td>East Toronto</td>\n",
       "      <td>India Bazaar</td>\n",
       "      <td>4d8d278a1d06b1f712942a3b</td>\n",
       "      <td>Gautama</td>\n",
       "    </tr>\n",
       "    <tr>\n",
       "      <th>20</th>\n",
       "      <td>East Toronto</td>\n",
       "      <td>India Bazaar</td>\n",
       "      <td>4ae4c793f964a5201b9e21e3</td>\n",
       "      <td>The Famous Indian Restaurant</td>\n",
       "    </tr>\n",
       "    <tr>\n",
       "      <th>21</th>\n",
       "      <td>East Toronto</td>\n",
       "      <td>India Bazaar</td>\n",
       "      <td>4edd30c09adfe5cbe2818dc4</td>\n",
       "      <td>Lahori Taste &amp; Burger House</td>\n",
       "    </tr>\n",
       "  </tbody>\n",
       "</table>\n",
       "</div>"
      ],
      "text/plain": [
       "         Borough       Neighborhood                        ID  \\\n",
       "1   East Toronto        The Beaches  4dcd7c6352b1f8915b7e7f7e   \n",
       "12  East Toronto  The Danforth West  4c1d5337eac020a1cb1048c2   \n",
       "14  East Toronto       India Bazaar  4ae0c7a8f964a520638221e3   \n",
       "15  East Toronto       India Bazaar  4afc9816f964a520312422e3   \n",
       "16  East Toronto       India Bazaar  4bac30a2f964a52018ea3ae3   \n",
       "17  East Toronto       India Bazaar  4ad9052cf964a520301721e3   \n",
       "18  East Toronto       India Bazaar  4bbcc0efa0a0c9b60ebd1a0f   \n",
       "19  East Toronto       India Bazaar  4d8d278a1d06b1f712942a3b   \n",
       "20  East Toronto       India Bazaar  4ae4c793f964a5201b9e21e3   \n",
       "21  East Toronto       India Bazaar  4edd30c09adfe5cbe2818dc4   \n",
       "\n",
       "                            Name  \n",
       "1                   Delhi Bistro  \n",
       "12                 Sher-E-Punjab  \n",
       "14                  Udupi Palace  \n",
       "15                     Motimahal  \n",
       "16              Bombay Chowpatty  \n",
       "17            Regency Restaurant  \n",
       "18                   Haandi 2000  \n",
       "19                       Gautama  \n",
       "20  The Famous Indian Restaurant  \n",
       "21   Lahori Taste & Burger House  "
      ]
     },
     "execution_count": 15,
     "metadata": {},
     "output_type": "execute_result"
    }
   ],
   "source": [
    "toronto_indian_rest[toronto_indian_rest['Borough']=='East Toronto']"
   ]
  },
  {
   "cell_type": "markdown",
   "metadata": {},
   "source": [
    "Now, let's create a plot of Number of indian restaurants in Top 10 Neighborhoods in Toronto"
   ]
  },
  {
   "cell_type": "code",
   "execution_count": 17,
   "metadata": {},
   "outputs": [
    {
     "data": {
      "image/png": "[encoded data removed]",
      "text/plain": [
       "<Figure size 1080x576 with 1 Axes>"
      ]
     },
     "metadata": {
      "needs_background": "light"
     },
     "output_type": "display_data"
    }
   ],
   "source": [
    "#grouping the data by neighborhoods and taking 10 largest\n",
    "toronto_indian_rest_n=toronto_indian_rest.groupby('Neighborhood')['ID'].count().nlargest(10)\n",
    "\n",
    "#creating a plot\n",
    "ax = toronto_indian_rest_n.plot.bar(rot=90,figsize=(15, 8),color=\"tab:orange\",width=0.5,fontsize=14)\n",
    "plt.title(label=\"Number of Indian Restaurants in top 10 neighborhoods in Toronto\",fontdict={'fontsize':\"16\"} )           \n",
    "plt.legend(['No.of Indian Restaurants'],loc='upper right', fontsize=14)\n",
    "plt.xlabel('Neighborhood', fontsize = 16)\n",
    "ax.get_yaxis().set_visible(False)\n",
    "#plt.ylabel('No.of Indian Restaurants', fontsize=12)\n",
    "for p in ax.patches:\n",
    "    ax.annotate(format(p.get_height(), '.0f'), \n",
    "                   (p.get_x() + p.get_width() / 2., p.get_height()), \n",
    "                   ha = 'center', va = 'center', \n",
    "                   size=14,\n",
    "                   xytext = (0, 10), \n",
    "                   textcoords = 'offset points')"
   ]
  },
  {
   "cell_type": "markdown",
   "metadata": {},
   "source": [
    "Above plot tells us that the neighborhood of <u>**India Bazaar**</u> has the greatest of indian restaurants."
   ]
  },
  {
   "cell_type": "markdown",
   "metadata": {},
   "source": [
    "##### 5.5 Get details for each restaurant such as rating, tips and number of likes."
   ]
  },
  {
   "cell_type": "markdown",
   "metadata": {},
   "source": [
    "Let's define a function to get venue details such as numeric rating (on the scale of 0 to 10), count of tips, no. of likes for a given venue id. This information will be used for ranking the restaurants."
   ]
  },
  {
   "cell_type": "code",
   "execution_count": 20,
   "metadata": {},
   "outputs": [],
   "source": [
    "def get_venue_details_foursq(venue_id):\n",
    "        \n",
    "    CLIENT_ID = 'EKAARII0A5OS21BF4HLAILPFX4AGU5YZD32CW2PR0IWCR2EZ' # Foursquare ID\n",
    "    CLIENT_SECRET = 'JHRKVXOZLOG1U42NTUBKJU1X3UNQMNX10OOMUIYKGFKLWXD2' # Foursquare Secret\n",
    "    VERSION = '20180605' # Foursquare API version\n",
    "    \n",
    "    #call foursquare api to get venue details\n",
    "    url = 'https://api.foursquare.com/v2/venues/{}?&client_id={}&client_secret={}&v={}'.format(\n",
    "            venue_id,\n",
    "            CLIENT_ID, \n",
    "            CLIENT_SECRET, \n",
    "            VERSION)\n",
    "    \n",
    "     # get the result to a json file\n",
    "    results = requests.get(url).json()\n",
    "    venue_data=results['response']['venue']\n",
    "    venue_details=[]\n",
    "    try:\n",
    "        venue_id=venue_data['id']\n",
    "        venue_name=venue_data['name']\n",
    "        venue_rating=venue_data['rating']\n",
    "        venue_tips=venue_data['tips']['count']\n",
    "        venue_likes=venue_data['likes']['count']\n",
    "        venue_details.append([venue_id,venue_name,venue_rating,venue_tips,venue_likes])\n",
    "    except KeyError:\n",
    "        pass\n",
    "        \n",
    "    column_names=['ID','Name','Rating','Tips','Likes']\n",
    "    df = pd.DataFrame(venue_details,columns=column_names)\n",
    "    return df"
   ]
  },
  {
   "cell_type": "markdown",
   "metadata": {},
   "source": [
    "Now let's get the statistics about each restaurant which will help us in further analysis and ranking"
   ]
  },
  {
   "cell_type": "code",
   "execution_count": 21,
   "metadata": {},
   "outputs": [
    {
     "name": "stdout",
     "output_type": "stream",
     "text": [
      "                         ID                   Name  Rating  Tips  Likes\n",
      "0  4bedf8b5e24d20a17b567214  Kothur Indian Cuisine     8.0    19     16\n",
      "                         ID          Name  Rating  Tips  Likes\n",
      "0  4dcd7c6352b1f8915b7e7f7e  Delhi Bistro     6.9     3      6\n",
      "                         ID                   Name  Rating  Tips  Likes\n",
      "0  504bcf32e4b0ef19b0e2ecf8  Mt Everest Restaurant     6.8     6      8\n",
      "                         ID                    Name  Rating  Tips  Likes\n",
      "0  4adb969ef964a520332921e3  Banjara Indian Cuisine     8.6    75    142\n",
      "                         ID           Name  Rating  Tips  Likes\n",
      "0  4b7369d7f964a52049ad2de3  Madras Masala     7.8    22     35\n",
      "                         ID             Name  Rating  Tips  Likes\n",
      "0  4d6008f829ef236a8832a059  CANBE Foods Inc     7.9     8     22\n",
      "                         ID           Name  Rating  Tips  Likes\n",
      "0  4c77fc87bd346dcb8c90f0ef  La Sani Grill     6.7    12     12\n",
      "                         ID                        Name  Rating  Tips  Likes\n",
      "0  4daf08e66e81e2dffdd4fe40  Iqbal Kebab & Sweet Centre     7.5     5     12\n",
      "                         ID          Name  Rating  Tips  Likes\n",
      "0  4bed9f2fbac3c9b6ad93fee9  Hakka Garden     6.3    12      9\n",
      "                         ID              Name  Rating  Tips  Likes\n",
      "0  507a19e5e4b0602b62f73d11  Faley Restaurant     6.7     4      6\n",
      "Empty DataFrame\n",
      "Columns: [ID, Name, Rating, Tips, Likes]\n",
      "Index: []\n",
      "No data available for id= 4b7c3428f964a52047842fe3 ,so setting up stats as 0\n",
      "                         ID               Name  Rating  Tips  Likes\n",
      "0  50b79b94e4b0a577af25a83f  Indian Roti House     7.1    14     38\n",
      "                         ID           Name  Rating  Tips  Likes\n",
      "0  4c1d5337eac020a1cb1048c2  Sher-E-Punjab     7.1     8     11\n",
      "                         ID          Name  Rating  Tips  Likes\n",
      "0  4aecbbb0f964a520bcca21e3  Mother India     8.2    31     43\n",
      "                         ID          Name  Rating  Tips  Likes\n",
      "0  4ae0c7a8f964a520638221e3  Udupi Palace     8.3    31     78\n",
      "                         ID       Name  Rating  Tips  Likes\n",
      "0  4afc9816f964a520312422e3  Motimahal     8.0    13     23\n",
      "                         ID              Name  Rating  Tips  Likes\n",
      "0  4bac30a2f964a52018ea3ae3  Bombay Chowpatty     7.5     5      7\n",
      "                         ID                Name  Rating  Tips  Likes\n",
      "0  4ad9052cf964a520301721e3  Regency Restaurant     6.2     4      6\n",
      "                         ID         Name  Rating  Tips  Likes\n",
      "0  4bbcc0efa0a0c9b60ebd1a0f  Haandi 2000     6.0     7      3\n",
      "                         ID     Name  Rating  Tips  Likes\n",
      "0  4d8d278a1d06b1f712942a3b  Gautama     5.8    15     15\n",
      "Empty DataFrame\n",
      "Columns: [ID, Name, Rating, Tips, Likes]\n",
      "Index: []\n",
      "No data available for id= 4ae4c793f964a5201b9e21e3 ,so setting up stats as 0\n",
      "Empty DataFrame\n",
      "Columns: [ID, Name, Rating, Tips, Likes]\n",
      "Index: []\n",
      "No data available for id= 4edd30c09adfe5cbe2818dc4 ,so setting up stats as 0\n",
      "                         ID                     Name  Rating  Tips  Likes\n",
      "0  4b43dde2f964a52099ec25e3  Earth Indian Restaurant     6.1    11      4\n",
      "                         ID                Name  Rating  Tips  Likes\n",
      "0  4d796616542ab1f75eb87c41  The Copper Chimney     7.3    15     14\n",
      "                         ID       Name  Rating  Tips  Likes\n",
      "0  4b3bd657f964a520377c25e3  Roti Time     6.2    11      5\n",
      "                         ID     Name  Rating  Tips  Likes\n",
      "0  5226562611d2cd49d83ef03b  Kairali     6.6     9      9\n",
      "                         ID                                         Name  \\\n",
      "0  4bf96c435317a593a23a017f  Karaikudi Chettinad South Indian Restaurant   \n",
      "\n",
      "   Rating  Tips  Likes  \n",
      "0     6.1    23     27  \n",
      "                         ID         Name  Rating  Tips  Likes\n",
      "0  4b511f6ff964a520994327e3  Curry Twist     8.3    17     20\n",
      "                         ID                   Name  Rating  Tips  Likes\n",
      "0  4c62c59ce1621b8dd0332453  Roti Cuisine of India     8.5    19     39\n",
      "                         ID           Name  Rating  Tips  Likes\n",
      "0  595fb4ab178a2a1a946eec2b  Barbq Tonight     6.6     1      7\n",
      "                         ID  Name  Rating  Tips  Likes\n",
      "0  4bff0c5668c7a5932a1f4044  Zauq     6.1    11      9\n",
      "                         ID                    Name  Rating  Tips  Likes\n",
      "0  5169d445e4b07de190b5c3d6  Marigold Indian Bistro     8.0    11     11\n",
      "                         ID                    Name  Rating  Tips  Likes\n",
      "0  4b7ccc72f964a520e3a52fe3  Banjara Indian Cuisine     7.0    20     25\n",
      "                         ID                    Name  Rating  Tips  Likes\n",
      "0  525e1812498e2c14b4d80b8b  Bukhara indian cuisine     7.0     3      6\n",
      "                         ID           Name  Rating  Tips  Likes\n",
      "0  5afda69cfe0e2a002455224b  My Roti Place     7.8     3     10\n",
      "Empty DataFrame\n",
      "Columns: [ID, Name, Rating, Tips, Likes]\n",
      "Index: []\n",
      "No data available for id= 4efccc9bb8f701ff611ce191 ,so setting up stats as 0\n",
      "                         ID                   Name  Rating  Tips  Likes\n",
      "0  4bedf8b5e24d20a17b567214  Kothur Indian Cuisine     8.0    19     16\n",
      "                         ID           Name  Rating  Tips  Likes\n",
      "0  4afa45ddf964a5209b1722e3  King's Palace     8.1    20     32\n"
     ]
    }
   ],
   "source": [
    "toronto_indian_rest_stats=pd.DataFrame(columns=['Borough', 'Neighborhood', 'ID','Name','Rating','Tips','Likes'])\n",
    "count=1\n",
    "\n",
    "for row in toronto_indian_rest.values.tolist():\n",
    "    Borough,Neighborhood,ID,Name=row\n",
    "    try:\n",
    "        venue_details=get_venue_details_foursq(ID)\n",
    "        print(venue_details)\n",
    "        id,name,rating,tips,likes=venue_details.values.tolist()[0]\n",
    "    except IndexError:\n",
    "        print('No data available for id=',ID,',so setting up stats as 0')\n",
    "        # we will assign 0 value for these resturants as they may have been \n",
    "        #recently opened or details does not exist in FourSquare Database\n",
    "        id,name,rating,tips,likes=[0]*5\n",
    "    toronto_indian_rest_stats = toronto_indian_rest_stats.append({'Borough': Borough,\n",
    "                                                'Neighborhood': Neighborhood, \n",
    "                                                'ID': id,\n",
    "                                                'Name' : name,\n",
    "                                                'Rating' : rating,\n",
    "                                                'Tips' : tips,\n",
    "                                                'Likes' : likes\n",
    "                                               }, ignore_index=True)\n",
    "    count+=1"
   ]
  },
  {
   "cell_type": "code",
   "execution_count": 22,
   "metadata": {},
   "outputs": [
    {
     "data": {
      "text/html": [
       "<div>\n",
       "<style scoped>\n",
       "    .dataframe tbody tr th:only-of-type {\n",
       "        vertical-align: middle;\n",
       "    }\n",
       "\n",
       "    .dataframe tbody tr th {\n",
       "        vertical-align: top;\n",
       "    }\n",
       "\n",
       "    .dataframe thead th {\n",
       "        text-align: right;\n",
       "    }\n",
       "</style>\n",
       "<table border=\"1\" class=\"dataframe\">\n",
       "  <thead>\n",
       "    <tr style=\"text-align: right;\">\n",
       "      <th></th>\n",
       "      <th>Borough</th>\n",
       "      <th>Neighborhood</th>\n",
       "      <th>ID</th>\n",
       "      <th>Name</th>\n",
       "      <th>Rating</th>\n",
       "      <th>Tips</th>\n",
       "      <th>Likes</th>\n",
       "    </tr>\n",
       "  </thead>\n",
       "  <tbody>\n",
       "    <tr>\n",
       "      <th>0</th>\n",
       "      <td>Downtown Toronto</td>\n",
       "      <td>Queen's Park</td>\n",
       "      <td>4bedf8b5e24d20a17b567214</td>\n",
       "      <td>Kothur Indian Cuisine</td>\n",
       "      <td>8.0</td>\n",
       "      <td>19</td>\n",
       "      <td>16</td>\n",
       "    </tr>\n",
       "    <tr>\n",
       "      <th>1</th>\n",
       "      <td>East Toronto</td>\n",
       "      <td>The Beaches</td>\n",
       "      <td>4dcd7c6352b1f8915b7e7f7e</td>\n",
       "      <td>Delhi Bistro</td>\n",
       "      <td>6.9</td>\n",
       "      <td>3</td>\n",
       "      <td>6</td>\n",
       "    </tr>\n",
       "    <tr>\n",
       "      <th>2</th>\n",
       "      <td>East York</td>\n",
       "      <td>Leaside</td>\n",
       "      <td>504bcf32e4b0ef19b0e2ecf8</td>\n",
       "      <td>Mt Everest Restaurant</td>\n",
       "      <td>6.8</td>\n",
       "      <td>6</td>\n",
       "      <td>8</td>\n",
       "    </tr>\n",
       "    <tr>\n",
       "      <th>3</th>\n",
       "      <td>Downtown Toronto</td>\n",
       "      <td>Christie</td>\n",
       "      <td>4adb969ef964a520332921e3</td>\n",
       "      <td>Banjara Indian Cuisine</td>\n",
       "      <td>8.6</td>\n",
       "      <td>75</td>\n",
       "      <td>142</td>\n",
       "    </tr>\n",
       "    <tr>\n",
       "      <th>4</th>\n",
       "      <td>Downtown Toronto</td>\n",
       "      <td>Christie</td>\n",
       "      <td>4b7369d7f964a52049ad2de3</td>\n",
       "      <td>Madras Masala</td>\n",
       "      <td>7.8</td>\n",
       "      <td>22</td>\n",
       "      <td>35</td>\n",
       "    </tr>\n",
       "  </tbody>\n",
       "</table>\n",
       "</div>"
      ],
      "text/plain": [
       "            Borough  Neighborhood                        ID  \\\n",
       "0  Downtown Toronto  Queen's Park  4bedf8b5e24d20a17b567214   \n",
       "1      East Toronto   The Beaches  4dcd7c6352b1f8915b7e7f7e   \n",
       "2         East York       Leaside  504bcf32e4b0ef19b0e2ecf8   \n",
       "3  Downtown Toronto      Christie  4adb969ef964a520332921e3   \n",
       "4  Downtown Toronto      Christie  4b7369d7f964a52049ad2de3   \n",
       "\n",
       "                     Name  Rating Tips Likes  \n",
       "0   Kothur Indian Cuisine     8.0   19    16  \n",
       "1            Delhi Bistro     6.9    3     6  \n",
       "2   Mt Everest Restaurant     6.8    6     8  \n",
       "3  Banjara Indian Cuisine     8.6   75   142  \n",
       "4           Madras Masala     7.8   22    35  "
      ]
     },
     "execution_count": 22,
     "metadata": {},
     "output_type": "execute_result"
    }
   ],
   "source": [
    "toronto_indian_rest_stats.head()"
   ]
  },
  {
   "cell_type": "markdown",
   "metadata": {},
   "source": [
    "##### 5.6 Sort the list of restaurants by ratings and identify the boroughs & neighborhoods that have the best Indian Restaurants."
   ]
  },
  {
   "cell_type": "markdown",
   "metadata": {},
   "source": [
    "Grouping the dataframe that contains statistics for each indian restaurant by neighborhood"
   ]
  },
  {
   "cell_type": "code",
   "execution_count": 25,
   "metadata": {},
   "outputs": [],
   "source": [
    "toronto_neigh_stats=toronto_indian_rest_stats.groupby('Neighborhood',as_index=False).mean()[['Neighborhood','Rating']]\n",
    "toronto_neigh_stats.columns=['Neighborhood','Average Rating']"
   ]
  },
  {
   "cell_type": "markdown",
   "metadata": {},
   "source": [
    "Let's find top 10 neighborhoods with top average rating of Indian restaurants"
   ]
  },
  {
   "cell_type": "code",
   "execution_count": 27,
   "metadata": {},
   "outputs": [
    {
     "data": {
      "text/html": [
       "<div>\n",
       "<style scoped>\n",
       "    .dataframe tbody tr th:only-of-type {\n",
       "        vertical-align: middle;\n",
       "    }\n",
       "\n",
       "    .dataframe tbody tr th {\n",
       "        vertical-align: top;\n",
       "    }\n",
       "\n",
       "    .dataframe thead th {\n",
       "        text-align: right;\n",
       "    }\n",
       "</style>\n",
       "<table border=\"1\" class=\"dataframe\">\n",
       "  <thead>\n",
       "    <tr style=\"text-align: right;\">\n",
       "      <th></th>\n",
       "      <th>Neighborhood</th>\n",
       "      <th>Average Rating</th>\n",
       "    </tr>\n",
       "  </thead>\n",
       "  <tbody>\n",
       "    <tr>\n",
       "      <th>16</th>\n",
       "      <td>The Annex</td>\n",
       "      <td>8.50</td>\n",
       "    </tr>\n",
       "    <tr>\n",
       "      <th>9</th>\n",
       "      <td>High Park</td>\n",
       "      <td>8.30</td>\n",
       "    </tr>\n",
       "    <tr>\n",
       "      <th>4</th>\n",
       "      <td>Christie</td>\n",
       "      <td>8.20</td>\n",
       "    </tr>\n",
       "    <tr>\n",
       "      <th>1</th>\n",
       "      <td>Brockton</td>\n",
       "      <td>8.20</td>\n",
       "    </tr>\n",
       "    <tr>\n",
       "      <th>5</th>\n",
       "      <td>Church and Wellesley</td>\n",
       "      <td>8.05</td>\n",
       "    </tr>\n",
       "    <tr>\n",
       "      <th>13</th>\n",
       "      <td>Queen's Park</td>\n",
       "      <td>8.00</td>\n",
       "    </tr>\n",
       "    <tr>\n",
       "      <th>11</th>\n",
       "      <td>Kensington Market</td>\n",
       "      <td>7.80</td>\n",
       "    </tr>\n",
       "    <tr>\n",
       "      <th>6</th>\n",
       "      <td>Davisville</td>\n",
       "      <td>7.50</td>\n",
       "    </tr>\n",
       "    <tr>\n",
       "      <th>3</th>\n",
       "      <td>Cedarbrae</td>\n",
       "      <td>7.30</td>\n",
       "    </tr>\n",
       "    <tr>\n",
       "      <th>0</th>\n",
       "      <td>Bedford Park</td>\n",
       "      <td>7.30</td>\n",
       "    </tr>\n",
       "  </tbody>\n",
       "</table>\n",
       "</div>"
      ],
      "text/plain": [
       "            Neighborhood  Average Rating\n",
       "16             The Annex            8.50\n",
       "9              High Park            8.30\n",
       "4               Christie            8.20\n",
       "1               Brockton            8.20\n",
       "5   Church and Wellesley            8.05\n",
       "13          Queen's Park            8.00\n",
       "11     Kensington Market            7.80\n",
       "6             Davisville            7.50\n",
       "3              Cedarbrae            7.30\n",
       "0           Bedford Park            7.30"
      ]
     },
     "execution_count": 27,
     "metadata": {},
     "output_type": "execute_result"
    }
   ],
   "source": [
    "toronto_neigh_stats.sort_values(['Average Rating'],ascending=False).head(10)"
   ]
  },
  {
   "cell_type": "markdown",
   "metadata": {},
   "source": [
    "Grouping the dataframe that contains statistics for each indian restaurant by borough"
   ]
  },
  {
   "cell_type": "code",
   "execution_count": 29,
   "metadata": {},
   "outputs": [],
   "source": [
    "toronto_borough_stats=toronto_indian_rest_stats.groupby('Borough',as_index=False).mean()[['Borough','Rating']]\n",
    "toronto_borough_stats.columns=['Borough','Average Rating']"
   ]
  },
  {
   "cell_type": "markdown",
   "metadata": {},
   "source": [
    "Let's find top boroughs with top average rating of Indian restaurants"
   ]
  },
  {
   "cell_type": "code",
   "execution_count": 31,
   "metadata": {},
   "outputs": [
    {
     "data": {
      "text/html": [
       "<div>\n",
       "<style scoped>\n",
       "    .dataframe tbody tr th:only-of-type {\n",
       "        vertical-align: middle;\n",
       "    }\n",
       "\n",
       "    .dataframe tbody tr th {\n",
       "        vertical-align: top;\n",
       "    }\n",
       "\n",
       "    .dataframe thead th {\n",
       "        text-align: right;\n",
       "    }\n",
       "</style>\n",
       "<table border=\"1\" class=\"dataframe\">\n",
       "  <thead>\n",
       "    <tr style=\"text-align: right;\">\n",
       "      <th></th>\n",
       "      <th>Borough</th>\n",
       "      <th>Average Rating</th>\n",
       "    </tr>\n",
       "  </thead>\n",
       "  <tbody>\n",
       "    <tr>\n",
       "      <th>1</th>\n",
       "      <td>Downtown Toronto</td>\n",
       "      <td>7.914286</td>\n",
       "    </tr>\n",
       "    <tr>\n",
       "      <th>0</th>\n",
       "      <td>Central Toronto</td>\n",
       "      <td>7.833333</td>\n",
       "    </tr>\n",
       "    <tr>\n",
       "      <th>7</th>\n",
       "      <td>West Toronto</td>\n",
       "      <td>7.833333</td>\n",
       "    </tr>\n",
       "    <tr>\n",
       "      <th>5</th>\n",
       "      <td>North York</td>\n",
       "      <td>6.700000</td>\n",
       "    </tr>\n",
       "    <tr>\n",
       "      <th>4</th>\n",
       "      <td>Mississauga</td>\n",
       "      <td>6.350000</td>\n",
       "    </tr>\n",
       "    <tr>\n",
       "      <th>8</th>\n",
       "      <td>York</td>\n",
       "      <td>6.200000</td>\n",
       "    </tr>\n",
       "    <tr>\n",
       "      <th>2</th>\n",
       "      <td>East Toronto</td>\n",
       "      <td>5.580000</td>\n",
       "    </tr>\n",
       "    <tr>\n",
       "      <th>6</th>\n",
       "      <td>Scarborough</td>\n",
       "      <td>5.460000</td>\n",
       "    </tr>\n",
       "    <tr>\n",
       "      <th>3</th>\n",
       "      <td>East York</td>\n",
       "      <td>5.460000</td>\n",
       "    </tr>\n",
       "  </tbody>\n",
       "</table>\n",
       "</div>"
      ],
      "text/plain": [
       "            Borough  Average Rating\n",
       "1  Downtown Toronto        7.914286\n",
       "0   Central Toronto        7.833333\n",
       "7      West Toronto        7.833333\n",
       "5        North York        6.700000\n",
       "4       Mississauga        6.350000\n",
       "8              York        6.200000\n",
       "2      East Toronto        5.580000\n",
       "6       Scarborough        5.460000\n",
       "3         East York        5.460000"
      ]
     },
     "execution_count": 31,
     "metadata": {},
     "output_type": "execute_result"
    }
   ],
   "source": [
    "toronto_borough_stats.sort_values(['Average Rating'],ascending=False).head(10)"
   ]
  },
  {
   "cell_type": "markdown",
   "metadata": {},
   "source": [
    "Now let's create a plot for Average rating of Indian Restaurants for each Borough"
   ]
  },
  {
   "cell_type": "code",
   "execution_count": 35,
   "metadata": {},
   "outputs": [
    {
     "data": {
      "image/png": "[encoded data removed]",
      "text/plain": [
       "<Figure size 1080x576 with 1 Axes>"
      ]
     },
     "metadata": {
      "needs_background": "light"
     },
     "output_type": "display_data"
    }
   ],
   "source": [
    "#grouping the data by boroughs\n",
    "toronto_indian_rest_stats_b=toronto_indian_rest_stats.groupby('Borough').mean()['Rating']\n",
    "\n",
    "#creating a plot\n",
    "ax = toronto_indian_rest_stats_b.plot.bar(rot=90,figsize=(15, 8),color=\"tab:olive\",width=0.5,fontsize=14)\n",
    "plt.title(label=\"Average rating of Indian Restaurants for each Borough\",fontdict={'fontsize':\"16\"} )           \n",
    "plt.legend(['Average Rating'],loc='upper center', fontsize=14)\n",
    "plt.xlabel('Borough', fontsize = 16)\n",
    "ax.get_yaxis().set_visible(False)\n",
    "for p in ax.patches:\n",
    "    ax.annotate(format(p.get_height(), '.1f'), \n",
    "                   (p.get_x() + p.get_width() / 2., p.get_height()), \n",
    "                   ha = 'center', va = 'center', \n",
    "                   size=14,\n",
    "                   xytext = (0, 10), \n",
    "                   textcoords = 'offset points')"
   ]
  },
  {
   "cell_type": "markdown",
   "metadata": {},
   "source": [
    "From the above plot, we can conclude that <u> **Downtown Toronto** </u> has the best indian restaurants with highest average rating."
   ]
  },
  {
   "cell_type": "markdown",
   "metadata": {},
   "source": [
    "Now let's create a plot for Average rating of Indian Restaurants for top 10 neighborhoods"
   ]
  },
  {
   "cell_type": "code",
   "execution_count": 36,
   "metadata": {},
   "outputs": [
    {
     "data": {
      "image/png": "[encoded data removed]",
      "text/plain": [
       "<Figure size 1080x576 with 1 Axes>"
      ]
     },
     "metadata": {
      "needs_background": "light"
     },
     "output_type": "display_data"
    }
   ],
   "source": [
    "#grouping the data by neighborhoods\n",
    "toronto_indian_rest_stats_n=toronto_indian_rest_stats.groupby('Neighborhood').mean()['Rating'].nlargest(10)\n",
    "\n",
    "#creating a plot\n",
    "ax = toronto_indian_rest_stats_n.plot.bar(rot=90,figsize=(15, 8),color=\"tab:brown\",width=0.5,fontsize=14)\n",
    "plt.title(label=\"Average rating of Indian Restaurants for top 10 neighbourhoods\",fontdict={'fontsize':\"16\"} )           \n",
    "plt.legend(['Average Rating'],loc='upper right', fontsize=14)\n",
    "plt.xlabel('Neighborhood', fontsize = 16)\n",
    "ax.get_yaxis().set_visible(False)\n",
    "for p in ax.patches:\n",
    "    ax.annotate(format(p.get_height(), '.1f'), \n",
    "                   (p.get_x() + p.get_width() / 2., p.get_height()), \n",
    "                   ha = 'center', va = 'center', \n",
    "                   size=14,\n",
    "                   xytext = (0, 10), \n",
    "                   textcoords = 'offset points')"
   ]
  },
  {
   "cell_type": "markdown",
   "metadata": {},
   "source": [
    "From the above plot, we can conclude that the neighborhood of <u> **The Annex** </u> has the best indian restaurants with highest average rating."
   ]
  },
  {
   "cell_type": "markdown",
   "metadata": {},
   "source": [
    "##### 5.7 Create a map of Toronto area to visualize the neighborhoods that have the best Indian Restaurants."
   ]
  },
  {
   "cell_type": "markdown",
   "metadata": {},
   "source": [
    "We will consider all the neighborhoods with average rating greater or equal 7.0 to visualize on map"
   ]
  },
  {
   "cell_type": "code",
   "execution_count": 38,
   "metadata": {},
   "outputs": [
    {
     "data": {
      "text/html": [
       "<div>\n",
       "<style scoped>\n",
       "    .dataframe tbody tr th:only-of-type {\n",
       "        vertical-align: middle;\n",
       "    }\n",
       "\n",
       "    .dataframe tbody tr th {\n",
       "        vertical-align: top;\n",
       "    }\n",
       "\n",
       "    .dataframe thead th {\n",
       "        text-align: right;\n",
       "    }\n",
       "</style>\n",
       "<table border=\"1\" class=\"dataframe\">\n",
       "  <thead>\n",
       "    <tr style=\"text-align: right;\">\n",
       "      <th></th>\n",
       "      <th>Neighborhood</th>\n",
       "      <th>Average Rating</th>\n",
       "    </tr>\n",
       "  </thead>\n",
       "  <tbody>\n",
       "    <tr>\n",
       "      <th>16</th>\n",
       "      <td>The Annex</td>\n",
       "      <td>8.50</td>\n",
       "    </tr>\n",
       "    <tr>\n",
       "      <th>9</th>\n",
       "      <td>High Park</td>\n",
       "      <td>8.30</td>\n",
       "    </tr>\n",
       "    <tr>\n",
       "      <th>1</th>\n",
       "      <td>Brockton</td>\n",
       "      <td>8.20</td>\n",
       "    </tr>\n",
       "    <tr>\n",
       "      <th>4</th>\n",
       "      <td>Christie</td>\n",
       "      <td>8.20</td>\n",
       "    </tr>\n",
       "    <tr>\n",
       "      <th>5</th>\n",
       "      <td>Church and Wellesley</td>\n",
       "      <td>8.05</td>\n",
       "    </tr>\n",
       "    <tr>\n",
       "      <th>13</th>\n",
       "      <td>Queen's Park</td>\n",
       "      <td>8.00</td>\n",
       "    </tr>\n",
       "    <tr>\n",
       "      <th>11</th>\n",
       "      <td>Kensington Market</td>\n",
       "      <td>7.80</td>\n",
       "    </tr>\n",
       "    <tr>\n",
       "      <th>6</th>\n",
       "      <td>Davisville</td>\n",
       "      <td>7.50</td>\n",
       "    </tr>\n",
       "    <tr>\n",
       "      <th>3</th>\n",
       "      <td>Cedarbrae</td>\n",
       "      <td>7.30</td>\n",
       "    </tr>\n",
       "    <tr>\n",
       "      <th>0</th>\n",
       "      <td>Bedford Park</td>\n",
       "      <td>7.30</td>\n",
       "    </tr>\n",
       "    <tr>\n",
       "      <th>8</th>\n",
       "      <td>Harbourfront East</td>\n",
       "      <td>7.10</td>\n",
       "    </tr>\n",
       "    <tr>\n",
       "      <th>18</th>\n",
       "      <td>The Danforth West</td>\n",
       "      <td>7.10</td>\n",
       "    </tr>\n",
       "  </tbody>\n",
       "</table>\n",
       "</div>"
      ],
      "text/plain": [
       "            Neighborhood  Average Rating\n",
       "16             The Annex            8.50\n",
       "9              High Park            8.30\n",
       "1               Brockton            8.20\n",
       "4               Christie            8.20\n",
       "5   Church and Wellesley            8.05\n",
       "13          Queen's Park            8.00\n",
       "11     Kensington Market            7.80\n",
       "6             Davisville            7.50\n",
       "3              Cedarbrae            7.30\n",
       "0           Bedford Park            7.30\n",
       "8      Harbourfront East            7.10\n",
       "18     The Danforth West            7.10"
      ]
     },
     "execution_count": 38,
     "metadata": {},
     "output_type": "execute_result"
    }
   ],
   "source": [
    "toronto_neigh_stats_7=toronto_neigh_stats[toronto_neigh_stats['Average Rating']>=7]\n",
    "toronto_neigh_stats_7=toronto_neigh_stats_7.sort_values(['Average Rating'],ascending=False)\n",
    "toronto_neigh_stats_7"
   ]
  },
  {
   "cell_type": "markdown",
   "metadata": {},
   "source": [
    "Let's join this dataset to the Toronto geospatial dataset to get longitude and latitude information."
   ]
  },
  {
   "cell_type": "code",
   "execution_count": 39,
   "metadata": {},
   "outputs": [
    {
     "data": {
      "text/html": [
       "<div>\n",
       "<style scoped>\n",
       "    .dataframe tbody tr th:only-of-type {\n",
       "        vertical-align: middle;\n",
       "    }\n",
       "\n",
       "    .dataframe tbody tr th {\n",
       "        vertical-align: top;\n",
       "    }\n",
       "\n",
       "    .dataframe thead th {\n",
       "        text-align: right;\n",
       "    }\n",
       "</style>\n",
       "<table border=\"1\" class=\"dataframe\">\n",
       "  <thead>\n",
       "    <tr style=\"text-align: right;\">\n",
       "      <th></th>\n",
       "      <th>Borough</th>\n",
       "      <th>Neighborhood</th>\n",
       "      <th>Latitude</th>\n",
       "      <th>Longitude</th>\n",
       "      <th>Average Rating</th>\n",
       "    </tr>\n",
       "  </thead>\n",
       "  <tbody>\n",
       "    <tr>\n",
       "      <th>0</th>\n",
       "      <td>North York</td>\n",
       "      <td>Bedford Park</td>\n",
       "      <td>43.733283</td>\n",
       "      <td>-79.419750</td>\n",
       "      <td>7.300</td>\n",
       "    </tr>\n",
       "    <tr>\n",
       "      <th>1</th>\n",
       "      <td>West Toronto</td>\n",
       "      <td>Brockton</td>\n",
       "      <td>43.636847</td>\n",
       "      <td>-79.428191</td>\n",
       "      <td>8.200</td>\n",
       "    </tr>\n",
       "    <tr>\n",
       "      <th>2</th>\n",
       "      <td>Mississauga</td>\n",
       "      <td>Canada Post Gateway Processing Centre</td>\n",
       "      <td>43.636966</td>\n",
       "      <td>-79.615819</td>\n",
       "      <td>6.350</td>\n",
       "    </tr>\n",
       "    <tr>\n",
       "      <th>3</th>\n",
       "      <td>Scarborough</td>\n",
       "      <td>Cedarbrae</td>\n",
       "      <td>43.773136</td>\n",
       "      <td>-79.239476</td>\n",
       "      <td>7.300</td>\n",
       "    </tr>\n",
       "    <tr>\n",
       "      <th>4</th>\n",
       "      <td>Downtown Toronto</td>\n",
       "      <td>Christie</td>\n",
       "      <td>43.669542</td>\n",
       "      <td>-79.422564</td>\n",
       "      <td>8.200</td>\n",
       "    </tr>\n",
       "    <tr>\n",
       "      <th>5</th>\n",
       "      <td>Downtown Toronto</td>\n",
       "      <td>Church and Wellesley</td>\n",
       "      <td>43.665860</td>\n",
       "      <td>-79.383160</td>\n",
       "      <td>8.050</td>\n",
       "    </tr>\n",
       "    <tr>\n",
       "      <th>6</th>\n",
       "      <td>Central Toronto</td>\n",
       "      <td>Davisville</td>\n",
       "      <td>43.704324</td>\n",
       "      <td>-79.388790</td>\n",
       "      <td>7.500</td>\n",
       "    </tr>\n",
       "    <tr>\n",
       "      <th>7</th>\n",
       "      <td>Scarborough</td>\n",
       "      <td>Dorset Park</td>\n",
       "      <td>43.757410</td>\n",
       "      <td>-79.273304</td>\n",
       "      <td>6.350</td>\n",
       "    </tr>\n",
       "    <tr>\n",
       "      <th>8</th>\n",
       "      <td>Downtown Toronto</td>\n",
       "      <td>Harbourfront East</td>\n",
       "      <td>43.640816</td>\n",
       "      <td>-79.381752</td>\n",
       "      <td>7.100</td>\n",
       "    </tr>\n",
       "    <tr>\n",
       "      <th>9</th>\n",
       "      <td>West Toronto</td>\n",
       "      <td>High Park</td>\n",
       "      <td>43.661608</td>\n",
       "      <td>-79.464763</td>\n",
       "      <td>8.300</td>\n",
       "    </tr>\n",
       "    <tr>\n",
       "      <th>10</th>\n",
       "      <td>East Toronto</td>\n",
       "      <td>India Bazaar</td>\n",
       "      <td>43.668999</td>\n",
       "      <td>-79.315572</td>\n",
       "      <td>5.225</td>\n",
       "    </tr>\n",
       "    <tr>\n",
       "      <th>11</th>\n",
       "      <td>Downtown Toronto</td>\n",
       "      <td>Kensington Market</td>\n",
       "      <td>43.653206</td>\n",
       "      <td>-79.400049</td>\n",
       "      <td>7.800</td>\n",
       "    </tr>\n",
       "    <tr>\n",
       "      <th>12</th>\n",
       "      <td>East York</td>\n",
       "      <td>Leaside</td>\n",
       "      <td>43.709060</td>\n",
       "      <td>-79.363452</td>\n",
       "      <td>6.800</td>\n",
       "    </tr>\n",
       "    <tr>\n",
       "      <th>13</th>\n",
       "      <td>Downtown Toronto</td>\n",
       "      <td>Queen's Park</td>\n",
       "      <td>43.662301</td>\n",
       "      <td>-79.389494</td>\n",
       "      <td>8.000</td>\n",
       "    </tr>\n",
       "    <tr>\n",
       "      <th>14</th>\n",
       "      <td>York</td>\n",
       "      <td>Runnymede</td>\n",
       "      <td>43.673185</td>\n",
       "      <td>-79.487262</td>\n",
       "      <td>6.600</td>\n",
       "    </tr>\n",
       "    <tr>\n",
       "      <th>15</th>\n",
       "      <td>West Toronto</td>\n",
       "      <td>Runnymede</td>\n",
       "      <td>43.651571</td>\n",
       "      <td>-79.484450</td>\n",
       "      <td>6.600</td>\n",
       "    </tr>\n",
       "    <tr>\n",
       "      <th>16</th>\n",
       "      <td>Scarborough</td>\n",
       "      <td>Steeles West</td>\n",
       "      <td>43.799525</td>\n",
       "      <td>-79.318389</td>\n",
       "      <td>0.000</td>\n",
       "    </tr>\n",
       "    <tr>\n",
       "      <th>17</th>\n",
       "      <td>Central Toronto</td>\n",
       "      <td>The Annex</td>\n",
       "      <td>43.672710</td>\n",
       "      <td>-79.405678</td>\n",
       "      <td>8.500</td>\n",
       "    </tr>\n",
       "    <tr>\n",
       "      <th>18</th>\n",
       "      <td>East Toronto</td>\n",
       "      <td>The Beaches</td>\n",
       "      <td>43.676357</td>\n",
       "      <td>-79.293031</td>\n",
       "      <td>6.900</td>\n",
       "    </tr>\n",
       "    <tr>\n",
       "      <th>19</th>\n",
       "      <td>East Toronto</td>\n",
       "      <td>The Danforth West</td>\n",
       "      <td>43.679557</td>\n",
       "      <td>-79.352188</td>\n",
       "      <td>7.100</td>\n",
       "    </tr>\n",
       "    <tr>\n",
       "      <th>20</th>\n",
       "      <td>East York</td>\n",
       "      <td>Thorncliffe Park</td>\n",
       "      <td>43.705369</td>\n",
       "      <td>-79.349372</td>\n",
       "      <td>5.125</td>\n",
       "    </tr>\n",
       "    <tr>\n",
       "      <th>21</th>\n",
       "      <td>North York</td>\n",
       "      <td>Willowdale</td>\n",
       "      <td>43.789053</td>\n",
       "      <td>-79.408493</td>\n",
       "      <td>6.100</td>\n",
       "    </tr>\n",
       "  </tbody>\n",
       "</table>\n",
       "</div>"
      ],
      "text/plain": [
       "             Borough                           Neighborhood   Latitude  \\\n",
       "0         North York                           Bedford Park  43.733283   \n",
       "1       West Toronto                               Brockton  43.636847   \n",
       "2        Mississauga  Canada Post Gateway Processing Centre  43.636966   \n",
       "3        Scarborough                              Cedarbrae  43.773136   \n",
       "4   Downtown Toronto                               Christie  43.669542   \n",
       "5   Downtown Toronto                   Church and Wellesley  43.665860   \n",
       "6    Central Toronto                             Davisville  43.704324   \n",
       "7        Scarborough                            Dorset Park  43.757410   \n",
       "8   Downtown Toronto                      Harbourfront East  43.640816   \n",
       "9       West Toronto                              High Park  43.661608   \n",
       "10      East Toronto                           India Bazaar  43.668999   \n",
       "11  Downtown Toronto                      Kensington Market  43.653206   \n",
       "12         East York                                Leaside  43.709060   \n",
       "13  Downtown Toronto                           Queen's Park  43.662301   \n",
       "14              York                              Runnymede  43.673185   \n",
       "15      West Toronto                              Runnymede  43.651571   \n",
       "16       Scarborough                           Steeles West  43.799525   \n",
       "17   Central Toronto                              The Annex  43.672710   \n",
       "18      East Toronto                            The Beaches  43.676357   \n",
       "19      East Toronto                      The Danforth West  43.679557   \n",
       "20         East York                       Thorncliffe Park  43.705369   \n",
       "21        North York                             Willowdale  43.789053   \n",
       "\n",
       "    Longitude  Average Rating  \n",
       "0  -79.419750           7.300  \n",
       "1  -79.428191           8.200  \n",
       "2  -79.615819           6.350  \n",
       "3  -79.239476           7.300  \n",
       "4  -79.422564           8.200  \n",
       "5  -79.383160           8.050  \n",
       "6  -79.388790           7.500  \n",
       "7  -79.273304           6.350  \n",
       "8  -79.381752           7.100  \n",
       "9  -79.464763           8.300  \n",
       "10 -79.315572           5.225  \n",
       "11 -79.400049           7.800  \n",
       "12 -79.363452           6.800  \n",
       "13 -79.389494           8.000  \n",
       "14 -79.487262           6.600  \n",
       "15 -79.484450           6.600  \n",
       "16 -79.318389           0.000  \n",
       "17 -79.405678           8.500  \n",
       "18 -79.293031           6.900  \n",
       "19 -79.352188           7.100  \n",
       "20 -79.349372           5.125  \n",
       "21 -79.408493           6.100  "
      ]
     },
     "execution_count": 39,
     "metadata": {},
     "output_type": "execute_result"
    }
   ],
   "source": [
    "toronto_neigh_stats=pd.merge(toronto_neigh_stats,df_neighb_geo, on='Neighborhood')\n",
    "toronto_neigh_stats=toronto_neigh_stats[['Borough','Neighborhood','Latitude','Longitude','Average Rating']]\n",
    "toronto_neigh_stats"
   ]
  },
  {
   "cell_type": "markdown",
   "metadata": {},
   "source": [
    "###### Let's visualize this data on Toronto map"
   ]
  },
  {
   "cell_type": "markdown",
   "metadata": {},
   "source": [
    "Getting geographical coordinates of Toronto city "
   ]
  },
  {
   "cell_type": "code",
   "execution_count": 41,
   "metadata": {},
   "outputs": [
    {
     "name": "stdout",
     "output_type": "stream",
     "text": [
      "The geograpical coordinate of Toronto city are 43.6534817, -79.3839347.\n"
     ]
    }
   ],
   "source": [
    "address = \"Toronto, ON\"\n",
    "\n",
    "geolocator = Nominatim(user_agent=\"toronto_explorer\")\n",
    "location = geolocator.geocode(address)\n",
    "latitude = location.latitude\n",
    "longitude = location.longitude\n",
    "print('The geograpical coordinate of Toronto city are {}, {}.'.format(latitude, longitude))"
   ]
  },
  {
   "cell_type": "markdown",
   "metadata": {},
   "source": [
    "Creating map for Toronto"
   ]
  },
  {
   "cell_type": "code",
   "execution_count": 43,
   "metadata": {},
   "outputs": [
    {
     "data": {
      "text/html": [
       "<div style=\"width:100%;\"><div style=\"position:relative;width:100%;height:0;padding-bottom:60%;\"><span style=\"color:#565656\">Make this Notebook Trusted to load map: File -> Trust Notebook</span><iframe src=\"about:blank\" style=\"position:absolute;width:100%;height:100%;left:0;top:0;border:none !important;\" data-html=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 onload=\"this.contentDocument.open();this.contentDocument.write(atob(this.getAttribute('data-html')));this.contentDocument.close();\" allowfullscreen webkitallowfullscreen mozallowfullscreen></iframe></div></div>"
      ],
      "text/plain": [
       "<folium.folium.Map at 0x7f58e1c99190>"
      ]
     },
     "execution_count": 43,
     "metadata": {},
     "output_type": "execute_result"
    }
   ],
   "source": [
    "toronto_map = folium.Map(location=[latitude, longitude], zoom_start=12)\n",
    "toronto_map"
   ]
  },
  {
   "cell_type": "markdown",
   "metadata": {},
   "source": [
    "Adding markers to the map"
   ]
  },
  {
   "cell_type": "code",
   "execution_count": 64,
   "metadata": {},
   "outputs": [
    {
     "data": {
      "text/html": [
       "<div style=\"width:100%;\"><div style=\"position:relative;width:100%;height:0;padding-bottom:60%;\"><span style=\"color:#565656\">Make this Notebook Trusted to load map: File -> Trust Notebook</span><iframe src=\"about:blank\" style=\"position:absolute;width:100%;height:100%;left:0;top:0;border:none !important;\" data-html=PCFET0NUWVBFIGh0bWw+CjxoZWFkPiAgICAKICAgIDxtZXRhIGh0dHAtZXF1aXY9ImNvbnRlbnQtdHlwZSIgY29udGVudD0idGV4dC9odG1sOyBjaGFyc2V0PVVURi04IiAvPgogICAgCiAgICAgICAgPHNjcmlwdD4KICAgICAgICAgICAgTF9OT19UT1VDSCA9IGZhbHNlOwogICAgICAgICAgICBMX0RJU0FCTEVfM0QgPSBmYWxzZTsKICAgICAgICA8L3NjcmlwdD4KICAgIAogICAgPHNjcmlwdCBzcmM9Imh0dHBzOi8vY2RuLmpzZGVsaXZyLm5ldC9ucG0vbGVhZmxldEAxLjYuMC9kaXN0L2xlYWZsZXQuanMiPjwvc2NyaXB0PgogICAgPHNjcmlwdCBzcmM9Imh0dHBzOi8vY29kZS5qcXVlcnkuY29tL2pxdWVyeS0xLjEyLjQubWluLmpzIj48L3NjcmlwdD4KICAgIDxzY3JpcHQgc3JjPSJodHRwczovL21heGNkbi5ib290c3RyYXBjZG4uY29tL2Jvb3RzdHJhcC8zLjIuMC9qcy9ib290c3RyYXAubWluLmpzIj48L3NjcmlwdD4KICAgIDxzY3JpcHQgc3JjPSJodHRwczovL2NkbmpzLmNsb3VkZmxhcmUuY29tL2FqYXgvbGlicy9MZWFmbGV0LmF3ZXNvbWUtbWFya2Vycy8yLjAuMi9sZWFmbGV0LmF3ZXNvbWUtbWFya2Vycy5qcyI+PC9zY3JpcHQ+CiAgICA8bGluayByZWw9InN0eWxlc2hlZXQiIGhyZWY9Imh0dHBzOi8vY2RuLmpzZGVsaXZyLm5ldC9ucG0vbGVhZmxldEAxLjYuMC9kaXN0L2xlYWZsZXQuY3NzIi8+CiAgICA8bGluayByZWw9InN0eWxlc2hlZXQiIGhyZWY9Imh0dHBzOi8vbWF4Y2RuLmJvb3RzdHJhcGNkbi5jb20vYm9vdHN0cmFwLzMuMi4wL2Nzcy9ib290c3RyYXAubWluLmNzcyIvPgogICAgPGxpbmsgcmVsPSJzdHlsZXNoZWV0IiBocmVmPSJodHRwczovL21heGNkbi5ib290c3RyYXBjZG4uY29tL2Jvb3RzdHJhcC8zLjIuMC9jc3MvYm9vdHN0cmFwLXRoZW1lLm1pbi5jc3MiLz4KICAgIDxsaW5rIHJlbD0ic3R5bGVzaGVldCIgaHJlZj0iaHR0cHM6Ly9tYXhjZG4uYm9vdHN0cmFwY2RuLmNvbS9mb250LWF3ZXNvbWUvNC42LjMvY3NzL2ZvbnQtYXdlc29tZS5taW4uY3NzIi8+CiAgICA8bGluayByZWw9InN0eWxlc2hlZXQiIGhyZWY9Imh0dHBzOi8vY2RuanMuY2xvdWRmbGFyZS5jb20vYWpheC9saWJzL0xlYWZsZXQuYXdlc29tZS1tYXJrZXJzLzIuMC4yL2xlYWZsZXQuYXdlc29tZS1tYXJrZXJzLmNzcyIvPgogICAgPGxpbmsgcmVsPSJzdHlsZXNoZWV0IiBocmVmPSJodHRwczovL3Jhd2Nkbi5naXRoYWNrLmNvbS9weXRob24tdmlzdWFsaXphdGlvbi9mb2xpdW0vbWFzdGVyL2ZvbGl1bS90ZW1wbGF0ZXMvbGVhZmxldC5hd2Vzb21lLnJvdGF0ZS5jc3MiLz4KICAgIDxzdHlsZT5odG1sLCBib2R5IHt3aWR0aDogMTAwJTtoZWlnaHQ6IDEwMCU7bWFyZ2luOiAwO3BhZGRpbmc6IDA7fTwvc3R5bGU+CiAgICA8c3R5bGU+I21hcCB7cG9zaXRpb246YWJzb2x1dGU7dG9wOjA7Ym90dG9tOjA7cmlnaHQ6MDtsZWZ0OjA7fTwvc3R5bGU+CiAgICAKICAgICAgICAgICAgPG1ldGEgbmFtZT0idmlld3BvcnQiIGNvbnRlbnQ9IndpZHRoPWRldmljZS13aWR0aCwKICAgICAgICAgICAgICAgIGluaXRpYWwtc2NhbGU9MS4wLCBtYXhpbXVtLXNjYWxlPTEuMCwgdXNlci1zY2FsYWJsZT1ubyIgLz4KICAgICAgICAgICAgPHN0eWxlPgogICAgICAgICAgICAgICAgI21hcF81MDQyYjI1ODgxY2Y0ZGZmOTU3MWRkMDhiMWMzZDZlNiB7CiAgICAgICAgICAgICAgICAgICAgcG9zaXRpb246IHJlbGF0aXZlOwogICAgICAgICAgICAgICAgICAgIHdpZHRoOiAxMDAuMCU7CiAgICAgICAgICAgICAgICAgICAgaGVpZ2h0OiAxMDAuMCU7CiAgICAgICAgICAgICAgICAgICAgbGVmdDogMC4wJTsKICAgICAgICAgICAgICAgICAgICB0b3A6IDAuMCU7CiAgICAgICAgICAgICAgICB9CiAgICAgICAgICAgIDwvc3R5bGU+CiAgICAgICAgCjwvaGVhZD4KPGJvZHk+ICAgIAogICAgCiAgICAgICAgICAgIDxkaXYgY2xhc3M9ImZvbGl1bS1tYXAiIGlkPSJtYXBfNTA0MmIyNTg4MWNmNGRmZjk1NzFkZDA4YjFjM2Q2ZTYiID48L2Rpdj4KICAgICAgICAKPC9ib2R5Pgo8c2NyaXB0PiAgICAKICAgIAogICAgICAgICAgICB2YXIgbWFwXzUwNDJiMjU4ODFjZjRkZmY5NTcxZGQwOGIxYzNkNmU2ID0gTC5tYXAoCiAgICAgICAgICAgICAgICAibWFwXzUwNDJiMjU4ODFjZjRkZmY5NTcxZGQwOGIxYzNkNmU2IiwKICAgICAgICAgICAgICAgIHsKICAgICAgICAgICAgICAgICAgICBjZW50ZXI6IFs0My42NTM0ODE3LCAtNzkuMzgzOTM0N10sCiAgICAgICAgICAgICAgICAgICAgY3JzOiBMLkNSUy5FUFNHMzg1NywKICAgICAgICAgICAgICAgICAgICB6b29tOiAxMiwKICAgICAgICAgICAgICAgICAgICB6b29tQ29udHJvbDogdHJ1ZSwKICAgICAgICAgICAgICAgICAgICBwcmVmZXJDYW52YXM6IGZhbHNlLAogICAgICAgICAgICAgICAgfQogICAgICAgICAgICApOwoKICAgICAgICAgICAgCgogICAgICAgIAogICAgCiAgICAgICAgICAgIHZhciB0aWxlX2xheWVyX2RiM2UxNWI3OWE0MzRlYjdhZGFkM2FkODk3ODZhOTQ5ID0gTC50aWxlTGF5ZXIoCiAgICAgICAgICAgICAgICAiaHR0cHM6Ly97c30udGlsZS5vcGVuc3RyZWV0bWFwLm9yZy97en0ve3h9L3t5fS5wbmciLAogICAgICAgICAgICAgICAgeyJhdHRyaWJ1dGlvbiI6ICJEYXRhIGJ5IFx1MDAyNmNvcHk7IFx1MDAzY2EgaHJlZj1cImh0dHA6Ly9vcGVuc3RyZWV0bWFwLm9yZ1wiXHUwMDNlT3BlblN0cmVldE1hcFx1MDAzYy9hXHUwMDNlLCB1bmRlciBcdTAwM2NhIGhyZWY9XCJodHRwOi8vd3d3Lm9wZW5zdHJlZXRtYXAub3JnL2NvcHlyaWdodFwiXHUwMDNlT0RiTFx1MDAzYy9hXHUwMDNlLiIsICJkZXRlY3RSZXRpbmEiOiBmYWxzZSwgIm1heE5hdGl2ZVpvb20iOiAxOCwgIm1heFpvb20iOiAxOCwgIm1pblpvb20iOiAwLCAibm9XcmFwIjogZmFsc2UsICJvcGFjaXR5IjogMSwgInN1YmRvbWFpbnMiOiAiYWJjIiwgInRtcyI6IGZhbHNlfQogICAgICAgICAgICApLmFkZFRvKG1hcF81MDQyYjI1ODgxY2Y0ZGZmOTU3MWRkMDhiMWMzZDZlNik7CiAgICAgICAgCiAgICAKICAgICAgICAgICAgdmFyIG1hcmtlcl9hMGY4ODE0ZjMxMjY0N2YxYWYzY2Q5NGM2ODkwZTk5ZCA9IEwubWFya2VyKAogICAgICAgICAgICAgICAgWzQzLjczMzI4MjUsIC03OS40MTk3NDk3XSwKICAgICAgICAgICAgICAgIHt9CiAgICAgICAgICAgICkuYWRkVG8obWFwXzUwNDJiMjU4ODFjZjRkZmY5NTcxZGQwOGIxYzNkNmU2KTsKICAgICAgICAKICAgIAogICAgICAgICAgICB2YXIgaWNvbl9jYjA5NDQ1ODlmZmI0MzI5YjZhNGRkMzk5MzYzMTdkZCA9IEwuQXdlc29tZU1hcmtlcnMuaWNvbigKICAgICAgICAgICAgICAgIHsiZXh0cmFDbGFzc2VzIjogImZhLXJvdGF0ZS0wIiwgImljb24iOiAiY3V0bGVyeSIsICJpY29uQ29sb3IiOiAid2hpdGUiLCAibWFya2VyQ29sb3IiOiAiYmx1ZSIsICJwcmVmaXgiOiAiZ2x5cGhpY29uIn0KICAgICAgICAgICAgKTsKICAgICAgICAgICAgbWFya2VyX2EwZjg4MTRmMzEyNjQ3ZjFhZjNjZDk0YzY4OTBlOTlkLnNldEljb24oaWNvbl9jYjA5NDQ1ODlmZmI0MzI5YjZhNGRkMzk5MzYzMTdkZCk7CiAgICAgICAgCiAgICAKICAgICAgICB2YXIgcG9wdXBfMjZjYTNlMjRiNjI2NGRhMGEzMzM4MjhkZWMzMDUyNGQgPSBMLnBvcHVwKHsibWF4V2lkdGgiOiAiMTAwJSJ9KTsKCiAgICAgICAgCiAgICAgICAgICAgIHZhciBodG1sXzZkN2RjYWY5MTU5ZTQ4YWVhNTljYWFiMjQ0ZTg5NGU5ID0gJChgPGRpdiBpZD0iaHRtbF82ZDdkY2FmOTE1OWU0OGFlYTU5Y2FhYjI0NGU4OTRlOSIgc3R5bGU9IndpZHRoOiAxMDAuMCU7IGhlaWdodDogMTAwLjAlOyI+QmVkZm9yZCBQYXJrLCBOb3J0aCBZb3JrKDcuMyk8L2Rpdj5gKVswXTsKICAgICAgICAgICAgcG9wdXBfMjZjYTNlMjRiNjI2NGRhMGEzMzM4MjhkZWMzMDUyNGQuc2V0Q29udGVudChodG1sXzZkN2RjYWY5MTU5ZTQ4YWVhNTljYWFiMjQ0ZTg5NGU5KTsKICAgICAgICAKCiAgICAgICAgbWFya2VyX2EwZjg4MTRmMzEyNjQ3ZjFhZjNjZDk0YzY4OTBlOTlkLmJpbmRQb3B1cChwb3B1cF8yNmNhM2UyNGI2MjY0ZGEwYTMzMzgyOGRlYzMwNTI0ZCkKICAgICAgICA7CgogICAgICAgIAogICAgCiAgICAKICAgICAgICAgICAgdmFyIG1hcmtlcl9hMDVkYjc3ZTMyNjE0NTJlYjE2OTJlYjZlNmU4ZWI1OSA9IEwubWFya2VyKAogICAgICAgICAgICAgICAgWzQzLjYzNjg0NzIsIC03OS40MjgxOTE0MDAwMDAwMl0sCiAgICAgICAgICAgICAgICB7fQogICAgICAgICAgICApLmFkZFRvKG1hcF81MDQyYjI1ODgxY2Y0ZGZmOTU3MWRkMDhiMWMzZDZlNik7CiAgICAgICAgCiAgICAKICAgICAgICAgICAgdmFyIGljb25fOWE3MzMyZGEzYjlhNGY0MWJiZDFjNTQyYzE5OGI4NGQgPSBMLkF3ZXNvbWVNYXJrZXJzLmljb24oCiAgICAgICAgICAgICAgICB7ImV4dHJhQ2xhc3NlcyI6ICJmYS1yb3RhdGUtMCIsICJpY29uIjogImN1dGxlcnkiLCAiaWNvbkNvbG9yIjogIndoaXRlIiwgIm1hcmtlckNvbG9yIjogImJsdWUiLCAicHJlZml4IjogImdseXBoaWNvbiJ9CiAgICAgICAgICAgICk7CiAgICAgICAgICAgIG1hcmtlcl9hMDVkYjc3ZTMyNjE0NTJlYjE2OTJlYjZlNmU4ZWI1OS5zZXRJY29uKGljb25fOWE3MzMyZGEzYjlhNGY0MWJiZDFjNTQyYzE5OGI4NGQpOwogICAgICAgIAogICAgCiAgICAgICAgdmFyIHBvcHVwX2NlOGU2MDFlNzVkNzQzOGY4NjU0YWQ3MTJhMjY3MzA1ID0gTC5wb3B1cCh7Im1heFdpZHRoIjogIjEwMCUifSk7CgogICAgICAgIAogICAgICAgICAgICB2YXIgaHRtbF9lMDI4YzIwYWUwYWQ0NWVjYjM0YjZhNDhkYmRhZWQyYyA9ICQoYDxkaXYgaWQ9Imh0bWxfZTAyOGMyMGFlMGFkNDVlY2IzNGI2YTQ4ZGJkYWVkMmMiIHN0eWxlPSJ3aWR0aDogMTAwLjAlOyBoZWlnaHQ6IDEwMC4wJTsiPkJyb2NrdG9uLCBXZXN0IFRvcm9udG8oOC4yKTwvZGl2PmApWzBdOwogICAgICAgICAgICBwb3B1cF9jZThlNjAxZTc1ZDc0MzhmODY1NGFkNzEyYTI2NzMwNS5zZXRDb250ZW50KGh0bWxfZTAyOGMyMGFlMGFkNDVlY2IzNGI2YTQ4ZGJkYWVkMmMpOwogICAgICAgIAoKICAgICAgICBtYXJrZXJfYTA1ZGI3N2UzMjYxNDUyZWIxNjkyZWI2ZTZlOGViNTkuYmluZFBvcHVwKHBvcHVwX2NlOGU2MDFlNzVkNzQzOGY4NjU0YWQ3MTJhMjY3MzA1KQogICAgICAgIDsKCiAgICAgICAgCiAgICAKICAgIAogICAgICAgICAgICB2YXIgbWFya2VyXzEwYzcwNDhkNWJmNzQwMmRiZGIyYWY2MTFkNmViNDMxID0gTC5tYXJrZXIoCiAgICAgICAgICAgICAgICBbNDMuNjM2OTY1NiwgLTc5LjYxNTgxODk5OTk5OTk5XSwKICAgICAgICAgICAgICAgIHt9CiAgICAgICAgICAgICkuYWRkVG8obWFwXzUwNDJiMjU4ODFjZjRkZmY5NTcxZGQwOGIxYzNkNmU2KTsKICAgICAgICAKICAgIAogICAgICAgICAgICB2YXIgaWNvbl9iNzIzZTVhYjI0Yzg0NTBlODFlZmNkNTQ1ZWY4ODFkYyA9IEwuQXdlc29tZU1hcmtlcnMuaWNvbigKICAgICAgICAgICAgICAgIHsiZXh0cmFDbGFzc2VzIjogImZhLXJvdGF0ZS0wIiwgImljb24iOiAiY3V0bGVyeSIsICJpY29uQ29sb3IiOiAid2hpdGUiLCAibWFya2VyQ29sb3IiOiAiYmx1ZSIsICJwcmVmaXgiOiAiZ2x5cGhpY29uIn0KICAgICAgICAgICAgKTsKICAgICAgICAgICAgbWFya2VyXzEwYzcwNDhkNWJmNzQwMmRiZGIyYWY2MTFkNmViNDMxLnNldEljb24oaWNvbl9iNzIzZTVhYjI0Yzg0NTBlODFlZmNkNTQ1ZWY4ODFkYyk7CiAgICAgICAgCiAgICAKICAgICAgICB2YXIgcG9wdXBfYjE4NDVlNTVmNGY2NDU1NGIyMDNmY2JkNDQyY2Q2MGYgPSBMLnBvcHVwKHsibWF4V2lkdGgiOiAiMTAwJSJ9KTsKCiAgICAgICAgCiAgICAgICAgICAgIHZhciBodG1sX2JkZWFiNzk5Njg1MjQ4Y2ZhNzk2ODRiOWUzYjI5YzVkID0gJChgPGRpdiBpZD0iaHRtbF9iZGVhYjc5OTY4NTI0OGNmYTc5Njg0YjllM2IyOWM1ZCIgc3R5bGU9IndpZHRoOiAxMDAuMCU7IGhlaWdodDogMTAwLjAlOyI+Q2FuYWRhIFBvc3QgR2F0ZXdheSBQcm9jZXNzaW5nIENlbnRyZSwgTWlzc2lzc2F1Z2EoNi4zNSk8L2Rpdj5gKVswXTsKICAgICAgICAgICAgcG9wdXBfYjE4NDVlNTVmNGY2NDU1NGIyMDNmY2JkNDQyY2Q2MGYuc2V0Q29udGVudChodG1sX2JkZWFiNzk5Njg1MjQ4Y2ZhNzk2ODRiOWUzYjI5YzVkKTsKICAgICAgICAKCiAgICAgICAgbWFya2VyXzEwYzcwNDhkNWJmNzQwMmRiZGIyYWY2MTFkNmViNDMxLmJpbmRQb3B1cChwb3B1cF9iMTg0NWU1NWY0ZjY0NTU0YjIwM2ZjYmQ0NDJjZDYwZikKICAgICAgICA7CgogICAgICAgIAogICAgCiAgICAKICAgICAgICAgICAgdmFyIG1hcmtlcl85YjE4ZGQyNjI3NWQ0NGU3OTRkNTE0MTk5OWE2NzdmOSA9IEwubWFya2VyKAogICAgICAgICAgICAgICAgWzQzLjc3MzEzNiwgLTc5LjIzOTQ3NjA5OTk5OTk5XSwKICAgICAgICAgICAgICAgIHt9CiAgICAgICAgICAgICkuYWRkVG8obWFwXzUwNDJiMjU4ODFjZjRkZmY5NTcxZGQwOGIxYzNkNmU2KTsKICAgICAgICAKICAgIAogICAgICAgICAgICB2YXIgaWNvbl9jYjQzOGFmNmVkNmE0MTg2OGZkZjhmYzVjNDgxMTBiOSA9IEwuQXdlc29tZU1hcmtlcnMuaWNvbigKICAgICAgICAgICAgICAgIHsiZXh0cmFDbGFzc2VzIjogImZhLXJvdGF0ZS0wIiwgImljb24iOiAiY3V0bGVyeSIsICJpY29uQ29sb3IiOiAid2hpdGUiLCAibWFya2VyQ29sb3IiOiAiYmx1ZSIsICJwcmVmaXgiOiAiZ2x5cGhpY29uIn0KICAgICAgICAgICAgKTsKICAgICAgICAgICAgbWFya2VyXzliMThkZDI2Mjc1ZDQ0ZTc5NGQ1MTQxOTk5YTY3N2Y5LnNldEljb24oaWNvbl9jYjQzOGFmNmVkNmE0MTg2OGZkZjhmYzVjNDgxMTBiOSk7CiAgICAgICAgCiAgICAKICAgICAgICB2YXIgcG9wdXBfMzRjMGIwNmJiMGNiNDZlYWE2YzJlMDUzZDliNTJjOTIgPSBMLnBvcHVwKHsibWF4V2lkdGgiOiAiMTAwJSJ9KTsKCiAgICAgICAgCiAgICAgICAgICAgIHZhciBodG1sXzVlNTczNjhhNTMyNjRlODViYTY4ZGE3ZGNkOGRmMzkyID0gJChgPGRpdiBpZD0iaHRtbF81ZTU3MzY4YTUzMjY0ZTg1YmE2OGRhN2RjZDhkZjM5MiIgc3R5bGU9IndpZHRoOiAxMDAuMCU7IGhlaWdodDogMTAwLjAlOyI+Q2VkYXJicmFlLCBTY2FyYm9yb3VnaCg3LjMwMDAwMDAwMDAwMDAwMSk8L2Rpdj5gKVswXTsKICAgICAgICAgICAgcG9wdXBfMzRjMGIwNmJiMGNiNDZlYWE2YzJlMDUzZDliNTJjOTIuc2V0Q29udGVudChodG1sXzVlNTczNjhhNTMyNjRlODViYTY4ZGE3ZGNkOGRmMzkyKTsKICAgICAgICAKCiAgICAgICAgbWFya2VyXzliMThkZDI2Mjc1ZDQ0ZTc5NGQ1MTQxOTk5YTY3N2Y5LmJpbmRQb3B1cChwb3B1cF8zNGMwYjA2YmIwY2I0NmVhYTZjMmUwNTNkOWI1MmM5MikKICAgICAgICA7CgogICAgICAgIAogICAgCiAgICAKICAgICAgICAgICAgdmFyIG1hcmtlcl83ZTMwOTIwNWFmNjg0NzQ2YWYyYTYxZjdjMzAyNGVjMyA9IEwubWFya2VyKAogICAgICAgICAgICAgICAgWzQzLjY2OTU0MiwgLTc5LjQyMjU2MzddLAogICAgICAgICAgICAgICAge30KICAgICAgICAgICAgKS5hZGRUbyhtYXBfNTA0MmIyNTg4MWNmNGRmZjk1NzFkZDA4YjFjM2Q2ZTYpOwogICAgICAgIAogICAgCiAgICAgICAgICAgIHZhciBpY29uXzFjMjg0NzcwNDM2MTRjMDY4YmM3ZWEzZjhhMmQzMGE4ID0gTC5Bd2Vzb21lTWFya2Vycy5pY29uKAogICAgICAgICAgICAgICAgeyJleHRyYUNsYXNzZXMiOiAiZmEtcm90YXRlLTAiLCAiaWNvbiI6ICJjdXRsZXJ5IiwgImljb25Db2xvciI6ICJ3aGl0ZSIsICJtYXJrZXJDb2xvciI6ICJibHVlIiwgInByZWZpeCI6ICJnbHlwaGljb24ifQogICAgICAgICAgICApOwogICAgICAgICAgICBtYXJrZXJfN2UzMDkyMDVhZjY4NDc0NmFmMmE2MWY3YzMwMjRlYzMuc2V0SWNvbihpY29uXzFjMjg0NzcwNDM2MTRjMDY4YmM3ZWEzZjhhMmQzMGE4KTsKICAgICAgICAKICAgIAogICAgICAgIHZhciBwb3B1cF82MWU1OTA5NjkwNWU0OTI0YjdhZjNhN2VmOWY0ZjUzZCA9IEwucG9wdXAoeyJtYXhXaWR0aCI6ICIxMDAlIn0pOwoKICAgICAgICAKICAgICAgICAgICAgdmFyIGh0bWxfY2I4Y2Q0MDRkYTgyNGI0NDg1NTk4MjJlZWVhY2IyMGYgPSAkKGA8ZGl2IGlkPSJodG1sX2NiOGNkNDA0ZGE4MjRiNDQ4NTU5ODIyZWVlYWNiMjBmIiBzdHlsZT0id2lkdGg6IDEwMC4wJTsgaGVpZ2h0OiAxMDAuMCU7Ij5DaHJpc3RpZSwgRG93bnRvd24gVG9yb250byg4LjIpPC9kaXY+YClbMF07CiAgICAgICAgICAgIHBvcHVwXzYxZTU5MDk2OTA1ZTQ5MjRiN2FmM2E3ZWY5ZjRmNTNkLnNldENvbnRlbnQoaHRtbF9jYjhjZDQwNGRhODI0YjQ0ODU1OTgyMmVlZWFjYjIwZik7CiAgICAgICAgCgogICAgICAgIG1hcmtlcl83ZTMwOTIwNWFmNjg0NzQ2YWYyYTYxZjdjMzAyNGVjMy5iaW5kUG9wdXAocG9wdXBfNjFlNTkwOTY5MDVlNDkyNGI3YWYzYTdlZjlmNGY1M2QpCiAgICAgICAgOwoKICAgICAgICAKICAgIAogICAgCiAgICAgICAgICAgIHZhciBtYXJrZXJfMjljYzg1NzE4YTYyNGJiZmIxMjhkY2IxYTVmOTI0NTcgPSBMLm1hcmtlcigKICAgICAgICAgICAgICAgIFs0My42NjU4NTk5LCAtNzkuMzgzMTU5OTAwMDAwMDFdLAogICAgICAgICAgICAgICAge30KICAgICAgICAgICAgKS5hZGRUbyhtYXBfNTA0MmIyNTg4MWNmNGRmZjk1NzFkZDA4YjFjM2Q2ZTYpOwogICAgICAgIAogICAgCiAgICAgICAgICAgIHZhciBpY29uX2RjYWRmYWMxMjYwYzRjZmViYWJlNGJjNzcyZjAzNjI5ID0gTC5Bd2Vzb21lTWFya2Vycy5pY29uKAogICAgICAgICAgICAgICAgeyJleHRyYUNsYXNzZXMiOiAiZmEtcm90YXRlLTAiLCAiaWNvbiI6ICJjdXRsZXJ5IiwgImljb25Db2xvciI6ICJ3aGl0ZSIsICJtYXJrZXJDb2xvciI6ICJibHVlIiwgInByZWZpeCI6ICJnbHlwaGljb24ifQogICAgICAgICAgICApOwogICAgICAgICAgICBtYXJrZXJfMjljYzg1NzE4YTYyNGJiZmIxMjhkY2IxYTVmOTI0NTcuc2V0SWNvbihpY29uX2RjYWRmYWMxMjYwYzRjZmViYWJlNGJjNzcyZjAzNjI5KTsKICAgICAgICAKICAgIAogICAgICAgIHZhciBwb3B1cF8wN2VjYjdmN2ExZTg0OWI0ODZjZTFlODM0YmRlZGU5OSA9IEwucG9wdXAoeyJtYXhXaWR0aCI6ICIxMDAlIn0pOwoKICAgICAgICAKICAgICAgICAgICAgdmFyIGh0bWxfZmI5ZDJjZGVhZDViNDY0ZWFlNjBiYzA1NzVjYjkxZjMgPSAkKGA8ZGl2IGlkPSJodG1sX2ZiOWQyY2RlYWQ1YjQ2NGVhZTYwYmMwNTc1Y2I5MWYzIiBzdHlsZT0id2lkdGg6IDEwMC4wJTsgaGVpZ2h0OiAxMDAuMCU7Ij5DaHVyY2ggYW5kIFdlbGxlc2xleSwgRG93bnRvd24gVG9yb250byg4LjA1KTwvZGl2PmApWzBdOwogICAgICAgICAgICBwb3B1cF8wN2VjYjdmN2ExZTg0OWI0ODZjZTFlODM0YmRlZGU5OS5zZXRDb250ZW50KGh0bWxfZmI5ZDJjZGVhZDViNDY0ZWFlNjBiYzA1NzVjYjkxZjMpOwogICAgICAgIAoKICAgICAgICBtYXJrZXJfMjljYzg1NzE4YTYyNGJiZmIxMjhkY2IxYTVmOTI0NTcuYmluZFBvcHVwKHBvcHVwXzA3ZWNiN2Y3YTFlODQ5YjQ4NmNlMWU4MzRiZGVkZTk5KQogICAgICAgIDsKCiAgICAgICAgCiAgICAKICAgIAogICAgICAgICAgICB2YXIgbWFya2VyX2M4MjVmY2U5ZDk2OTQ3ZDZhZTA1YTRmZDg4ZTc3ZjEyID0gTC5tYXJrZXIoCiAgICAgICAgICAgICAgICBbNDMuNzA0MzI0NCwgLTc5LjM4ODc5MDFdLAogICAgICAgICAgICAgICAge30KICAgICAgICAgICAgKS5hZGRUbyhtYXBfNTA0MmIyNTg4MWNmNGRmZjk1NzFkZDA4YjFjM2Q2ZTYpOwogICAgICAgIAogICAgCiAgICAgICAgICAgIHZhciBpY29uX2VmYjg4ZjUxYTkyMjQzZDliMTA1NmJlMDhjNWU0OTE4ID0gTC5Bd2Vzb21lTWFya2Vycy5pY29uKAogICAgICAgICAgICAgICAgeyJleHRyYUNsYXNzZXMiOiAiZmEtcm90YXRlLTAiLCAiaWNvbiI6ICJjdXRsZXJ5IiwgImljb25Db2xvciI6ICJ3aGl0ZSIsICJtYXJrZXJDb2xvciI6ICJibHVlIiwgInByZWZpeCI6ICJnbHlwaGljb24ifQogICAgICAgICAgICApOwogICAgICAgICAgICBtYXJrZXJfYzgyNWZjZTlkOTY5NDdkNmFlMDVhNGZkODhlNzdmMTIuc2V0SWNvbihpY29uX2VmYjg4ZjUxYTkyMjQzZDliMTA1NmJlMDhjNWU0OTE4KTsKICAgICAgICAKICAgIAogICAgICAgIHZhciBwb3B1cF9iNjJiZGI4NTExYWU0MzZkODc5ZDc5ZDkzMDdjY2RhYSA9IEwucG9wdXAoeyJtYXhXaWR0aCI6ICIxMDAlIn0pOwoKICAgICAgICAKICAgICAgICAgICAgdmFyIGh0bWxfMTYwM2E2YTU1MTljNGY0M2FlZmEyNTFhMjBhM2I4ZTYgPSAkKGA8ZGl2IGlkPSJodG1sXzE2MDNhNmE1NTE5YzRmNDNhZWZhMjUxYTIwYTNiOGU2IiBzdHlsZT0id2lkdGg6IDEwMC4wJTsgaGVpZ2h0OiAxMDAuMCU7Ij5EYXZpc3ZpbGxlLCBDZW50cmFsIFRvcm9udG8oNy41KTwvZGl2PmApWzBdOwogICAgICAgICAgICBwb3B1cF9iNjJiZGI4NTExYWU0MzZkODc5ZDc5ZDkzMDdjY2RhYS5zZXRDb250ZW50KGh0bWxfMTYwM2E2YTU1MTljNGY0M2FlZmEyNTFhMjBhM2I4ZTYpOwogICAgICAgIAoKICAgICAgICBtYXJrZXJfYzgyNWZjZTlkOTY5NDdkNmFlMDVhNGZkODhlNzdmMTIuYmluZFBvcHVwKHBvcHVwX2I2MmJkYjg1MTFhZTQzNmQ4NzlkNzlkOTMwN2NjZGFhKQogICAgICAgIDsKCiAgICAgICAgCiAgICAKICAgIAogICAgICAgICAgICB2YXIgbWFya2VyX2U4NDg5ZjczZmIxYzRiZGQ5MGU3ZTA0ZmQ2MDQ1MDMxID0gTC5tYXJrZXIoCiAgICAgICAgICAgICAgICBbNDMuNzU3NDA5NiwgLTc5LjI3MzMwNDAwMDAwMDAxXSwKICAgICAgICAgICAgICAgIHt9CiAgICAgICAgICAgICkuYWRkVG8obWFwXzUwNDJiMjU4ODFjZjRkZmY5NTcxZGQwOGIxYzNkNmU2KTsKICAgICAgICAKICAgIAogICAgICAgICAgICB2YXIgaWNvbl8yODZmYjg5ZmZkNjA0MGQyOWJiNDllZWU2ZTRmNjVhOSA9IEwuQXdlc29tZU1hcmtlcnMuaWNvbigKICAgICAgICAgICAgICAgIHsiZXh0cmFDbGFzc2VzIjogImZhLXJvdGF0ZS0wIiwgImljb24iOiAiY3V0bGVyeSIsICJpY29uQ29sb3IiOiAid2hpdGUiLCAibWFya2VyQ29sb3IiOiAiYmx1ZSIsICJwcmVmaXgiOiAiZ2x5cGhpY29uIn0KICAgICAgICAgICAgKTsKICAgICAgICAgICAgbWFya2VyX2U4NDg5ZjczZmIxYzRiZGQ5MGU3ZTA0ZmQ2MDQ1MDMxLnNldEljb24oaWNvbl8yODZmYjg5ZmZkNjA0MGQyOWJiNDllZWU2ZTRmNjVhOSk7CiAgICAgICAgCiAgICAKICAgICAgICB2YXIgcG9wdXBfZjc4ZTM1ZmM1ZGU3NDA3ZDk5MjllODdkYzgxYWI2OWQgPSBMLnBvcHVwKHsibWF4V2lkdGgiOiAiMTAwJSJ9KTsKCiAgICAgICAgCiAgICAgICAgICAgIHZhciBodG1sX2NkMTk3NTdjMGUxMzRlMDE5MWM0YzkzZjU1MDQyNDI3ID0gJChgPGRpdiBpZD0iaHRtbF9jZDE5NzU3YzBlMTM0ZTAxOTFjNGM5M2Y1NTA0MjQyNyIgc3R5bGU9IndpZHRoOiAxMDAuMCU7IGhlaWdodDogMTAwLjAlOyI+RG9yc2V0IFBhcmssIFNjYXJib3JvdWdoKDYuMzUpPC9kaXY+YClbMF07CiAgICAgICAgICAgIHBvcHVwX2Y3OGUzNWZjNWRlNzQwN2Q5OTI5ZTg3ZGM4MWFiNjlkLnNldENvbnRlbnQoaHRtbF9jZDE5NzU3YzBlMTM0ZTAxOTFjNGM5M2Y1NTA0MjQyNyk7CiAgICAgICAgCgogICAgICAgIG1hcmtlcl9lODQ4OWY3M2ZiMWM0YmRkOTBlN2UwNGZkNjA0NTAzMS5iaW5kUG9wdXAocG9wdXBfZjc4ZTM1ZmM1ZGU3NDA3ZDk5MjllODdkYzgxYWI2OWQpCiAgICAgICAgOwoKICAgICAgICAKICAgIAogICAgCiAgICAgICAgICAgIHZhciBtYXJrZXJfYjlkZDNmMmUxMjM0NDc1MWE5MzlkMTBlMWI4YmY0MzIgPSBMLm1hcmtlcigKICAgICAgICAgICAgICAgIFs0My42NDA4MTU3LCAtNzkuMzgxNzUyMjk5OTk5OTldLAogICAgICAgICAgICAgICAge30KICAgICAgICAgICAgKS5hZGRUbyhtYXBfNTA0MmIyNTg4MWNmNGRmZjk1NzFkZDA4YjFjM2Q2ZTYpOwogICAgICAgIAogICAgCiAgICAgICAgICAgIHZhciBpY29uXzM5OGU5MDUxODM4NTQ2NDI4ZTM2OTM5YTQ2MmIxMDQ1ID0gTC5Bd2Vzb21lTWFya2Vycy5pY29uKAogICAgICAgICAgICAgICAgeyJleHRyYUNsYXNzZXMiOiAiZmEtcm90YXRlLTAiLCAiaWNvbiI6ICJjdXRsZXJ5IiwgImljb25Db2xvciI6ICJ3aGl0ZSIsICJtYXJrZXJDb2xvciI6ICJibHVlIiwgInByZWZpeCI6ICJnbHlwaGljb24ifQogICAgICAgICAgICApOwogICAgICAgICAgICBtYXJrZXJfYjlkZDNmMmUxMjM0NDc1MWE5MzlkMTBlMWI4YmY0MzIuc2V0SWNvbihpY29uXzM5OGU5MDUxODM4NTQ2NDI4ZTM2OTM5YTQ2MmIxMDQ1KTsKICAgICAgICAKICAgIAogICAgICAgIHZhciBwb3B1cF8wMjVhMjMzMjM0NmU0MWYzYWZiYjdlN2VlNzRmYmRlMiA9IEwucG9wdXAoeyJtYXhXaWR0aCI6ICIxMDAlIn0pOwoKICAgICAgICAKICAgICAgICAgICAgdmFyIGh0bWxfMWIxNDU3MmQyODNlNGJjNjgxY2ZlNzkzZTI4YjlhZTcgPSAkKGA8ZGl2IGlkPSJodG1sXzFiMTQ1NzJkMjgzZTRiYzY4MWNmZTc5M2UyOGI5YWU3IiBzdHlsZT0id2lkdGg6IDEwMC4wJTsgaGVpZ2h0OiAxMDAuMCU7Ij5IYXJib3VyZnJvbnQgRWFzdCwgRG93bnRvd24gVG9yb250byg3LjEpPC9kaXY+YClbMF07CiAgICAgICAgICAgIHBvcHVwXzAyNWEyMzMyMzQ2ZTQxZjNhZmJiN2U3ZWU3NGZiZGUyLnNldENvbnRlbnQoaHRtbF8xYjE0NTcyZDI4M2U0YmM2ODFjZmU3OTNlMjhiOWFlNyk7CiAgICAgICAgCgogICAgICAgIG1hcmtlcl9iOWRkM2YyZTEyMzQ0NzUxYTkzOWQxMGUxYjhiZjQzMi5iaW5kUG9wdXAocG9wdXBfMDI1YTIzMzIzNDZlNDFmM2FmYmI3ZTdlZTc0ZmJkZTIpCiAgICAgICAgOwoKICAgICAgICAKICAgIAogICAgCiAgICAgICAgICAgIHZhciBtYXJrZXJfODI5ZDdhNTRjNGQ0NDI1YjgyNzUwMzZkNDQ0YmE5YWYgPSBMLm1hcmtlcigKICAgICAgICAgICAgICAgIFs0My42NjE2MDgzLCAtNzkuNDY0NzYzMjk5OTk5OTldLAogICAgICAgICAgICAgICAge30KICAgICAgICAgICAgKS5hZGRUbyhtYXBfNTA0MmIyNTg4MWNmNGRmZjk1NzFkZDA4YjFjM2Q2ZTYpOwogICAgICAgIAogICAgCiAgICAgICAgICAgIHZhciBpY29uXzUzMjMyYmE3N2IwZDRmOThiM2FmODk3NGVjYmIzNzgwID0gTC5Bd2Vzb21lTWFya2Vycy5pY29uKAogICAgICAgICAgICAgICAgeyJleHRyYUNsYXNzZXMiOiAiZmEtcm90YXRlLTAiLCAiaWNvbiI6ICJjdXRsZXJ5IiwgImljb25Db2xvciI6ICJ3aGl0ZSIsICJtYXJrZXJDb2xvciI6ICJibHVlIiwgInByZWZpeCI6ICJnbHlwaGljb24ifQogICAgICAgICAgICApOwogICAgICAgICAgICBtYXJrZXJfODI5ZDdhNTRjNGQ0NDI1YjgyNzUwMzZkNDQ0YmE5YWYuc2V0SWNvbihpY29uXzUzMjMyYmE3N2IwZDRmOThiM2FmODk3NGVjYmIzNzgwKTsKICAgICAgICAKICAgIAogICAgICAgIHZhciBwb3B1cF82MmFhYzBkMzFmZjE0MmVjOGM2ZjNmYjhiZjBhZmE5OSA9IEwucG9wdXAoeyJtYXhXaWR0aCI6ICIxMDAlIn0pOwoKICAgICAgICAKICAgICAgICAgICAgdmFyIGh0bWxfMjQ3MjdlYWY0NTlhNDE0MGE4YWVkMDcyZmJkZDViNGYgPSAkKGA8ZGl2IGlkPSJodG1sXzI0NzI3ZWFmNDU5YTQxNDBhOGFlZDA3MmZiZGQ1YjRmIiBzdHlsZT0id2lkdGg6IDEwMC4wJTsgaGVpZ2h0OiAxMDAuMCU7Ij5IaWdoIFBhcmssIFdlc3QgVG9yb250byg4LjMpPC9kaXY+YClbMF07CiAgICAgICAgICAgIHBvcHVwXzYyYWFjMGQzMWZmMTQyZWM4YzZmM2ZiOGJmMGFmYTk5LnNldENvbnRlbnQoaHRtbF8yNDcyN2VhZjQ1OWE0MTQwYThhZWQwNzJmYmRkNWI0Zik7CiAgICAgICAgCgogICAgICAgIG1hcmtlcl84MjlkN2E1NGM0ZDQ0MjViODI3NTAzNmQ0NDRiYTlhZi5iaW5kUG9wdXAocG9wdXBfNjJhYWMwZDMxZmYxNDJlYzhjNmYzZmI4YmYwYWZhOTkpCiAgICAgICAgOwoKICAgICAgICAKICAgIAogICAgCiAgICAgICAgICAgIHZhciBtYXJrZXJfMTBkNDFmNzYyMzQ3NDNmOGJmNDk2YTRkZjkwMWRkOGUgPSBMLm1hcmtlcigKICAgICAgICAgICAgICAgIFs0My42Njg5OTg1LCAtNzkuMzE1NTcxNTk5OTk5OThdLAogICAgICAgICAgICAgICAge30KICAgICAgICAgICAgKS5hZGRUbyhtYXBfNTA0MmIyNTg4MWNmNGRmZjk1NzFkZDA4YjFjM2Q2ZTYpOwogICAgICAgIAogICAgCiAgICAgICAgICAgIHZhciBpY29uXzUzYjgxMDQyN2NlMjQyYzU4ZDA5YjdhY2UwODIzYjRiID0gTC5Bd2Vzb21lTWFya2Vycy5pY29uKAogICAgICAgICAgICAgICAgeyJleHRyYUNsYXNzZXMiOiAiZmEtcm90YXRlLTAiLCAiaWNvbiI6ICJjdXRsZXJ5IiwgImljb25Db2xvciI6ICJ3aGl0ZSIsICJtYXJrZXJDb2xvciI6ICJibHVlIiwgInByZWZpeCI6ICJnbHlwaGljb24ifQogICAgICAgICAgICApOwogICAgICAgICAgICBtYXJrZXJfMTBkNDFmNzYyMzQ3NDNmOGJmNDk2YTRkZjkwMWRkOGUuc2V0SWNvbihpY29uXzUzYjgxMDQyN2NlMjQyYzU4ZDA5YjdhY2UwODIzYjRiKTsKICAgICAgICAKICAgIAogICAgICAgIHZhciBwb3B1cF8wYmQzN2I0Nzc1Njk0MDM4ODkwZGZlNTBlZmJmYmEzYiA9IEwucG9wdXAoeyJtYXhXaWR0aCI6ICIxMDAlIn0pOwoKICAgICAgICAKICAgICAgICAgICAgdmFyIGh0bWxfZWY4MDA5NGJiMDUyNGNiODhjZjRlN2JjOThmZmVkNmMgPSAkKGA8ZGl2IGlkPSJodG1sX2VmODAwOTRiYjA1MjRjYjg4Y2Y0ZTdiYzk4ZmZlZDZjIiBzdHlsZT0id2lkdGg6IDEwMC4wJTsgaGVpZ2h0OiAxMDAuMCU7Ij5JbmRpYSBCYXphYXIsIEVhc3QgVG9yb250byg1LjIyNSk8L2Rpdj5gKVswXTsKICAgICAgICAgICAgcG9wdXBfMGJkMzdiNDc3NTY5NDAzODg5MGRmZTUwZWZiZmJhM2Iuc2V0Q29udGVudChodG1sX2VmODAwOTRiYjA1MjRjYjg4Y2Y0ZTdiYzk4ZmZlZDZjKTsKICAgICAgICAKCiAgICAgICAgbWFya2VyXzEwZDQxZjc2MjM0NzQzZjhiZjQ5NmE0ZGY5MDFkZDhlLmJpbmRQb3B1cChwb3B1cF8wYmQzN2I0Nzc1Njk0MDM4ODkwZGZlNTBlZmJmYmEzYikKICAgICAgICA7CgogICAgICAgIAogICAgCiAgICAKICAgICAgICAgICAgdmFyIG1hcmtlcl8xMWMxNzZjYzUwNmU0MGU1OTJhNjI1ZmI1ODRhMjkzMiA9IEwubWFya2VyKAogICAgICAgICAgICAgICAgWzQzLjY1MzIwNTcsIC03OS40MDAwNDkzXSwKICAgICAgICAgICAgICAgIHt9CiAgICAgICAgICAgICkuYWRkVG8obWFwXzUwNDJiMjU4ODFjZjRkZmY5NTcxZGQwOGIxYzNkNmU2KTsKICAgICAgICAKICAgIAogICAgICAgICAgICB2YXIgaWNvbl9kODYxMDFkMTUzZTY0ZjU3OGI0OGFiYTZmNzUxMmJiZSA9IEwuQXdlc29tZU1hcmtlcnMuaWNvbigKICAgICAgICAgICAgICAgIHsiZXh0cmFDbGFzc2VzIjogImZhLXJvdGF0ZS0wIiwgImljb24iOiAiY3V0bGVyeSIsICJpY29uQ29sb3IiOiAid2hpdGUiLCAibWFya2VyQ29sb3IiOiAiYmx1ZSIsICJwcmVmaXgiOiAiZ2x5cGhpY29uIn0KICAgICAgICAgICAgKTsKICAgICAgICAgICAgbWFya2VyXzExYzE3NmNjNTA2ZTQwZTU5MmE2MjVmYjU4NGEyOTMyLnNldEljb24oaWNvbl9kODYxMDFkMTUzZTY0ZjU3OGI0OGFiYTZmNzUxMmJiZSk7CiAgICAgICAgCiAgICAKICAgICAgICB2YXIgcG9wdXBfYjVkYTYxMGQ5NjI3NDA3ZWE4OTFkMjQ5Y2RlOTlmZjIgPSBMLnBvcHVwKHsibWF4V2lkdGgiOiAiMTAwJSJ9KTsKCiAgICAgICAgCiAgICAgICAgICAgIHZhciBodG1sX2ExZDRhNGU0MWQ4YjQ2ZTE5N2JkMTU4MzA2ODliYzgyID0gJChgPGRpdiBpZD0iaHRtbF9hMWQ0YTRlNDFkOGI0NmUxOTdiZDE1ODMwNjg5YmM4MiIgc3R5bGU9IndpZHRoOiAxMDAuMCU7IGhlaWdodDogMTAwLjAlOyI+S2Vuc2luZ3RvbiBNYXJrZXQsIERvd250b3duIFRvcm9udG8oNy44KTwvZGl2PmApWzBdOwogICAgICAgICAgICBwb3B1cF9iNWRhNjEwZDk2Mjc0MDdlYTg5MWQyNDljZGU5OWZmMi5zZXRDb250ZW50KGh0bWxfYTFkNGE0ZTQxZDhiNDZlMTk3YmQxNTgzMDY4OWJjODIpOwogICAgICAgIAoKICAgICAgICBtYXJrZXJfMTFjMTc2Y2M1MDZlNDBlNTkyYTYyNWZiNTg0YTI5MzIuYmluZFBvcHVwKHBvcHVwX2I1ZGE2MTBkOTYyNzQwN2VhODkxZDI0OWNkZTk5ZmYyKQogICAgICAgIDsKCiAgICAgICAgCiAgICAKICAgIAogICAgICAgICAgICB2YXIgbWFya2VyXzdjYTlmZWI3ZGE2MjQ5NDFiYzEyM2Q4NWIzOWUyM2I3ID0gTC5tYXJrZXIoCiAgICAgICAgICAgICAgICBbNDMuNzA5MDYwNCwgLTc5LjM2MzQ1MTddLAogICAgICAgICAgICAgICAge30KICAgICAgICAgICAgKS5hZGRUbyhtYXBfNTA0MmIyNTg4MWNmNGRmZjk1NzFkZDA4YjFjM2Q2ZTYpOwogICAgICAgIAogICAgCiAgICAgICAgICAgIHZhciBpY29uXzdmYjhiYWExNGM0NTQ0MDBhMTJkOTdjNDhkOGY0Yjg2ID0gTC5Bd2Vzb21lTWFya2Vycy5pY29uKAogICAgICAgICAgICAgICAgeyJleHRyYUNsYXNzZXMiOiAiZmEtcm90YXRlLTAiLCAiaWNvbiI6ICJjdXRsZXJ5IiwgImljb25Db2xvciI6ICJ3aGl0ZSIsICJtYXJrZXJDb2xvciI6ICJibHVlIiwgInByZWZpeCI6ICJnbHlwaGljb24ifQogICAgICAgICAgICApOwogICAgICAgICAgICBtYXJrZXJfN2NhOWZlYjdkYTYyNDk0MWJjMTIzZDg1YjM5ZTIzYjcuc2V0SWNvbihpY29uXzdmYjhiYWExNGM0NTQ0MDBhMTJkOTdjNDhkOGY0Yjg2KTsKICAgICAgICAKICAgIAogICAgICAgIHZhciBwb3B1cF82ZDdhYWU2NmUyZTY0MTU3OWQ2ZWMxYWZiNzdhMGYyYiA9IEwucG9wdXAoeyJtYXhXaWR0aCI6ICIxMDAlIn0pOwoKICAgICAgICAKICAgICAgICAgICAgdmFyIGh0bWxfOTg4Mjg1NDM3ZDk2NGM1Nzk2ZGUwMGY0NjdmMDZiNGUgPSAkKGA8ZGl2IGlkPSJodG1sXzk4ODI4NTQzN2Q5NjRjNTc5NmRlMDBmNDY3ZjA2YjRlIiBzdHlsZT0id2lkdGg6IDEwMC4wJTsgaGVpZ2h0OiAxMDAuMCU7Ij5MZWFzaWRlLCBFYXN0IFlvcmsoNi44KTwvZGl2PmApWzBdOwogICAgICAgICAgICBwb3B1cF82ZDdhYWU2NmUyZTY0MTU3OWQ2ZWMxYWZiNzdhMGYyYi5zZXRDb250ZW50KGh0bWxfOTg4Mjg1NDM3ZDk2NGM1Nzk2ZGUwMGY0NjdmMDZiNGUpOwogICAgICAgIAoKICAgICAgICBtYXJrZXJfN2NhOWZlYjdkYTYyNDk0MWJjMTIzZDg1YjM5ZTIzYjcuYmluZFBvcHVwKHBvcHVwXzZkN2FhZTY2ZTJlNjQxNTc5ZDZlYzFhZmI3N2EwZjJiKQogICAgICAgIDsKCiAgICAgICAgCiAgICAKICAgIAogICAgICAgICAgICB2YXIgbWFya2VyXzA2YmYzM2U5NGY1YTRkMWJiZmM5MDg3MTYyODBkMWRkID0gTC5tYXJrZXIoCiAgICAgICAgICAgICAgICBbNDMuNjYyMzAxNSwgLTc5LjM4OTQ5MzhdLAogICAgICAgICAgICAgICAge30KICAgICAgICAgICAgKS5hZGRUbyhtYXBfNTA0MmIyNTg4MWNmNGRmZjk1NzFkZDA4YjFjM2Q2ZTYpOwogICAgICAgIAogICAgCiAgICAgICAgICAgIHZhciBpY29uXzJjMTQxYTBkYjMzYzRhMjliYjllYWYwZDU1YWVkNDBkID0gTC5Bd2Vzb21lTWFya2Vycy5pY29uKAogICAgICAgICAgICAgICAgeyJleHRyYUNsYXNzZXMiOiAiZmEtcm90YXRlLTAiLCAiaWNvbiI6ICJjdXRsZXJ5IiwgImljb25Db2xvciI6ICJ3aGl0ZSIsICJtYXJrZXJDb2xvciI6ICJibHVlIiwgInByZWZpeCI6ICJnbHlwaGljb24ifQogICAgICAgICAgICApOwogICAgICAgICAgICBtYXJrZXJfMDZiZjMzZTk0ZjVhNGQxYmJmYzkwODcxNjI4MGQxZGQuc2V0SWNvbihpY29uXzJjMTQxYTBkYjMzYzRhMjliYjllYWYwZDU1YWVkNDBkKTsKICAgICAgICAKICAgIAogICAgICAgIHZhciBwb3B1cF85MDM5MTI4OTA5OTY0ZDBiYWRjMjBkZWVmZDZmM2YyOSA9IEwucG9wdXAoeyJtYXhXaWR0aCI6ICIxMDAlIn0pOwoKICAgICAgICAKICAgICAgICAgICAgdmFyIGh0bWxfOTE3MDhiMGY5NGQzNDYwMmIwZmI3OWQyOTZhOTM5YWQgPSAkKGA8ZGl2IGlkPSJodG1sXzkxNzA4YjBmOTRkMzQ2MDJiMGZiNzlkMjk2YTkzOWFkIiBzdHlsZT0id2lkdGg6IDEwMC4wJTsgaGVpZ2h0OiAxMDAuMCU7Ij5RdWVlbidzIFBhcmssIERvd250b3duIFRvcm9udG8oOC4wKTwvZGl2PmApWzBdOwogICAgICAgICAgICBwb3B1cF85MDM5MTI4OTA5OTY0ZDBiYWRjMjBkZWVmZDZmM2YyOS5zZXRDb250ZW50KGh0bWxfOTE3MDhiMGY5NGQzNDYwMmIwZmI3OWQyOTZhOTM5YWQpOwogICAgICAgIAoKICAgICAgICBtYXJrZXJfMDZiZjMzZTk0ZjVhNGQxYmJmYzkwODcxNjI4MGQxZGQuYmluZFBvcHVwKHBvcHVwXzkwMzkxMjg5MDk5NjRkMGJhZGMyMGRlZWZkNmYzZjI5KQogICAgICAgIDsKCiAgICAgICAgCiAgICAKICAgIAogICAgICAgICAgICB2YXIgbWFya2VyXzYyZmU3ZDhkZTExNzQxNjZiN2NhMzAyYjNjM2VhODg2ID0gTC5tYXJrZXIoCiAgICAgICAgICAgICAgICBbNDMuNjczMTg1Mjk5OTk5OTksIC03OS40ODcyNjE5MDAwMDAwMV0sCiAgICAgICAgICAgICAgICB7fQogICAgICAgICAgICApLmFkZFRvKG1hcF81MDQyYjI1ODgxY2Y0ZGZmOTU3MWRkMDhiMWMzZDZlNik7CiAgICAgICAgCiAgICAKICAgICAgICAgICAgdmFyIGljb25fNDdlOTE0MDYzYTc4NGU5YTk5ZjMyMTFlMmRkYjQ3MTAgPSBMLkF3ZXNvbWVNYXJrZXJzLmljb24oCiAgICAgICAgICAgICAgICB7ImV4dHJhQ2xhc3NlcyI6ICJmYS1yb3RhdGUtMCIsICJpY29uIjogImN1dGxlcnkiLCAiaWNvbkNvbG9yIjogIndoaXRlIiwgIm1hcmtlckNvbG9yIjogImJsdWUiLCAicHJlZml4IjogImdseXBoaWNvbiJ9CiAgICAgICAgICAgICk7CiAgICAgICAgICAgIG1hcmtlcl82MmZlN2Q4ZGUxMTc0MTY2YjdjYTMwMmIzYzNlYTg4Ni5zZXRJY29uKGljb25fNDdlOTE0MDYzYTc4NGU5YTk5ZjMyMTFlMmRkYjQ3MTApOwogICAgICAgIAogICAgCiAgICAgICAgdmFyIHBvcHVwX2FlZjBhZDU2MmE0MjRiZDlhZDExZWM2NTdiNzc2OGNhID0gTC5wb3B1cCh7Im1heFdpZHRoIjogIjEwMCUifSk7CgogICAgICAgIAogICAgICAgICAgICB2YXIgaHRtbF80NDcxNThkMTdmMzg0ZjY5YTEzMTBlNTM4YTVhZWVkYiA9ICQoYDxkaXYgaWQ9Imh0bWxfNDQ3MTU4ZDE3ZjM4NGY2OWExMzEwZTUzOGE1YWVlZGIiIHN0eWxlPSJ3aWR0aDogMTAwLjAlOyBoZWlnaHQ6IDEwMC4wJTsiPlJ1bm55bWVkZSwgWW9yayg2LjYpPC9kaXY+YClbMF07CiAgICAgICAgICAgIHBvcHVwX2FlZjBhZDU2MmE0MjRiZDlhZDExZWM2NTdiNzc2OGNhLnNldENvbnRlbnQoaHRtbF80NDcxNThkMTdmMzg0ZjY5YTEzMTBlNTM4YTVhZWVkYik7CiAgICAgICAgCgogICAgICAgIG1hcmtlcl82MmZlN2Q4ZGUxMTc0MTY2YjdjYTMwMmIzYzNlYTg4Ni5iaW5kUG9wdXAocG9wdXBfYWVmMGFkNTYyYTQyNGJkOWFkMTFlYzY1N2I3NzY4Y2EpCiAgICAgICAgOwoKICAgICAgICAKICAgIAogICAgCiAgICAgICAgICAgIHZhciBtYXJrZXJfM2Y1NTY3MzdjNDkzNGFlOWIwY2RlYmNjZjdlOWE4MzMgPSBMLm1hcmtlcigKICAgICAgICAgICAgICAgIFs0My42NTE1NzA2LCAtNzkuNDg0NDQ5OV0sCiAgICAgICAgICAgICAgICB7fQogICAgICAgICAgICApLmFkZFRvKG1hcF81MDQyYjI1ODgxY2Y0ZGZmOTU3MWRkMDhiMWMzZDZlNik7CiAgICAgICAgCiAgICAKICAgICAgICAgICAgdmFyIGljb25fYWZjNGYzYWNlMmJiNDFkYzk5NmY3ODI5MDk3NjZmMTYgPSBMLkF3ZXNvbWVNYXJrZXJzLmljb24oCiAgICAgICAgICAgICAgICB7ImV4dHJhQ2xhc3NlcyI6ICJmYS1yb3RhdGUtMCIsICJpY29uIjogImN1dGxlcnkiLCAiaWNvbkNvbG9yIjogIndoaXRlIiwgIm1hcmtlckNvbG9yIjogImJsdWUiLCAicHJlZml4IjogImdseXBoaWNvbiJ9CiAgICAgICAgICAgICk7CiAgICAgICAgICAgIG1hcmtlcl8zZjU1NjczN2M0OTM0YWU5YjBjZGViY2NmN2U5YTgzMy5zZXRJY29uKGljb25fYWZjNGYzYWNlMmJiNDFkYzk5NmY3ODI5MDk3NjZmMTYpOwogICAgICAgIAogICAgCiAgICAgICAgdmFyIHBvcHVwXzNlZmQyZmUwYzg1NjQwZGI5NmI5Yjk3ZTRiZWRiZDNhID0gTC5wb3B1cCh7Im1heFdpZHRoIjogIjEwMCUifSk7CgogICAgICAgIAogICAgICAgICAgICB2YXIgaHRtbF8wZDk4MjMwNTk5YjQ0NTU4OTliOWY2OTU0YjEwY2QwNiA9ICQoYDxkaXYgaWQ9Imh0bWxfMGQ5ODIzMDU5OWI0NDU1ODk5YjlmNjk1NGIxMGNkMDYiIHN0eWxlPSJ3aWR0aDogMTAwLjAlOyBoZWlnaHQ6IDEwMC4wJTsiPlJ1bm55bWVkZSwgV2VzdCBUb3JvbnRvKDYuNik8L2Rpdj5gKVswXTsKICAgICAgICAgICAgcG9wdXBfM2VmZDJmZTBjODU2NDBkYjk2YjliOTdlNGJlZGJkM2Euc2V0Q29udGVudChodG1sXzBkOTgyMzA1OTliNDQ1NTg5OWI5ZjY5NTRiMTBjZDA2KTsKICAgICAgICAKCiAgICAgICAgbWFya2VyXzNmNTU2NzM3YzQ5MzRhZTliMGNkZWJjY2Y3ZTlhODMzLmJpbmRQb3B1cChwb3B1cF8zZWZkMmZlMGM4NTY0MGRiOTZiOWI5N2U0YmVkYmQzYSkKICAgICAgICA7CgogICAgICAgIAogICAgCiAgICAKICAgICAgICAgICAgdmFyIG1hcmtlcl9jN2MwODA4MGQwODU0MTM4OTY0ODYwM2RmODNmMGQ3MSA9IEwubWFya2VyKAogICAgICAgICAgICAgICAgWzQzLjc5OTUyNTIwMDAwMDAwNSwgLTc5LjMxODM4ODddLAogICAgICAgICAgICAgICAge30KICAgICAgICAgICAgKS5hZGRUbyhtYXBfNTA0MmIyNTg4MWNmNGRmZjk1NzFkZDA4YjFjM2Q2ZTYpOwogICAgICAgIAogICAgCiAgICAgICAgICAgIHZhciBpY29uX2Y4ZDhjMjdkMDkxYjQ2OWJiYzNkYWY5MTI3YWQ2NDEzID0gTC5Bd2Vzb21lTWFya2Vycy5pY29uKAogICAgICAgICAgICAgICAgeyJleHRyYUNsYXNzZXMiOiAiZmEtcm90YXRlLTAiLCAiaWNvbiI6ICJjdXRsZXJ5IiwgImljb25Db2xvciI6ICJ3aGl0ZSIsICJtYXJrZXJDb2xvciI6ICJibHVlIiwgInByZWZpeCI6ICJnbHlwaGljb24ifQogICAgICAgICAgICApOwogICAgICAgICAgICBtYXJrZXJfYzdjMDgwODBkMDg1NDEzODk2NDg2MDNkZjgzZjBkNzEuc2V0SWNvbihpY29uX2Y4ZDhjMjdkMDkxYjQ2OWJiYzNkYWY5MTI3YWQ2NDEzKTsKICAgICAgICAKICAgIAogICAgICAgIHZhciBwb3B1cF85MDJmMzc0YzE2YmE0YTM2YjNkNzFmZGY2NzlhMDkzNyA9IEwucG9wdXAoeyJtYXhXaWR0aCI6ICIxMDAlIn0pOwoKICAgICAgICAKICAgICAgICAgICAgdmFyIGh0bWxfNDYxNWMwOGYwOGE4NDY5Y2E0NTkyYzY0NGY4NTZlOWQgPSAkKGA8ZGl2IGlkPSJodG1sXzQ2MTVjMDhmMDhhODQ2OWNhNDU5MmM2NDRmODU2ZTlkIiBzdHlsZT0id2lkdGg6IDEwMC4wJTsgaGVpZ2h0OiAxMDAuMCU7Ij5TdGVlbGVzIFdlc3QsIFNjYXJib3JvdWdoKDAuMCk8L2Rpdj5gKVswXTsKICAgICAgICAgICAgcG9wdXBfOTAyZjM3NGMxNmJhNGEzNmIzZDcxZmRmNjc5YTA5Mzcuc2V0Q29udGVudChodG1sXzQ2MTVjMDhmMDhhODQ2OWNhNDU5MmM2NDRmODU2ZTlkKTsKICAgICAgICAKCiAgICAgICAgbWFya2VyX2M3YzA4MDgwZDA4NTQxMzg5NjQ4NjAzZGY4M2YwZDcxLmJpbmRQb3B1cChwb3B1cF85MDJmMzc0YzE2YmE0YTM2YjNkNzFmZGY2NzlhMDkzNykKICAgICAgICA7CgogICAgICAgIAogICAgCiAgICAKICAgICAgICAgICAgdmFyIG1hcmtlcl82OWFhNThlYTlmZDU0MzVkYWRmMmE1ZmRhMWFhMTA2NSA9IEwubWFya2VyKAogICAgICAgICAgICAgICAgWzQzLjY3MjcwOTcsIC03OS40MDU2Nzg0MDAwMDAwMV0sCiAgICAgICAgICAgICAgICB7fQogICAgICAgICAgICApLmFkZFRvKG1hcF81MDQyYjI1ODgxY2Y0ZGZmOTU3MWRkMDhiMWMzZDZlNik7CiAgICAgICAgCiAgICAKICAgICAgICAgICAgdmFyIGljb25fYTgwYTgxY2UwMmI4NGQ1NjlmY2U5ZGI4ZTVhNTQ5YWMgPSBMLkF3ZXNvbWVNYXJrZXJzLmljb24oCiAgICAgICAgICAgICAgICB7ImV4dHJhQ2xhc3NlcyI6ICJmYS1yb3RhdGUtMCIsICJpY29uIjogImN1dGxlcnkiLCAiaWNvbkNvbG9yIjogIndoaXRlIiwgIm1hcmtlckNvbG9yIjogImJsdWUiLCAicHJlZml4IjogImdseXBoaWNvbiJ9CiAgICAgICAgICAgICk7CiAgICAgICAgICAgIG1hcmtlcl82OWFhNThlYTlmZDU0MzVkYWRmMmE1ZmRhMWFhMTA2NS5zZXRJY29uKGljb25fYTgwYTgxY2UwMmI4NGQ1NjlmY2U5ZGI4ZTVhNTQ5YWMpOwogICAgICAgIAogICAgCiAgICAgICAgdmFyIHBvcHVwX2RkNzg1N2I3YjhhZjQxNzg5MjMzMzQ1YzE1YzlhYzQwID0gTC5wb3B1cCh7Im1heFdpZHRoIjogIjEwMCUifSk7CgogICAgICAgIAogICAgICAgICAgICB2YXIgaHRtbF8yZTNkOTExMmM3YTE0YmM0YjM0NjJhYTM3ZjI2MzRlZiA9ICQoYDxkaXYgaWQ9Imh0bWxfMmUzZDkxMTJjN2ExNGJjNGIzNDYyYWEzN2YyNjM0ZWYiIHN0eWxlPSJ3aWR0aDogMTAwLjAlOyBoZWlnaHQ6IDEwMC4wJTsiPlRoZSBBbm5leCwgQ2VudHJhbCBUb3JvbnRvKDguNSk8L2Rpdj5gKVswXTsKICAgICAgICAgICAgcG9wdXBfZGQ3ODU3YjdiOGFmNDE3ODkyMzMzNDVjMTVjOWFjNDAuc2V0Q29udGVudChodG1sXzJlM2Q5MTEyYzdhMTRiYzRiMzQ2MmFhMzdmMjYzNGVmKTsKICAgICAgICAKCiAgICAgICAgbWFya2VyXzY5YWE1OGVhOWZkNTQzNWRhZGYyYTVmZGExYWExMDY1LmJpbmRQb3B1cChwb3B1cF9kZDc4NTdiN2I4YWY0MTc4OTIzMzM0NWMxNWM5YWM0MCkKICAgICAgICA7CgogICAgICAgIAogICAgCiAgICAKICAgICAgICAgICAgdmFyIG1hcmtlcl84ZTJhZTUxMGVmYjI0NzZiOWQ5ZjQ5ZjhlMmUxNzRjZCA9IEwubWFya2VyKAogICAgICAgICAgICAgICAgWzQzLjY3NjM1NzM5OTk5OTk5LCAtNzkuMjkzMDMxMl0sCiAgICAgICAgICAgICAgICB7fQogICAgICAgICAgICApLmFkZFRvKG1hcF81MDQyYjI1ODgxY2Y0ZGZmOTU3MWRkMDhiMWMzZDZlNik7CiAgICAgICAgCiAgICAKICAgICAgICAgICAgdmFyIGljb25fNGY1MTNlOWRhMzU5NGZkYTk2ZWY4ZjBhZGUwYzgwMzAgPSBMLkF3ZXNvbWVNYXJrZXJzLmljb24oCiAgICAgICAgICAgICAgICB7ImV4dHJhQ2xhc3NlcyI6ICJmYS1yb3RhdGUtMCIsICJpY29uIjogImN1dGxlcnkiLCAiaWNvbkNvbG9yIjogIndoaXRlIiwgIm1hcmtlckNvbG9yIjogImJsdWUiLCAicHJlZml4IjogImdseXBoaWNvbiJ9CiAgICAgICAgICAgICk7CiAgICAgICAgICAgIG1hcmtlcl84ZTJhZTUxMGVmYjI0NzZiOWQ5ZjQ5ZjhlMmUxNzRjZC5zZXRJY29uKGljb25fNGY1MTNlOWRhMzU5NGZkYTk2ZWY4ZjBhZGUwYzgwMzApOwogICAgICAgIAogICAgCiAgICAgICAgdmFyIHBvcHVwX2JjMGNjMWZhNmY2MzRkZmQ5YmU4MzM3NzBkNGZhMjFiID0gTC5wb3B1cCh7Im1heFdpZHRoIjogIjEwMCUifSk7CgogICAgICAgIAogICAgICAgICAgICB2YXIgaHRtbF85ZDc4NTM5YjVlODI0NzBmYTM3MTllYWU3MmI5OWE0OCA9ICQoYDxkaXYgaWQ9Imh0bWxfOWQ3ODUzOWI1ZTgyNDcwZmEzNzE5ZWFlNzJiOTlhNDgiIHN0eWxlPSJ3aWR0aDogMTAwLjAlOyBoZWlnaHQ6IDEwMC4wJTsiPlRoZSBCZWFjaGVzLCBFYXN0IFRvcm9udG8oNi45KTwvZGl2PmApWzBdOwogICAgICAgICAgICBwb3B1cF9iYzBjYzFmYTZmNjM0ZGZkOWJlODMzNzcwZDRmYTIxYi5zZXRDb250ZW50KGh0bWxfOWQ3ODUzOWI1ZTgyNDcwZmEzNzE5ZWFlNzJiOTlhNDgpOwogICAgICAgIAoKICAgICAgICBtYXJrZXJfOGUyYWU1MTBlZmIyNDc2YjlkOWY0OWY4ZTJlMTc0Y2QuYmluZFBvcHVwKHBvcHVwX2JjMGNjMWZhNmY2MzRkZmQ5YmU4MzM3NzBkNGZhMjFiKQogICAgICAgIDsKCiAgICAgICAgCiAgICAKICAgIAogICAgICAgICAgICB2YXIgbWFya2VyXzllNWY1ZmQyNjBkMzQwNzhhYjFjMzUyNTZmMzVhZmI0ID0gTC5tYXJrZXIoCiAgICAgICAgICAgICAgICBbNDMuNjc5NTU3MSwgLTc5LjM1MjE4OF0sCiAgICAgICAgICAgICAgICB7fQogICAgICAgICAgICApLmFkZFRvKG1hcF81MDQyYjI1ODgxY2Y0ZGZmOTU3MWRkMDhiMWMzZDZlNik7CiAgICAgICAgCiAgICAKICAgICAgICAgICAgdmFyIGljb25fNDUyNzJjNGEzYTI4NGQ5Njg3MTM2NmVmNTM3ZGMzYjEgPSBMLkF3ZXNvbWVNYXJrZXJzLmljb24oCiAgICAgICAgICAgICAgICB7ImV4dHJhQ2xhc3NlcyI6ICJmYS1yb3RhdGUtMCIsICJpY29uIjogImN1dGxlcnkiLCAiaWNvbkNvbG9yIjogIndoaXRlIiwgIm1hcmtlckNvbG9yIjogImJsdWUiLCAicHJlZml4IjogImdseXBoaWNvbiJ9CiAgICAgICAgICAgICk7CiAgICAgICAgICAgIG1hcmtlcl85ZTVmNWZkMjYwZDM0MDc4YWIxYzM1MjU2ZjM1YWZiNC5zZXRJY29uKGljb25fNDUyNzJjNGEzYTI4NGQ5Njg3MTM2NmVmNTM3ZGMzYjEpOwogICAgICAgIAogICAgCiAgICAgICAgdmFyIHBvcHVwXzYwYjYyYTA5MGNiMzRhZGM4Y2I0NzJkNTE4ZjkxODk4ID0gTC5wb3B1cCh7Im1heFdpZHRoIjogIjEwMCUifSk7CgogICAgICAgIAogICAgICAgICAgICB2YXIgaHRtbF8zMTYwMDAxMzk1Mjk0MzlmYjcyODAzMmQ5MWFhZTgyZiA9ICQoYDxkaXYgaWQ9Imh0bWxfMzE2MDAwMTM5NTI5NDM5ZmI3MjgwMzJkOTFhYWU4MmYiIHN0eWxlPSJ3aWR0aDogMTAwLjAlOyBoZWlnaHQ6IDEwMC4wJTsiPlRoZSBEYW5mb3J0aCBXZXN0LCBFYXN0IFRvcm9udG8oNy4xKTwvZGl2PmApWzBdOwogICAgICAgICAgICBwb3B1cF82MGI2MmEwOTBjYjM0YWRjOGNiNDcyZDUxOGY5MTg5OC5zZXRDb250ZW50KGh0bWxfMzE2MDAwMTM5NTI5NDM5ZmI3MjgwMzJkOTFhYWU4MmYpOwogICAgICAgIAoKICAgICAgICBtYXJrZXJfOWU1ZjVmZDI2MGQzNDA3OGFiMWMzNTI1NmYzNWFmYjQuYmluZFBvcHVwKHBvcHVwXzYwYjYyYTA5MGNiMzRhZGM4Y2I0NzJkNTE4ZjkxODk4KQogICAgICAgIDsKCiAgICAgICAgCiAgICAKICAgIAogICAgICAgICAgICB2YXIgbWFya2VyXzIyMjI5MTk2ZmFiOTRjMTg4ZjcyMjVjZDU2M2U4YWNlID0gTC5tYXJrZXIoCiAgICAgICAgICAgICAgICBbNDMuNzA1MzY4OSwgLTc5LjM0OTM3MTkwMDAwMDAxXSwKICAgICAgICAgICAgICAgIHt9CiAgICAgICAgICAgICkuYWRkVG8obWFwXzUwNDJiMjU4ODFjZjRkZmY5NTcxZGQwOGIxYzNkNmU2KTsKICAgICAgICAKICAgIAogICAgICAgICAgICB2YXIgaWNvbl9mMjhhYWNkMjcwNDg0MWM5Yjk0MzQxMGNjODIyNDUxNCA9IEwuQXdlc29tZU1hcmtlcnMuaWNvbigKICAgICAgICAgICAgICAgIHsiZXh0cmFDbGFzc2VzIjogImZhLXJvdGF0ZS0wIiwgImljb24iOiAiY3V0bGVyeSIsICJpY29uQ29sb3IiOiAid2hpdGUiLCAibWFya2VyQ29sb3IiOiAiYmx1ZSIsICJwcmVmaXgiOiAiZ2x5cGhpY29uIn0KICAgICAgICAgICAgKTsKICAgICAgICAgICAgbWFya2VyXzIyMjI5MTk2ZmFiOTRjMTg4ZjcyMjVjZDU2M2U4YWNlLnNldEljb24oaWNvbl9mMjhhYWNkMjcwNDg0MWM5Yjk0MzQxMGNjODIyNDUxNCk7CiAgICAgICAgCiAgICAKICAgICAgICB2YXIgcG9wdXBfY2IzYWY1OTI5YTgxNDVlMWE1NWRkNTY5NTY0MTkyOWYgPSBMLnBvcHVwKHsibWF4V2lkdGgiOiAiMTAwJSJ9KTsKCiAgICAgICAgCiAgICAgICAgICAgIHZhciBodG1sXzQyMGZjMzc2Y2NkZTQzMThiZWIwYTI0MzIwMjAwY2JkID0gJChgPGRpdiBpZD0iaHRtbF80MjBmYzM3NmNjZGU0MzE4YmViMGEyNDMyMDIwMGNiZCIgc3R5bGU9IndpZHRoOiAxMDAuMCU7IGhlaWdodDogMTAwLjAlOyI+VGhvcm5jbGlmZmUgUGFyaywgRWFzdCBZb3JrKDUuMTI1KTwvZGl2PmApWzBdOwogICAgICAgICAgICBwb3B1cF9jYjNhZjU5MjlhODE0NWUxYTU1ZGQ1Njk1NjQxOTI5Zi5zZXRDb250ZW50KGh0bWxfNDIwZmMzNzZjY2RlNDMxOGJlYjBhMjQzMjAyMDBjYmQpOwogICAgICAgIAoKICAgICAgICBtYXJrZXJfMjIyMjkxOTZmYWI5NGMxODhmNzIyNWNkNTYzZThhY2UuYmluZFBvcHVwKHBvcHVwX2NiM2FmNTkyOWE4MTQ1ZTFhNTVkZDU2OTU2NDE5MjlmKQogICAgICAgIDsKCiAgICAgICAgCiAgICAKICAgIAogICAgICAgICAgICB2YXIgbWFya2VyXzc5MTVmMjIzYjhhMzQ1OWJiMDFjYWE3MDVjM2MyN2M0ID0gTC5tYXJrZXIoCiAgICAgICAgICAgICAgICBbNDMuNzg5MDUzLCAtNzkuNDA4NDkyNzk5OTk5OTldLAogICAgICAgICAgICAgICAge30KICAgICAgICAgICAgKS5hZGRUbyhtYXBfNTA0MmIyNTg4MWNmNGRmZjk1NzFkZDA4YjFjM2Q2ZTYpOwogICAgICAgIAogICAgCiAgICAgICAgICAgIHZhciBpY29uX2FhMTM4MTRkNjRiOTQ4ZTNhZTZlY2VjYzE5NGFkY2ViID0gTC5Bd2Vzb21lTWFya2Vycy5pY29uKAogICAgICAgICAgICAgICAgeyJleHRyYUNsYXNzZXMiOiAiZmEtcm90YXRlLTAiLCAiaWNvbiI6ICJjdXRsZXJ5IiwgImljb25Db2xvciI6ICJ3aGl0ZSIsICJtYXJrZXJDb2xvciI6ICJibHVlIiwgInByZWZpeCI6ICJnbHlwaGljb24ifQogICAgICAgICAgICApOwogICAgICAgICAgICBtYXJrZXJfNzkxNWYyMjNiOGEzNDU5YmIwMWNhYTcwNWMzYzI3YzQuc2V0SWNvbihpY29uX2FhMTM4MTRkNjRiOTQ4ZTNhZTZlY2VjYzE5NGFkY2ViKTsKICAgICAgICAKICAgIAogICAgICAgIHZhciBwb3B1cF9kY2MwZDRjYzRlYzE0NDQwYWEzNDZhMTVmYzI4MzY0NSA9IEwucG9wdXAoeyJtYXhXaWR0aCI6ICIxMDAlIn0pOwoKICAgICAgICAKICAgICAgICAgICAgdmFyIGh0bWxfZjc2ZjE2MzJhY2YxNDY5MjlkODNiMWJlM2JjNzY0Y2YgPSAkKGA8ZGl2IGlkPSJodG1sX2Y3NmYxNjMyYWNmMTQ2OTI5ZDgzYjFiZTNiYzc2NGNmIiBzdHlsZT0id2lkdGg6IDEwMC4wJTsgaGVpZ2h0OiAxMDAuMCU7Ij5XaWxsb3dkYWxlLCBOb3J0aCBZb3JrKDYuMSk8L2Rpdj5gKVswXTsKICAgICAgICAgICAgcG9wdXBfZGNjMGQ0Y2M0ZWMxNDQ0MGFhMzQ2YTE1ZmMyODM2NDUuc2V0Q29udGVudChodG1sX2Y3NmYxNjMyYWNmMTQ2OTI5ZDgzYjFiZTNiYzc2NGNmKTsKICAgICAgICAKCiAgICAgICAgbWFya2VyXzc5MTVmMjIzYjhhMzQ1OWJiMDFjYWE3MDVjM2MyN2M0LmJpbmRQb3B1cChwb3B1cF9kY2MwZDRjYzRlYzE0NDQwYWEzNDZhMTVmYzI4MzY0NSkKICAgICAgICA7CgogICAgICAgIAogICAgCiAgICAKICAgICAgICAgICAgdmFyIGZlYXR1cmVfZ3JvdXBfYmM0YmRmMTI2YWFkNGI0YjhmZGM5ZjMyZGVhODM4MTggPSBMLmZlYXR1cmVHcm91cCgKICAgICAgICAgICAgICAgIHt9CiAgICAgICAgICAgICkuYWRkVG8obWFwXzUwNDJiMjU4ODFjZjRkZmY5NTcxZGQwOGIxYzNkNmU2KTsKICAgICAgICAKICAgIAogICAgICAgICAgICB2YXIgY2lyY2xlX21hcmtlcl8yODVjYmE4YjgzODg0OGVhODc3YmU1OTQ5N2FiMjc3YyA9IEwuY2lyY2xlTWFya2VyKAogICAgICAgICAgICAgICAgWzQzLjczMzI4MjUsIC03OS40MTk3NDk3XSwKICAgICAgICAgICAgICAgIHsiYnViYmxpbmdNb3VzZUV2ZW50cyI6IHRydWUsICJjb2xvciI6ICJyZWQiLCAiZGFzaEFycmF5IjogbnVsbCwgImRhc2hPZmZzZXQiOiBudWxsLCAiZmlsbCI6IHRydWUsICJmaWxsQ29sb3IiOiAicmVkIiwgImZpbGxPcGFjaXR5IjogMC42LCAiZmlsbFJ1bGUiOiAiZXZlbm9kZCIsICJsaW5lQ2FwIjogInJvdW5kIiwgImxpbmVKb2luIjogInJvdW5kIiwgIm9wYWNpdHkiOiAxLjAsICJyYWRpdXMiOiAxMCwgInN0cm9rZSI6IHRydWUsICJ3ZWlnaHQiOiAzfQogICAgICAgICAgICApLmFkZFRvKGZlYXR1cmVfZ3JvdXBfYmM0YmRmMTI2YWFkNGI0YjhmZGM5ZjMyZGVhODM4MTgpOwogICAgICAgIAogICAgCiAgICAgICAgICAgIHZhciBjaXJjbGVfbWFya2VyX2Y4MTc2ZDA1MWEzMTQyMjBhMDFlYjU2ODlhZmI4MGQzID0gTC5jaXJjbGVNYXJrZXIoCiAgICAgICAgICAgICAgICBbNDMuNjM2ODQ3MiwgLTc5LjQyODE5MTQwMDAwMDAyXSwKICAgICAgICAgICAgICAgIHsiYnViYmxpbmdNb3VzZUV2ZW50cyI6IHRydWUsICJjb2xvciI6ICJyZWQiLCAiZGFzaEFycmF5IjogbnVsbCwgImRhc2hPZmZzZXQiOiBudWxsLCAiZmlsbCI6IHRydWUsICJmaWxsQ29sb3IiOiAicmVkIiwgImZpbGxPcGFjaXR5IjogMC42LCAiZmlsbFJ1bGUiOiAiZXZlbm9kZCIsICJsaW5lQ2FwIjogInJvdW5kIiwgImxpbmVKb2luIjogInJvdW5kIiwgIm9wYWNpdHkiOiAxLjAsICJyYWRpdXMiOiAxMCwgInN0cm9rZSI6IHRydWUsICJ3ZWlnaHQiOiAzfQogICAgICAgICAgICApLmFkZFRvKGZlYXR1cmVfZ3JvdXBfYmM0YmRmMTI2YWFkNGI0YjhmZGM5ZjMyZGVhODM4MTgpOwogICAgICAgIAogICAgCiAgICAgICAgICAgIHZhciBjaXJjbGVfbWFya2VyXzFlODI3ZDQ1ODEzMTRjZTI5MjcyNmY4NTZlMjNjODVlID0gTC5jaXJjbGVNYXJrZXIoCiAgICAgICAgICAgICAgICBbNDMuNjM2OTY1NiwgLTc5LjYxNTgxODk5OTk5OTk5XSwKICAgICAgICAgICAgICAgIHsiYnViYmxpbmdNb3VzZUV2ZW50cyI6IHRydWUsICJjb2xvciI6ICJyZWQiLCAiZGFzaEFycmF5IjogbnVsbCwgImRhc2hPZmZzZXQiOiBudWxsLCAiZmlsbCI6IHRydWUsICJmaWxsQ29sb3IiOiAicmVkIiwgImZpbGxPcGFjaXR5IjogMC42LCAiZmlsbFJ1bGUiOiAiZXZlbm9kZCIsICJsaW5lQ2FwIjogInJvdW5kIiwgImxpbmVKb2luIjogInJvdW5kIiwgIm9wYWNpdHkiOiAxLjAsICJyYWRpdXMiOiAxMCwgInN0cm9rZSI6IHRydWUsICJ3ZWlnaHQiOiAzfQogICAgICAgICAgICApLmFkZFRvKGZlYXR1cmVfZ3JvdXBfYmM0YmRmMTI2YWFkNGI0YjhmZGM5ZjMyZGVhODM4MTgpOwogICAgICAgIAogICAgCiAgICAgICAgICAgIHZhciBjaXJjbGVfbWFya2VyXzg2MmFlYWEzZThkNTQ4YTliMGIzN2U4YjQxOThiYjQwID0gTC5jaXJjbGVNYXJrZXIoCiAgICAgICAgICAgICAgICBbNDMuNzczMTM2LCAtNzkuMjM5NDc2MDk5OTk5OTldLAogICAgICAgICAgICAgICAgeyJidWJibGluZ01vdXNlRXZlbnRzIjogdHJ1ZSwgImNvbG9yIjogInJlZCIsICJkYXNoQXJyYXkiOiBudWxsLCAiZGFzaE9mZnNldCI6IG51bGwsICJmaWxsIjogdHJ1ZSwgImZpbGxDb2xvciI6ICJyZWQiLCAiZmlsbE9wYWNpdHkiOiAwLjYsICJmaWxsUnVsZSI6ICJldmVub2RkIiwgImxpbmVDYXAiOiAicm91bmQiLCAibGluZUpvaW4iOiAicm91bmQiLCAib3BhY2l0eSI6IDEuMCwgInJhZGl1cyI6IDEwLCAic3Ryb2tlIjogdHJ1ZSwgIndlaWdodCI6IDN9CiAgICAgICAgICAgICkuYWRkVG8oZmVhdHVyZV9ncm91cF9iYzRiZGYxMjZhYWQ0YjRiOGZkYzlmMzJkZWE4MzgxOCk7CiAgICAgICAgCiAgICAKICAgICAgICAgICAgdmFyIGNpcmNsZV9tYXJrZXJfYjM5NjRlYzVjN2I3NDk1NjhkMmFjYmZmZTdhNjlhMDggPSBMLmNpcmNsZU1hcmtlcigKICAgICAgICAgICAgICAgIFs0My42Njk1NDIsIC03OS40MjI1NjM3XSwKICAgICAgICAgICAgICAgIHsiYnViYmxpbmdNb3VzZUV2ZW50cyI6IHRydWUsICJjb2xvciI6ICJyZWQiLCAiZGFzaEFycmF5IjogbnVsbCwgImRhc2hPZmZzZXQiOiBudWxsLCAiZmlsbCI6IHRydWUsICJmaWxsQ29sb3IiOiAicmVkIiwgImZpbGxPcGFjaXR5IjogMC42LCAiZmlsbFJ1bGUiOiAiZXZlbm9kZCIsICJsaW5lQ2FwIjogInJvdW5kIiwgImxpbmVKb2luIjogInJvdW5kIiwgIm9wYWNpdHkiOiAxLjAsICJyYWRpdXMiOiAxMCwgInN0cm9rZSI6IHRydWUsICJ3ZWlnaHQiOiAzfQogICAgICAgICAgICApLmFkZFRvKGZlYXR1cmVfZ3JvdXBfYmM0YmRmMTI2YWFkNGI0YjhmZGM5ZjMyZGVhODM4MTgpOwogICAgICAgIAogICAgCiAgICAgICAgICAgIHZhciBjaXJjbGVfbWFya2VyXzBiMjZkYzA2MmNkNDRjZDM4MjA0ZTg3YmU2Y2Y1MzU3ID0gTC5jaXJjbGVNYXJrZXIoCiAgICAgICAgICAgICAgICBbNDMuNjY1ODU5OSwgLTc5LjM4MzE1OTkwMDAwMDAxXSwKICAgICAgICAgICAgICAgIHsiYnViYmxpbmdNb3VzZUV2ZW50cyI6IHRydWUsICJjb2xvciI6ICJyZWQiLCAiZGFzaEFycmF5IjogbnVsbCwgImRhc2hPZmZzZXQiOiBudWxsLCAiZmlsbCI6IHRydWUsICJmaWxsQ29sb3IiOiAicmVkIiwgImZpbGxPcGFjaXR5IjogMC42LCAiZmlsbFJ1bGUiOiAiZXZlbm9kZCIsICJsaW5lQ2FwIjogInJvdW5kIiwgImxpbmVKb2luIjogInJvdW5kIiwgIm9wYWNpdHkiOiAxLjAsICJyYWRpdXMiOiAxMCwgInN0cm9rZSI6IHRydWUsICJ3ZWlnaHQiOiAzfQogICAgICAgICAgICApLmFkZFRvKGZlYXR1cmVfZ3JvdXBfYmM0YmRmMTI2YWFkNGI0YjhmZGM5ZjMyZGVhODM4MTgpOwogICAgICAgIAogICAgCiAgICAgICAgICAgIHZhciBjaXJjbGVfbWFya2VyX2Q4NjFhYmRiZTdmZjRkYWE5ZDg2MzFjODQ4MTZkYWRlID0gTC5jaXJjbGVNYXJrZXIoCiAgICAgICAgICAgICAgICBbNDMuNzA0MzI0NCwgLTc5LjM4ODc5MDFdLAogICAgICAgICAgICAgICAgeyJidWJibGluZ01vdXNlRXZlbnRzIjogdHJ1ZSwgImNvbG9yIjogInJlZCIsICJkYXNoQXJyYXkiOiBudWxsLCAiZGFzaE9mZnNldCI6IG51bGwsICJmaWxsIjogdHJ1ZSwgImZpbGxDb2xvciI6ICJyZWQiLCAiZmlsbE9wYWNpdHkiOiAwLjYsICJmaWxsUnVsZSI6ICJldmVub2RkIiwgImxpbmVDYXAiOiAicm91bmQiLCAibGluZUpvaW4iOiAicm91bmQiLCAib3BhY2l0eSI6IDEuMCwgInJhZGl1cyI6IDEwLCAic3Ryb2tlIjogdHJ1ZSwgIndlaWdodCI6IDN9CiAgICAgICAgICAgICkuYWRkVG8oZmVhdHVyZV9ncm91cF9iYzRiZGYxMjZhYWQ0YjRiOGZkYzlmMzJkZWE4MzgxOCk7CiAgICAgICAgCiAgICAKICAgICAgICAgICAgdmFyIGNpcmNsZV9tYXJrZXJfNmE0ZGFjMTU4NGUyNDBmN2FjN2JkZTJiNjc4ZGYwYTggPSBMLmNpcmNsZU1hcmtlcigKICAgICAgICAgICAgICAgIFs0My43NTc0MDk2LCAtNzkuMjczMzA0MDAwMDAwMDFdLAogICAgICAgICAgICAgICAgeyJidWJibGluZ01vdXNlRXZlbnRzIjogdHJ1ZSwgImNvbG9yIjogInJlZCIsICJkYXNoQXJyYXkiOiBudWxsLCAiZGFzaE9mZnNldCI6IG51bGwsICJmaWxsIjogdHJ1ZSwgImZpbGxDb2xvciI6ICJyZWQiLCAiZmlsbE9wYWNpdHkiOiAwLjYsICJmaWxsUnVsZSI6ICJldmVub2RkIiwgImxpbmVDYXAiOiAicm91bmQiLCAibGluZUpvaW4iOiAicm91bmQiLCAib3BhY2l0eSI6IDEuMCwgInJhZGl1cyI6IDEwLCAic3Ryb2tlIjogdHJ1ZSwgIndlaWdodCI6IDN9CiAgICAgICAgICAgICkuYWRkVG8oZmVhdHVyZV9ncm91cF9iYzRiZGYxMjZhYWQ0YjRiOGZkYzlmMzJkZWE4MzgxOCk7CiAgICAgICAgCiAgICAKICAgICAgICAgICAgdmFyIGNpcmNsZV9tYXJrZXJfM2JhMjc3YmU0YjY4NDExMWE5NmM2NmU4MTc1NGRlMTMgPSBMLmNpcmNsZU1hcmtlcigKICAgICAgICAgICAgICAgIFs0My42NDA4MTU3LCAtNzkuMzgxNzUyMjk5OTk5OTldLAogICAgICAgICAgICAgICAgeyJidWJibGluZ01vdXNlRXZlbnRzIjogdHJ1ZSwgImNvbG9yIjogInJlZCIsICJkYXNoQXJyYXkiOiBudWxsLCAiZGFzaE9mZnNldCI6IG51bGwsICJmaWxsIjogdHJ1ZSwgImZpbGxDb2xvciI6ICJyZWQiLCAiZmlsbE9wYWNpdHkiOiAwLjYsICJmaWxsUnVsZSI6ICJldmVub2RkIiwgImxpbmVDYXAiOiAicm91bmQiLCAibGluZUpvaW4iOiAicm91bmQiLCAib3BhY2l0eSI6IDEuMCwgInJhZGl1cyI6IDEwLCAic3Ryb2tlIjogdHJ1ZSwgIndlaWdodCI6IDN9CiAgICAgICAgICAgICkuYWRkVG8oZmVhdHVyZV9ncm91cF9iYzRiZGYxMjZhYWQ0YjRiOGZkYzlmMzJkZWE4MzgxOCk7CiAgICAgICAgCiAgICAKICAgICAgICAgICAgdmFyIGNpcmNsZV9tYXJrZXJfNjQyZDBjNzRiYTU3NGIwYTk2NzUzMTdlZDE4ODk2MDggPSBMLmNpcmNsZU1hcmtlcigKICAgICAgICAgICAgICAgIFs0My42NjE2MDgzLCAtNzkuNDY0NzYzMjk5OTk5OTldLAogICAgICAgICAgICAgICAgeyJidWJibGluZ01vdXNlRXZlbnRzIjogdHJ1ZSwgImNvbG9yIjogInJlZCIsICJkYXNoQXJyYXkiOiBudWxsLCAiZGFzaE9mZnNldCI6IG51bGwsICJmaWxsIjogdHJ1ZSwgImZpbGxDb2xvciI6ICJyZWQiLCAiZmlsbE9wYWNpdHkiOiAwLjYsICJmaWxsUnVsZSI6ICJldmVub2RkIiwgImxpbmVDYXAiOiAicm91bmQiLCAibGluZUpvaW4iOiAicm91bmQiLCAib3BhY2l0eSI6IDEuMCwgInJhZGl1cyI6IDEwLCAic3Ryb2tlIjogdHJ1ZSwgIndlaWdodCI6IDN9CiAgICAgICAgICAgICkuYWRkVG8oZmVhdHVyZV9ncm91cF9iYzRiZGYxMjZhYWQ0YjRiOGZkYzlmMzJkZWE4MzgxOCk7CiAgICAgICAgCiAgICAKICAgICAgICAgICAgdmFyIGNpcmNsZV9tYXJrZXJfZGU1M2VkMzQ4Yjc1NDUxOThjNWM3MDMxNDRlMDI2OTIgPSBMLmNpcmNsZU1hcmtlcigKICAgICAgICAgICAgICAgIFs0My42Njg5OTg1LCAtNzkuMzE1NTcxNTk5OTk5OThdLAogICAgICAgICAgICAgICAgeyJidWJibGluZ01vdXNlRXZlbnRzIjogdHJ1ZSwgImNvbG9yIjogInJlZCIsICJkYXNoQXJyYXkiOiBudWxsLCAiZGFzaE9mZnNldCI6IG51bGwsICJmaWxsIjogdHJ1ZSwgImZpbGxDb2xvciI6ICJyZWQiLCAiZmlsbE9wYWNpdHkiOiAwLjYsICJmaWxsUnVsZSI6ICJldmVub2RkIiwgImxpbmVDYXAiOiAicm91bmQiLCAibGluZUpvaW4iOiAicm91bmQiLCAib3BhY2l0eSI6IDEuMCwgInJhZGl1cyI6IDEwLCAic3Ryb2tlIjogdHJ1ZSwgIndlaWdodCI6IDN9CiAgICAgICAgICAgICkuYWRkVG8oZmVhdHVyZV9ncm91cF9iYzRiZGYxMjZhYWQ0YjRiOGZkYzlmMzJkZWE4MzgxOCk7CiAgICAgICAgCiAgICAKICAgICAgICAgICAgdmFyIGNpcmNsZV9tYXJrZXJfYTAzNzY2NzdhYWNkNDUxYTkyMzkwNGI2NWMzMWQzM2IgPSBMLmNpcmNsZU1hcmtlcigKICAgICAgICAgICAgICAgIFs0My42NTMyMDU3LCAtNzkuNDAwMDQ5M10sCiAgICAgICAgICAgICAgICB7ImJ1YmJsaW5nTW91c2VFdmVudHMiOiB0cnVlLCAiY29sb3IiOiAicmVkIiwgImRhc2hBcnJheSI6IG51bGwsICJkYXNoT2Zmc2V0IjogbnVsbCwgImZpbGwiOiB0cnVlLCAiZmlsbENvbG9yIjogInJlZCIsICJmaWxsT3BhY2l0eSI6IDAuNiwgImZpbGxSdWxlIjogImV2ZW5vZGQiLCAibGluZUNhcCI6ICJyb3VuZCIsICJsaW5lSm9pbiI6ICJyb3VuZCIsICJvcGFjaXR5IjogMS4wLCAicmFkaXVzIjogMTAsICJzdHJva2UiOiB0cnVlLCAid2VpZ2h0IjogM30KICAgICAgICAgICAgKS5hZGRUbyhmZWF0dXJlX2dyb3VwX2JjNGJkZjEyNmFhZDRiNGI4ZmRjOWYzMmRlYTgzODE4KTsKICAgICAgICAKICAgIAogICAgICAgICAgICB2YXIgY2lyY2xlX21hcmtlcl82Y2JhOGFkOWFjNGQ0YmU1ODdhODZlZTdmZTAzMDI0MiA9IEwuY2lyY2xlTWFya2VyKAogICAgICAgICAgICAgICAgWzQzLjcwOTA2MDQsIC03OS4zNjM0NTE3XSwKICAgICAgICAgICAgICAgIHsiYnViYmxpbmdNb3VzZUV2ZW50cyI6IHRydWUsICJjb2xvciI6ICJyZWQiLCAiZGFzaEFycmF5IjogbnVsbCwgImRhc2hPZmZzZXQiOiBudWxsLCAiZmlsbCI6IHRydWUsICJmaWxsQ29sb3IiOiAicmVkIiwgImZpbGxPcGFjaXR5IjogMC42LCAiZmlsbFJ1bGUiOiAiZXZlbm9kZCIsICJsaW5lQ2FwIjogInJvdW5kIiwgImxpbmVKb2luIjogInJvdW5kIiwgIm9wYWNpdHkiOiAxLjAsICJyYWRpdXMiOiAxMCwgInN0cm9rZSI6IHRydWUsICJ3ZWlnaHQiOiAzfQogICAgICAgICAgICApLmFkZFRvKGZlYXR1cmVfZ3JvdXBfYmM0YmRmMTI2YWFkNGI0YjhmZGM5ZjMyZGVhODM4MTgpOwogICAgICAgIAogICAgCiAgICAgICAgICAgIHZhciBjaXJjbGVfbWFya2VyXzkyZWZiYWIwMmU2MjQyYzQ4ZDMwY2ZmMTg3MjYwZmUxID0gTC5jaXJjbGVNYXJrZXIoCiAgICAgICAgICAgICAgICBbNDMuNjYyMzAxNSwgLTc5LjM4OTQ5MzhdLAogICAgICAgICAgICAgICAgeyJidWJibGluZ01vdXNlRXZlbnRzIjogdHJ1ZSwgImNvbG9yIjogInJlZCIsICJkYXNoQXJyYXkiOiBudWxsLCAiZGFzaE9mZnNldCI6IG51bGwsICJmaWxsIjogdHJ1ZSwgImZpbGxDb2xvciI6ICJyZWQiLCAiZmlsbE9wYWNpdHkiOiAwLjYsICJmaWxsUnVsZSI6ICJldmVub2RkIiwgImxpbmVDYXAiOiAicm91bmQiLCAibGluZUpvaW4iOiAicm91bmQiLCAib3BhY2l0eSI6IDEuMCwgInJhZGl1cyI6IDEwLCAic3Ryb2tlIjogdHJ1ZSwgIndlaWdodCI6IDN9CiAgICAgICAgICAgICkuYWRkVG8oZmVhdHVyZV9ncm91cF9iYzRiZGYxMjZhYWQ0YjRiOGZkYzlmMzJkZWE4MzgxOCk7CiAgICAgICAgCiAgICAKICAgICAgICAgICAgdmFyIGNpcmNsZV9tYXJrZXJfMmYwYTY5ZDE0YjRiNDkxYzhmMDMwNjhmZTFkMzliMzIgPSBMLmNpcmNsZU1hcmtlcigKICAgICAgICAgICAgICAgIFs0My42NzMxODUyOTk5OTk5OSwgLTc5LjQ4NzI2MTkwMDAwMDAxXSwKICAgICAgICAgICAgICAgIHsiYnViYmxpbmdNb3VzZUV2ZW50cyI6IHRydWUsICJjb2xvciI6ICJyZWQiLCAiZGFzaEFycmF5IjogbnVsbCwgImRhc2hPZmZzZXQiOiBudWxsLCAiZmlsbCI6IHRydWUsICJmaWxsQ29sb3IiOiAicmVkIiwgImZpbGxPcGFjaXR5IjogMC42LCAiZmlsbFJ1bGUiOiAiZXZlbm9kZCIsICJsaW5lQ2FwIjogInJvdW5kIiwgImxpbmVKb2luIjogInJvdW5kIiwgIm9wYWNpdHkiOiAxLjAsICJyYWRpdXMiOiAxMCwgInN0cm9rZSI6IHRydWUsICJ3ZWlnaHQiOiAzfQogICAgICAgICAgICApLmFkZFRvKGZlYXR1cmVfZ3JvdXBfYmM0YmRmMTI2YWFkNGI0YjhmZGM5ZjMyZGVhODM4MTgpOwogICAgICAgIAogICAgCiAgICAgICAgICAgIHZhciBjaXJjbGVfbWFya2VyXzdmYzQ2MGE0NTZhNjRmNzQ4ZGNiMDI3NGM2MTViYjk5ID0gTC5jaXJjbGVNYXJrZXIoCiAgICAgICAgICAgICAgICBbNDMuNjUxNTcwNiwgLTc5LjQ4NDQ0OTldLAogICAgICAgICAgICAgICAgeyJidWJibGluZ01vdXNlRXZlbnRzIjogdHJ1ZSwgImNvbG9yIjogInJlZCIsICJkYXNoQXJyYXkiOiBudWxsLCAiZGFzaE9mZnNldCI6IG51bGwsICJmaWxsIjogdHJ1ZSwgImZpbGxDb2xvciI6ICJyZWQiLCAiZmlsbE9wYWNpdHkiOiAwLjYsICJmaWxsUnVsZSI6ICJldmVub2RkIiwgImxpbmVDYXAiOiAicm91bmQiLCAibGluZUpvaW4iOiAicm91bmQiLCAib3BhY2l0eSI6IDEuMCwgInJhZGl1cyI6IDEwLCAic3Ryb2tlIjogdHJ1ZSwgIndlaWdodCI6IDN9CiAgICAgICAgICAgICkuYWRkVG8oZmVhdHVyZV9ncm91cF9iYzRiZGYxMjZhYWQ0YjRiOGZkYzlmMzJkZWE4MzgxOCk7CiAgICAgICAgCiAgICAKICAgICAgICAgICAgdmFyIGNpcmNsZV9tYXJrZXJfYmE2NTY2ODllZTNjNDE4MzllNWZkZTQ3YWQzOGZkNDkgPSBMLmNpcmNsZU1hcmtlcigKICAgICAgICAgICAgICAgIFs0My43OTk1MjUyMDAwMDAwMDUsIC03OS4zMTgzODg3XSwKICAgICAgICAgICAgICAgIHsiYnViYmxpbmdNb3VzZUV2ZW50cyI6IHRydWUsICJjb2xvciI6ICJyZWQiLCAiZGFzaEFycmF5IjogbnVsbCwgImRhc2hPZmZzZXQiOiBudWxsLCAiZmlsbCI6IHRydWUsICJmaWxsQ29sb3IiOiAicmVkIiwgImZpbGxPcGFjaXR5IjogMC42LCAiZmlsbFJ1bGUiOiAiZXZlbm9kZCIsICJsaW5lQ2FwIjogInJvdW5kIiwgImxpbmVKb2luIjogInJvdW5kIiwgIm9wYWNpdHkiOiAxLjAsICJyYWRpdXMiOiAxMCwgInN0cm9rZSI6IHRydWUsICJ3ZWlnaHQiOiAzfQogICAgICAgICAgICApLmFkZFRvKGZlYXR1cmVfZ3JvdXBfYmM0YmRmMTI2YWFkNGI0YjhmZGM5ZjMyZGVhODM4MTgpOwogICAgICAgIAogICAgCiAgICAgICAgICAgIHZhciBjaXJjbGVfbWFya2VyXzI2Y2ExYmU5ODgzYTRlYWRiMzQ4NTkwODY3NGNhZGI0ID0gTC5jaXJjbGVNYXJrZXIoCiAgICAgICAgICAgICAgICBbNDMuNjcyNzA5NywgLTc5LjQwNTY3ODQwMDAwMDAxXSwKICAgICAgICAgICAgICAgIHsiYnViYmxpbmdNb3VzZUV2ZW50cyI6IHRydWUsICJjb2xvciI6ICJyZWQiLCAiZGFzaEFycmF5IjogbnVsbCwgImRhc2hPZmZzZXQiOiBudWxsLCAiZmlsbCI6IHRydWUsICJmaWxsQ29sb3IiOiAicmVkIiwgImZpbGxPcGFjaXR5IjogMC42LCAiZmlsbFJ1bGUiOiAiZXZlbm9kZCIsICJsaW5lQ2FwIjogInJvdW5kIiwgImxpbmVKb2luIjogInJvdW5kIiwgIm9wYWNpdHkiOiAxLjAsICJyYWRpdXMiOiAxMCwgInN0cm9rZSI6IHRydWUsICJ3ZWlnaHQiOiAzfQogICAgICAgICAgICApLmFkZFRvKGZlYXR1cmVfZ3JvdXBfYmM0YmRmMTI2YWFkNGI0YjhmZGM5ZjMyZGVhODM4MTgpOwogICAgICAgIAogICAgCiAgICAgICAgICAgIHZhciBjaXJjbGVfbWFya2VyXzY1NzFiMDY2YmNhMzQyM2I5ZTJlNWIzOTA0ODYzYzlhID0gTC5jaXJjbGVNYXJrZXIoCiAgICAgICAgICAgICAgICBbNDMuNjc2MzU3Mzk5OTk5OTksIC03OS4yOTMwMzEyXSwKICAgICAgICAgICAgICAgIHsiYnViYmxpbmdNb3VzZUV2ZW50cyI6IHRydWUsICJjb2xvciI6ICJyZWQiLCAiZGFzaEFycmF5IjogbnVsbCwgImRhc2hPZmZzZXQiOiBudWxsLCAiZmlsbCI6IHRydWUsICJmaWxsQ29sb3IiOiAicmVkIiwgImZpbGxPcGFjaXR5IjogMC42LCAiZmlsbFJ1bGUiOiAiZXZlbm9kZCIsICJsaW5lQ2FwIjogInJvdW5kIiwgImxpbmVKb2luIjogInJvdW5kIiwgIm9wYWNpdHkiOiAxLjAsICJyYWRpdXMiOiAxMCwgInN0cm9rZSI6IHRydWUsICJ3ZWlnaHQiOiAzfQogICAgICAgICAgICApLmFkZFRvKGZlYXR1cmVfZ3JvdXBfYmM0YmRmMTI2YWFkNGI0YjhmZGM5ZjMyZGVhODM4MTgpOwogICAgICAgIAogICAgCiAgICAgICAgICAgIHZhciBjaXJjbGVfbWFya2VyXzVkYjFkZWU5ZWQ5YjQxMTk5YTJjZWRmZWFlZTNiOGFkID0gTC5jaXJjbGVNYXJrZXIoCiAgICAgICAgICAgICAgICBbNDMuNjc5NTU3MSwgLTc5LjM1MjE4OF0sCiAgICAgICAgICAgICAgICB7ImJ1YmJsaW5nTW91c2VFdmVudHMiOiB0cnVlLCAiY29sb3IiOiAicmVkIiwgImRhc2hBcnJheSI6IG51bGwsICJkYXNoT2Zmc2V0IjogbnVsbCwgImZpbGwiOiB0cnVlLCAiZmlsbENvbG9yIjogInJlZCIsICJmaWxsT3BhY2l0eSI6IDAuNiwgImZpbGxSdWxlIjogImV2ZW5vZGQiLCAibGluZUNhcCI6ICJyb3VuZCIsICJsaW5lSm9pbiI6ICJyb3VuZCIsICJvcGFjaXR5IjogMS4wLCAicmFkaXVzIjogMTAsICJzdHJva2UiOiB0cnVlLCAid2VpZ2h0IjogM30KICAgICAgICAgICAgKS5hZGRUbyhmZWF0dXJlX2dyb3VwX2JjNGJkZjEyNmFhZDRiNGI4ZmRjOWYzMmRlYTgzODE4KTsKICAgICAgICAKICAgIAogICAgICAgICAgICB2YXIgY2lyY2xlX21hcmtlcl9mZGFiZjJiNmM0MzM0ODgzYTczMjVmOGVhYWNlZmQ4MSA9IEwuY2lyY2xlTWFya2VyKAogICAgICAgICAgICAgICAgWzQzLjcwNTM2ODksIC03OS4zNDkzNzE5MDAwMDAwMV0sCiAgICAgICAgICAgICAgICB7ImJ1YmJsaW5nTW91c2VFdmVudHMiOiB0cnVlLCAiY29sb3IiOiAicmVkIiwgImRhc2hBcnJheSI6IG51bGwsICJkYXNoT2Zmc2V0IjogbnVsbCwgImZpbGwiOiB0cnVlLCAiZmlsbENvbG9yIjogInJlZCIsICJmaWxsT3BhY2l0eSI6IDAuNiwgImZpbGxSdWxlIjogImV2ZW5vZGQiLCAibGluZUNhcCI6ICJyb3VuZCIsICJsaW5lSm9pbiI6ICJyb3VuZCIsICJvcGFjaXR5IjogMS4wLCAicmFkaXVzIjogMTAsICJzdHJva2UiOiB0cnVlLCAid2VpZ2h0IjogM30KICAgICAgICAgICAgKS5hZGRUbyhmZWF0dXJlX2dyb3VwX2JjNGJkZjEyNmFhZDRiNGI4ZmRjOWYzMmRlYTgzODE4KTsKICAgICAgICAKICAgIAogICAgICAgICAgICB2YXIgY2lyY2xlX21hcmtlcl81MmU5YjBiNzRhMjY0MDdhODkzZmE2MTM3NmMwNTcxYSA9IEwuY2lyY2xlTWFya2VyKAogICAgICAgICAgICAgICAgWzQzLjc4OTA1MywgLTc5LjQwODQ5Mjc5OTk5OTk5XSwKICAgICAgICAgICAgICAgIHsiYnViYmxpbmdNb3VzZUV2ZW50cyI6IHRydWUsICJjb2xvciI6ICJyZWQiLCAiZGFzaEFycmF5IjogbnVsbCwgImRhc2hPZmZzZXQiOiBudWxsLCAiZmlsbCI6IHRydWUsICJmaWxsQ29sb3IiOiAicmVkIiwgImZpbGxPcGFjaXR5IjogMC42LCAiZmlsbFJ1bGUiOiAiZXZlbm9kZCIsICJsaW5lQ2FwIjogInJvdW5kIiwgImxpbmVKb2luIjogInJvdW5kIiwgIm9wYWNpdHkiOiAxLjAsICJyYWRpdXMiOiAxMCwgInN0cm9rZSI6IHRydWUsICJ3ZWlnaHQiOiAzfQogICAgICAgICAgICApLmFkZFRvKGZlYXR1cmVfZ3JvdXBfYmM0YmRmMTI2YWFkNGI0YjhmZGM5ZjMyZGVhODM4MTgpOwogICAgICAgIAogICAgCiAgICAgICAgICAgIHZhciBtYXJrZXJfODUxMTI1MWJjMDc3NGRlM2E4NDY0NTJjMTkyZjZjNTggPSBMLm1hcmtlcigKICAgICAgICAgICAgICAgIFs0My43MzMyODI1LCAtNzkuNDE5NzQ5N10sCiAgICAgICAgICAgICAgICB7fQogICAgICAgICAgICApLmFkZFRvKG1hcF81MDQyYjI1ODgxY2Y0ZGZmOTU3MWRkMDhiMWMzZDZlNik7CiAgICAgICAgCiAgICAKICAgICAgICAgICAgdmFyIGljb25fYWFlY2UwMDgxMWExNDEwNWI2ZWI0MTdmYjM4MTFkYzMgPSBMLkF3ZXNvbWVNYXJrZXJzLmljb24oCiAgICAgICAgICAgICAgICB7ImV4dHJhQ2xhc3NlcyI6ICJmYS1yb3RhdGUtMCIsICJpY29uIjogImN1dGxlcnkiLCAiaWNvbkNvbG9yIjogIndoaXRlIiwgIm1hcmtlckNvbG9yIjogInJlZCIsICJwcmVmaXgiOiAiZ2x5cGhpY29uIn0KICAgICAgICAgICAgKTsKICAgICAgICAgICAgbWFya2VyXzg1MTEyNTFiYzA3NzRkZTNhODQ2NDUyYzE5MmY2YzU4LnNldEljb24oaWNvbl9hYWVjZTAwODExYTE0MTA1YjZlYjQxN2ZiMzgxMWRjMyk7CiAgICAgICAgCiAgICAKICAgICAgICB2YXIgcG9wdXBfMjk2YTJjMzQ0NjU1NDhhZWI2ODhhZTgwMzExODc3MGEgPSBMLnBvcHVwKHsibWF4V2lkdGgiOiAiMTAwJSJ9KTsKCiAgICAgICAgCiAgICAgICAgICAgIHZhciBodG1sX2MzMDYxMTg4ZDY4NzQ4ZTI5ZDZlNzBkYTA3YzdjNWVkID0gJChgPGRpdiBpZD0iaHRtbF9jMzA2MTE4OGQ2ODc0OGUyOWQ2ZTcwZGEwN2M3YzVlZCIgc3R5bGU9IndpZHRoOiAxMDAuMCU7IGhlaWdodDogMTAwLjAlOyI+QmVkZm9yZCBQYXJrLCBOb3J0aCBZb3JrKDcuMyk8L2Rpdj5gKVswXTsKICAgICAgICAgICAgcG9wdXBfMjk2YTJjMzQ0NjU1NDhhZWI2ODhhZTgwMzExODc3MGEuc2V0Q29udGVudChodG1sX2MzMDYxMTg4ZDY4NzQ4ZTI5ZDZlNzBkYTA3YzdjNWVkKTsKICAgICAgICAKCiAgICAgICAgbWFya2VyXzg1MTEyNTFiYzA3NzRkZTNhODQ2NDUyYzE5MmY2YzU4LmJpbmRQb3B1cChwb3B1cF8yOTZhMmMzNDQ2NTU0OGFlYjY4OGFlODAzMTE4NzcwYSkKICAgICAgICA7CgogICAgICAgIAogICAgCiAgICAKICAgICAgICAgICAgdmFyIG1hcmtlcl9iMWM0Y2EyYjQwNDA0ZDJkYWRkNzg5MGU0M2MyYzc4MCA9IEwubWFya2VyKAogICAgICAgICAgICAgICAgWzQzLjYzNjg0NzIsIC03OS40MjgxOTE0MDAwMDAwMl0sCiAgICAgICAgICAgICAgICB7fQogICAgICAgICAgICApLmFkZFRvKG1hcF81MDQyYjI1ODgxY2Y0ZGZmOTU3MWRkMDhiMWMzZDZlNik7CiAgICAgICAgCiAgICAKICAgICAgICAgICAgdmFyIGljb25fMzZkMmMwYTIzY2I2NDQ0OTk5ZmE5OTEwZDgxYmFlOGUgPSBMLkF3ZXNvbWVNYXJrZXJzLmljb24oCiAgICAgICAgICAgICAgICB7ImV4dHJhQ2xhc3NlcyI6ICJmYS1yb3RhdGUtMCIsICJpY29uIjogImN1dGxlcnkiLCAiaWNvbkNvbG9yIjogIndoaXRlIiwgIm1hcmtlckNvbG9yIjogInJlZCIsICJwcmVmaXgiOiAiZ2x5cGhpY29uIn0KICAgICAgICAgICAgKTsKICAgICAgICAgICAgbWFya2VyX2IxYzRjYTJiNDA0MDRkMmRhZGQ3ODkwZTQzYzJjNzgwLnNldEljb24oaWNvbl8zNmQyYzBhMjNjYjY0NDQ5OTlmYTk5MTBkODFiYWU4ZSk7CiAgICAgICAgCiAgICAKICAgICAgICB2YXIgcG9wdXBfMTMwZGY4MWJlNGM3NGQ4M2EwODk1MGUyOGJjMWI4MWIgPSBMLnBvcHVwKHsibWF4V2lkdGgiOiAiMTAwJSJ9KTsKCiAgICAgICAgCiAgICAgICAgICAgIHZhciBodG1sX2E0YTA3NjBiNWZlYTRmNjM4YjE3NzgwOGUzNmU4M2NjID0gJChgPGRpdiBpZD0iaHRtbF9hNGEwNzYwYjVmZWE0ZjYzOGIxNzc4MDhlMzZlODNjYyIgc3R5bGU9IndpZHRoOiAxMDAuMCU7IGhlaWdodDogMTAwLjAlOyI+QnJvY2t0b24sIFdlc3QgVG9yb250byg4LjIpPC9kaXY+YClbMF07CiAgICAgICAgICAgIHBvcHVwXzEzMGRmODFiZTRjNzRkODNhMDg5NTBlMjhiYzFiODFiLnNldENvbnRlbnQoaHRtbF9hNGEwNzYwYjVmZWE0ZjYzOGIxNzc4MDhlMzZlODNjYyk7CiAgICAgICAgCgogICAgICAgIG1hcmtlcl9iMWM0Y2EyYjQwNDA0ZDJkYWRkNzg5MGU0M2MyYzc4MC5iaW5kUG9wdXAocG9wdXBfMTMwZGY4MWJlNGM3NGQ4M2EwODk1MGUyOGJjMWI4MWIpCiAgICAgICAgOwoKICAgICAgICAKICAgIAogICAgCiAgICAgICAgICAgIHZhciBtYXJrZXJfZjMxZTkzODBlNjlmNDNiNGI0OWUwY2Q0MzUzZTk0ODcgPSBMLm1hcmtlcigKICAgICAgICAgICAgICAgIFs0My42MzY5NjU2LCAtNzkuNjE1ODE4OTk5OTk5OTldLAogICAgICAgICAgICAgICAge30KICAgICAgICAgICAgKS5hZGRUbyhtYXBfNTA0MmIyNTg4MWNmNGRmZjk1NzFkZDA4YjFjM2Q2ZTYpOwogICAgICAgIAogICAgCiAgICAgICAgICAgIHZhciBpY29uXzFjNTgwMTZhMjc3YzRkMWI4NjI3ZjlmZWQ1YjIzOGYyID0gTC5Bd2Vzb21lTWFya2Vycy5pY29uKAogICAgICAgICAgICAgICAgeyJleHRyYUNsYXNzZXMiOiAiZmEtcm90YXRlLTAiLCAiaWNvbiI6ICJjdXRsZXJ5IiwgImljb25Db2xvciI6ICJ3aGl0ZSIsICJtYXJrZXJDb2xvciI6ICJyZWQiLCAicHJlZml4IjogImdseXBoaWNvbiJ9CiAgICAgICAgICAgICk7CiAgICAgICAgICAgIG1hcmtlcl9mMzFlOTM4MGU2OWY0M2I0YjQ5ZTBjZDQzNTNlOTQ4Ny5zZXRJY29uKGljb25fMWM1ODAxNmEyNzdjNGQxYjg2MjdmOWZlZDViMjM4ZjIpOwogICAgICAgIAogICAgCiAgICAgICAgdmFyIHBvcHVwXzNmNTMzZmM3OGYxZTRhMWFhMjhiZTNiODA1NDJjNWIxID0gTC5wb3B1cCh7Im1heFdpZHRoIjogIjEwMCUifSk7CgogICAgICAgIAogICAgICAgICAgICB2YXIgaHRtbF8xNzRlMjA1Yjk3MDA0ZWQ1YmRlMjI3NDZlNGVkMTQyZCA9ICQoYDxkaXYgaWQ9Imh0bWxfMTc0ZTIwNWI5NzAwNGVkNWJkZTIyNzQ2ZTRlZDE0MmQiIHN0eWxlPSJ3aWR0aDogMTAwLjAlOyBoZWlnaHQ6IDEwMC4wJTsiPkNhbmFkYSBQb3N0IEdhdGV3YXkgUHJvY2Vzc2luZyBDZW50cmUsIE1pc3Npc3NhdWdhKDYuMzUpPC9kaXY+YClbMF07CiAgICAgICAgICAgIHBvcHVwXzNmNTMzZmM3OGYxZTRhMWFhMjhiZTNiODA1NDJjNWIxLnNldENvbnRlbnQoaHRtbF8xNzRlMjA1Yjk3MDA0ZWQ1YmRlMjI3NDZlNGVkMTQyZCk7CiAgICAgICAgCgogICAgICAgIG1hcmtlcl9mMzFlOTM4MGU2OWY0M2I0YjQ5ZTBjZDQzNTNlOTQ4Ny5iaW5kUG9wdXAocG9wdXBfM2Y1MzNmYzc4ZjFlNGExYWEyOGJlM2I4MDU0MmM1YjEpCiAgICAgICAgOwoKICAgICAgICAKICAgIAogICAgCiAgICAgICAgICAgIHZhciBtYXJrZXJfMTljYzQzMjFiMmJiNDA0ZWI1YjVkYjJmYjU4MjRiNzMgPSBMLm1hcmtlcigKICAgICAgICAgICAgICAgIFs0My43NzMxMzYsIC03OS4yMzk0NzYwOTk5OTk5OV0sCiAgICAgICAgICAgICAgICB7fQogICAgICAgICAgICApLmFkZFRvKG1hcF81MDQyYjI1ODgxY2Y0ZGZmOTU3MWRkMDhiMWMzZDZlNik7CiAgICAgICAgCiAgICAKICAgICAgICAgICAgdmFyIGljb25fMzY5YzEyNGVkYjE1NDdlYzk1MWM2OGU3OTA4OTRmMjQgPSBMLkF3ZXNvbWVNYXJrZXJzLmljb24oCiAgICAgICAgICAgICAgICB7ImV4dHJhQ2xhc3NlcyI6ICJmYS1yb3RhdGUtMCIsICJpY29uIjogImN1dGxlcnkiLCAiaWNvbkNvbG9yIjogIndoaXRlIiwgIm1hcmtlckNvbG9yIjogInJlZCIsICJwcmVmaXgiOiAiZ2x5cGhpY29uIn0KICAgICAgICAgICAgKTsKICAgICAgICAgICAgbWFya2VyXzE5Y2M0MzIxYjJiYjQwNGViNWI1ZGIyZmI1ODI0YjczLnNldEljb24oaWNvbl8zNjljMTI0ZWRiMTU0N2VjOTUxYzY4ZTc5MDg5NGYyNCk7CiAgICAgICAgCiAgICAKICAgICAgICB2YXIgcG9wdXBfMDY0ZDgzMzAwMzI4NGNmOWI5NzAxMzU3Y2M4MmEwODggPSBMLnBvcHVwKHsibWF4V2lkdGgiOiAiMTAwJSJ9KTsKCiAgICAgICAgCiAgICAgICAgICAgIHZhciBodG1sXzJjYjBmNDE3YjkxOTQ0MGJiNTgzOWNiYmFlMDcwZWI5ID0gJChgPGRpdiBpZD0iaHRtbF8yY2IwZjQxN2I5MTk0NDBiYjU4MzljYmJhZTA3MGViOSIgc3R5bGU9IndpZHRoOiAxMDAuMCU7IGhlaWdodDogMTAwLjAlOyI+Q2VkYXJicmFlLCBTY2FyYm9yb3VnaCg3LjMwMDAwMDAwMDAwMDAwMSk8L2Rpdj5gKVswXTsKICAgICAgICAgICAgcG9wdXBfMDY0ZDgzMzAwMzI4NGNmOWI5NzAxMzU3Y2M4MmEwODguc2V0Q29udGVudChodG1sXzJjYjBmNDE3YjkxOTQ0MGJiNTgzOWNiYmFlMDcwZWI5KTsKICAgICAgICAKCiAgICAgICAgbWFya2VyXzE5Y2M0MzIxYjJiYjQwNGViNWI1ZGIyZmI1ODI0YjczLmJpbmRQb3B1cChwb3B1cF8wNjRkODMzMDAzMjg0Y2Y5Yjk3MDEzNTdjYzgyYTA4OCkKICAgICAgICA7CgogICAgICAgIAogICAgCiAgICAKICAgICAgICAgICAgdmFyIG1hcmtlcl9hYzhjZThhMzUwYzg0MDczOTNjMGQ2NTBjMDQ3YmIxMyA9IEwubWFya2VyKAogICAgICAgICAgICAgICAgWzQzLjY2OTU0MiwgLTc5LjQyMjU2MzddLAogICAgICAgICAgICAgICAge30KICAgICAgICAgICAgKS5hZGRUbyhtYXBfNTA0MmIyNTg4MWNmNGRmZjk1NzFkZDA4YjFjM2Q2ZTYpOwogICAgICAgIAogICAgCiAgICAgICAgICAgIHZhciBpY29uX2U3N2M3YmU4ZTNjYzRiYWY4ZmRhMDdjNjZmMGNkZGYwID0gTC5Bd2Vzb21lTWFya2Vycy5pY29uKAogICAgICAgICAgICAgICAgeyJleHRyYUNsYXNzZXMiOiAiZmEtcm90YXRlLTAiLCAiaWNvbiI6ICJjdXRsZXJ5IiwgImljb25Db2xvciI6ICJ3aGl0ZSIsICJtYXJrZXJDb2xvciI6ICJyZWQiLCAicHJlZml4IjogImdseXBoaWNvbiJ9CiAgICAgICAgICAgICk7CiAgICAgICAgICAgIG1hcmtlcl9hYzhjZThhMzUwYzg0MDczOTNjMGQ2NTBjMDQ3YmIxMy5zZXRJY29uKGljb25fZTc3YzdiZThlM2NjNGJhZjhmZGEwN2M2NmYwY2RkZjApOwogICAgICAgIAogICAgCiAgICAgICAgdmFyIHBvcHVwX2Q3OTZiNDI2YzM2ZDQ5M2E5OGRiZmEzN2Y0M2RlNGQ4ID0gTC5wb3B1cCh7Im1heFdpZHRoIjogIjEwMCUifSk7CgogICAgICAgIAogICAgICAgICAgICB2YXIgaHRtbF9mODg2ODEzYWIyNzE0ZDhiYjMyYWQ2ZmQwODcwNjM0NSA9ICQoYDxkaXYgaWQ9Imh0bWxfZjg4NjgxM2FiMjcxNGQ4YmIzMmFkNmZkMDg3MDYzNDUiIHN0eWxlPSJ3aWR0aDogMTAwLjAlOyBoZWlnaHQ6IDEwMC4wJTsiPkNocmlzdGllLCBEb3dudG93biBUb3JvbnRvKDguMik8L2Rpdj5gKVswXTsKICAgICAgICAgICAgcG9wdXBfZDc5NmI0MjZjMzZkNDkzYTk4ZGJmYTM3ZjQzZGU0ZDguc2V0Q29udGVudChodG1sX2Y4ODY4MTNhYjI3MTRkOGJiMzJhZDZmZDA4NzA2MzQ1KTsKICAgICAgICAKCiAgICAgICAgbWFya2VyX2FjOGNlOGEzNTBjODQwNzM5M2MwZDY1MGMwNDdiYjEzLmJpbmRQb3B1cChwb3B1cF9kNzk2YjQyNmMzNmQ0OTNhOThkYmZhMzdmNDNkZTRkOCkKICAgICAgICA7CgogICAgICAgIAogICAgCiAgICAKICAgICAgICAgICAgdmFyIG1hcmtlcl9kNTM1YzBiY2U1NGI0MzExYmIyODU5ODc1MGRiZGMyMyA9IEwubWFya2VyKAogICAgICAgICAgICAgICAgWzQzLjY2NTg1OTksIC03OS4zODMxNTk5MDAwMDAwMV0sCiAgICAgICAgICAgICAgICB7fQogICAgICAgICAgICApLmFkZFRvKG1hcF81MDQyYjI1ODgxY2Y0ZGZmOTU3MWRkMDhiMWMzZDZlNik7CiAgICAgICAgCiAgICAKICAgICAgICAgICAgdmFyIGljb25fNzk5MzdhOTZmZGE1NGFmM2JjZmRmODk2N2UyMGIyOWYgPSBMLkF3ZXNvbWVNYXJrZXJzLmljb24oCiAgICAgICAgICAgICAgICB7ImV4dHJhQ2xhc3NlcyI6ICJmYS1yb3RhdGUtMCIsICJpY29uIjogImN1dGxlcnkiLCAiaWNvbkNvbG9yIjogIndoaXRlIiwgIm1hcmtlckNvbG9yIjogInJlZCIsICJwcmVmaXgiOiAiZ2x5cGhpY29uIn0KICAgICAgICAgICAgKTsKICAgICAgICAgICAgbWFya2VyX2Q1MzVjMGJjZTU0YjQzMTFiYjI4NTk4NzUwZGJkYzIzLnNldEljb24oaWNvbl83OTkzN2E5NmZkYTU0YWYzYmNmZGY4OTY3ZTIwYjI5Zik7CiAgICAgICAgCiAgICAKICAgICAgICB2YXIgcG9wdXBfNDBlYzJlNzQwYzM3NDA2M2E1NDhlNmE0NmUxNmI4MjYgPSBMLnBvcHVwKHsibWF4V2lkdGgiOiAiMTAwJSJ9KTsKCiAgICAgICAgCiAgICAgICAgICAgIHZhciBodG1sXzYyOTk3ODViYTE1ZDRjMzRhOGM2OGQ1NzA5MDg3M2E2ID0gJChgPGRpdiBpZD0iaHRtbF82Mjk5Nzg1YmExNWQ0YzM0YThjNjhkNTcwOTA4NzNhNiIgc3R5bGU9IndpZHRoOiAxMDAuMCU7IGhlaWdodDogMTAwLjAlOyI+Q2h1cmNoIGFuZCBXZWxsZXNsZXksIERvd250b3duIFRvcm9udG8oOC4wNSk8L2Rpdj5gKVswXTsKICAgICAgICAgICAgcG9wdXBfNDBlYzJlNzQwYzM3NDA2M2E1NDhlNmE0NmUxNmI4MjYuc2V0Q29udGVudChodG1sXzYyOTk3ODViYTE1ZDRjMzRhOGM2OGQ1NzA5MDg3M2E2KTsKICAgICAgICAKCiAgICAgICAgbWFya2VyX2Q1MzVjMGJjZTU0YjQzMTFiYjI4NTk4NzUwZGJkYzIzLmJpbmRQb3B1cChwb3B1cF80MGVjMmU3NDBjMzc0MDYzYTU0OGU2YTQ2ZTE2YjgyNikKICAgICAgICA7CgogICAgICAgIAogICAgCiAgICAKICAgICAgICAgICAgdmFyIG1hcmtlcl80YzkyYjRjYmNmZjc0N2Q0YmNlNTM5OTJlZWI0ZGVmMCA9IEwubWFya2VyKAogICAgICAgICAgICAgICAgWzQzLjcwNDMyNDQsIC03OS4zODg3OTAxXSwKICAgICAgICAgICAgICAgIHt9CiAgICAgICAgICAgICkuYWRkVG8obWFwXzUwNDJiMjU4ODFjZjRkZmY5NTcxZGQwOGIxYzNkNmU2KTsKICAgICAgICAKICAgIAogICAgICAgICAgICB2YXIgaWNvbl81OGExZDY4YzZjZGM0M2ZmYjVhNmY5NDg0YzAwODBkNSA9IEwuQXdlc29tZU1hcmtlcnMuaWNvbigKICAgICAgICAgICAgICAgIHsiZXh0cmFDbGFzc2VzIjogImZhLXJvdGF0ZS0wIiwgImljb24iOiAiY3V0bGVyeSIsICJpY29uQ29sb3IiOiAid2hpdGUiLCAibWFya2VyQ29sb3IiOiAicmVkIiwgInByZWZpeCI6ICJnbHlwaGljb24ifQogICAgICAgICAgICApOwogICAgICAgICAgICBtYXJrZXJfNGM5MmI0Y2JjZmY3NDdkNGJjZTUzOTkyZWViNGRlZjAuc2V0SWNvbihpY29uXzU4YTFkNjhjNmNkYzQzZmZiNWE2Zjk0ODRjMDA4MGQ1KTsKICAgICAgICAKICAgIAogICAgICAgIHZhciBwb3B1cF80NWQ0YzQ2ODI5ZTY0OTA5OTIwY2E3NGIzMjZiYTk1YyA9IEwucG9wdXAoeyJtYXhXaWR0aCI6ICIxMDAlIn0pOwoKICAgICAgICAKICAgICAgICAgICAgdmFyIGh0bWxfZmMzYmU2YTRjZjA3NGE4ZDhiOGUxM2U5MzZiNWJlYTQgPSAkKGA8ZGl2IGlkPSJodG1sX2ZjM2JlNmE0Y2YwNzRhOGQ4YjhlMTNlOTM2YjViZWE0IiBzdHlsZT0id2lkdGg6IDEwMC4wJTsgaGVpZ2h0OiAxMDAuMCU7Ij5EYXZpc3ZpbGxlLCBDZW50cmFsIFRvcm9udG8oNy41KTwvZGl2PmApWzBdOwogICAgICAgICAgICBwb3B1cF80NWQ0YzQ2ODI5ZTY0OTA5OTIwY2E3NGIzMjZiYTk1Yy5zZXRDb250ZW50KGh0bWxfZmMzYmU2YTRjZjA3NGE4ZDhiOGUxM2U5MzZiNWJlYTQpOwogICAgICAgIAoKICAgICAgICBtYXJrZXJfNGM5MmI0Y2JjZmY3NDdkNGJjZTUzOTkyZWViNGRlZjAuYmluZFBvcHVwKHBvcHVwXzQ1ZDRjNDY4MjllNjQ5MDk5MjBjYTc0YjMyNmJhOTVjKQogICAgICAgIDsKCiAgICAgICAgCiAgICAKICAgIAogICAgICAgICAgICB2YXIgbWFya2VyXzg0ZDFhZTIxM2Q5ZjRiNWQ4ZGRjNDY5ZTM5YmVmMzc5ID0gTC5tYXJrZXIoCiAgICAgICAgICAgICAgICBbNDMuNzU3NDA5NiwgLTc5LjI3MzMwNDAwMDAwMDAxXSwKICAgICAgICAgICAgICAgIHt9CiAgICAgICAgICAgICkuYWRkVG8obWFwXzUwNDJiMjU4ODFjZjRkZmY5NTcxZGQwOGIxYzNkNmU2KTsKICAgICAgICAKICAgIAogICAgICAgICAgICB2YXIgaWNvbl82ZDg3NzBmOWM2NDE0YTlmYWY1YTcxNjhjOWRmNzE3MiA9IEwuQXdlc29tZU1hcmtlcnMuaWNvbigKICAgICAgICAgICAgICAgIHsiZXh0cmFDbGFzc2VzIjogImZhLXJvdGF0ZS0wIiwgImljb24iOiAiY3V0bGVyeSIsICJpY29uQ29sb3IiOiAid2hpdGUiLCAibWFya2VyQ29sb3IiOiAicmVkIiwgInByZWZpeCI6ICJnbHlwaGljb24ifQogICAgICAgICAgICApOwogICAgICAgICAgICBtYXJrZXJfODRkMWFlMjEzZDlmNGI1ZDhkZGM0NjllMzliZWYzNzkuc2V0SWNvbihpY29uXzZkODc3MGY5YzY0MTRhOWZhZjVhNzE2OGM5ZGY3MTcyKTsKICAgICAgICAKICAgIAogICAgICAgIHZhciBwb3B1cF9iNmQ5ZmMzOTgzNTM0YmRmOWQ4ZWM3Mzk5YWE0NTAwZiA9IEwucG9wdXAoeyJtYXhXaWR0aCI6ICIxMDAlIn0pOwoKICAgICAgICAKICAgICAgICAgICAgdmFyIGh0bWxfZGZkMjVkOWFjZDVhNGMxOWFlMjkyM2RhMjg5NGIzOGYgPSAkKGA8ZGl2IGlkPSJodG1sX2RmZDI1ZDlhY2Q1YTRjMTlhZTI5MjNkYTI4OTRiMzhmIiBzdHlsZT0id2lkdGg6IDEwMC4wJTsgaGVpZ2h0OiAxMDAuMCU7Ij5Eb3JzZXQgUGFyaywgU2NhcmJvcm91Z2goNi4zNSk8L2Rpdj5gKVswXTsKICAgICAgICAgICAgcG9wdXBfYjZkOWZjMzk4MzUzNGJkZjlkOGVjNzM5OWFhNDUwMGYuc2V0Q29udGVudChodG1sX2RmZDI1ZDlhY2Q1YTRjMTlhZTI5MjNkYTI4OTRiMzhmKTsKICAgICAgICAKCiAgICAgICAgbWFya2VyXzg0ZDFhZTIxM2Q5ZjRiNWQ4ZGRjNDY5ZTM5YmVmMzc5LmJpbmRQb3B1cChwb3B1cF9iNmQ5ZmMzOTgzNTM0YmRmOWQ4ZWM3Mzk5YWE0NTAwZikKICAgICAgICA7CgogICAgICAgIAogICAgCiAgICAKICAgICAgICAgICAgdmFyIG1hcmtlcl85ZWI2MTJlOTIxMzk0YjdjYjM1NWM0ODliYzEwYjg4NiA9IEwubWFya2VyKAogICAgICAgICAgICAgICAgWzQzLjY0MDgxNTcsIC03OS4zODE3NTIyOTk5OTk5OV0sCiAgICAgICAgICAgICAgICB7fQogICAgICAgICAgICApLmFkZFRvKG1hcF81MDQyYjI1ODgxY2Y0ZGZmOTU3MWRkMDhiMWMzZDZlNik7CiAgICAgICAgCiAgICAKICAgICAgICAgICAgdmFyIGljb25fYTMwMTY4ZWM3ODllNDk4NjgwMmMwNDU3Y2Q5ZjAxYTQgPSBMLkF3ZXNvbWVNYXJrZXJzLmljb24oCiAgICAgICAgICAgICAgICB7ImV4dHJhQ2xhc3NlcyI6ICJmYS1yb3RhdGUtMCIsICJpY29uIjogImN1dGxlcnkiLCAiaWNvbkNvbG9yIjogIndoaXRlIiwgIm1hcmtlckNvbG9yIjogInJlZCIsICJwcmVmaXgiOiAiZ2x5cGhpY29uIn0KICAgICAgICAgICAgKTsKICAgICAgICAgICAgbWFya2VyXzllYjYxMmU5MjEzOTRiN2NiMzU1YzQ4OWJjMTBiODg2LnNldEljb24oaWNvbl9hMzAxNjhlYzc4OWU0OTg2ODAyYzA0NTdjZDlmMDFhNCk7CiAgICAgICAgCiAgICAKICAgICAgICB2YXIgcG9wdXBfODhmNDQwMWQzMzUyNDc5MTg1NzQwMGYyMDQ4YjhiODggPSBMLnBvcHVwKHsibWF4V2lkdGgiOiAiMTAwJSJ9KTsKCiAgICAgICAgCiAgICAgICAgICAgIHZhciBodG1sX2QzNzNjZDBmNjVhOTQyYWU5NDNlODVkMDI0ZDg2MDczID0gJChgPGRpdiBpZD0iaHRtbF9kMzczY2QwZjY1YTk0MmFlOTQzZTg1ZDAyNGQ4NjA3MyIgc3R5bGU9IndpZHRoOiAxMDAuMCU7IGhlaWdodDogMTAwLjAlOyI+SGFyYm91cmZyb250IEVhc3QsIERvd250b3duIFRvcm9udG8oNy4xKTwvZGl2PmApWzBdOwogICAgICAgICAgICBwb3B1cF84OGY0NDAxZDMzNTI0NzkxODU3NDAwZjIwNDhiOGI4OC5zZXRDb250ZW50KGh0bWxfZDM3M2NkMGY2NWE5NDJhZTk0M2U4NWQwMjRkODYwNzMpOwogICAgICAgIAoKICAgICAgICBtYXJrZXJfOWViNjEyZTkyMTM5NGI3Y2IzNTVjNDg5YmMxMGI4ODYuYmluZFBvcHVwKHBvcHVwXzg4ZjQ0MDFkMzM1MjQ3OTE4NTc0MDBmMjA0OGI4Yjg4KQogICAgICAgIDsKCiAgICAgICAgCiAgICAKICAgIAogICAgICAgICAgICB2YXIgbWFya2VyXzBiYzRmYWVhYjMwODQyOWI4YWI1ZWYzOGZjYjBjMTMxID0gTC5tYXJrZXIoCiAgICAgICAgICAgICAgICBbNDMuNjYxNjA4MywgLTc5LjQ2NDc2MzI5OTk5OTk5XSwKICAgICAgICAgICAgICAgIHt9CiAgICAgICAgICAgICkuYWRkVG8obWFwXzUwNDJiMjU4ODFjZjRkZmY5NTcxZGQwOGIxYzNkNmU2KTsKICAgICAgICAKICAgIAogICAgICAgICAgICB2YXIgaWNvbl9mY2Y0YjZmYmMxYzI0ZTBhOGQ1MGJmYTJjMzUyNmUwMCA9IEwuQXdlc29tZU1hcmtlcnMuaWNvbigKICAgICAgICAgICAgICAgIHsiZXh0cmFDbGFzc2VzIjogImZhLXJvdGF0ZS0wIiwgImljb24iOiAiY3V0bGVyeSIsICJpY29uQ29sb3IiOiAid2hpdGUiLCAibWFya2VyQ29sb3IiOiAicmVkIiwgInByZWZpeCI6ICJnbHlwaGljb24ifQogICAgICAgICAgICApOwogICAgICAgICAgICBtYXJrZXJfMGJjNGZhZWFiMzA4NDI5YjhhYjVlZjM4ZmNiMGMxMzEuc2V0SWNvbihpY29uX2ZjZjRiNmZiYzFjMjRlMGE4ZDUwYmZhMmMzNTI2ZTAwKTsKICAgICAgICAKICAgIAogICAgICAgIHZhciBwb3B1cF80MjEwZTEyYzIzMDE0Zjg1YjI4YmVhMGYxMTUzODdhZCA9IEwucG9wdXAoeyJtYXhXaWR0aCI6ICIxMDAlIn0pOwoKICAgICAgICAKICAgICAgICAgICAgdmFyIGh0bWxfZjkxYmUyYWUwMmYyNGU4YTk1ZTFjN2JhZjFmYWI5NmYgPSAkKGA8ZGl2IGlkPSJodG1sX2Y5MWJlMmFlMDJmMjRlOGE5NWUxYzdiYWYxZmFiOTZmIiBzdHlsZT0id2lkdGg6IDEwMC4wJTsgaGVpZ2h0OiAxMDAuMCU7Ij5IaWdoIFBhcmssIFdlc3QgVG9yb250byg4LjMpPC9kaXY+YClbMF07CiAgICAgICAgICAgIHBvcHVwXzQyMTBlMTJjMjMwMTRmODViMjhiZWEwZjExNTM4N2FkLnNldENvbnRlbnQoaHRtbF9mOTFiZTJhZTAyZjI0ZThhOTVlMWM3YmFmMWZhYjk2Zik7CiAgICAgICAgCgogICAgICAgIG1hcmtlcl8wYmM0ZmFlYWIzMDg0MjliOGFiNWVmMzhmY2IwYzEzMS5iaW5kUG9wdXAocG9wdXBfNDIxMGUxMmMyMzAxNGY4NWIyOGJlYTBmMTE1Mzg3YWQpCiAgICAgICAgOwoKICAgICAgICAKICAgIAogICAgCiAgICAgICAgICAgIHZhciBtYXJrZXJfYzA5ZjU5NTAwZDI4NDU5OGJmZWJlNWMyYWM0MGIzNjIgPSBMLm1hcmtlcigKICAgICAgICAgICAgICAgIFs0My42Njg5OTg1LCAtNzkuMzE1NTcxNTk5OTk5OThdLAogICAgICAgICAgICAgICAge30KICAgICAgICAgICAgKS5hZGRUbyhtYXBfNTA0MmIyNTg4MWNmNGRmZjk1NzFkZDA4YjFjM2Q2ZTYpOwogICAgICAgIAogICAgCiAgICAgICAgICAgIHZhciBpY29uX2ZlODNhMTk5ZGZmMDQyNDBiMjBkZmFhMmU2YmQzZDgzID0gTC5Bd2Vzb21lTWFya2Vycy5pY29uKAogICAgICAgICAgICAgICAgeyJleHRyYUNsYXNzZXMiOiAiZmEtcm90YXRlLTAiLCAiaWNvbiI6ICJjdXRsZXJ5IiwgImljb25Db2xvciI6ICJ3aGl0ZSIsICJtYXJrZXJDb2xvciI6ICJyZWQiLCAicHJlZml4IjogImdseXBoaWNvbiJ9CiAgICAgICAgICAgICk7CiAgICAgICAgICAgIG1hcmtlcl9jMDlmNTk1MDBkMjg0NTk4YmZlYmU1YzJhYzQwYjM2Mi5zZXRJY29uKGljb25fZmU4M2ExOTlkZmYwNDI0MGIyMGRmYWEyZTZiZDNkODMpOwogICAgICAgIAogICAgCiAgICAgICAgdmFyIHBvcHVwXzNjY2ZhOGYxNzMzZjRjM2E4NDE1YmViMTkyYTUyY2M4ID0gTC5wb3B1cCh7Im1heFdpZHRoIjogIjEwMCUifSk7CgogICAgICAgIAogICAgICAgICAgICB2YXIgaHRtbF8wZTUxNWJkYTQxMjM0Y2YzYjRiOTVkOWY2M2ZjNjVmYiA9ICQoYDxkaXYgaWQ9Imh0bWxfMGU1MTViZGE0MTIzNGNmM2I0Yjk1ZDlmNjNmYzY1ZmIiIHN0eWxlPSJ3aWR0aDogMTAwLjAlOyBoZWlnaHQ6IDEwMC4wJTsiPkluZGlhIEJhemFhciwgRWFzdCBUb3JvbnRvKDUuMjI1KTwvZGl2PmApWzBdOwogICAgICAgICAgICBwb3B1cF8zY2NmYThmMTczM2Y0YzNhODQxNWJlYjE5MmE1MmNjOC5zZXRDb250ZW50KGh0bWxfMGU1MTViZGE0MTIzNGNmM2I0Yjk1ZDlmNjNmYzY1ZmIpOwogICAgICAgIAoKICAgICAgICBtYXJrZXJfYzA5ZjU5NTAwZDI4NDU5OGJmZWJlNWMyYWM0MGIzNjIuYmluZFBvcHVwKHBvcHVwXzNjY2ZhOGYxNzMzZjRjM2E4NDE1YmViMTkyYTUyY2M4KQogICAgICAgIDsKCiAgICAgICAgCiAgICAKICAgIAogICAgICAgICAgICB2YXIgbWFya2VyXzM3NDJlYzMxNWM0NDQxMzc5Zjk2MzhmYjliODBkOWVhID0gTC5tYXJrZXIoCiAgICAgICAgICAgICAgICBbNDMuNjUzMjA1NywgLTc5LjQwMDA0OTNdLAogICAgICAgICAgICAgICAge30KICAgICAgICAgICAgKS5hZGRUbyhtYXBfNTA0MmIyNTg4MWNmNGRmZjk1NzFkZDA4YjFjM2Q2ZTYpOwogICAgICAgIAogICAgCiAgICAgICAgICAgIHZhciBpY29uX2UyZGE0OGMyYjdjNjQwMDNhMmQzYmM1YTk0NTRkZTFlID0gTC5Bd2Vzb21lTWFya2Vycy5pY29uKAogICAgICAgICAgICAgICAgeyJleHRyYUNsYXNzZXMiOiAiZmEtcm90YXRlLTAiLCAiaWNvbiI6ICJjdXRsZXJ5IiwgImljb25Db2xvciI6ICJ3aGl0ZSIsICJtYXJrZXJDb2xvciI6ICJyZWQiLCAicHJlZml4IjogImdseXBoaWNvbiJ9CiAgICAgICAgICAgICk7CiAgICAgICAgICAgIG1hcmtlcl8zNzQyZWMzMTVjNDQ0MTM3OWY5NjM4ZmI5YjgwZDllYS5zZXRJY29uKGljb25fZTJkYTQ4YzJiN2M2NDAwM2EyZDNiYzVhOTQ1NGRlMWUpOwogICAgICAgIAogICAgCiAgICAgICAgdmFyIHBvcHVwXzIyOGNlZjUzMGVhZTQxYzE5Zjc2NDY4OTg5NjY0ZWM2ID0gTC5wb3B1cCh7Im1heFdpZHRoIjogIjEwMCUifSk7CgogICAgICAgIAogICAgICAgICAgICB2YXIgaHRtbF9iZDA1ZmUxOGE2YjI0ODhlYjU2ZWRiMGUzY2ZjM2NmMyA9ICQoYDxkaXYgaWQ9Imh0bWxfYmQwNWZlMThhNmIyNDg4ZWI1NmVkYjBlM2NmYzNjZjMiIHN0eWxlPSJ3aWR0aDogMTAwLjAlOyBoZWlnaHQ6IDEwMC4wJTsiPktlbnNpbmd0b24gTWFya2V0LCBEb3dudG93biBUb3JvbnRvKDcuOCk8L2Rpdj5gKVswXTsKICAgICAgICAgICAgcG9wdXBfMjI4Y2VmNTMwZWFlNDFjMTlmNzY0Njg5ODk2NjRlYzYuc2V0Q29udGVudChodG1sX2JkMDVmZTE4YTZiMjQ4OGViNTZlZGIwZTNjZmMzY2YzKTsKICAgICAgICAKCiAgICAgICAgbWFya2VyXzM3NDJlYzMxNWM0NDQxMzc5Zjk2MzhmYjliODBkOWVhLmJpbmRQb3B1cChwb3B1cF8yMjhjZWY1MzBlYWU0MWMxOWY3NjQ2ODk4OTY2NGVjNikKICAgICAgICA7CgogICAgICAgIAogICAgCiAgICAKICAgICAgICAgICAgdmFyIG1hcmtlcl83YjQ5YjViYTYxMzA0MWRmYmZjYzM2OTkzMDNkMmJiOCA9IEwubWFya2VyKAogICAgICAgICAgICAgICAgWzQzLjcwOTA2MDQsIC03OS4zNjM0NTE3XSwKICAgICAgICAgICAgICAgIHt9CiAgICAgICAgICAgICkuYWRkVG8obWFwXzUwNDJiMjU4ODFjZjRkZmY5NTcxZGQwOGIxYzNkNmU2KTsKICAgICAgICAKICAgIAogICAgICAgICAgICB2YXIgaWNvbl9lNjgxNzRmNDFkYmM0OTViYWI3NmM0ZmE3YjJmNDA2OCA9IEwuQXdlc29tZU1hcmtlcnMuaWNvbigKICAgICAgICAgICAgICAgIHsiZXh0cmFDbGFzc2VzIjogImZhLXJvdGF0ZS0wIiwgImljb24iOiAiY3V0bGVyeSIsICJpY29uQ29sb3IiOiAid2hpdGUiLCAibWFya2VyQ29sb3IiOiAicmVkIiwgInByZWZpeCI6ICJnbHlwaGljb24ifQogICAgICAgICAgICApOwogICAgICAgICAgICBtYXJrZXJfN2I0OWI1YmE2MTMwNDFkZmJmY2MzNjk5MzAzZDJiYjguc2V0SWNvbihpY29uX2U2ODE3NGY0MWRiYzQ5NWJhYjc2YzRmYTdiMmY0MDY4KTsKICAgICAgICAKICAgIAogICAgICAgIHZhciBwb3B1cF83YWZlZThkNmFjMjU0M2VjYjQ1N2FlYTkyMWExZjI5NiA9IEwucG9wdXAoeyJtYXhXaWR0aCI6ICIxMDAlIn0pOwoKICAgICAgICAKICAgICAgICAgICAgdmFyIGh0bWxfNTA0NDhiYmY4OGYxNDk0OTkxNWZjOWI5ZmJkZTZhMWUgPSAkKGA8ZGl2IGlkPSJodG1sXzUwNDQ4YmJmODhmMTQ5NDk5MTVmYzliOWZiZGU2YTFlIiBzdHlsZT0id2lkdGg6IDEwMC4wJTsgaGVpZ2h0OiAxMDAuMCU7Ij5MZWFzaWRlLCBFYXN0IFlvcmsoNi44KTwvZGl2PmApWzBdOwogICAgICAgICAgICBwb3B1cF83YWZlZThkNmFjMjU0M2VjYjQ1N2FlYTkyMWExZjI5Ni5zZXRDb250ZW50KGh0bWxfNTA0NDhiYmY4OGYxNDk0OTkxNWZjOWI5ZmJkZTZhMWUpOwogICAgICAgIAoKICAgICAgICBtYXJrZXJfN2I0OWI1YmE2MTMwNDFkZmJmY2MzNjk5MzAzZDJiYjguYmluZFBvcHVwKHBvcHVwXzdhZmVlOGQ2YWMyNTQzZWNiNDU3YWVhOTIxYTFmMjk2KQogICAgICAgIDsKCiAgICAgICAgCiAgICAKICAgIAogICAgICAgICAgICB2YXIgbWFya2VyX2Y0NDIwNzdmODhkZDQ1NTRhMTRiZGE5OTdlNTRhNTJmID0gTC5tYXJrZXIoCiAgICAgICAgICAgICAgICBbNDMuNjYyMzAxNSwgLTc5LjM4OTQ5MzhdLAogICAgICAgICAgICAgICAge30KICAgICAgICAgICAgKS5hZGRUbyhtYXBfNTA0MmIyNTg4MWNmNGRmZjk1NzFkZDA4YjFjM2Q2ZTYpOwogICAgICAgIAogICAgCiAgICAgICAgICAgIHZhciBpY29uX2IzZDIyMTEwNTM1MTRjOGQ5YzI0Y2U0Y2I4ODQ3MGM1ID0gTC5Bd2Vzb21lTWFya2Vycy5pY29uKAogICAgICAgICAgICAgICAgeyJleHRyYUNsYXNzZXMiOiAiZmEtcm90YXRlLTAiLCAiaWNvbiI6ICJjdXRsZXJ5IiwgImljb25Db2xvciI6ICJ3aGl0ZSIsICJtYXJrZXJDb2xvciI6ICJyZWQiLCAicHJlZml4IjogImdseXBoaWNvbiJ9CiAgICAgICAgICAgICk7CiAgICAgICAgICAgIG1hcmtlcl9mNDQyMDc3Zjg4ZGQ0NTU0YTE0YmRhOTk3ZTU0YTUyZi5zZXRJY29uKGljb25fYjNkMjIxMTA1MzUxNGM4ZDljMjRjZTRjYjg4NDcwYzUpOwogICAgICAgIAogICAgCiAgICAgICAgdmFyIHBvcHVwX2NkMTY2Zjg2ZDExOTRhMWE4YzMxMDUyMDcxNmExMWI5ID0gTC5wb3B1cCh7Im1heFdpZHRoIjogIjEwMCUifSk7CgogICAgICAgIAogICAgICAgICAgICB2YXIgaHRtbF80NTExZTUwMGZjZWQ0NTYwODE3ZmUyYTdmZWFkNDdlYiA9ICQoYDxkaXYgaWQ9Imh0bWxfNDUxMWU1MDBmY2VkNDU2MDgxN2ZlMmE3ZmVhZDQ3ZWIiIHN0eWxlPSJ3aWR0aDogMTAwLjAlOyBoZWlnaHQ6IDEwMC4wJTsiPlF1ZWVuJ3MgUGFyaywgRG93bnRvd24gVG9yb250byg4LjApPC9kaXY+YClbMF07CiAgICAgICAgICAgIHBvcHVwX2NkMTY2Zjg2ZDExOTRhMWE4YzMxMDUyMDcxNmExMWI5LnNldENvbnRlbnQoaHRtbF80NTExZTUwMGZjZWQ0NTYwODE3ZmUyYTdmZWFkNDdlYik7CiAgICAgICAgCgogICAgICAgIG1hcmtlcl9mNDQyMDc3Zjg4ZGQ0NTU0YTE0YmRhOTk3ZTU0YTUyZi5iaW5kUG9wdXAocG9wdXBfY2QxNjZmODZkMTE5NGExYThjMzEwNTIwNzE2YTExYjkpCiAgICAgICAgOwoKICAgICAgICAKICAgIAogICAgCiAgICAgICAgICAgIHZhciBtYXJrZXJfOTU1ZmU5NTg3MmQxNDYyY2EwMDExNjU5MTJlZTk2NWUgPSBMLm1hcmtlcigKICAgICAgICAgICAgICAgIFs0My42NzMxODUyOTk5OTk5OSwgLTc5LjQ4NzI2MTkwMDAwMDAxXSwKICAgICAgICAgICAgICAgIHt9CiAgICAgICAgICAgICkuYWRkVG8obWFwXzUwNDJiMjU4ODFjZjRkZmY5NTcxZGQwOGIxYzNkNmU2KTsKICAgICAgICAKICAgIAogICAgICAgICAgICB2YXIgaWNvbl82ZTc0ZDA3N2MxZWE0YTRlODI1MWYyMmU4MmI5ZmFkNSA9IEwuQXdlc29tZU1hcmtlcnMuaWNvbigKICAgICAgICAgICAgICAgIHsiZXh0cmFDbGFzc2VzIjogImZhLXJvdGF0ZS0wIiwgImljb24iOiAiY3V0bGVyeSIsICJpY29uQ29sb3IiOiAid2hpdGUiLCAibWFya2VyQ29sb3IiOiAicmVkIiwgInByZWZpeCI6ICJnbHlwaGljb24ifQogICAgICAgICAgICApOwogICAgICAgICAgICBtYXJrZXJfOTU1ZmU5NTg3MmQxNDYyY2EwMDExNjU5MTJlZTk2NWUuc2V0SWNvbihpY29uXzZlNzRkMDc3YzFlYTRhNGU4MjUxZjIyZTgyYjlmYWQ1KTsKICAgICAgICAKICAgIAogICAgICAgIHZhciBwb3B1cF9mNTYwOWViNDM3YTQ0ZTI1ODEzY2ViMDRkMmYxNWNhZCA9IEwucG9wdXAoeyJtYXhXaWR0aCI6ICIxMDAlIn0pOwoKICAgICAgICAKICAgICAgICAgICAgdmFyIGh0bWxfM2I2MjVhNTc3YjU5NGU1Zjk0YzUyOGM1Yzg0NmM5MTYgPSAkKGA8ZGl2IGlkPSJodG1sXzNiNjI1YTU3N2I1OTRlNWY5NGM1MjhjNWM4NDZjOTE2IiBzdHlsZT0id2lkdGg6IDEwMC4wJTsgaGVpZ2h0OiAxMDAuMCU7Ij5SdW5ueW1lZGUsIFlvcmsoNi42KTwvZGl2PmApWzBdOwogICAgICAgICAgICBwb3B1cF9mNTYwOWViNDM3YTQ0ZTI1ODEzY2ViMDRkMmYxNWNhZC5zZXRDb250ZW50KGh0bWxfM2I2MjVhNTc3YjU5NGU1Zjk0YzUyOGM1Yzg0NmM5MTYpOwogICAgICAgIAoKICAgICAgICBtYXJrZXJfOTU1ZmU5NTg3MmQxNDYyY2EwMDExNjU5MTJlZTk2NWUuYmluZFBvcHVwKHBvcHVwX2Y1NjA5ZWI0MzdhNDRlMjU4MTNjZWIwNGQyZjE1Y2FkKQogICAgICAgIDsKCiAgICAgICAgCiAgICAKICAgIAogICAgICAgICAgICB2YXIgbWFya2VyXzMyNDMwNjdkNjBhNjQ4N2RiNGY3NmRlNDRmMDQ1NTY3ID0gTC5tYXJrZXIoCiAgICAgICAgICAgICAgICBbNDMuNjUxNTcwNiwgLTc5LjQ4NDQ0OTldLAogICAgICAgICAgICAgICAge30KICAgICAgICAgICAgKS5hZGRUbyhtYXBfNTA0MmIyNTg4MWNmNGRmZjk1NzFkZDA4YjFjM2Q2ZTYpOwogICAgICAgIAogICAgCiAgICAgICAgICAgIHZhciBpY29uXzU3MjE1ZjNjOGE0ODRjY2NhNjdlYjliYTg2MWExM2ZkID0gTC5Bd2Vzb21lTWFya2Vycy5pY29uKAogICAgICAgICAgICAgICAgeyJleHRyYUNsYXNzZXMiOiAiZmEtcm90YXRlLTAiLCAiaWNvbiI6ICJjdXRsZXJ5IiwgImljb25Db2xvciI6ICJ3aGl0ZSIsICJtYXJrZXJDb2xvciI6ICJyZWQiLCAicHJlZml4IjogImdseXBoaWNvbiJ9CiAgICAgICAgICAgICk7CiAgICAgICAgICAgIG1hcmtlcl8zMjQzMDY3ZDYwYTY0ODdkYjRmNzZkZTQ0ZjA0NTU2Ny5zZXRJY29uKGljb25fNTcyMTVmM2M4YTQ4NGNjY2E2N2ViOWJhODYxYTEzZmQpOwogICAgICAgIAogICAgCiAgICAgICAgdmFyIHBvcHVwXzI2ZDE2ZjU4NGZhYTQ4ZDhiNTZlMDZmMjliNzc4MTg1ID0gTC5wb3B1cCh7Im1heFdpZHRoIjogIjEwMCUifSk7CgogICAgICAgIAogICAgICAgICAgICB2YXIgaHRtbF85MmRlMDJmY2Y4NzU0MjU2OGY1ZTkyZGM0N2M0OTE3OSA9ICQoYDxkaXYgaWQ9Imh0bWxfOTJkZTAyZmNmODc1NDI1NjhmNWU5MmRjNDdjNDkxNzkiIHN0eWxlPSJ3aWR0aDogMTAwLjAlOyBoZWlnaHQ6IDEwMC4wJTsiPlJ1bm55bWVkZSwgV2VzdCBUb3JvbnRvKDYuNik8L2Rpdj5gKVswXTsKICAgICAgICAgICAgcG9wdXBfMjZkMTZmNTg0ZmFhNDhkOGI1NmUwNmYyOWI3NzgxODUuc2V0Q29udGVudChodG1sXzkyZGUwMmZjZjg3NTQyNTY4ZjVlOTJkYzQ3YzQ5MTc5KTsKICAgICAgICAKCiAgICAgICAgbWFya2VyXzMyNDMwNjdkNjBhNjQ4N2RiNGY3NmRlNDRmMDQ1NTY3LmJpbmRQb3B1cChwb3B1cF8yNmQxNmY1ODRmYWE0OGQ4YjU2ZTA2ZjI5Yjc3ODE4NSkKICAgICAgICA7CgogICAgICAgIAogICAgCiAgICAKICAgICAgICAgICAgdmFyIG1hcmtlcl8zOTFhMDgzYjQxYjc0MjhlYjg4YjllZTA1NTQzOTM4MiA9IEwubWFya2VyKAogICAgICAgICAgICAgICAgWzQzLjc5OTUyNTIwMDAwMDAwNSwgLTc5LjMxODM4ODddLAogICAgICAgICAgICAgICAge30KICAgICAgICAgICAgKS5hZGRUbyhtYXBfNTA0MmIyNTg4MWNmNGRmZjk1NzFkZDA4YjFjM2Q2ZTYpOwogICAgICAgIAogICAgCiAgICAgICAgICAgIHZhciBpY29uXzI0MDNmNmRmMmRhMjQyZDBiNmI4NTJiYWY0ZjFkYjFhID0gTC5Bd2Vzb21lTWFya2Vycy5pY29uKAogICAgICAgICAgICAgICAgeyJleHRyYUNsYXNzZXMiOiAiZmEtcm90YXRlLTAiLCAiaWNvbiI6ICJjdXRsZXJ5IiwgImljb25Db2xvciI6ICJ3aGl0ZSIsICJtYXJrZXJDb2xvciI6ICJyZWQiLCAicHJlZml4IjogImdseXBoaWNvbiJ9CiAgICAgICAgICAgICk7CiAgICAgICAgICAgIG1hcmtlcl8zOTFhMDgzYjQxYjc0MjhlYjg4YjllZTA1NTQzOTM4Mi5zZXRJY29uKGljb25fMjQwM2Y2ZGYyZGEyNDJkMGI2Yjg1MmJhZjRmMWRiMWEpOwogICAgICAgIAogICAgCiAgICAgICAgdmFyIHBvcHVwX2JjY2ZjMWRkNTFiYjQ4YTc5Y2JkZjczYmVkYjEyZjg2ID0gTC5wb3B1cCh7Im1heFdpZHRoIjogIjEwMCUifSk7CgogICAgICAgIAogICAgICAgICAgICB2YXIgaHRtbF9iNmZjNWNkMzgxZTY0ZGVjYTBjYjFlZWIxZjYwOThhNiA9ICQoYDxkaXYgaWQ9Imh0bWxfYjZmYzVjZDM4MWU2NGRlY2EwY2IxZWViMWY2MDk4YTYiIHN0eWxlPSJ3aWR0aDogMTAwLjAlOyBoZWlnaHQ6IDEwMC4wJTsiPlN0ZWVsZXMgV2VzdCwgU2NhcmJvcm91Z2goMC4wKTwvZGl2PmApWzBdOwogICAgICAgICAgICBwb3B1cF9iY2NmYzFkZDUxYmI0OGE3OWNiZGY3M2JlZGIxMmY4Ni5zZXRDb250ZW50KGh0bWxfYjZmYzVjZDM4MWU2NGRlY2EwY2IxZWViMWY2MDk4YTYpOwogICAgICAgIAoKICAgICAgICBtYXJrZXJfMzkxYTA4M2I0MWI3NDI4ZWI4OGI5ZWUwNTU0MzkzODIuYmluZFBvcHVwKHBvcHVwX2JjY2ZjMWRkNTFiYjQ4YTc5Y2JkZjczYmVkYjEyZjg2KQogICAgICAgIDsKCiAgICAgICAgCiAgICAKICAgIAogICAgICAgICAgICB2YXIgbWFya2VyX2I3ODYxYjE0YTY0NTQzMTU5YmJkZDNlOGEwZDRhMDY1ID0gTC5tYXJrZXIoCiAgICAgICAgICAgICAgICBbNDMuNjcyNzA5NywgLTc5LjQwNTY3ODQwMDAwMDAxXSwKICAgICAgICAgICAgICAgIHt9CiAgICAgICAgICAgICkuYWRkVG8obWFwXzUwNDJiMjU4ODFjZjRkZmY5NTcxZGQwOGIxYzNkNmU2KTsKICAgICAgICAKICAgIAogICAgICAgICAgICB2YXIgaWNvbl8yZDY4YmM1OWVmZGQ0YmE0YWE3NjM1YmUzNjQyMTlhMCA9IEwuQXdlc29tZU1hcmtlcnMuaWNvbigKICAgICAgICAgICAgICAgIHsiZXh0cmFDbGFzc2VzIjogImZhLXJvdGF0ZS0wIiwgImljb24iOiAiY3V0bGVyeSIsICJpY29uQ29sb3IiOiAid2hpdGUiLCAibWFya2VyQ29sb3IiOiAicmVkIiwgInByZWZpeCI6ICJnbHlwaGljb24ifQogICAgICAgICAgICApOwogICAgICAgICAgICBtYXJrZXJfYjc4NjFiMTRhNjQ1NDMxNTliYmRkM2U4YTBkNGEwNjUuc2V0SWNvbihpY29uXzJkNjhiYzU5ZWZkZDRiYTRhYTc2MzViZTM2NDIxOWEwKTsKICAgICAgICAKICAgIAogICAgICAgIHZhciBwb3B1cF8yYTQzNjc4Njc1ZTY0YjljOWQ4YmJkODBjMWQxZGFhYSA9IEwucG9wdXAoeyJtYXhXaWR0aCI6ICIxMDAlIn0pOwoKICAgICAgICAKICAgICAgICAgICAgdmFyIGh0bWxfNzI2MWE3ZmVjMTVlNDAwMzkxNTQwZTNjNTBjNWE5YzkgPSAkKGA8ZGl2IGlkPSJodG1sXzcyNjFhN2ZlYzE1ZTQwMDM5MTU0MGUzYzUwYzVhOWM5IiBzdHlsZT0id2lkdGg6IDEwMC4wJTsgaGVpZ2h0OiAxMDAuMCU7Ij5UaGUgQW5uZXgsIENlbnRyYWwgVG9yb250byg4LjUpPC9kaXY+YClbMF07CiAgICAgICAgICAgIHBvcHVwXzJhNDM2Nzg2NzVlNjRiOWM5ZDhiYmQ4MGMxZDFkYWFhLnNldENvbnRlbnQoaHRtbF83MjYxYTdmZWMxNWU0MDAzOTE1NDBlM2M1MGM1YTljOSk7CiAgICAgICAgCgogICAgICAgIG1hcmtlcl9iNzg2MWIxNGE2NDU0MzE1OWJiZGQzZThhMGQ0YTA2NS5iaW5kUG9wdXAocG9wdXBfMmE0MzY3ODY3NWU2NGI5YzlkOGJiZDgwYzFkMWRhYWEpCiAgICAgICAgOwoKICAgICAgICAKICAgIAogICAgCiAgICAgICAgICAgIHZhciBtYXJrZXJfZGIwZDcyMjc3YzU5NDg2NGJkOWExOTAyYzI4MzQ3NzEgPSBMLm1hcmtlcigKICAgICAgICAgICAgICAgIFs0My42NzYzNTczOTk5OTk5OSwgLTc5LjI5MzAzMTJdLAogICAgICAgICAgICAgICAge30KICAgICAgICAgICAgKS5hZGRUbyhtYXBfNTA0MmIyNTg4MWNmNGRmZjk1NzFkZDA4YjFjM2Q2ZTYpOwogICAgICAgIAogICAgCiAgICAgICAgICAgIHZhciBpY29uXzJhYjExMGY3OGJlZTQwZDc5MTBjNjRjZjY1MjA4ZWY2ID0gTC5Bd2Vzb21lTWFya2Vycy5pY29uKAogICAgICAgICAgICAgICAgeyJleHRyYUNsYXNzZXMiOiAiZmEtcm90YXRlLTAiLCAiaWNvbiI6ICJjdXRsZXJ5IiwgImljb25Db2xvciI6ICJ3aGl0ZSIsICJtYXJrZXJDb2xvciI6ICJyZWQiLCAicHJlZml4IjogImdseXBoaWNvbiJ9CiAgICAgICAgICAgICk7CiAgICAgICAgICAgIG1hcmtlcl9kYjBkNzIyNzdjNTk0ODY0YmQ5YTE5MDJjMjgzNDc3MS5zZXRJY29uKGljb25fMmFiMTEwZjc4YmVlNDBkNzkxMGM2NGNmNjUyMDhlZjYpOwogICAgICAgIAogICAgCiAgICAgICAgdmFyIHBvcHVwX2QzZDBkODg1ODE5YjQ1NzRhNDU5NjZhNmIyMDI3NmVkID0gTC5wb3B1cCh7Im1heFdpZHRoIjogIjEwMCUifSk7CgogICAgICAgIAogICAgICAgICAgICB2YXIgaHRtbF9iMzg3OTVkZjA3NzA0NzNmYjI4ZGVmYzE2MDEwYjM1OSA9ICQoYDxkaXYgaWQ9Imh0bWxfYjM4Nzk1ZGYwNzcwNDczZmIyOGRlZmMxNjAxMGIzNTkiIHN0eWxlPSJ3aWR0aDogMTAwLjAlOyBoZWlnaHQ6IDEwMC4wJTsiPlRoZSBCZWFjaGVzLCBFYXN0IFRvcm9udG8oNi45KTwvZGl2PmApWzBdOwogICAgICAgICAgICBwb3B1cF9kM2QwZDg4NTgxOWI0NTc0YTQ1OTY2YTZiMjAyNzZlZC5zZXRDb250ZW50KGh0bWxfYjM4Nzk1ZGYwNzcwNDczZmIyOGRlZmMxNjAxMGIzNTkpOwogICAgICAgIAoKICAgICAgICBtYXJrZXJfZGIwZDcyMjc3YzU5NDg2NGJkOWExOTAyYzI4MzQ3NzEuYmluZFBvcHVwKHBvcHVwX2QzZDBkODg1ODE5YjQ1NzRhNDU5NjZhNmIyMDI3NmVkKQogICAgICAgIDsKCiAgICAgICAgCiAgICAKICAgIAogICAgICAgICAgICB2YXIgbWFya2VyXzU0ZTI0Y2YzNGI4MjRiOGQ4Y2QyNDQ2OWIxNDg4NzVmID0gTC5tYXJrZXIoCiAgICAgICAgICAgICAgICBbNDMuNjc5NTU3MSwgLTc5LjM1MjE4OF0sCiAgICAgICAgICAgICAgICB7fQogICAgICAgICAgICApLmFkZFRvKG1hcF81MDQyYjI1ODgxY2Y0ZGZmOTU3MWRkMDhiMWMzZDZlNik7CiAgICAgICAgCiAgICAKICAgICAgICAgICAgdmFyIGljb25fOWQ0OTNkMjg2Zjg4NDFkOTg5ZDY0NTMyM2RmOWFlNmMgPSBMLkF3ZXNvbWVNYXJrZXJzLmljb24oCiAgICAgICAgICAgICAgICB7ImV4dHJhQ2xhc3NlcyI6ICJmYS1yb3RhdGUtMCIsICJpY29uIjogImN1dGxlcnkiLCAiaWNvbkNvbG9yIjogIndoaXRlIiwgIm1hcmtlckNvbG9yIjogInJlZCIsICJwcmVmaXgiOiAiZ2x5cGhpY29uIn0KICAgICAgICAgICAgKTsKICAgICAgICAgICAgbWFya2VyXzU0ZTI0Y2YzNGI4MjRiOGQ4Y2QyNDQ2OWIxNDg4NzVmLnNldEljb24oaWNvbl85ZDQ5M2QyODZmODg0MWQ5ODlkNjQ1MzIzZGY5YWU2Yyk7CiAgICAgICAgCiAgICAKICAgICAgICB2YXIgcG9wdXBfYTQ2OTVmNjVlODRkNDBjMzk5MjYwZWEwYjg2NWM0ZjEgPSBMLnBvcHVwKHsibWF4V2lkdGgiOiAiMTAwJSJ9KTsKCiAgICAgICAgCiAgICAgICAgICAgIHZhciBodG1sX2NkY2U0YTIyNjAxMjQ4M2I4NGZjMjljMjdhOTdiODUyID0gJChgPGRpdiBpZD0iaHRtbF9jZGNlNGEyMjYwMTI0ODNiODRmYzI5YzI3YTk3Yjg1MiIgc3R5bGU9IndpZHRoOiAxMDAuMCU7IGhlaWdodDogMTAwLjAlOyI+VGhlIERhbmZvcnRoIFdlc3QsIEVhc3QgVG9yb250byg3LjEpPC9kaXY+YClbMF07CiAgICAgICAgICAgIHBvcHVwX2E0Njk1ZjY1ZTg0ZDQwYzM5OTI2MGVhMGI4NjVjNGYxLnNldENvbnRlbnQoaHRtbF9jZGNlNGEyMjYwMTI0ODNiODRmYzI5YzI3YTk3Yjg1Mik7CiAgICAgICAgCgogICAgICAgIG1hcmtlcl81NGUyNGNmMzRiODI0YjhkOGNkMjQ0NjliMTQ4ODc1Zi5iaW5kUG9wdXAocG9wdXBfYTQ2OTVmNjVlODRkNDBjMzk5MjYwZWEwYjg2NWM0ZjEpCiAgICAgICAgOwoKICAgICAgICAKICAgIAogICAgCiAgICAgICAgICAgIHZhciBtYXJrZXJfNDBiMmViOWE4MDk2NDc3YWE5ZDRkMmVhNGQ4ODYxM2IgPSBMLm1hcmtlcigKICAgICAgICAgICAgICAgIFs0My43MDUzNjg5LCAtNzkuMzQ5MzcxOTAwMDAwMDFdLAogICAgICAgICAgICAgICAge30KICAgICAgICAgICAgKS5hZGRUbyhtYXBfNTA0MmIyNTg4MWNmNGRmZjk1NzFkZDA4YjFjM2Q2ZTYpOwogICAgICAgIAogICAgCiAgICAgICAgICAgIHZhciBpY29uX2VjY2RmZmI5OWJlNzQxYzFhMTE0ZTI1ZWM5MmE0YjJlID0gTC5Bd2Vzb21lTWFya2Vycy5pY29uKAogICAgICAgICAgICAgICAgeyJleHRyYUNsYXNzZXMiOiAiZmEtcm90YXRlLTAiLCAiaWNvbiI6ICJjdXRsZXJ5IiwgImljb25Db2xvciI6ICJ3aGl0ZSIsICJtYXJrZXJDb2xvciI6ICJyZWQiLCAicHJlZml4IjogImdseXBoaWNvbiJ9CiAgICAgICAgICAgICk7CiAgICAgICAgICAgIG1hcmtlcl80MGIyZWI5YTgwOTY0NzdhYTlkNGQyZWE0ZDg4NjEzYi5zZXRJY29uKGljb25fZWNjZGZmYjk5YmU3NDFjMWExMTRlMjVlYzkyYTRiMmUpOwogICAgICAgIAogICAgCiAgICAgICAgdmFyIHBvcHVwX2UwMTIwYmRmNTIwZjQwNGViNjE1YjUwMTZlMGQ2NDY4ID0gTC5wb3B1cCh7Im1heFdpZHRoIjogIjEwMCUifSk7CgogICAgICAgIAogICAgICAgICAgICB2YXIgaHRtbF9hYjk3NjA0NmY3OTM0MWU3OTdhNjVhOGYxYWU5NmQyNiA9ICQoYDxkaXYgaWQ9Imh0bWxfYWI5NzYwNDZmNzkzNDFlNzk3YTY1YThmMWFlOTZkMjYiIHN0eWxlPSJ3aWR0aDogMTAwLjAlOyBoZWlnaHQ6IDEwMC4wJTsiPlRob3JuY2xpZmZlIFBhcmssIEVhc3QgWW9yayg1LjEyNSk8L2Rpdj5gKVswXTsKICAgICAgICAgICAgcG9wdXBfZTAxMjBiZGY1MjBmNDA0ZWI2MTViNTAxNmUwZDY0Njguc2V0Q29udGVudChodG1sX2FiOTc2MDQ2Zjc5MzQxZTc5N2E2NWE4ZjFhZTk2ZDI2KTsKICAgICAgICAKCiAgICAgICAgbWFya2VyXzQwYjJlYjlhODA5NjQ3N2FhOWQ0ZDJlYTRkODg2MTNiLmJpbmRQb3B1cChwb3B1cF9lMDEyMGJkZjUyMGY0MDRlYjYxNWI1MDE2ZTBkNjQ2OCkKICAgICAgICA7CgogICAgICAgIAogICAgCiAgICAKICAgICAgICAgICAgdmFyIG1hcmtlcl80NDI2MjBhOTE5Mjg0NzkyOWI0YWM0MDJmM2U2ZWMwZiA9IEwubWFya2VyKAogICAgICAgICAgICAgICAgWzQzLjc4OTA1MywgLTc5LjQwODQ5Mjc5OTk5OTk5XSwKICAgICAgICAgICAgICAgIHt9CiAgICAgICAgICAgICkuYWRkVG8obWFwXzUwNDJiMjU4ODFjZjRkZmY5NTcxZGQwOGIxYzNkNmU2KTsKICAgICAgICAKICAgIAogICAgICAgICAgICB2YXIgaWNvbl82ZmIyZGU4ZGU0Yjc0MGNlODNkZTM3ZWVhM2NmZWUwYiA9IEwuQXdlc29tZU1hcmtlcnMuaWNvbigKICAgICAgICAgICAgICAgIHsiZXh0cmFDbGFzc2VzIjogImZhLXJvdGF0ZS0wIiwgImljb24iOiAiY3V0bGVyeSIsICJpY29uQ29sb3IiOiAid2hpdGUiLCAibWFya2VyQ29sb3IiOiAicmVkIiwgInByZWZpeCI6ICJnbHlwaGljb24ifQogICAgICAgICAgICApOwogICAgICAgICAgICBtYXJrZXJfNDQyNjIwYTkxOTI4NDc5MjliNGFjNDAyZjNlNmVjMGYuc2V0SWNvbihpY29uXzZmYjJkZThkZTRiNzQwY2U4M2RlMzdlZWEzY2ZlZTBiKTsKICAgICAgICAKICAgIAogICAgICAgIHZhciBwb3B1cF9jOTZlNjRiOGQwNmE0MTc4YTA4OGMwMWNjYjIzOGMxYSA9IEwucG9wdXAoeyJtYXhXaWR0aCI6ICIxMDAlIn0pOwoKICAgICAgICAKICAgICAgICAgICAgdmFyIGh0bWxfYTk0OTg5ZWMzYzFjNDNjYmI4MjQyMTU5ZmExZTU4ODQgPSAkKGA8ZGl2IGlkPSJodG1sX2E5NDk4OWVjM2MxYzQzY2JiODI0MjE1OWZhMWU1ODg0IiBzdHlsZT0id2lkdGg6IDEwMC4wJTsgaGVpZ2h0OiAxMDAuMCU7Ij5XaWxsb3dkYWxlLCBOb3J0aCBZb3JrKDYuMSk8L2Rpdj5gKVswXTsKICAgICAgICAgICAgcG9wdXBfYzk2ZTY0YjhkMDZhNDE3OGEwODhjMDFjY2IyMzhjMWEuc2V0Q29udGVudChodG1sX2E5NDk4OWVjM2MxYzQzY2JiODI0MjE1OWZhMWU1ODg0KTsKICAgICAgICAKCiAgICAgICAgbWFya2VyXzQ0MjYyMGE5MTkyODQ3OTI5YjRhYzQwMmYzZTZlYzBmLmJpbmRQb3B1cChwb3B1cF9jOTZlNjRiOGQwNmE0MTc4YTA4OGMwMWNjYjIzOGMxYSkKICAgICAgICA7CgogICAgICAgIAogICAgCiAgICAKICAgICAgICAgICAgdmFyIGZlYXR1cmVfZ3JvdXBfMjJiZTNlNjM5MmNlNDRjZGJiNmZlMWYyNjc1ZWVmNTAgPSBMLmZlYXR1cmVHcm91cCgKICAgICAgICAgICAgICAgIHt9CiAgICAgICAgICAgICkuYWRkVG8obWFwXzUwNDJiMjU4ODFjZjRkZmY5NTcxZGQwOGIxYzNkNmU2KTsKICAgICAgICAKICAgIAogICAgICAgICAgICB2YXIgY2lyY2xlX21hcmtlcl80ZTYyODQ3MjMxYmM0YjI2YmExYTM0MWU1YThiYzQ0OCA9IEwuY2lyY2xlTWFya2VyKAogICAgICAgICAgICAgICAgWzQzLjczMzI4MjUsIC03OS40MTk3NDk3XSwKICAgICAgICAgICAgICAgIHsiYnViYmxpbmdNb3VzZUV2ZW50cyI6IHRydWUsICJjb2xvciI6ICJyZWQiLCAiZGFzaEFycmF5IjogbnVsbCwgImRhc2hPZmZzZXQiOiBudWxsLCAiZmlsbCI6IHRydWUsICJmaWxsQ29sb3IiOiAicmVkIiwgImZpbGxPcGFjaXR5IjogMC42LCAiZmlsbFJ1bGUiOiAiZXZlbm9kZCIsICJsaW5lQ2FwIjogInJvdW5kIiwgImxpbmVKb2luIjogInJvdW5kIiwgIm9wYWNpdHkiOiAxLjAsICJyYWRpdXMiOiAxMCwgInN0cm9rZSI6IHRydWUsICJ3ZWlnaHQiOiAzfQogICAgICAgICAgICApLmFkZFRvKGZlYXR1cmVfZ3JvdXBfMjJiZTNlNjM5MmNlNDRjZGJiNmZlMWYyNjc1ZWVmNTApOwogICAgICAgIAogICAgCiAgICAgICAgICAgIHZhciBjaXJjbGVfbWFya2VyXzlmMDY3YzE1MWRkNDQ1ZDdiMGYyMzA5YTY2NThmMjIxID0gTC5jaXJjbGVNYXJrZXIoCiAgICAgICAgICAgICAgICBbNDMuNjM2ODQ3MiwgLTc5LjQyODE5MTQwMDAwMDAyXSwKICAgICAgICAgICAgICAgIHsiYnViYmxpbmdNb3VzZUV2ZW50cyI6IHRydWUsICJjb2xvciI6ICJyZWQiLCAiZGFzaEFycmF5IjogbnVsbCwgImRhc2hPZmZzZXQiOiBudWxsLCAiZmlsbCI6IHRydWUsICJmaWxsQ29sb3IiOiAicmVkIiwgImZpbGxPcGFjaXR5IjogMC42LCAiZmlsbFJ1bGUiOiAiZXZlbm9kZCIsICJsaW5lQ2FwIjogInJvdW5kIiwgImxpbmVKb2luIjogInJvdW5kIiwgIm9wYWNpdHkiOiAxLjAsICJyYWRpdXMiOiAxMCwgInN0cm9rZSI6IHRydWUsICJ3ZWlnaHQiOiAzfQogICAgICAgICAgICApLmFkZFRvKGZlYXR1cmVfZ3JvdXBfMjJiZTNlNjM5MmNlNDRjZGJiNmZlMWYyNjc1ZWVmNTApOwogICAgICAgIAogICAgCiAgICAgICAgICAgIHZhciBjaXJjbGVfbWFya2VyX2RmMzY0ZWE3ZjhiNTRiMWY4MDA5OGE1ZTE5YTg0NDczID0gTC5jaXJjbGVNYXJrZXIoCiAgICAgICAgICAgICAgICBbNDMuNjM2OTY1NiwgLTc5LjYxNTgxODk5OTk5OTk5XSwKICAgICAgICAgICAgICAgIHsiYnViYmxpbmdNb3VzZUV2ZW50cyI6IHRydWUsICJjb2xvciI6ICJyZWQiLCAiZGFzaEFycmF5IjogbnVsbCwgImRhc2hPZmZzZXQiOiBudWxsLCAiZmlsbCI6IHRydWUsICJmaWxsQ29sb3IiOiAicmVkIiwgImZpbGxPcGFjaXR5IjogMC42LCAiZmlsbFJ1bGUiOiAiZXZlbm9kZCIsICJsaW5lQ2FwIjogInJvdW5kIiwgImxpbmVKb2luIjogInJvdW5kIiwgIm9wYWNpdHkiOiAxLjAsICJyYWRpdXMiOiAxMCwgInN0cm9rZSI6IHRydWUsICJ3ZWlnaHQiOiAzfQogICAgICAgICAgICApLmFkZFRvKGZlYXR1cmVfZ3JvdXBfMjJiZTNlNjM5MmNlNDRjZGJiNmZlMWYyNjc1ZWVmNTApOwogICAgICAgIAogICAgCiAgICAgICAgICAgIHZhciBjaXJjbGVfbWFya2VyX2MyNTAyNTc1MGE0NzQ0OTNiMzJkZjQ2Mzc3MmIyYzIzID0gTC5jaXJjbGVNYXJrZXIoCiAgICAgICAgICAgICAgICBbNDMuNzczMTM2LCAtNzkuMjM5NDc2MDk5OTk5OTldLAogICAgICAgICAgICAgICAgeyJidWJibGluZ01vdXNlRXZlbnRzIjogdHJ1ZSwgImNvbG9yIjogInJlZCIsICJkYXNoQXJyYXkiOiBudWxsLCAiZGFzaE9mZnNldCI6IG51bGwsICJmaWxsIjogdHJ1ZSwgImZpbGxDb2xvciI6ICJyZWQiLCAiZmlsbE9wYWNpdHkiOiAwLjYsICJmaWxsUnVsZSI6ICJldmVub2RkIiwgImxpbmVDYXAiOiAicm91bmQiLCAibGluZUpvaW4iOiAicm91bmQiLCAib3BhY2l0eSI6IDEuMCwgInJhZGl1cyI6IDEwLCAic3Ryb2tlIjogdHJ1ZSwgIndlaWdodCI6IDN9CiAgICAgICAgICAgICkuYWRkVG8oZmVhdHVyZV9ncm91cF8yMmJlM2U2MzkyY2U0NGNkYmI2ZmUxZjI2NzVlZWY1MCk7CiAgICAgICAgCiAgICAKICAgICAgICAgICAgdmFyIGNpcmNsZV9tYXJrZXJfZDJmOWFlOTk3YTg2NDllYzk3YzkwM2RkOTFlYmI5MWUgPSBMLmNpcmNsZU1hcmtlcigKICAgICAgICAgICAgICAgIFs0My42Njk1NDIsIC03OS40MjI1NjM3XSwKICAgICAgICAgICAgICAgIHsiYnViYmxpbmdNb3VzZUV2ZW50cyI6IHRydWUsICJjb2xvciI6ICJyZWQiLCAiZGFzaEFycmF5IjogbnVsbCwgImRhc2hPZmZzZXQiOiBudWxsLCAiZmlsbCI6IHRydWUsICJmaWxsQ29sb3IiOiAicmVkIiwgImZpbGxPcGFjaXR5IjogMC42LCAiZmlsbFJ1bGUiOiAiZXZlbm9kZCIsICJsaW5lQ2FwIjogInJvdW5kIiwgImxpbmVKb2luIjogInJvdW5kIiwgIm9wYWNpdHkiOiAxLjAsICJyYWRpdXMiOiAxMCwgInN0cm9rZSI6IHRydWUsICJ3ZWlnaHQiOiAzfQogICAgICAgICAgICApLmFkZFRvKGZlYXR1cmVfZ3JvdXBfMjJiZTNlNjM5MmNlNDRjZGJiNmZlMWYyNjc1ZWVmNTApOwogICAgICAgIAogICAgCiAgICAgICAgICAgIHZhciBjaXJjbGVfbWFya2VyX2M5NTAwZjMwODI1NjQ5MTE4ZTMwODJmZjI0OTMxZTAyID0gTC5jaXJjbGVNYXJrZXIoCiAgICAgICAgICAgICAgICBbNDMuNjY1ODU5OSwgLTc5LjM4MzE1OTkwMDAwMDAxXSwKICAgICAgICAgICAgICAgIHsiYnViYmxpbmdNb3VzZUV2ZW50cyI6IHRydWUsICJjb2xvciI6ICJyZWQiLCAiZGFzaEFycmF5IjogbnVsbCwgImRhc2hPZmZzZXQiOiBudWxsLCAiZmlsbCI6IHRydWUsICJmaWxsQ29sb3IiOiAicmVkIiwgImZpbGxPcGFjaXR5IjogMC42LCAiZmlsbFJ1bGUiOiAiZXZlbm9kZCIsICJsaW5lQ2FwIjogInJvdW5kIiwgImxpbmVKb2luIjogInJvdW5kIiwgIm9wYWNpdHkiOiAxLjAsICJyYWRpdXMiOiAxMCwgInN0cm9rZSI6IHRydWUsICJ3ZWlnaHQiOiAzfQogICAgICAgICAgICApLmFkZFRvKGZlYXR1cmVfZ3JvdXBfMjJiZTNlNjM5MmNlNDRjZGJiNmZlMWYyNjc1ZWVmNTApOwogICAgICAgIAogICAgCiAgICAgICAgICAgIHZhciBjaXJjbGVfbWFya2VyXzUyNTIyOTcxNDNkMTQxMzJhOGNlNDQxZWZmODNlYWJkID0gTC5jaXJjbGVNYXJrZXIoCiAgICAgICAgICAgICAgICBbNDMuNzA0MzI0NCwgLTc5LjM4ODc5MDFdLAogICAgICAgICAgICAgICAgeyJidWJibGluZ01vdXNlRXZlbnRzIjogdHJ1ZSwgImNvbG9yIjogInJlZCIsICJkYXNoQXJyYXkiOiBudWxsLCAiZGFzaE9mZnNldCI6IG51bGwsICJmaWxsIjogdHJ1ZSwgImZpbGxDb2xvciI6ICJyZWQiLCAiZmlsbE9wYWNpdHkiOiAwLjYsICJmaWxsUnVsZSI6ICJldmVub2RkIiwgImxpbmVDYXAiOiAicm91bmQiLCAibGluZUpvaW4iOiAicm91bmQiLCAib3BhY2l0eSI6IDEuMCwgInJhZGl1cyI6IDEwLCAic3Ryb2tlIjogdHJ1ZSwgIndlaWdodCI6IDN9CiAgICAgICAgICAgICkuYWRkVG8oZmVhdHVyZV9ncm91cF8yMmJlM2U2MzkyY2U0NGNkYmI2ZmUxZjI2NzVlZWY1MCk7CiAgICAgICAgCiAgICAKICAgICAgICAgICAgdmFyIGNpcmNsZV9tYXJrZXJfZmE2MGUzMzU3ODlmNGIwZWJjYjdhN2E4ODAzM2NhY2IgPSBMLmNpcmNsZU1hcmtlcigKICAgICAgICAgICAgICAgIFs0My43NTc0MDk2LCAtNzkuMjczMzA0MDAwMDAwMDFdLAogICAgICAgICAgICAgICAgeyJidWJibGluZ01vdXNlRXZlbnRzIjogdHJ1ZSwgImNvbG9yIjogInJlZCIsICJkYXNoQXJyYXkiOiBudWxsLCAiZGFzaE9mZnNldCI6IG51bGwsICJmaWxsIjogdHJ1ZSwgImZpbGxDb2xvciI6ICJyZWQiLCAiZmlsbE9wYWNpdHkiOiAwLjYsICJmaWxsUnVsZSI6ICJldmVub2RkIiwgImxpbmVDYXAiOiAicm91bmQiLCAibGluZUpvaW4iOiAicm91bmQiLCAib3BhY2l0eSI6IDEuMCwgInJhZGl1cyI6IDEwLCAic3Ryb2tlIjogdHJ1ZSwgIndlaWdodCI6IDN9CiAgICAgICAgICAgICkuYWRkVG8oZmVhdHVyZV9ncm91cF8yMmJlM2U2MzkyY2U0NGNkYmI2ZmUxZjI2NzVlZWY1MCk7CiAgICAgICAgCiAgICAKICAgICAgICAgICAgdmFyIGNpcmNsZV9tYXJrZXJfZTFmZWYyYTExNTU0NDJhY2JkMmZmMTVmNmE5MDQ0ZWMgPSBMLmNpcmNsZU1hcmtlcigKICAgICAgICAgICAgICAgIFs0My42NDA4MTU3LCAtNzkuMzgxNzUyMjk5OTk5OTldLAogICAgICAgICAgICAgICAgeyJidWJibGluZ01vdXNlRXZlbnRzIjogdHJ1ZSwgImNvbG9yIjogInJlZCIsICJkYXNoQXJyYXkiOiBudWxsLCAiZGFzaE9mZnNldCI6IG51bGwsICJmaWxsIjogdHJ1ZSwgImZpbGxDb2xvciI6ICJyZWQiLCAiZmlsbE9wYWNpdHkiOiAwLjYsICJmaWxsUnVsZSI6ICJldmVub2RkIiwgImxpbmVDYXAiOiAicm91bmQiLCAibGluZUpvaW4iOiAicm91bmQiLCAib3BhY2l0eSI6IDEuMCwgInJhZGl1cyI6IDEwLCAic3Ryb2tlIjogdHJ1ZSwgIndlaWdodCI6IDN9CiAgICAgICAgICAgICkuYWRkVG8oZmVhdHVyZV9ncm91cF8yMmJlM2U2MzkyY2U0NGNkYmI2ZmUxZjI2NzVlZWY1MCk7CiAgICAgICAgCiAgICAKICAgICAgICAgICAgdmFyIGNpcmNsZV9tYXJrZXJfZDI2NTY0YTYwZTFjNDY3ZWE3MTYwMjliZTUzMTIyNTYgPSBMLmNpcmNsZU1hcmtlcigKICAgICAgICAgICAgICAgIFs0My42NjE2MDgzLCAtNzkuNDY0NzYzMjk5OTk5OTldLAogICAgICAgICAgICAgICAgeyJidWJibGluZ01vdXNlRXZlbnRzIjogdHJ1ZSwgImNvbG9yIjogInJlZCIsICJkYXNoQXJyYXkiOiBudWxsLCAiZGFzaE9mZnNldCI6IG51bGwsICJmaWxsIjogdHJ1ZSwgImZpbGxDb2xvciI6ICJyZWQiLCAiZmlsbE9wYWNpdHkiOiAwLjYsICJmaWxsUnVsZSI6ICJldmVub2RkIiwgImxpbmVDYXAiOiAicm91bmQiLCAibGluZUpvaW4iOiAicm91bmQiLCAib3BhY2l0eSI6IDEuMCwgInJhZGl1cyI6IDEwLCAic3Ryb2tlIjogdHJ1ZSwgIndlaWdodCI6IDN9CiAgICAgICAgICAgICkuYWRkVG8oZmVhdHVyZV9ncm91cF8yMmJlM2U2MzkyY2U0NGNkYmI2ZmUxZjI2NzVlZWY1MCk7CiAgICAgICAgCiAgICAKICAgICAgICAgICAgdmFyIGNpcmNsZV9tYXJrZXJfNzQ0NmI5ZTBjODY4NDU0OGI0NzBlZWMxYThiOTZlNWIgPSBMLmNpcmNsZU1hcmtlcigKICAgICAgICAgICAgICAgIFs0My42Njg5OTg1LCAtNzkuMzE1NTcxNTk5OTk5OThdLAogICAgICAgICAgICAgICAgeyJidWJibGluZ01vdXNlRXZlbnRzIjogdHJ1ZSwgImNvbG9yIjogInJlZCIsICJkYXNoQXJyYXkiOiBudWxsLCAiZGFzaE9mZnNldCI6IG51bGwsICJmaWxsIjogdHJ1ZSwgImZpbGxDb2xvciI6ICJyZWQiLCAiZmlsbE9wYWNpdHkiOiAwLjYsICJmaWxsUnVsZSI6ICJldmVub2RkIiwgImxpbmVDYXAiOiAicm91bmQiLCAibGluZUpvaW4iOiAicm91bmQiLCAib3BhY2l0eSI6IDEuMCwgInJhZGl1cyI6IDEwLCAic3Ryb2tlIjogdHJ1ZSwgIndlaWdodCI6IDN9CiAgICAgICAgICAgICkuYWRkVG8oZmVhdHVyZV9ncm91cF8yMmJlM2U2MzkyY2U0NGNkYmI2ZmUxZjI2NzVlZWY1MCk7CiAgICAgICAgCiAgICAKICAgICAgICAgICAgdmFyIGNpcmNsZV9tYXJrZXJfZDI0NzBlNmM1YTkxNDU3YjliZDg2YWZlMTVlN2JkOTYgPSBMLmNpcmNsZU1hcmtlcigKICAgICAgICAgICAgICAgIFs0My42NTMyMDU3LCAtNzkuNDAwMDQ5M10sCiAgICAgICAgICAgICAgICB7ImJ1YmJsaW5nTW91c2VFdmVudHMiOiB0cnVlLCAiY29sb3IiOiAicmVkIiwgImRhc2hBcnJheSI6IG51bGwsICJkYXNoT2Zmc2V0IjogbnVsbCwgImZpbGwiOiB0cnVlLCAiZmlsbENvbG9yIjogInJlZCIsICJmaWxsT3BhY2l0eSI6IDAuNiwgImZpbGxSdWxlIjogImV2ZW5vZGQiLCAibGluZUNhcCI6ICJyb3VuZCIsICJsaW5lSm9pbiI6ICJyb3VuZCIsICJvcGFjaXR5IjogMS4wLCAicmFkaXVzIjogMTAsICJzdHJva2UiOiB0cnVlLCAid2VpZ2h0IjogM30KICAgICAgICAgICAgKS5hZGRUbyhmZWF0dXJlX2dyb3VwXzIyYmUzZTYzOTJjZTQ0Y2RiYjZmZTFmMjY3NWVlZjUwKTsKICAgICAgICAKICAgIAogICAgICAgICAgICB2YXIgY2lyY2xlX21hcmtlcl82MTNmMjc0ZWQwMzI0ZGUxYWY0MWFlYzM4M2U5ZDliNSA9IEwuY2lyY2xlTWFya2VyKAogICAgICAgICAgICAgICAgWzQzLjcwOTA2MDQsIC03OS4zNjM0NTE3XSwKICAgICAgICAgICAgICAgIHsiYnViYmxpbmdNb3VzZUV2ZW50cyI6IHRydWUsICJjb2xvciI6ICJyZWQiLCAiZGFzaEFycmF5IjogbnVsbCwgImRhc2hPZmZzZXQiOiBudWxsLCAiZmlsbCI6IHRydWUsICJmaWxsQ29sb3IiOiAicmVkIiwgImZpbGxPcGFjaXR5IjogMC42LCAiZmlsbFJ1bGUiOiAiZXZlbm9kZCIsICJsaW5lQ2FwIjogInJvdW5kIiwgImxpbmVKb2luIjogInJvdW5kIiwgIm9wYWNpdHkiOiAxLjAsICJyYWRpdXMiOiAxMCwgInN0cm9rZSI6IHRydWUsICJ3ZWlnaHQiOiAzfQogICAgICAgICAgICApLmFkZFRvKGZlYXR1cmVfZ3JvdXBfMjJiZTNlNjM5MmNlNDRjZGJiNmZlMWYyNjc1ZWVmNTApOwogICAgICAgIAogICAgCiAgICAgICAgICAgIHZhciBjaXJjbGVfbWFya2VyX2ZhYTA5Y2ViYTA0YjRjZWQ5MzZkN2U1ZmQxN2RjNGY1ID0gTC5jaXJjbGVNYXJrZXIoCiAgICAgICAgICAgICAgICBbNDMuNjYyMzAxNSwgLTc5LjM4OTQ5MzhdLAogICAgICAgICAgICAgICAgeyJidWJibGluZ01vdXNlRXZlbnRzIjogdHJ1ZSwgImNvbG9yIjogInJlZCIsICJkYXNoQXJyYXkiOiBudWxsLCAiZGFzaE9mZnNldCI6IG51bGwsICJmaWxsIjogdHJ1ZSwgImZpbGxDb2xvciI6ICJyZWQiLCAiZmlsbE9wYWNpdHkiOiAwLjYsICJmaWxsUnVsZSI6ICJldmVub2RkIiwgImxpbmVDYXAiOiAicm91bmQiLCAibGluZUpvaW4iOiAicm91bmQiLCAib3BhY2l0eSI6IDEuMCwgInJhZGl1cyI6IDEwLCAic3Ryb2tlIjogdHJ1ZSwgIndlaWdodCI6IDN9CiAgICAgICAgICAgICkuYWRkVG8oZmVhdHVyZV9ncm91cF8yMmJlM2U2MzkyY2U0NGNkYmI2ZmUxZjI2NzVlZWY1MCk7CiAgICAgICAgCiAgICAKICAgICAgICAgICAgdmFyIGNpcmNsZV9tYXJrZXJfMGY5YWJhOWI2Yzk5NGUzOWFkZWI2MzYzNTQ0NzdlMWEgPSBMLmNpcmNsZU1hcmtlcigKICAgICAgICAgICAgICAgIFs0My42NzMxODUyOTk5OTk5OSwgLTc5LjQ4NzI2MTkwMDAwMDAxXSwKICAgICAgICAgICAgICAgIHsiYnViYmxpbmdNb3VzZUV2ZW50cyI6IHRydWUsICJjb2xvciI6ICJyZWQiLCAiZGFzaEFycmF5IjogbnVsbCwgImRhc2hPZmZzZXQiOiBudWxsLCAiZmlsbCI6IHRydWUsICJmaWxsQ29sb3IiOiAicmVkIiwgImZpbGxPcGFjaXR5IjogMC42LCAiZmlsbFJ1bGUiOiAiZXZlbm9kZCIsICJsaW5lQ2FwIjogInJvdW5kIiwgImxpbmVKb2luIjogInJvdW5kIiwgIm9wYWNpdHkiOiAxLjAsICJyYWRpdXMiOiAxMCwgInN0cm9rZSI6IHRydWUsICJ3ZWlnaHQiOiAzfQogICAgICAgICAgICApLmFkZFRvKGZlYXR1cmVfZ3JvdXBfMjJiZTNlNjM5MmNlNDRjZGJiNmZlMWYyNjc1ZWVmNTApOwogICAgICAgIAogICAgCiAgICAgICAgICAgIHZhciBjaXJjbGVfbWFya2VyXzkzNzIxMTNkMjllNTRjYjNiMWNmYWRlZTIwMmY5M2U3ID0gTC5jaXJjbGVNYXJrZXIoCiAgICAgICAgICAgICAgICBbNDMuNjUxNTcwNiwgLTc5LjQ4NDQ0OTldLAogICAgICAgICAgICAgICAgeyJidWJibGluZ01vdXNlRXZlbnRzIjogdHJ1ZSwgImNvbG9yIjogInJlZCIsICJkYXNoQXJyYXkiOiBudWxsLCAiZGFzaE9mZnNldCI6IG51bGwsICJmaWxsIjogdHJ1ZSwgImZpbGxDb2xvciI6ICJyZWQiLCAiZmlsbE9wYWNpdHkiOiAwLjYsICJmaWxsUnVsZSI6ICJldmVub2RkIiwgImxpbmVDYXAiOiAicm91bmQiLCAibGluZUpvaW4iOiAicm91bmQiLCAib3BhY2l0eSI6IDEuMCwgInJhZGl1cyI6IDEwLCAic3Ryb2tlIjogdHJ1ZSwgIndlaWdodCI6IDN9CiAgICAgICAgICAgICkuYWRkVG8oZmVhdHVyZV9ncm91cF8yMmJlM2U2MzkyY2U0NGNkYmI2ZmUxZjI2NzVlZWY1MCk7CiAgICAgICAgCiAgICAKICAgICAgICAgICAgdmFyIGNpcmNsZV9tYXJrZXJfOTFlYTZmODc1ZGVkNGVhZmE2N2M3OTNjZDE5MWM2YTYgPSBMLmNpcmNsZU1hcmtlcigKICAgICAgICAgICAgICAgIFs0My43OTk1MjUyMDAwMDAwMDUsIC03OS4zMTgzODg3XSwKICAgICAgICAgICAgICAgIHsiYnViYmxpbmdNb3VzZUV2ZW50cyI6IHRydWUsICJjb2xvciI6ICJyZWQiLCAiZGFzaEFycmF5IjogbnVsbCwgImRhc2hPZmZzZXQiOiBudWxsLCAiZmlsbCI6IHRydWUsICJmaWxsQ29sb3IiOiAicmVkIiwgImZpbGxPcGFjaXR5IjogMC42LCAiZmlsbFJ1bGUiOiAiZXZlbm9kZCIsICJsaW5lQ2FwIjogInJvdW5kIiwgImxpbmVKb2luIjogInJvdW5kIiwgIm9wYWNpdHkiOiAxLjAsICJyYWRpdXMiOiAxMCwgInN0cm9rZSI6IHRydWUsICJ3ZWlnaHQiOiAzfQogICAgICAgICAgICApLmFkZFRvKGZlYXR1cmVfZ3JvdXBfMjJiZTNlNjM5MmNlNDRjZGJiNmZlMWYyNjc1ZWVmNTApOwogICAgICAgIAogICAgCiAgICAgICAgICAgIHZhciBjaXJjbGVfbWFya2VyX2QwYTc3NWI4ZTRhZTQ1YzNiMjU2YzE1NzUxZDFkYTJiID0gTC5jaXJjbGVNYXJrZXIoCiAgICAgICAgICAgICAgICBbNDMuNjcyNzA5NywgLTc5LjQwNTY3ODQwMDAwMDAxXSwKICAgICAgICAgICAgICAgIHsiYnViYmxpbmdNb3VzZUV2ZW50cyI6IHRydWUsICJjb2xvciI6ICJyZWQiLCAiZGFzaEFycmF5IjogbnVsbCwgImRhc2hPZmZzZXQiOiBudWxsLCAiZmlsbCI6IHRydWUsICJmaWxsQ29sb3IiOiAicmVkIiwgImZpbGxPcGFjaXR5IjogMC42LCAiZmlsbFJ1bGUiOiAiZXZlbm9kZCIsICJsaW5lQ2FwIjogInJvdW5kIiwgImxpbmVKb2luIjogInJvdW5kIiwgIm9wYWNpdHkiOiAxLjAsICJyYWRpdXMiOiAxMCwgInN0cm9rZSI6IHRydWUsICJ3ZWlnaHQiOiAzfQogICAgICAgICAgICApLmFkZFRvKGZlYXR1cmVfZ3JvdXBfMjJiZTNlNjM5MmNlNDRjZGJiNmZlMWYyNjc1ZWVmNTApOwogICAgICAgIAogICAgCiAgICAgICAgICAgIHZhciBjaXJjbGVfbWFya2VyXzRlZjVkNWNjMTE1YTQ1YWRiMjJlM2UxZmZmNGRjMGQ0ID0gTC5jaXJjbGVNYXJrZXIoCiAgICAgICAgICAgICAgICBbNDMuNjc2MzU3Mzk5OTk5OTksIC03OS4yOTMwMzEyXSwKICAgICAgICAgICAgICAgIHsiYnViYmxpbmdNb3VzZUV2ZW50cyI6IHRydWUsICJjb2xvciI6ICJyZWQiLCAiZGFzaEFycmF5IjogbnVsbCwgImRhc2hPZmZzZXQiOiBudWxsLCAiZmlsbCI6IHRydWUsICJmaWxsQ29sb3IiOiAicmVkIiwgImZpbGxPcGFjaXR5IjogMC42LCAiZmlsbFJ1bGUiOiAiZXZlbm9kZCIsICJsaW5lQ2FwIjogInJvdW5kIiwgImxpbmVKb2luIjogInJvdW5kIiwgIm9wYWNpdHkiOiAxLjAsICJyYWRpdXMiOiAxMCwgInN0cm9rZSI6IHRydWUsICJ3ZWlnaHQiOiAzfQogICAgICAgICAgICApLmFkZFRvKGZlYXR1cmVfZ3JvdXBfMjJiZTNlNjM5MmNlNDRjZGJiNmZlMWYyNjc1ZWVmNTApOwogICAgICAgIAogICAgCiAgICAgICAgICAgIHZhciBjaXJjbGVfbWFya2VyXzgxMzkzYTIwODIzYjRkYzRiY2JkZjI5MjUyMzZiMGIwID0gTC5jaXJjbGVNYXJrZXIoCiAgICAgICAgICAgICAgICBbNDMuNjc5NTU3MSwgLTc5LjM1MjE4OF0sCiAgICAgICAgICAgICAgICB7ImJ1YmJsaW5nTW91c2VFdmVudHMiOiB0cnVlLCAiY29sb3IiOiAicmVkIiwgImRhc2hBcnJheSI6IG51bGwsICJkYXNoT2Zmc2V0IjogbnVsbCwgImZpbGwiOiB0cnVlLCAiZmlsbENvbG9yIjogInJlZCIsICJmaWxsT3BhY2l0eSI6IDAuNiwgImZpbGxSdWxlIjogImV2ZW5vZGQiLCAibGluZUNhcCI6ICJyb3VuZCIsICJsaW5lSm9pbiI6ICJyb3VuZCIsICJvcGFjaXR5IjogMS4wLCAicmFkaXVzIjogMTAsICJzdHJva2UiOiB0cnVlLCAid2VpZ2h0IjogM30KICAgICAgICAgICAgKS5hZGRUbyhmZWF0dXJlX2dyb3VwXzIyYmUzZTYzOTJjZTQ0Y2RiYjZmZTFmMjY3NWVlZjUwKTsKICAgICAgICAKICAgIAogICAgICAgICAgICB2YXIgY2lyY2xlX21hcmtlcl8wZjBjMmEwYmQ1ODc0Mjg3YmQ5YjA3MmFmZWQyM2QzZiA9IEwuY2lyY2xlTWFya2VyKAogICAgICAgICAgICAgICAgWzQzLjcwNTM2ODksIC03OS4zNDkzNzE5MDAwMDAwMV0sCiAgICAgICAgICAgICAgICB7ImJ1YmJsaW5nTW91c2VFdmVudHMiOiB0cnVlLCAiY29sb3IiOiAicmVkIiwgImRhc2hBcnJheSI6IG51bGwsICJkYXNoT2Zmc2V0IjogbnVsbCwgImZpbGwiOiB0cnVlLCAiZmlsbENvbG9yIjogInJlZCIsICJmaWxsT3BhY2l0eSI6IDAuNiwgImZpbGxSdWxlIjogImV2ZW5vZGQiLCAibGluZUNhcCI6ICJyb3VuZCIsICJsaW5lSm9pbiI6ICJyb3VuZCIsICJvcGFjaXR5IjogMS4wLCAicmFkaXVzIjogMTAsICJzdHJva2UiOiB0cnVlLCAid2VpZ2h0IjogM30KICAgICAgICAgICAgKS5hZGRUbyhmZWF0dXJlX2dyb3VwXzIyYmUzZTYzOTJjZTQ0Y2RiYjZmZTFmMjY3NWVlZjUwKTsKICAgICAgICAKICAgIAogICAgICAgICAgICB2YXIgY2lyY2xlX21hcmtlcl82Y2JiMDI2ZjJiMmU0MTU3YjIxMGRkZWExZGVjYzc0OSA9IEwuY2lyY2xlTWFya2VyKAogICAgICAgICAgICAgICAgWzQzLjc4OTA1MywgLTc5LjQwODQ5Mjc5OTk5OTk5XSwKICAgICAgICAgICAgICAgIHsiYnViYmxpbmdNb3VzZUV2ZW50cyI6IHRydWUsICJjb2xvciI6ICJyZWQiLCAiZGFzaEFycmF5IjogbnVsbCwgImRhc2hPZmZzZXQiOiBudWxsLCAiZmlsbCI6IHRydWUsICJmaWxsQ29sb3IiOiAicmVkIiwgImZpbGxPcGFjaXR5IjogMC42LCAiZmlsbFJ1bGUiOiAiZXZlbm9kZCIsICJsaW5lQ2FwIjogInJvdW5kIiwgImxpbmVKb2luIjogInJvdW5kIiwgIm9wYWNpdHkiOiAxLjAsICJyYWRpdXMiOiAxMCwgInN0cm9rZSI6IHRydWUsICJ3ZWlnaHQiOiAzfQogICAgICAgICAgICApLmFkZFRvKGZlYXR1cmVfZ3JvdXBfMjJiZTNlNjM5MmNlNDRjZGJiNmZlMWYyNjc1ZWVmNTApOwogICAgICAgIAogICAgCiAgICAgICAgICAgIHZhciBtYXJrZXJfNjFkNDZkZGRjMzU5NDM1NDlkYWNiZmU4YTk5YzBkNDEgPSBMLm1hcmtlcigKICAgICAgICAgICAgICAgIFs0My43MzMyODI1LCAtNzkuNDE5NzQ5N10sCiAgICAgICAgICAgICAgICB7fQogICAgICAgICAgICApLmFkZFRvKG1hcF81MDQyYjI1ODgxY2Y0ZGZmOTU3MWRkMDhiMWMzZDZlNik7CiAgICAgICAgCiAgICAKICAgICAgICAgICAgdmFyIGljb25fMzFiZWRjMWZhZTA0NGVjYTg1MjQ3NDNiYjE3YzNkYmQgPSBMLkF3ZXNvbWVNYXJrZXJzLmljb24oCiAgICAgICAgICAgICAgICB7ImV4dHJhQ2xhc3NlcyI6ICJmYS1yb3RhdGUtMCIsICJpY29uIjogImN1dGxlcnkiLCAiaWNvbkNvbG9yIjogIndoaXRlIiwgIm1hcmtlckNvbG9yIjogInJlZCIsICJwcmVmaXgiOiAiZ2x5cGhpY29uIn0KICAgICAgICAgICAgKTsKICAgICAgICAgICAgbWFya2VyXzYxZDQ2ZGRkYzM1OTQzNTQ5ZGFjYmZlOGE5OWMwZDQxLnNldEljb24oaWNvbl8zMWJlZGMxZmFlMDQ0ZWNhODUyNDc0M2JiMTdjM2RiZCk7CiAgICAgICAgCiAgICAKICAgICAgICB2YXIgcG9wdXBfNzQyNmQ4ZmNiZTI4NDI0YTk4NmE2Y2Q2NmE3NzI5ZjggPSBMLnBvcHVwKHsibWF4V2lkdGgiOiAiMTAwJSJ9KTsKCiAgICAgICAgCiAgICAgICAgICAgIHZhciBodG1sXzhiN2Q2NjNmODI4MjQ1NjE4OTM5NTFlOGY4MmM1ZTg1ID0gJChgPGRpdiBpZD0iaHRtbF84YjdkNjYzZjgyODI0NTYxODkzOTUxZThmODJjNWU4NSIgc3R5bGU9IndpZHRoOiAxMDAuMCU7IGhlaWdodDogMTAwLjAlOyI+QmVkZm9yZCBQYXJrLCBOb3J0aCBZb3JrKDcuMyk8L2Rpdj5gKVswXTsKICAgICAgICAgICAgcG9wdXBfNzQyNmQ4ZmNiZTI4NDI0YTk4NmE2Y2Q2NmE3NzI5Zjguc2V0Q29udGVudChodG1sXzhiN2Q2NjNmODI4MjQ1NjE4OTM5NTFlOGY4MmM1ZTg1KTsKICAgICAgICAKCiAgICAgICAgbWFya2VyXzYxZDQ2ZGRkYzM1OTQzNTQ5ZGFjYmZlOGE5OWMwZDQxLmJpbmRQb3B1cChwb3B1cF83NDI2ZDhmY2JlMjg0MjRhOTg2YTZjZDY2YTc3MjlmOCkKICAgICAgICA7CgogICAgICAgIAogICAgCiAgICAKICAgICAgICAgICAgdmFyIG1hcmtlcl9iNTQwZTJmZWM3YWE0NjZlODM1YjQ0YTg1NjU2MTViNiA9IEwubWFya2VyKAogICAgICAgICAgICAgICAgWzQzLjYzNjg0NzIsIC03OS40MjgxOTE0MDAwMDAwMl0sCiAgICAgICAgICAgICAgICB7fQogICAgICAgICAgICApLmFkZFRvKG1hcF81MDQyYjI1ODgxY2Y0ZGZmOTU3MWRkMDhiMWMzZDZlNik7CiAgICAgICAgCiAgICAKICAgICAgICAgICAgdmFyIGljb25fM2EwOTYxZTc4OTcyNDZmNzlkZTRkNzhmMmE1YmI1NTUgPSBMLkF3ZXNvbWVNYXJrZXJzLmljb24oCiAgICAgICAgICAgICAgICB7ImV4dHJhQ2xhc3NlcyI6ICJmYS1yb3RhdGUtMCIsICJpY29uIjogImN1dGxlcnkiLCAiaWNvbkNvbG9yIjogIndoaXRlIiwgIm1hcmtlckNvbG9yIjogInJlZCIsICJwcmVmaXgiOiAiZ2x5cGhpY29uIn0KICAgICAgICAgICAgKTsKICAgICAgICAgICAgbWFya2VyX2I1NDBlMmZlYzdhYTQ2NmU4MzViNDRhODU2NTYxNWI2LnNldEljb24oaWNvbl8zYTA5NjFlNzg5NzI0NmY3OWRlNGQ3OGYyYTViYjU1NSk7CiAgICAgICAgCiAgICAKICAgICAgICB2YXIgcG9wdXBfZmIzZWE5NzhmOTM0NGU4NjhhNzA0ZmE2YmZjZWNhOTIgPSBMLnBvcHVwKHsibWF4V2lkdGgiOiAiMTAwJSJ9KTsKCiAgICAgICAgCiAgICAgICAgICAgIHZhciBodG1sXzE5OGYzMTFhZGUzYjQ1NDNhMzI4Y2EzODA5MzRkYmZlID0gJChgPGRpdiBpZD0iaHRtbF8xOThmMzExYWRlM2I0NTQzYTMyOGNhMzgwOTM0ZGJmZSIgc3R5bGU9IndpZHRoOiAxMDAuMCU7IGhlaWdodDogMTAwLjAlOyI+QnJvY2t0b24sIFdlc3QgVG9yb250byg4LjIpPC9kaXY+YClbMF07CiAgICAgICAgICAgIHBvcHVwX2ZiM2VhOTc4ZjkzNDRlODY4YTcwNGZhNmJmY2VjYTkyLnNldENvbnRlbnQoaHRtbF8xOThmMzExYWRlM2I0NTQzYTMyOGNhMzgwOTM0ZGJmZSk7CiAgICAgICAgCgogICAgICAgIG1hcmtlcl9iNTQwZTJmZWM3YWE0NjZlODM1YjQ0YTg1NjU2MTViNi5iaW5kUG9wdXAocG9wdXBfZmIzZWE5NzhmOTM0NGU4NjhhNzA0ZmE2YmZjZWNhOTIpCiAgICAgICAgOwoKICAgICAgICAKICAgIAogICAgCiAgICAgICAgICAgIHZhciBtYXJrZXJfODc1ZDRiYTdkZDg1NGQ1MGE4N2M2NDM4NWFmYWZkNDkgPSBMLm1hcmtlcigKICAgICAgICAgICAgICAgIFs0My42MzY5NjU2LCAtNzkuNjE1ODE4OTk5OTk5OTldLAogICAgICAgICAgICAgICAge30KICAgICAgICAgICAgKS5hZGRUbyhtYXBfNTA0MmIyNTg4MWNmNGRmZjk1NzFkZDA4YjFjM2Q2ZTYpOwogICAgICAgIAogICAgCiAgICAgICAgICAgIHZhciBpY29uXzg3MzY5YmYwMWIyZDQwNDk5NWZkN2I3ZGE0MGE5ZWVmID0gTC5Bd2Vzb21lTWFya2Vycy5pY29uKAogICAgICAgICAgICAgICAgeyJleHRyYUNsYXNzZXMiOiAiZmEtcm90YXRlLTAiLCAiaWNvbiI6ICJjdXRsZXJ5IiwgImljb25Db2xvciI6ICJ3aGl0ZSIsICJtYXJrZXJDb2xvciI6ICJyZWQiLCAicHJlZml4IjogImdseXBoaWNvbiJ9CiAgICAgICAgICAgICk7CiAgICAgICAgICAgIG1hcmtlcl84NzVkNGJhN2RkODU0ZDUwYTg3YzY0Mzg1YWZhZmQ0OS5zZXRJY29uKGljb25fODczNjliZjAxYjJkNDA0OTk1ZmQ3YjdkYTQwYTllZWYpOwogICAgICAgIAogICAgCiAgICAgICAgdmFyIHBvcHVwX2IzNTZkMTEzM2ZjYzQxNGNiNzExOTdjYjA3MGU5NjNlID0gTC5wb3B1cCh7Im1heFdpZHRoIjogIjEwMCUifSk7CgogICAgICAgIAogICAgICAgICAgICB2YXIgaHRtbF9jYzFiZmI3NmE5Njc0MWQ4ODIwMjVmMTI1ODdiOWQxMSA9ICQoYDxkaXYgaWQ9Imh0bWxfY2MxYmZiNzZhOTY3NDFkODgyMDI1ZjEyNTg3YjlkMTEiIHN0eWxlPSJ3aWR0aDogMTAwLjAlOyBoZWlnaHQ6IDEwMC4wJTsiPkNhbmFkYSBQb3N0IEdhdGV3YXkgUHJvY2Vzc2luZyBDZW50cmUsIE1pc3Npc3NhdWdhKDYuMzUpPC9kaXY+YClbMF07CiAgICAgICAgICAgIHBvcHVwX2IzNTZkMTEzM2ZjYzQxNGNiNzExOTdjYjA3MGU5NjNlLnNldENvbnRlbnQoaHRtbF9jYzFiZmI3NmE5Njc0MWQ4ODIwMjVmMTI1ODdiOWQxMSk7CiAgICAgICAgCgogICAgICAgIG1hcmtlcl84NzVkNGJhN2RkODU0ZDUwYTg3YzY0Mzg1YWZhZmQ0OS5iaW5kUG9wdXAocG9wdXBfYjM1NmQxMTMzZmNjNDE0Y2I3MTE5N2NiMDcwZTk2M2UpCiAgICAgICAgOwoKICAgICAgICAKICAgIAogICAgCiAgICAgICAgICAgIHZhciBtYXJrZXJfOGVkMjY5ZDc5Mjc2NDRiNzk1YTkzMTg3N2JjMGRkOTEgPSBMLm1hcmtlcigKICAgICAgICAgICAgICAgIFs0My43NzMxMzYsIC03OS4yMzk0NzYwOTk5OTk5OV0sCiAgICAgICAgICAgICAgICB7fQogICAgICAgICAgICApLmFkZFRvKG1hcF81MDQyYjI1ODgxY2Y0ZGZmOTU3MWRkMDhiMWMzZDZlNik7CiAgICAgICAgCiAgICAKICAgICAgICAgICAgdmFyIGljb25fYTM1MzA5ZDJjYjI0NGQ5NGJlN2YyZjdhNTc5MTgxMjMgPSBMLkF3ZXNvbWVNYXJrZXJzLmljb24oCiAgICAgICAgICAgICAgICB7ImV4dHJhQ2xhc3NlcyI6ICJmYS1yb3RhdGUtMCIsICJpY29uIjogImN1dGxlcnkiLCAiaWNvbkNvbG9yIjogIndoaXRlIiwgIm1hcmtlckNvbG9yIjogInJlZCIsICJwcmVmaXgiOiAiZ2x5cGhpY29uIn0KICAgICAgICAgICAgKTsKICAgICAgICAgICAgbWFya2VyXzhlZDI2OWQ3OTI3NjQ0Yjc5NWE5MzE4NzdiYzBkZDkxLnNldEljb24oaWNvbl9hMzUzMDlkMmNiMjQ0ZDk0YmU3ZjJmN2E1NzkxODEyMyk7CiAgICAgICAgCiAgICAKICAgICAgICB2YXIgcG9wdXBfNmQ1MTVmNWNhZTFiNDEyOWFjOWE4N2M0MTNhZDExMzcgPSBMLnBvcHVwKHsibWF4V2lkdGgiOiAiMTAwJSJ9KTsKCiAgICAgICAgCiAgICAgICAgICAgIHZhciBodG1sXzI1Mzk4YmU0MjlmODQxOWI5ODRmYTFhMTE3M2I0ODFkID0gJChgPGRpdiBpZD0iaHRtbF8yNTM5OGJlNDI5Zjg0MTliOTg0ZmExYTExNzNiNDgxZCIgc3R5bGU9IndpZHRoOiAxMDAuMCU7IGhlaWdodDogMTAwLjAlOyI+Q2VkYXJicmFlLCBTY2FyYm9yb3VnaCg3LjMwMDAwMDAwMDAwMDAwMSk8L2Rpdj5gKVswXTsKICAgICAgICAgICAgcG9wdXBfNmQ1MTVmNWNhZTFiNDEyOWFjOWE4N2M0MTNhZDExMzcuc2V0Q29udGVudChodG1sXzI1Mzk4YmU0MjlmODQxOWI5ODRmYTFhMTE3M2I0ODFkKTsKICAgICAgICAKCiAgICAgICAgbWFya2VyXzhlZDI2OWQ3OTI3NjQ0Yjc5NWE5MzE4NzdiYzBkZDkxLmJpbmRQb3B1cChwb3B1cF82ZDUxNWY1Y2FlMWI0MTI5YWM5YTg3YzQxM2FkMTEzNykKICAgICAgICA7CgogICAgICAgIAogICAgCiAgICAKICAgICAgICAgICAgdmFyIG1hcmtlcl9mOTljYTYzZGViOTI0MmY4YmU1ZGJjZTg1OTM3N2MzYyA9IEwubWFya2VyKAogICAgICAgICAgICAgICAgWzQzLjY2OTU0MiwgLTc5LjQyMjU2MzddLAogICAgICAgICAgICAgICAge30KICAgICAgICAgICAgKS5hZGRUbyhtYXBfNTA0MmIyNTg4MWNmNGRmZjk1NzFkZDA4YjFjM2Q2ZTYpOwogICAgICAgIAogICAgCiAgICAgICAgICAgIHZhciBpY29uXzQ4NjhmYjI5MzYwNjQzNmJhYTJiMTEwNGE1ZDMzODU3ID0gTC5Bd2Vzb21lTWFya2Vycy5pY29uKAogICAgICAgICAgICAgICAgeyJleHRyYUNsYXNzZXMiOiAiZmEtcm90YXRlLTAiLCAiaWNvbiI6ICJjdXRsZXJ5IiwgImljb25Db2xvciI6ICJ3aGl0ZSIsICJtYXJrZXJDb2xvciI6ICJyZWQiLCAicHJlZml4IjogImdseXBoaWNvbiJ9CiAgICAgICAgICAgICk7CiAgICAgICAgICAgIG1hcmtlcl9mOTljYTYzZGViOTI0MmY4YmU1ZGJjZTg1OTM3N2MzYy5zZXRJY29uKGljb25fNDg2OGZiMjkzNjA2NDM2YmFhMmIxMTA0YTVkMzM4NTcpOwogICAgICAgIAogICAgCiAgICAgICAgdmFyIHBvcHVwX2Y3MzRmMGI3ZDkyZjRhNDFhNWU5ZTM5OWZhODM2MGU1ID0gTC5wb3B1cCh7Im1heFdpZHRoIjogIjEwMCUifSk7CgogICAgICAgIAogICAgICAgICAgICB2YXIgaHRtbF9lMDY3NmU3NThmMjU0MTdiODcxYWFlNDhhOWFmN2I1MCA9ICQoYDxkaXYgaWQ9Imh0bWxfZTA2NzZlNzU4ZjI1NDE3Yjg3MWFhZTQ4YTlhZjdiNTAiIHN0eWxlPSJ3aWR0aDogMTAwLjAlOyBoZWlnaHQ6IDEwMC4wJTsiPkNocmlzdGllLCBEb3dudG93biBUb3JvbnRvKDguMik8L2Rpdj5gKVswXTsKICAgICAgICAgICAgcG9wdXBfZjczNGYwYjdkOTJmNGE0MWE1ZTllMzk5ZmE4MzYwZTUuc2V0Q29udGVudChodG1sX2UwNjc2ZTc1OGYyNTQxN2I4NzFhYWU0OGE5YWY3YjUwKTsKICAgICAgICAKCiAgICAgICAgbWFya2VyX2Y5OWNhNjNkZWI5MjQyZjhiZTVkYmNlODU5Mzc3YzNjLmJpbmRQb3B1cChwb3B1cF9mNzM0ZjBiN2Q5MmY0YTQxYTVlOWUzOTlmYTgzNjBlNSkKICAgICAgICA7CgogICAgICAgIAogICAgCiAgICAKICAgICAgICAgICAgdmFyIG1hcmtlcl80OGY1ZjRiNGY0ZjA0ZTZkYmNjY2IzMzA3YzI0NDFkOCA9IEwubWFya2VyKAogICAgICAgICAgICAgICAgWzQzLjY2NTg1OTksIC03OS4zODMxNTk5MDAwMDAwMV0sCiAgICAgICAgICAgICAgICB7fQogICAgICAgICAgICApLmFkZFRvKG1hcF81MDQyYjI1ODgxY2Y0ZGZmOTU3MWRkMDhiMWMzZDZlNik7CiAgICAgICAgCiAgICAKICAgICAgICAgICAgdmFyIGljb25fMjNiZGU0NWNhMjJiNGY5NWFiZGQwY2ZlMGFlMTM0ODEgPSBMLkF3ZXNvbWVNYXJrZXJzLmljb24oCiAgICAgICAgICAgICAgICB7ImV4dHJhQ2xhc3NlcyI6ICJmYS1yb3RhdGUtMCIsICJpY29uIjogImN1dGxlcnkiLCAiaWNvbkNvbG9yIjogIndoaXRlIiwgIm1hcmtlckNvbG9yIjogInJlZCIsICJwcmVmaXgiOiAiZ2x5cGhpY29uIn0KICAgICAgICAgICAgKTsKICAgICAgICAgICAgbWFya2VyXzQ4ZjVmNGI0ZjRmMDRlNmRiY2NjYjMzMDdjMjQ0MWQ4LnNldEljb24oaWNvbl8yM2JkZTQ1Y2EyMmI0Zjk1YWJkZDBjZmUwYWUxMzQ4MSk7CiAgICAgICAgCiAgICAKICAgICAgICB2YXIgcG9wdXBfMmI1NTY5ZWM0NmIxNGY0OGJhNjVjZjk2YmZmNWEyYTIgPSBMLnBvcHVwKHsibWF4V2lkdGgiOiAiMTAwJSJ9KTsKCiAgICAgICAgCiAgICAgICAgICAgIHZhciBodG1sX2JkYTZmODFiZjYzNTRmYmViZGIwNDljYzA1YTNjM2NmID0gJChgPGRpdiBpZD0iaHRtbF9iZGE2ZjgxYmY2MzU0ZmJlYmRiMDQ5Y2MwNWEzYzNjZiIgc3R5bGU9IndpZHRoOiAxMDAuMCU7IGhlaWdodDogMTAwLjAlOyI+Q2h1cmNoIGFuZCBXZWxsZXNsZXksIERvd250b3duIFRvcm9udG8oOC4wNSk8L2Rpdj5gKVswXTsKICAgICAgICAgICAgcG9wdXBfMmI1NTY5ZWM0NmIxNGY0OGJhNjVjZjk2YmZmNWEyYTIuc2V0Q29udGVudChodG1sX2JkYTZmODFiZjYzNTRmYmViZGIwNDljYzA1YTNjM2NmKTsKICAgICAgICAKCiAgICAgICAgbWFya2VyXzQ4ZjVmNGI0ZjRmMDRlNmRiY2NjYjMzMDdjMjQ0MWQ4LmJpbmRQb3B1cChwb3B1cF8yYjU1NjllYzQ2YjE0ZjQ4YmE2NWNmOTZiZmY1YTJhMikKICAgICAgICA7CgogICAgICAgIAogICAgCiAgICAKICAgICAgICAgICAgdmFyIG1hcmtlcl81ZmZlNDE4ZjVmY2E0MTYyYjZkNmYwN2Q1ODc1MjI4ZSA9IEwubWFya2VyKAogICAgICAgICAgICAgICAgWzQzLjcwNDMyNDQsIC03OS4zODg3OTAxXSwKICAgICAgICAgICAgICAgIHt9CiAgICAgICAgICAgICkuYWRkVG8obWFwXzUwNDJiMjU4ODFjZjRkZmY5NTcxZGQwOGIxYzNkNmU2KTsKICAgICAgICAKICAgIAogICAgICAgICAgICB2YXIgaWNvbl8xY2YyNWU4OTQ2N2Q0MDMyYWI0Y2YyNDk1NWYzZDNkZCA9IEwuQXdlc29tZU1hcmtlcnMuaWNvbigKICAgICAgICAgICAgICAgIHsiZXh0cmFDbGFzc2VzIjogImZhLXJvdGF0ZS0wIiwgImljb24iOiAiY3V0bGVyeSIsICJpY29uQ29sb3IiOiAid2hpdGUiLCAibWFya2VyQ29sb3IiOiAicmVkIiwgInByZWZpeCI6ICJnbHlwaGljb24ifQogICAgICAgICAgICApOwogICAgICAgICAgICBtYXJrZXJfNWZmZTQxOGY1ZmNhNDE2MmI2ZDZmMDdkNTg3NTIyOGUuc2V0SWNvbihpY29uXzFjZjI1ZTg5NDY3ZDQwMzJhYjRjZjI0OTU1ZjNkM2RkKTsKICAgICAgICAKICAgIAogICAgICAgIHZhciBwb3B1cF81MzE5MGVjNGIzOGI0YjQ3YTk2Y2Y2MDFmNDg0NzQzYSA9IEwucG9wdXAoeyJtYXhXaWR0aCI6ICIxMDAlIn0pOwoKICAgICAgICAKICAgICAgICAgICAgdmFyIGh0bWxfNzAxMGNiYmNkOTFjNDQwOGJjYmE1YTUzNzM5YmE0NjIgPSAkKGA8ZGl2IGlkPSJodG1sXzcwMTBjYmJjZDkxYzQ0MDhiY2JhNWE1MzczOWJhNDYyIiBzdHlsZT0id2lkdGg6IDEwMC4wJTsgaGVpZ2h0OiAxMDAuMCU7Ij5EYXZpc3ZpbGxlLCBDZW50cmFsIFRvcm9udG8oNy41KTwvZGl2PmApWzBdOwogICAgICAgICAgICBwb3B1cF81MzE5MGVjNGIzOGI0YjQ3YTk2Y2Y2MDFmNDg0NzQzYS5zZXRDb250ZW50KGh0bWxfNzAxMGNiYmNkOTFjNDQwOGJjYmE1YTUzNzM5YmE0NjIpOwogICAgICAgIAoKICAgICAgICBtYXJrZXJfNWZmZTQxOGY1ZmNhNDE2MmI2ZDZmMDdkNTg3NTIyOGUuYmluZFBvcHVwKHBvcHVwXzUzMTkwZWM0YjM4YjRiNDdhOTZjZjYwMWY0ODQ3NDNhKQogICAgICAgIDsKCiAgICAgICAgCiAgICAKICAgIAogICAgICAgICAgICB2YXIgbWFya2VyX2E0MTNkZGQxYWRiOTRmMGNhMTZkYmVjODRmOWZhMWI3ID0gTC5tYXJrZXIoCiAgICAgICAgICAgICAgICBbNDMuNzU3NDA5NiwgLTc5LjI3MzMwNDAwMDAwMDAxXSwKICAgICAgICAgICAgICAgIHt9CiAgICAgICAgICAgICkuYWRkVG8obWFwXzUwNDJiMjU4ODFjZjRkZmY5NTcxZGQwOGIxYzNkNmU2KTsKICAgICAgICAKICAgIAogICAgICAgICAgICB2YXIgaWNvbl8xZDhjZmZhNjU2MWU0ZjkxYjJiN2RlMGM0NDZmZDBlZCA9IEwuQXdlc29tZU1hcmtlcnMuaWNvbigKICAgICAgICAgICAgICAgIHsiZXh0cmFDbGFzc2VzIjogImZhLXJvdGF0ZS0wIiwgImljb24iOiAiY3V0bGVyeSIsICJpY29uQ29sb3IiOiAid2hpdGUiLCAibWFya2VyQ29sb3IiOiAicmVkIiwgInByZWZpeCI6ICJnbHlwaGljb24ifQogICAgICAgICAgICApOwogICAgICAgICAgICBtYXJrZXJfYTQxM2RkZDFhZGI5NGYwY2ExNmRiZWM4NGY5ZmExYjcuc2V0SWNvbihpY29uXzFkOGNmZmE2NTYxZTRmOTFiMmI3ZGUwYzQ0NmZkMGVkKTsKICAgICAgICAKICAgIAogICAgICAgIHZhciBwb3B1cF9lMTVlOGI3NTk4YzQ0ZTMxYWY1MGVmMDYxYWI4ZjVhZCA9IEwucG9wdXAoeyJtYXhXaWR0aCI6ICIxMDAlIn0pOwoKICAgICAgICAKICAgICAgICAgICAgdmFyIGh0bWxfNzJmMGUzOGZhZjliNDRhYjkyYzMxODI0Y2Q3YTg3YjQgPSAkKGA8ZGl2IGlkPSJodG1sXzcyZjBlMzhmYWY5YjQ0YWI5MmMzMTgyNGNkN2E4N2I0IiBzdHlsZT0id2lkdGg6IDEwMC4wJTsgaGVpZ2h0OiAxMDAuMCU7Ij5Eb3JzZXQgUGFyaywgU2NhcmJvcm91Z2goNi4zNSk8L2Rpdj5gKVswXTsKICAgICAgICAgICAgcG9wdXBfZTE1ZThiNzU5OGM0NGUzMWFmNTBlZjA2MWFiOGY1YWQuc2V0Q29udGVudChodG1sXzcyZjBlMzhmYWY5YjQ0YWI5MmMzMTgyNGNkN2E4N2I0KTsKICAgICAgICAKCiAgICAgICAgbWFya2VyX2E0MTNkZGQxYWRiOTRmMGNhMTZkYmVjODRmOWZhMWI3LmJpbmRQb3B1cChwb3B1cF9lMTVlOGI3NTk4YzQ0ZTMxYWY1MGVmMDYxYWI4ZjVhZCkKICAgICAgICA7CgogICAgICAgIAogICAgCiAgICAKICAgICAgICAgICAgdmFyIG1hcmtlcl9hMmU5YzZmODZjYzI0NzhjOGFkYjljNzAzZGZiZmQ2MSA9IEwubWFya2VyKAogICAgICAgICAgICAgICAgWzQzLjY0MDgxNTcsIC03OS4zODE3NTIyOTk5OTk5OV0sCiAgICAgICAgICAgICAgICB7fQogICAgICAgICAgICApLmFkZFRvKG1hcF81MDQyYjI1ODgxY2Y0ZGZmOTU3MWRkMDhiMWMzZDZlNik7CiAgICAgICAgCiAgICAKICAgICAgICAgICAgdmFyIGljb25fOTI0ZDI0ZDk3YmQ1NDI4Zjk5ODQ1ZTExOGI1MjU3MmIgPSBMLkF3ZXNvbWVNYXJrZXJzLmljb24oCiAgICAgICAgICAgICAgICB7ImV4dHJhQ2xhc3NlcyI6ICJmYS1yb3RhdGUtMCIsICJpY29uIjogImN1dGxlcnkiLCAiaWNvbkNvbG9yIjogIndoaXRlIiwgIm1hcmtlckNvbG9yIjogInJlZCIsICJwcmVmaXgiOiAiZ2x5cGhpY29uIn0KICAgICAgICAgICAgKTsKICAgICAgICAgICAgbWFya2VyX2EyZTljNmY4NmNjMjQ3OGM4YWRiOWM3MDNkZmJmZDYxLnNldEljb24oaWNvbl85MjRkMjRkOTdiZDU0MjhmOTk4NDVlMTE4YjUyNTcyYik7CiAgICAgICAgCiAgICAKICAgICAgICB2YXIgcG9wdXBfMjdlMjgyNTc1YTYwNDU4MWFjOGFkMjE4NzA2ZDNiZTEgPSBMLnBvcHVwKHsibWF4V2lkdGgiOiAiMTAwJSJ9KTsKCiAgICAgICAgCiAgICAgICAgICAgIHZhciBodG1sX2FmNmE4NjI3NGE5YTQ1ODg4MzJkMjIwOGM0YTlhNDdkID0gJChgPGRpdiBpZD0iaHRtbF9hZjZhODYyNzRhOWE0NTg4ODMyZDIyMDhjNGE5YTQ3ZCIgc3R5bGU9IndpZHRoOiAxMDAuMCU7IGhlaWdodDogMTAwLjAlOyI+SGFyYm91cmZyb250IEVhc3QsIERvd250b3duIFRvcm9udG8oNy4xKTwvZGl2PmApWzBdOwogICAgICAgICAgICBwb3B1cF8yN2UyODI1NzVhNjA0NTgxYWM4YWQyMTg3MDZkM2JlMS5zZXRDb250ZW50KGh0bWxfYWY2YTg2Mjc0YTlhNDU4ODgzMmQyMjA4YzRhOWE0N2QpOwogICAgICAgIAoKICAgICAgICBtYXJrZXJfYTJlOWM2Zjg2Y2MyNDc4YzhhZGI5YzcwM2RmYmZkNjEuYmluZFBvcHVwKHBvcHVwXzI3ZTI4MjU3NWE2MDQ1ODFhYzhhZDIxODcwNmQzYmUxKQogICAgICAgIDsKCiAgICAgICAgCiAgICAKICAgIAogICAgICAgICAgICB2YXIgbWFya2VyX2ZkNTM0M2YwNWEzNDQwZWE5YzU3ZTExZDMwNTdiNTUwID0gTC5tYXJrZXIoCiAgICAgICAgICAgICAgICBbNDMuNjYxNjA4MywgLTc5LjQ2NDc2MzI5OTk5OTk5XSwKICAgICAgICAgICAgICAgIHt9CiAgICAgICAgICAgICkuYWRkVG8obWFwXzUwNDJiMjU4ODFjZjRkZmY5NTcxZGQwOGIxYzNkNmU2KTsKICAgICAgICAKICAgIAogICAgICAgICAgICB2YXIgaWNvbl85MDE4ZWVjNWVmNWY0ZjJhOTk5Y2YzOGNiNTY1ZTQ0YSA9IEwuQXdlc29tZU1hcmtlcnMuaWNvbigKICAgICAgICAgICAgICAgIHsiZXh0cmFDbGFzc2VzIjogImZhLXJvdGF0ZS0wIiwgImljb24iOiAiY3V0bGVyeSIsICJpY29uQ29sb3IiOiAid2hpdGUiLCAibWFya2VyQ29sb3IiOiAicmVkIiwgInByZWZpeCI6ICJnbHlwaGljb24ifQogICAgICAgICAgICApOwogICAgICAgICAgICBtYXJrZXJfZmQ1MzQzZjA1YTM0NDBlYTljNTdlMTFkMzA1N2I1NTAuc2V0SWNvbihpY29uXzkwMThlZWM1ZWY1ZjRmMmE5OTljZjM4Y2I1NjVlNDRhKTsKICAgICAgICAKICAgIAogICAgICAgIHZhciBwb3B1cF8wOGZkODNhNmEyNGU0YTc5YmU0OWNlMGQ2MTMyZTZhMSA9IEwucG9wdXAoeyJtYXhXaWR0aCI6ICIxMDAlIn0pOwoKICAgICAgICAKICAgICAgICAgICAgdmFyIGh0bWxfNWZjZTUzMDA0NmY5NDZiMjlhNmQxYTE5MTgyZTk1MDkgPSAkKGA8ZGl2IGlkPSJodG1sXzVmY2U1MzAwNDZmOTQ2YjI5YTZkMWExOTE4MmU5NTA5IiBzdHlsZT0id2lkdGg6IDEwMC4wJTsgaGVpZ2h0OiAxMDAuMCU7Ij5IaWdoIFBhcmssIFdlc3QgVG9yb250byg4LjMpPC9kaXY+YClbMF07CiAgICAgICAgICAgIHBvcHVwXzA4ZmQ4M2E2YTI0ZTRhNzliZTQ5Y2UwZDYxMzJlNmExLnNldENvbnRlbnQoaHRtbF81ZmNlNTMwMDQ2Zjk0NmIyOWE2ZDFhMTkxODJlOTUwOSk7CiAgICAgICAgCgogICAgICAgIG1hcmtlcl9mZDUzNDNmMDVhMzQ0MGVhOWM1N2UxMWQzMDU3YjU1MC5iaW5kUG9wdXAocG9wdXBfMDhmZDgzYTZhMjRlNGE3OWJlNDljZTBkNjEzMmU2YTEpCiAgICAgICAgOwoKICAgICAgICAKICAgIAogICAgCiAgICAgICAgICAgIHZhciBtYXJrZXJfY2JjMDJhZjVjYWVkNGZhNTgyMjVkMzM4MzEyNjlkMjggPSBMLm1hcmtlcigKICAgICAgICAgICAgICAgIFs0My42Njg5OTg1LCAtNzkuMzE1NTcxNTk5OTk5OThdLAogICAgICAgICAgICAgICAge30KICAgICAgICAgICAgKS5hZGRUbyhtYXBfNTA0MmIyNTg4MWNmNGRmZjk1NzFkZDA4YjFjM2Q2ZTYpOwogICAgICAgIAogICAgCiAgICAgICAgICAgIHZhciBpY29uX2IyNmZlZTQ3NDZiZjQ1NzRiNDczMjQwNDMxZmM5YWJhID0gTC5Bd2Vzb21lTWFya2Vycy5pY29uKAogICAgICAgICAgICAgICAgeyJleHRyYUNsYXNzZXMiOiAiZmEtcm90YXRlLTAiLCAiaWNvbiI6ICJjdXRsZXJ5IiwgImljb25Db2xvciI6ICJ3aGl0ZSIsICJtYXJrZXJDb2xvciI6ICJyZWQiLCAicHJlZml4IjogImdseXBoaWNvbiJ9CiAgICAgICAgICAgICk7CiAgICAgICAgICAgIG1hcmtlcl9jYmMwMmFmNWNhZWQ0ZmE1ODIyNWQzMzgzMTI2OWQyOC5zZXRJY29uKGljb25fYjI2ZmVlNDc0NmJmNDU3NGI0NzMyNDA0MzFmYzlhYmEpOwogICAgICAgIAogICAgCiAgICAgICAgdmFyIHBvcHVwXzNjMTA3YWU2MDZmOTQyYTM5MDY4ZDVmYzRjZGI4YTY0ID0gTC5wb3B1cCh7Im1heFdpZHRoIjogIjEwMCUifSk7CgogICAgICAgIAogICAgICAgICAgICB2YXIgaHRtbF9hOTNiYTUyMzAwODk0Njc5OWIyYjFkMTNjOTE3ZTU5NCA9ICQoYDxkaXYgaWQ9Imh0bWxfYTkzYmE1MjMwMDg5NDY3OTliMmIxZDEzYzkxN2U1OTQiIHN0eWxlPSJ3aWR0aDogMTAwLjAlOyBoZWlnaHQ6IDEwMC4wJTsiPkluZGlhIEJhemFhciwgRWFzdCBUb3JvbnRvKDUuMjI1KTwvZGl2PmApWzBdOwogICAgICAgICAgICBwb3B1cF8zYzEwN2FlNjA2Zjk0MmEzOTA2OGQ1ZmM0Y2RiOGE2NC5zZXRDb250ZW50KGh0bWxfYTkzYmE1MjMwMDg5NDY3OTliMmIxZDEzYzkxN2U1OTQpOwogICAgICAgIAoKICAgICAgICBtYXJrZXJfY2JjMDJhZjVjYWVkNGZhNTgyMjVkMzM4MzEyNjlkMjguYmluZFBvcHVwKHBvcHVwXzNjMTA3YWU2MDZmOTQyYTM5MDY4ZDVmYzRjZGI4YTY0KQogICAgICAgIDsKCiAgICAgICAgCiAgICAKICAgIAogICAgICAgICAgICB2YXIgbWFya2VyXzVhZGFiNTVjYjdiODRjMjhiNThkODE0Yjg1ODNlZGM1ID0gTC5tYXJrZXIoCiAgICAgICAgICAgICAgICBbNDMuNjUzMjA1NywgLTc5LjQwMDA0OTNdLAogICAgICAgICAgICAgICAge30KICAgICAgICAgICAgKS5hZGRUbyhtYXBfNTA0MmIyNTg4MWNmNGRmZjk1NzFkZDA4YjFjM2Q2ZTYpOwogICAgICAgIAogICAgCiAgICAgICAgICAgIHZhciBpY29uXzQ3ZWFmODIxYzU3YzQxZWRhNTI5ZjExZDc3OWJiMTM5ID0gTC5Bd2Vzb21lTWFya2Vycy5pY29uKAogICAgICAgICAgICAgICAgeyJleHRyYUNsYXNzZXMiOiAiZmEtcm90YXRlLTAiLCAiaWNvbiI6ICJjdXRsZXJ5IiwgImljb25Db2xvciI6ICJ3aGl0ZSIsICJtYXJrZXJDb2xvciI6ICJyZWQiLCAicHJlZml4IjogImdseXBoaWNvbiJ9CiAgICAgICAgICAgICk7CiAgICAgICAgICAgIG1hcmtlcl81YWRhYjU1Y2I3Yjg0YzI4YjU4ZDgxNGI4NTgzZWRjNS5zZXRJY29uKGljb25fNDdlYWY4MjFjNTdjNDFlZGE1MjlmMTFkNzc5YmIxMzkpOwogICAgICAgIAogICAgCiAgICAgICAgdmFyIHBvcHVwX2ZmY2ZjNTcwMTk1ZDRmNTdiYWJkOGQxYTYwMzMwOGRlID0gTC5wb3B1cCh7Im1heFdpZHRoIjogIjEwMCUifSk7CgogICAgICAgIAogICAgICAgICAgICB2YXIgaHRtbF80ZGZlMzE2MTg3NmU0ZGRhYTI2YWYzNmFjOGQyZmU5ZiA9ICQoYDxkaXYgaWQ9Imh0bWxfNGRmZTMxNjE4NzZlNGRkYWEyNmFmMzZhYzhkMmZlOWYiIHN0eWxlPSJ3aWR0aDogMTAwLjAlOyBoZWlnaHQ6IDEwMC4wJTsiPktlbnNpbmd0b24gTWFya2V0LCBEb3dudG93biBUb3JvbnRvKDcuOCk8L2Rpdj5gKVswXTsKICAgICAgICAgICAgcG9wdXBfZmZjZmM1NzAxOTVkNGY1N2JhYmQ4ZDFhNjAzMzA4ZGUuc2V0Q29udGVudChodG1sXzRkZmUzMTYxODc2ZTRkZGFhMjZhZjM2YWM4ZDJmZTlmKTsKICAgICAgICAKCiAgICAgICAgbWFya2VyXzVhZGFiNTVjYjdiODRjMjhiNThkODE0Yjg1ODNlZGM1LmJpbmRQb3B1cChwb3B1cF9mZmNmYzU3MDE5NWQ0ZjU3YmFiZDhkMWE2MDMzMDhkZSkKICAgICAgICA7CgogICAgICAgIAogICAgCiAgICAKICAgICAgICAgICAgdmFyIG1hcmtlcl9kMzI4ZDYxOTBlODM0NzljYWRhNmJmOTA5ZDI4MjA5MyA9IEwubWFya2VyKAogICAgICAgICAgICAgICAgWzQzLjcwOTA2MDQsIC03OS4zNjM0NTE3XSwKICAgICAgICAgICAgICAgIHt9CiAgICAgICAgICAgICkuYWRkVG8obWFwXzUwNDJiMjU4ODFjZjRkZmY5NTcxZGQwOGIxYzNkNmU2KTsKICAgICAgICAKICAgIAogICAgICAgICAgICB2YXIgaWNvbl9hYTExODVlMTUyYzQ0YzAzOGUyY2M0NDM5NDdkY2M1OCA9IEwuQXdlc29tZU1hcmtlcnMuaWNvbigKICAgICAgICAgICAgICAgIHsiZXh0cmFDbGFzc2VzIjogImZhLXJvdGF0ZS0wIiwgImljb24iOiAiY3V0bGVyeSIsICJpY29uQ29sb3IiOiAid2hpdGUiLCAibWFya2VyQ29sb3IiOiAicmVkIiwgInByZWZpeCI6ICJnbHlwaGljb24ifQogICAgICAgICAgICApOwogICAgICAgICAgICBtYXJrZXJfZDMyOGQ2MTkwZTgzNDc5Y2FkYTZiZjkwOWQyODIwOTMuc2V0SWNvbihpY29uX2FhMTE4NWUxNTJjNDRjMDM4ZTJjYzQ0Mzk0N2RjYzU4KTsKICAgICAgICAKICAgIAogICAgICAgIHZhciBwb3B1cF83NmVkYjAwNTQzNjY0ZjBmYmNlZTJkNDg5MWViYWY2NCA9IEwucG9wdXAoeyJtYXhXaWR0aCI6ICIxMDAlIn0pOwoKICAgICAgICAKICAgICAgICAgICAgdmFyIGh0bWxfNGNlZDM5MDIzN2Y2NGU5YTllMjBhMzMzYWMwZmY1YjcgPSAkKGA8ZGl2IGlkPSJodG1sXzRjZWQzOTAyMzdmNjRlOWE5ZTIwYTMzM2FjMGZmNWI3IiBzdHlsZT0id2lkdGg6IDEwMC4wJTsgaGVpZ2h0OiAxMDAuMCU7Ij5MZWFzaWRlLCBFYXN0IFlvcmsoNi44KTwvZGl2PmApWzBdOwogICAgICAgICAgICBwb3B1cF83NmVkYjAwNTQzNjY0ZjBmYmNlZTJkNDg5MWViYWY2NC5zZXRDb250ZW50KGh0bWxfNGNlZDM5MDIzN2Y2NGU5YTllMjBhMzMzYWMwZmY1YjcpOwogICAgICAgIAoKICAgICAgICBtYXJrZXJfZDMyOGQ2MTkwZTgzNDc5Y2FkYTZiZjkwOWQyODIwOTMuYmluZFBvcHVwKHBvcHVwXzc2ZWRiMDA1NDM2NjRmMGZiY2VlMmQ0ODkxZWJhZjY0KQogICAgICAgIDsKCiAgICAgICAgCiAgICAKICAgIAogICAgICAgICAgICB2YXIgbWFya2VyXzkzNzllZmM4ZmNjYjQxODBiNDFhZjVlM2VjOGRlN2FhID0gTC5tYXJrZXIoCiAgICAgICAgICAgICAgICBbNDMuNjYyMzAxNSwgLTc5LjM4OTQ5MzhdLAogICAgICAgICAgICAgICAge30KICAgICAgICAgICAgKS5hZGRUbyhtYXBfNTA0MmIyNTg4MWNmNGRmZjk1NzFkZDA4YjFjM2Q2ZTYpOwogICAgICAgIAogICAgCiAgICAgICAgICAgIHZhciBpY29uXzk1M2Q0NzMzMGMyNDQ1YjRiNWYyMTE5ZjliY2U4ZmZiID0gTC5Bd2Vzb21lTWFya2Vycy5pY29uKAogICAgICAgICAgICAgICAgeyJleHRyYUNsYXNzZXMiOiAiZmEtcm90YXRlLTAiLCAiaWNvbiI6ICJjdXRsZXJ5IiwgImljb25Db2xvciI6ICJ3aGl0ZSIsICJtYXJrZXJDb2xvciI6ICJyZWQiLCAicHJlZml4IjogImdseXBoaWNvbiJ9CiAgICAgICAgICAgICk7CiAgICAgICAgICAgIG1hcmtlcl85Mzc5ZWZjOGZjY2I0MTgwYjQxYWY1ZTNlYzhkZTdhYS5zZXRJY29uKGljb25fOTUzZDQ3MzMwYzI0NDViNGI1ZjIxMTlmOWJjZThmZmIpOwogICAgICAgIAogICAgCiAgICAgICAgdmFyIHBvcHVwXzQ2OGJkMDEyZDI0NjQ0NGM4YTQwNmYzZGQ3NjQ2ZDFmID0gTC5wb3B1cCh7Im1heFdpZHRoIjogIjEwMCUifSk7CgogICAgICAgIAogICAgICAgICAgICB2YXIgaHRtbF8xMjZlNGQ0ODBlMWQ0NWMwOTkxODI1NDBlNjhiMjAzZiA9ICQoYDxkaXYgaWQ9Imh0bWxfMTI2ZTRkNDgwZTFkNDVjMDk5MTgyNTQwZTY4YjIwM2YiIHN0eWxlPSJ3aWR0aDogMTAwLjAlOyBoZWlnaHQ6IDEwMC4wJTsiPlF1ZWVuJ3MgUGFyaywgRG93bnRvd24gVG9yb250byg4LjApPC9kaXY+YClbMF07CiAgICAgICAgICAgIHBvcHVwXzQ2OGJkMDEyZDI0NjQ0NGM4YTQwNmYzZGQ3NjQ2ZDFmLnNldENvbnRlbnQoaHRtbF8xMjZlNGQ0ODBlMWQ0NWMwOTkxODI1NDBlNjhiMjAzZik7CiAgICAgICAgCgogICAgICAgIG1hcmtlcl85Mzc5ZWZjOGZjY2I0MTgwYjQxYWY1ZTNlYzhkZTdhYS5iaW5kUG9wdXAocG9wdXBfNDY4YmQwMTJkMjQ2NDQ0YzhhNDA2ZjNkZDc2NDZkMWYpCiAgICAgICAgOwoKICAgICAgICAKICAgIAogICAgCiAgICAgICAgICAgIHZhciBtYXJrZXJfNzg3YzQ4N2U1M2IzNDBlMjkzYzBiYzhlNjBmMDUzNDAgPSBMLm1hcmtlcigKICAgICAgICAgICAgICAgIFs0My42NzMxODUyOTk5OTk5OSwgLTc5LjQ4NzI2MTkwMDAwMDAxXSwKICAgICAgICAgICAgICAgIHt9CiAgICAgICAgICAgICkuYWRkVG8obWFwXzUwNDJiMjU4ODFjZjRkZmY5NTcxZGQwOGIxYzNkNmU2KTsKICAgICAgICAKICAgIAogICAgICAgICAgICB2YXIgaWNvbl84MmJmODVkYjg4Mzc0YzgzOGQxYmIxOWY0YmQ3OWM3ZiA9IEwuQXdlc29tZU1hcmtlcnMuaWNvbigKICAgICAgICAgICAgICAgIHsiZXh0cmFDbGFzc2VzIjogImZhLXJvdGF0ZS0wIiwgImljb24iOiAiY3V0bGVyeSIsICJpY29uQ29sb3IiOiAid2hpdGUiLCAibWFya2VyQ29sb3IiOiAicmVkIiwgInByZWZpeCI6ICJnbHlwaGljb24ifQogICAgICAgICAgICApOwogICAgICAgICAgICBtYXJrZXJfNzg3YzQ4N2U1M2IzNDBlMjkzYzBiYzhlNjBmMDUzNDAuc2V0SWNvbihpY29uXzgyYmY4NWRiODgzNzRjODM4ZDFiYjE5ZjRiZDc5YzdmKTsKICAgICAgICAKICAgIAogICAgICAgIHZhciBwb3B1cF9hYWRmZWE3OTg3YzI0NWZkYjFmNDc3Y2Q4NWQzOWEzNyA9IEwucG9wdXAoeyJtYXhXaWR0aCI6ICIxMDAlIn0pOwoKICAgICAgICAKICAgICAgICAgICAgdmFyIGh0bWxfYjVjMzhmMzQ4MGIyNGNmMzg1YmNkZWY0MDFjNDc1MDAgPSAkKGA8ZGl2IGlkPSJodG1sX2I1YzM4ZjM0ODBiMjRjZjM4NWJjZGVmNDAxYzQ3NTAwIiBzdHlsZT0id2lkdGg6IDEwMC4wJTsgaGVpZ2h0OiAxMDAuMCU7Ij5SdW5ueW1lZGUsIFlvcmsoNi42KTwvZGl2PmApWzBdOwogICAgICAgICAgICBwb3B1cF9hYWRmZWE3OTg3YzI0NWZkYjFmNDc3Y2Q4NWQzOWEzNy5zZXRDb250ZW50KGh0bWxfYjVjMzhmMzQ4MGIyNGNmMzg1YmNkZWY0MDFjNDc1MDApOwogICAgICAgIAoKICAgICAgICBtYXJrZXJfNzg3YzQ4N2U1M2IzNDBlMjkzYzBiYzhlNjBmMDUzNDAuYmluZFBvcHVwKHBvcHVwX2FhZGZlYTc5ODdjMjQ1ZmRiMWY0NzdjZDg1ZDM5YTM3KQogICAgICAgIDsKCiAgICAgICAgCiAgICAKICAgIAogICAgICAgICAgICB2YXIgbWFya2VyXzNhMzRkY2JiMGQxNDQ2ZmE4NWYxNmI0M2RkZGMzMzJiID0gTC5tYXJrZXIoCiAgICAgICAgICAgICAgICBbNDMuNjUxNTcwNiwgLTc5LjQ4NDQ0OTldLAogICAgICAgICAgICAgICAge30KICAgICAgICAgICAgKS5hZGRUbyhtYXBfNTA0MmIyNTg4MWNmNGRmZjk1NzFkZDA4YjFjM2Q2ZTYpOwogICAgICAgIAogICAgCiAgICAgICAgICAgIHZhciBpY29uXzMxMzY4NGEwNmFjOTQ5ZmJiZWQ2MmE1M2VhNmY0MDhlID0gTC5Bd2Vzb21lTWFya2Vycy5pY29uKAogICAgICAgICAgICAgICAgeyJleHRyYUNsYXNzZXMiOiAiZmEtcm90YXRlLTAiLCAiaWNvbiI6ICJjdXRsZXJ5IiwgImljb25Db2xvciI6ICJ3aGl0ZSIsICJtYXJrZXJDb2xvciI6ICJyZWQiLCAicHJlZml4IjogImdseXBoaWNvbiJ9CiAgICAgICAgICAgICk7CiAgICAgICAgICAgIG1hcmtlcl8zYTM0ZGNiYjBkMTQ0NmZhODVmMTZiNDNkZGRjMzMyYi5zZXRJY29uKGljb25fMzEzNjg0YTA2YWM5NDlmYmJlZDYyYTUzZWE2ZjQwOGUpOwogICAgICAgIAogICAgCiAgICAgICAgdmFyIHBvcHVwXzkxMzE0ODI4ZjM0MzQ2ZThhM2FhNTllOTlmZTgzZmYzID0gTC5wb3B1cCh7Im1heFdpZHRoIjogIjEwMCUifSk7CgogICAgICAgIAogICAgICAgICAgICB2YXIgaHRtbF9iNGEzZmRjOTNkODU0Y2YyYmUyYWQ1NGM4ODVjMTA3NCA9ICQoYDxkaXYgaWQ9Imh0bWxfYjRhM2ZkYzkzZDg1NGNmMmJlMmFkNTRjODg1YzEwNzQiIHN0eWxlPSJ3aWR0aDogMTAwLjAlOyBoZWlnaHQ6IDEwMC4wJTsiPlJ1bm55bWVkZSwgV2VzdCBUb3JvbnRvKDYuNik8L2Rpdj5gKVswXTsKICAgICAgICAgICAgcG9wdXBfOTEzMTQ4MjhmMzQzNDZlOGEzYWE1OWU5OWZlODNmZjMuc2V0Q29udGVudChodG1sX2I0YTNmZGM5M2Q4NTRjZjJiZTJhZDU0Yzg4NWMxMDc0KTsKICAgICAgICAKCiAgICAgICAgbWFya2VyXzNhMzRkY2JiMGQxNDQ2ZmE4NWYxNmI0M2RkZGMzMzJiLmJpbmRQb3B1cChwb3B1cF85MTMxNDgyOGYzNDM0NmU4YTNhYTU5ZTk5ZmU4M2ZmMykKICAgICAgICA7CgogICAgICAgIAogICAgCiAgICAKICAgICAgICAgICAgdmFyIG1hcmtlcl9jOGY4OGExNDhjYmU0M2I5YWZjN2JjZGQ3ZTk0YmEwOCA9IEwubWFya2VyKAogICAgICAgICAgICAgICAgWzQzLjc5OTUyNTIwMDAwMDAwNSwgLTc5LjMxODM4ODddLAogICAgICAgICAgICAgICAge30KICAgICAgICAgICAgKS5hZGRUbyhtYXBfNTA0MmIyNTg4MWNmNGRmZjk1NzFkZDA4YjFjM2Q2ZTYpOwogICAgICAgIAogICAgCiAgICAgICAgICAgIHZhciBpY29uXzkyMDE5YjA3MGY3ZjQ1MDE5MWRjYjIwMTEyMWIwZjY0ID0gTC5Bd2Vzb21lTWFya2Vycy5pY29uKAogICAgICAgICAgICAgICAgeyJleHRyYUNsYXNzZXMiOiAiZmEtcm90YXRlLTAiLCAiaWNvbiI6ICJjdXRsZXJ5IiwgImljb25Db2xvciI6ICJ3aGl0ZSIsICJtYXJrZXJDb2xvciI6ICJyZWQiLCAicHJlZml4IjogImdseXBoaWNvbiJ9CiAgICAgICAgICAgICk7CiAgICAgICAgICAgIG1hcmtlcl9jOGY4OGExNDhjYmU0M2I5YWZjN2JjZGQ3ZTk0YmEwOC5zZXRJY29uKGljb25fOTIwMTliMDcwZjdmNDUwMTkxZGNiMjAxMTIxYjBmNjQpOwogICAgICAgIAogICAgCiAgICAgICAgdmFyIHBvcHVwX2Y4MTA3NWUxNzY2MzRlNGNiZDIyOGI5MTc3MzUxZmJkID0gTC5wb3B1cCh7Im1heFdpZHRoIjogIjEwMCUifSk7CgogICAgICAgIAogICAgICAgICAgICB2YXIgaHRtbF8wN2Q5YTYwOGIwZGM0NmMxODYwMWFlN2JjMTRiN2ZiMyA9ICQoYDxkaXYgaWQ9Imh0bWxfMDdkOWE2MDhiMGRjNDZjMTg2MDFhZTdiYzE0YjdmYjMiIHN0eWxlPSJ3aWR0aDogMTAwLjAlOyBoZWlnaHQ6IDEwMC4wJTsiPlN0ZWVsZXMgV2VzdCwgU2NhcmJvcm91Z2goMC4wKTwvZGl2PmApWzBdOwogICAgICAgICAgICBwb3B1cF9mODEwNzVlMTc2NjM0ZTRjYmQyMjhiOTE3NzM1MWZiZC5zZXRDb250ZW50KGh0bWxfMDdkOWE2MDhiMGRjNDZjMTg2MDFhZTdiYzE0YjdmYjMpOwogICAgICAgIAoKICAgICAgICBtYXJrZXJfYzhmODhhMTQ4Y2JlNDNiOWFmYzdiY2RkN2U5NGJhMDguYmluZFBvcHVwKHBvcHVwX2Y4MTA3NWUxNzY2MzRlNGNiZDIyOGI5MTc3MzUxZmJkKQogICAgICAgIDsKCiAgICAgICAgCiAgICAKICAgIAogICAgICAgICAgICB2YXIgbWFya2VyXzVhYWMxOTBlOTdlMjQ4ZTI4NWM1YmQ1YTAzYzg3OTZiID0gTC5tYXJrZXIoCiAgICAgICAgICAgICAgICBbNDMuNjcyNzA5NywgLTc5LjQwNTY3ODQwMDAwMDAxXSwKICAgICAgICAgICAgICAgIHt9CiAgICAgICAgICAgICkuYWRkVG8obWFwXzUwNDJiMjU4ODFjZjRkZmY5NTcxZGQwOGIxYzNkNmU2KTsKICAgICAgICAKICAgIAogICAgICAgICAgICB2YXIgaWNvbl8yNWY1MGYzOGEzOTc0ODcyYjdlMjI0NmEyOGFjOWQ2NCA9IEwuQXdlc29tZU1hcmtlcnMuaWNvbigKICAgICAgICAgICAgICAgIHsiZXh0cmFDbGFzc2VzIjogImZhLXJvdGF0ZS0wIiwgImljb24iOiAiY3V0bGVyeSIsICJpY29uQ29sb3IiOiAid2hpdGUiLCAibWFya2VyQ29sb3IiOiAicmVkIiwgInByZWZpeCI6ICJnbHlwaGljb24ifQogICAgICAgICAgICApOwogICAgICAgICAgICBtYXJrZXJfNWFhYzE5MGU5N2UyNDhlMjg1YzViZDVhMDNjODc5NmIuc2V0SWNvbihpY29uXzI1ZjUwZjM4YTM5NzQ4NzJiN2UyMjQ2YTI4YWM5ZDY0KTsKICAgICAgICAKICAgIAogICAgICAgIHZhciBwb3B1cF8zZjI0ODQ5ZjIxOWY0NTg2YTBhODkyMzgyMjllMDc1OSA9IEwucG9wdXAoeyJtYXhXaWR0aCI6ICIxMDAlIn0pOwoKICAgICAgICAKICAgICAgICAgICAgdmFyIGh0bWxfZWZlNDc1ODlhNzEwNGEyYWI0ODhhNTY1NmJhNzE2YmYgPSAkKGA8ZGl2IGlkPSJodG1sX2VmZTQ3NTg5YTcxMDRhMmFiNDg4YTU2NTZiYTcxNmJmIiBzdHlsZT0id2lkdGg6IDEwMC4wJTsgaGVpZ2h0OiAxMDAuMCU7Ij5UaGUgQW5uZXgsIENlbnRyYWwgVG9yb250byg4LjUpPC9kaXY+YClbMF07CiAgICAgICAgICAgIHBvcHVwXzNmMjQ4NDlmMjE5ZjQ1ODZhMGE4OTIzODIyOWUwNzU5LnNldENvbnRlbnQoaHRtbF9lZmU0NzU4OWE3MTA0YTJhYjQ4OGE1NjU2YmE3MTZiZik7CiAgICAgICAgCgogICAgICAgIG1hcmtlcl81YWFjMTkwZTk3ZTI0OGUyODVjNWJkNWEwM2M4Nzk2Yi5iaW5kUG9wdXAocG9wdXBfM2YyNDg0OWYyMTlmNDU4NmEwYTg5MjM4MjI5ZTA3NTkpCiAgICAgICAgOwoKICAgICAgICAKICAgIAogICAgCiAgICAgICAgICAgIHZhciBtYXJrZXJfYjc4N2Y0YmIyY2YwNDc4NThmNGVhYTYyYmNiMWU4ZTMgPSBMLm1hcmtlcigKICAgICAgICAgICAgICAgIFs0My42NzYzNTczOTk5OTk5OSwgLTc5LjI5MzAzMTJdLAogICAgICAgICAgICAgICAge30KICAgICAgICAgICAgKS5hZGRUbyhtYXBfNTA0MmIyNTg4MWNmNGRmZjk1NzFkZDA4YjFjM2Q2ZTYpOwogICAgICAgIAogICAgCiAgICAgICAgICAgIHZhciBpY29uXzg5MmQ0MDIwNWU2ZTQwYjhiMjgxMjc4ZDMzZmZlNTY3ID0gTC5Bd2Vzb21lTWFya2Vycy5pY29uKAogICAgICAgICAgICAgICAgeyJleHRyYUNsYXNzZXMiOiAiZmEtcm90YXRlLTAiLCAiaWNvbiI6ICJjdXRsZXJ5IiwgImljb25Db2xvciI6ICJ3aGl0ZSIsICJtYXJrZXJDb2xvciI6ICJyZWQiLCAicHJlZml4IjogImdseXBoaWNvbiJ9CiAgICAgICAgICAgICk7CiAgICAgICAgICAgIG1hcmtlcl9iNzg3ZjRiYjJjZjA0Nzg1OGY0ZWFhNjJiY2IxZThlMy5zZXRJY29uKGljb25fODkyZDQwMjA1ZTZlNDBiOGIyODEyNzhkMzNmZmU1NjcpOwogICAgICAgIAogICAgCiAgICAgICAgdmFyIHBvcHVwX2NhYjU1YWEyYzNkNTRiM2RiYWU5MTY0NGY3ZjM2M2UzID0gTC5wb3B1cCh7Im1heFdpZHRoIjogIjEwMCUifSk7CgogICAgICAgIAogICAgICAgICAgICB2YXIgaHRtbF8zMjQ3YzFmODA0ZmM0MDM3OWQ5ZDkzZDgwYjgzMzY2NSA9ICQoYDxkaXYgaWQ9Imh0bWxfMzI0N2MxZjgwNGZjNDAzNzlkOWQ5M2Q4MGI4MzM2NjUiIHN0eWxlPSJ3aWR0aDogMTAwLjAlOyBoZWlnaHQ6IDEwMC4wJTsiPlRoZSBCZWFjaGVzLCBFYXN0IFRvcm9udG8oNi45KTwvZGl2PmApWzBdOwogICAgICAgICAgICBwb3B1cF9jYWI1NWFhMmMzZDU0YjNkYmFlOTE2NDRmN2YzNjNlMy5zZXRDb250ZW50KGh0bWxfMzI0N2MxZjgwNGZjNDAzNzlkOWQ5M2Q4MGI4MzM2NjUpOwogICAgICAgIAoKICAgICAgICBtYXJrZXJfYjc4N2Y0YmIyY2YwNDc4NThmNGVhYTYyYmNiMWU4ZTMuYmluZFBvcHVwKHBvcHVwX2NhYjU1YWEyYzNkNTRiM2RiYWU5MTY0NGY3ZjM2M2UzKQogICAgICAgIDsKCiAgICAgICAgCiAgICAKICAgIAogICAgICAgICAgICB2YXIgbWFya2VyXzRkMTJiOTc0NmJiMDQ0YTFhM2IxMjUzZTVmYzUzN2Q4ID0gTC5tYXJrZXIoCiAgICAgICAgICAgICAgICBbNDMuNjc5NTU3MSwgLTc5LjM1MjE4OF0sCiAgICAgICAgICAgICAgICB7fQogICAgICAgICAgICApLmFkZFRvKG1hcF81MDQyYjI1ODgxY2Y0ZGZmOTU3MWRkMDhiMWMzZDZlNik7CiAgICAgICAgCiAgICAKICAgICAgICAgICAgdmFyIGljb25fNzNkYzBiNDQ5ZDMwNDUzNzljZjliZWRlNDJkZTk1NzYgPSBMLkF3ZXNvbWVNYXJrZXJzLmljb24oCiAgICAgICAgICAgICAgICB7ImV4dHJhQ2xhc3NlcyI6ICJmYS1yb3RhdGUtMCIsICJpY29uIjogImN1dGxlcnkiLCAiaWNvbkNvbG9yIjogIndoaXRlIiwgIm1hcmtlckNvbG9yIjogInJlZCIsICJwcmVmaXgiOiAiZ2x5cGhpY29uIn0KICAgICAgICAgICAgKTsKICAgICAgICAgICAgbWFya2VyXzRkMTJiOTc0NmJiMDQ0YTFhM2IxMjUzZTVmYzUzN2Q4LnNldEljb24oaWNvbl83M2RjMGI0NDlkMzA0NTM3OWNmOWJlZGU0MmRlOTU3Nik7CiAgICAgICAgCiAgICAKICAgICAgICB2YXIgcG9wdXBfOWZhMWM4NDczOTU5NDVjOTk2MDVlNjUwOTg1NTIzZDMgPSBMLnBvcHVwKHsibWF4V2lkdGgiOiAiMTAwJSJ9KTsKCiAgICAgICAgCiAgICAgICAgICAgIHZhciBodG1sXzJhMWVjMzlkMTY3ZjQ1ZDI5MzU2OWU0NDY4ZTIzZWI0ID0gJChgPGRpdiBpZD0iaHRtbF8yYTFlYzM5ZDE2N2Y0NWQyOTM1NjllNDQ2OGUyM2ViNCIgc3R5bGU9IndpZHRoOiAxMDAuMCU7IGhlaWdodDogMTAwLjAlOyI+VGhlIERhbmZvcnRoIFdlc3QsIEVhc3QgVG9yb250byg3LjEpPC9kaXY+YClbMF07CiAgICAgICAgICAgIHBvcHVwXzlmYTFjODQ3Mzk1OTQ1Yzk5NjA1ZTY1MDk4NTUyM2QzLnNldENvbnRlbnQoaHRtbF8yYTFlYzM5ZDE2N2Y0NWQyOTM1NjllNDQ2OGUyM2ViNCk7CiAgICAgICAgCgogICAgICAgIG1hcmtlcl80ZDEyYjk3NDZiYjA0NGExYTNiMTI1M2U1ZmM1MzdkOC5iaW5kUG9wdXAocG9wdXBfOWZhMWM4NDczOTU5NDVjOTk2MDVlNjUwOTg1NTIzZDMpCiAgICAgICAgOwoKICAgICAgICAKICAgIAogICAgCiAgICAgICAgICAgIHZhciBtYXJrZXJfYmUxMjIxMGNmYWVlNGQ0ZmIwOGY2OWNhMjRmZDQzZGEgPSBMLm1hcmtlcigKICAgICAgICAgICAgICAgIFs0My43MDUzNjg5LCAtNzkuMzQ5MzcxOTAwMDAwMDFdLAogICAgICAgICAgICAgICAge30KICAgICAgICAgICAgKS5hZGRUbyhtYXBfNTA0MmIyNTg4MWNmNGRmZjk1NzFkZDA4YjFjM2Q2ZTYpOwogICAgICAgIAogICAgCiAgICAgICAgICAgIHZhciBpY29uXzE2N2RiOTM3OTcxODRkODQ4MmYzMWJhOTcwZDkxNDg3ID0gTC5Bd2Vzb21lTWFya2Vycy5pY29uKAogICAgICAgICAgICAgICAgeyJleHRyYUNsYXNzZXMiOiAiZmEtcm90YXRlLTAiLCAiaWNvbiI6ICJjdXRsZXJ5IiwgImljb25Db2xvciI6ICJ3aGl0ZSIsICJtYXJrZXJDb2xvciI6ICJyZWQiLCAicHJlZml4IjogImdseXBoaWNvbiJ9CiAgICAgICAgICAgICk7CiAgICAgICAgICAgIG1hcmtlcl9iZTEyMjEwY2ZhZWU0ZDRmYjA4ZjY5Y2EyNGZkNDNkYS5zZXRJY29uKGljb25fMTY3ZGI5Mzc5NzE4NGQ4NDgyZjMxYmE5NzBkOTE0ODcpOwogICAgICAgIAogICAgCiAgICAgICAgdmFyIHBvcHVwXzgyYTJiNzMxMTJmNDQ2ZmU4NzlhMjMwNDAzMzVlZWY0ID0gTC5wb3B1cCh7Im1heFdpZHRoIjogIjEwMCUifSk7CgogICAgICAgIAogICAgICAgICAgICB2YXIgaHRtbF9iZjUyZTUxNDIyMGU0NmViODlhMzMyMjdjNDA1MWNiMyA9ICQoYDxkaXYgaWQ9Imh0bWxfYmY1MmU1MTQyMjBlNDZlYjg5YTMzMjI3YzQwNTFjYjMiIHN0eWxlPSJ3aWR0aDogMTAwLjAlOyBoZWlnaHQ6IDEwMC4wJTsiPlRob3JuY2xpZmZlIFBhcmssIEVhc3QgWW9yayg1LjEyNSk8L2Rpdj5gKVswXTsKICAgICAgICAgICAgcG9wdXBfODJhMmI3MzExMmY0NDZmZTg3OWEyMzA0MDMzNWVlZjQuc2V0Q29udGVudChodG1sX2JmNTJlNTE0MjIwZTQ2ZWI4OWEzMzIyN2M0MDUxY2IzKTsKICAgICAgICAKCiAgICAgICAgbWFya2VyX2JlMTIyMTBjZmFlZTRkNGZiMDhmNjljYTI0ZmQ0M2RhLmJpbmRQb3B1cChwb3B1cF84MmEyYjczMTEyZjQ0NmZlODc5YTIzMDQwMzM1ZWVmNCkKICAgICAgICA7CgogICAgICAgIAogICAgCiAgICAKICAgICAgICAgICAgdmFyIG1hcmtlcl8zZTVmYTQ5N2EyZTg0YmI0YWUwZTZlNTI0ZTIwZWZlMSA9IEwubWFya2VyKAogICAgICAgICAgICAgICAgWzQzLjc4OTA1MywgLTc5LjQwODQ5Mjc5OTk5OTk5XSwKICAgICAgICAgICAgICAgIHt9CiAgICAgICAgICAgICkuYWRkVG8obWFwXzUwNDJiMjU4ODFjZjRkZmY5NTcxZGQwOGIxYzNkNmU2KTsKICAgICAgICAKICAgIAogICAgICAgICAgICB2YXIgaWNvbl9jYjVkYjU2Zjg1ZjM0Y2E2OTAwNjU4NTk0YjUxYjdjYSA9IEwuQXdlc29tZU1hcmtlcnMuaWNvbigKICAgICAgICAgICAgICAgIHsiZXh0cmFDbGFzc2VzIjogImZhLXJvdGF0ZS0wIiwgImljb24iOiAiY3V0bGVyeSIsICJpY29uQ29sb3IiOiAid2hpdGUiLCAibWFya2VyQ29sb3IiOiAicmVkIiwgInByZWZpeCI6ICJnbHlwaGljb24ifQogICAgICAgICAgICApOwogICAgICAgICAgICBtYXJrZXJfM2U1ZmE0OTdhMmU4NGJiNGFlMGU2ZTUyNGUyMGVmZTEuc2V0SWNvbihpY29uX2NiNWRiNTZmODVmMzRjYTY5MDA2NTg1OTRiNTFiN2NhKTsKICAgICAgICAKICAgIAogICAgICAgIHZhciBwb3B1cF80YTQyYjA0MDU4MWI0NTA1YTYyOWExYjgxNzczYzcyOCA9IEwucG9wdXAoeyJtYXhXaWR0aCI6ICIxMDAlIn0pOwoKICAgICAgICAKICAgICAgICAgICAgdmFyIGh0bWxfMmM4ZGE1MWU4YjVkNDQ5Yzg1YzMxNmI2MmQ1ZGY4M2QgPSAkKGA8ZGl2IGlkPSJodG1sXzJjOGRhNTFlOGI1ZDQ0OWM4NWMzMTZiNjJkNWRmODNkIiBzdHlsZT0id2lkdGg6IDEwMC4wJTsgaGVpZ2h0OiAxMDAuMCU7Ij5XaWxsb3dkYWxlLCBOb3J0aCBZb3JrKDYuMSk8L2Rpdj5gKVswXTsKICAgICAgICAgICAgcG9wdXBfNGE0MmIwNDA1ODFiNDUwNWE2MjlhMWI4MTc3M2M3Mjguc2V0Q29udGVudChodG1sXzJjOGRhNTFlOGI1ZDQ0OWM4NWMzMTZiNjJkNWRmODNkKTsKICAgICAgICAKCiAgICAgICAgbWFya2VyXzNlNWZhNDk3YTJlODRiYjRhZTBlNmU1MjRlMjBlZmUxLmJpbmRQb3B1cChwb3B1cF80YTQyYjA0MDU4MWI0NTA1YTYyOWExYjgxNzczYzcyOCkKICAgICAgICA7CgogICAgICAgIAogICAgCiAgICAKICAgICAgICAgICAgdmFyIGZlYXR1cmVfZ3JvdXBfNTk1OTI5MTViZTA5NGZhMzlhZmJhMTBlMjRkNWQ3ZjcgPSBMLmZlYXR1cmVHcm91cCgKICAgICAgICAgICAgICAgIHt9CiAgICAgICAgICAgICkuYWRkVG8obWFwXzUwNDJiMjU4ODFjZjRkZmY5NTcxZGQwOGIxYzNkNmU2KTsKICAgICAgICAKICAgIAogICAgICAgICAgICB2YXIgY2lyY2xlX21hcmtlcl9kOWMwZmRkMDU2Njk0MzE3ODZiOGIxMGE0NGNmZWY2YiA9IEwuY2lyY2xlTWFya2VyKAogICAgICAgICAgICAgICAgWzQzLjczMzI4MjUsIC03OS40MTk3NDk3XSwKICAgICAgICAgICAgICAgIHsiYnViYmxpbmdNb3VzZUV2ZW50cyI6IHRydWUsICJjb2xvciI6ICJibGFjayIsICJkYXNoQXJyYXkiOiBudWxsLCAiZGFzaE9mZnNldCI6IG51bGwsICJmaWxsIjogdHJ1ZSwgImZpbGxDb2xvciI6ICJyZWQiLCAiZmlsbE9wYWNpdHkiOiAwLjYsICJmaWxsUnVsZSI6ICJldmVub2RkIiwgImxpbmVDYXAiOiAicm91bmQiLCAibGluZUpvaW4iOiAicm91bmQiLCAib3BhY2l0eSI6IDEuMCwgInJhZGl1cyI6IDEwLCAic3Ryb2tlIjogdHJ1ZSwgIndlaWdodCI6IDN9CiAgICAgICAgICAgICkuYWRkVG8oZmVhdHVyZV9ncm91cF81OTU5MjkxNWJlMDk0ZmEzOWFmYmExMGUyNGQ1ZDdmNyk7CiAgICAgICAgCiAgICAKICAgICAgICAgICAgdmFyIGNpcmNsZV9tYXJrZXJfNWU3ZWYyMDM5MDE5NGJhNmJiMTZkMzBhMDYzNTkxMzcgPSBMLmNpcmNsZU1hcmtlcigKICAgICAgICAgICAgICAgIFs0My42MzY4NDcyLCAtNzkuNDI4MTkxNDAwMDAwMDJdLAogICAgICAgICAgICAgICAgeyJidWJibGluZ01vdXNlRXZlbnRzIjogdHJ1ZSwgImNvbG9yIjogImJsYWNrIiwgImRhc2hBcnJheSI6IG51bGwsICJkYXNoT2Zmc2V0IjogbnVsbCwgImZpbGwiOiB0cnVlLCAiZmlsbENvbG9yIjogInJlZCIsICJmaWxsT3BhY2l0eSI6IDAuNiwgImZpbGxSdWxlIjogImV2ZW5vZGQiLCAibGluZUNhcCI6ICJyb3VuZCIsICJsaW5lSm9pbiI6ICJyb3VuZCIsICJvcGFjaXR5IjogMS4wLCAicmFkaXVzIjogMTAsICJzdHJva2UiOiB0cnVlLCAid2VpZ2h0IjogM30KICAgICAgICAgICAgKS5hZGRUbyhmZWF0dXJlX2dyb3VwXzU5NTkyOTE1YmUwOTRmYTM5YWZiYTEwZTI0ZDVkN2Y3KTsKICAgICAgICAKICAgIAogICAgICAgICAgICB2YXIgY2lyY2xlX21hcmtlcl9jMWRiZDgxZTMyZGM0ZDM4YTkwZDFlNDkxODFmOGZlMyA9IEwuY2lyY2xlTWFya2VyKAogICAgICAgICAgICAgICAgWzQzLjYzNjk2NTYsIC03OS42MTU4MTg5OTk5OTk5OV0sCiAgICAgICAgICAgICAgICB7ImJ1YmJsaW5nTW91c2VFdmVudHMiOiB0cnVlLCAiY29sb3IiOiAiYmxhY2siLCAiZGFzaEFycmF5IjogbnVsbCwgImRhc2hPZmZzZXQiOiBudWxsLCAiZmlsbCI6IHRydWUsICJmaWxsQ29sb3IiOiAicmVkIiwgImZpbGxPcGFjaXR5IjogMC42LCAiZmlsbFJ1bGUiOiAiZXZlbm9kZCIsICJsaW5lQ2FwIjogInJvdW5kIiwgImxpbmVKb2luIjogInJvdW5kIiwgIm9wYWNpdHkiOiAxLjAsICJyYWRpdXMiOiAxMCwgInN0cm9rZSI6IHRydWUsICJ3ZWlnaHQiOiAzfQogICAgICAgICAgICApLmFkZFRvKGZlYXR1cmVfZ3JvdXBfNTk1OTI5MTViZTA5NGZhMzlhZmJhMTBlMjRkNWQ3ZjcpOwogICAgICAgIAogICAgCiAgICAgICAgICAgIHZhciBjaXJjbGVfbWFya2VyX2FlODU5NTNhNWY3MDQ5MTBhYjRmMGQ5ZmQ4OTJkMmQ3ID0gTC5jaXJjbGVNYXJrZXIoCiAgICAgICAgICAgICAgICBbNDMuNzczMTM2LCAtNzkuMjM5NDc2MDk5OTk5OTldLAogICAgICAgICAgICAgICAgeyJidWJibGluZ01vdXNlRXZlbnRzIjogdHJ1ZSwgImNvbG9yIjogImJsYWNrIiwgImRhc2hBcnJheSI6IG51bGwsICJkYXNoT2Zmc2V0IjogbnVsbCwgImZpbGwiOiB0cnVlLCAiZmlsbENvbG9yIjogInJlZCIsICJmaWxsT3BhY2l0eSI6IDAuNiwgImZpbGxSdWxlIjogImV2ZW5vZGQiLCAibGluZUNhcCI6ICJyb3VuZCIsICJsaW5lSm9pbiI6ICJyb3VuZCIsICJvcGFjaXR5IjogMS4wLCAicmFkaXVzIjogMTAsICJzdHJva2UiOiB0cnVlLCAid2VpZ2h0IjogM30KICAgICAgICAgICAgKS5hZGRUbyhmZWF0dXJlX2dyb3VwXzU5NTkyOTE1YmUwOTRmYTM5YWZiYTEwZTI0ZDVkN2Y3KTsKICAgICAgICAKICAgIAogICAgICAgICAgICB2YXIgY2lyY2xlX21hcmtlcl9mNDU1NzM1NGE3MGE0YTJkOTc2NjBiNTM3OTI3YTYwNCA9IEwuY2lyY2xlTWFya2VyKAogICAgICAgICAgICAgICAgWzQzLjY2OTU0MiwgLTc5LjQyMjU2MzddLAogICAgICAgICAgICAgICAgeyJidWJibGluZ01vdXNlRXZlbnRzIjogdHJ1ZSwgImNvbG9yIjogImJsYWNrIiwgImRhc2hBcnJheSI6IG51bGwsICJkYXNoT2Zmc2V0IjogbnVsbCwgImZpbGwiOiB0cnVlLCAiZmlsbENvbG9yIjogInJlZCIsICJmaWxsT3BhY2l0eSI6IDAuNiwgImZpbGxSdWxlIjogImV2ZW5vZGQiLCAibGluZUNhcCI6ICJyb3VuZCIsICJsaW5lSm9pbiI6ICJyb3VuZCIsICJvcGFjaXR5IjogMS4wLCAicmFkaXVzIjogMTAsICJzdHJva2UiOiB0cnVlLCAid2VpZ2h0IjogM30KICAgICAgICAgICAgKS5hZGRUbyhmZWF0dXJlX2dyb3VwXzU5NTkyOTE1YmUwOTRmYTM5YWZiYTEwZTI0ZDVkN2Y3KTsKICAgICAgICAKICAgIAogICAgICAgICAgICB2YXIgY2lyY2xlX21hcmtlcl9jZjcxYTllOTJmMTc0NDUxYWVmODhlN2E5Mzk2ZDkwYSA9IEwuY2lyY2xlTWFya2VyKAogICAgICAgICAgICAgICAgWzQzLjY2NTg1OTksIC03OS4zODMxNTk5MDAwMDAwMV0sCiAgICAgICAgICAgICAgICB7ImJ1YmJsaW5nTW91c2VFdmVudHMiOiB0cnVlLCAiY29sb3IiOiAiYmxhY2siLCAiZGFzaEFycmF5IjogbnVsbCwgImRhc2hPZmZzZXQiOiBudWxsLCAiZmlsbCI6IHRydWUsICJmaWxsQ29sb3IiOiAicmVkIiwgImZpbGxPcGFjaXR5IjogMC42LCAiZmlsbFJ1bGUiOiAiZXZlbm9kZCIsICJsaW5lQ2FwIjogInJvdW5kIiwgImxpbmVKb2luIjogInJvdW5kIiwgIm9wYWNpdHkiOiAxLjAsICJyYWRpdXMiOiAxMCwgInN0cm9rZSI6IHRydWUsICJ3ZWlnaHQiOiAzfQogICAgICAgICAgICApLmFkZFRvKGZlYXR1cmVfZ3JvdXBfNTk1OTI5MTViZTA5NGZhMzlhZmJhMTBlMjRkNWQ3ZjcpOwogICAgICAgIAogICAgCiAgICAgICAgICAgIHZhciBjaXJjbGVfbWFya2VyXzViYzljN2MwOTZiZjRkNjFhNmYxY2RjMzM3YTVjMThhID0gTC5jaXJjbGVNYXJrZXIoCiAgICAgICAgICAgICAgICBbNDMuNzA0MzI0NCwgLTc5LjM4ODc5MDFdLAogICAgICAgICAgICAgICAgeyJidWJibGluZ01vdXNlRXZlbnRzIjogdHJ1ZSwgImNvbG9yIjogImJsYWNrIiwgImRhc2hBcnJheSI6IG51bGwsICJkYXNoT2Zmc2V0IjogbnVsbCwgImZpbGwiOiB0cnVlLCAiZmlsbENvbG9yIjogInJlZCIsICJmaWxsT3BhY2l0eSI6IDAuNiwgImZpbGxSdWxlIjogImV2ZW5vZGQiLCAibGluZUNhcCI6ICJyb3VuZCIsICJsaW5lSm9pbiI6ICJyb3VuZCIsICJvcGFjaXR5IjogMS4wLCAicmFkaXVzIjogMTAsICJzdHJva2UiOiB0cnVlLCAid2VpZ2h0IjogM30KICAgICAgICAgICAgKS5hZGRUbyhmZWF0dXJlX2dyb3VwXzU5NTkyOTE1YmUwOTRmYTM5YWZiYTEwZTI0ZDVkN2Y3KTsKICAgICAgICAKICAgIAogICAgICAgICAgICB2YXIgY2lyY2xlX21hcmtlcl81NjgxNThjMjFmZWU0MGU4ODc3ZDJiOTI2YjUzOTVkOCA9IEwuY2lyY2xlTWFya2VyKAogICAgICAgICAgICAgICAgWzQzLjc1NzQwOTYsIC03OS4yNzMzMDQwMDAwMDAwMV0sCiAgICAgICAgICAgICAgICB7ImJ1YmJsaW5nTW91c2VFdmVudHMiOiB0cnVlLCAiY29sb3IiOiAiYmxhY2siLCAiZGFzaEFycmF5IjogbnVsbCwgImRhc2hPZmZzZXQiOiBudWxsLCAiZmlsbCI6IHRydWUsICJmaWxsQ29sb3IiOiAicmVkIiwgImZpbGxPcGFjaXR5IjogMC42LCAiZmlsbFJ1bGUiOiAiZXZlbm9kZCIsICJsaW5lQ2FwIjogInJvdW5kIiwgImxpbmVKb2luIjogInJvdW5kIiwgIm9wYWNpdHkiOiAxLjAsICJyYWRpdXMiOiAxMCwgInN0cm9rZSI6IHRydWUsICJ3ZWlnaHQiOiAzfQogICAgICAgICAgICApLmFkZFRvKGZlYXR1cmVfZ3JvdXBfNTk1OTI5MTViZTA5NGZhMzlhZmJhMTBlMjRkNWQ3ZjcpOwogICAgICAgIAogICAgCiAgICAgICAgICAgIHZhciBjaXJjbGVfbWFya2VyX2UwNWZjMTIzMmJmMjQyYzk4ZDBkZTM1ODZiZDk5Y2Y2ID0gTC5jaXJjbGVNYXJrZXIoCiAgICAgICAgICAgICAgICBbNDMuNjQwODE1NywgLTc5LjM4MTc1MjI5OTk5OTk5XSwKICAgICAgICAgICAgICAgIHsiYnViYmxpbmdNb3VzZUV2ZW50cyI6IHRydWUsICJjb2xvciI6ICJibGFjayIsICJkYXNoQXJyYXkiOiBudWxsLCAiZGFzaE9mZnNldCI6IG51bGwsICJmaWxsIjogdHJ1ZSwgImZpbGxDb2xvciI6ICJyZWQiLCAiZmlsbE9wYWNpdHkiOiAwLjYsICJmaWxsUnVsZSI6ICJldmVub2RkIiwgImxpbmVDYXAiOiAicm91bmQiLCAibGluZUpvaW4iOiAicm91bmQiLCAib3BhY2l0eSI6IDEuMCwgInJhZGl1cyI6IDEwLCAic3Ryb2tlIjogdHJ1ZSwgIndlaWdodCI6IDN9CiAgICAgICAgICAgICkuYWRkVG8oZmVhdHVyZV9ncm91cF81OTU5MjkxNWJlMDk0ZmEzOWFmYmExMGUyNGQ1ZDdmNyk7CiAgICAgICAgCiAgICAKICAgICAgICAgICAgdmFyIGNpcmNsZV9tYXJrZXJfMTAzOGJkY2I2NTlhNGRmYzhhYmNhM2FlMTEyZWEwNDEgPSBMLmNpcmNsZU1hcmtlcigKICAgICAgICAgICAgICAgIFs0My42NjE2MDgzLCAtNzkuNDY0NzYzMjk5OTk5OTldLAogICAgICAgICAgICAgICAgeyJidWJibGluZ01vdXNlRXZlbnRzIjogdHJ1ZSwgImNvbG9yIjogImJsYWNrIiwgImRhc2hBcnJheSI6IG51bGwsICJkYXNoT2Zmc2V0IjogbnVsbCwgImZpbGwiOiB0cnVlLCAiZmlsbENvbG9yIjogInJlZCIsICJmaWxsT3BhY2l0eSI6IDAuNiwgImZpbGxSdWxlIjogImV2ZW5vZGQiLCAibGluZUNhcCI6ICJyb3VuZCIsICJsaW5lSm9pbiI6ICJyb3VuZCIsICJvcGFjaXR5IjogMS4wLCAicmFkaXVzIjogMTAsICJzdHJva2UiOiB0cnVlLCAid2VpZ2h0IjogM30KICAgICAgICAgICAgKS5hZGRUbyhmZWF0dXJlX2dyb3VwXzU5NTkyOTE1YmUwOTRmYTM5YWZiYTEwZTI0ZDVkN2Y3KTsKICAgICAgICAKICAgIAogICAgICAgICAgICB2YXIgY2lyY2xlX21hcmtlcl8wNmI2NmYyZWViMTY0Zjc0YjNmYjZhNjMxMmU2NDk0NyA9IEwuY2lyY2xlTWFya2VyKAogICAgICAgICAgICAgICAgWzQzLjY2ODk5ODUsIC03OS4zMTU1NzE1OTk5OTk5OF0sCiAgICAgICAgICAgICAgICB7ImJ1YmJsaW5nTW91c2VFdmVudHMiOiB0cnVlLCAiY29sb3IiOiAiYmxhY2siLCAiZGFzaEFycmF5IjogbnVsbCwgImRhc2hPZmZzZXQiOiBudWxsLCAiZmlsbCI6IHRydWUsICJmaWxsQ29sb3IiOiAicmVkIiwgImZpbGxPcGFjaXR5IjogMC42LCAiZmlsbFJ1bGUiOiAiZXZlbm9kZCIsICJsaW5lQ2FwIjogInJvdW5kIiwgImxpbmVKb2luIjogInJvdW5kIiwgIm9wYWNpdHkiOiAxLjAsICJyYWRpdXMiOiAxMCwgInN0cm9rZSI6IHRydWUsICJ3ZWlnaHQiOiAzfQogICAgICAgICAgICApLmFkZFRvKGZlYXR1cmVfZ3JvdXBfNTk1OTI5MTViZTA5NGZhMzlhZmJhMTBlMjRkNWQ3ZjcpOwogICAgICAgIAogICAgCiAgICAgICAgICAgIHZhciBjaXJjbGVfbWFya2VyXzkyOTUwMGIyOTc3NTRlYWU5YWZiYjQwZmM1YmNjNTUxID0gTC5jaXJjbGVNYXJrZXIoCiAgICAgICAgICAgICAgICBbNDMuNjUzMjA1NywgLTc5LjQwMDA0OTNdLAogICAgICAgICAgICAgICAgeyJidWJibGluZ01vdXNlRXZlbnRzIjogdHJ1ZSwgImNvbG9yIjogImJsYWNrIiwgImRhc2hBcnJheSI6IG51bGwsICJkYXNoT2Zmc2V0IjogbnVsbCwgImZpbGwiOiB0cnVlLCAiZmlsbENvbG9yIjogInJlZCIsICJmaWxsT3BhY2l0eSI6IDAuNiwgImZpbGxSdWxlIjogImV2ZW5vZGQiLCAibGluZUNhcCI6ICJyb3VuZCIsICJsaW5lSm9pbiI6ICJyb3VuZCIsICJvcGFjaXR5IjogMS4wLCAicmFkaXVzIjogMTAsICJzdHJva2UiOiB0cnVlLCAid2VpZ2h0IjogM30KICAgICAgICAgICAgKS5hZGRUbyhmZWF0dXJlX2dyb3VwXzU5NTkyOTE1YmUwOTRmYTM5YWZiYTEwZTI0ZDVkN2Y3KTsKICAgICAgICAKICAgIAogICAgICAgICAgICB2YXIgY2lyY2xlX21hcmtlcl83YTgyMDYyNjY0YTI0YzVkYjIwMTJhNjExMmQzMDNlYyA9IEwuY2lyY2xlTWFya2VyKAogICAgICAgICAgICAgICAgWzQzLjcwOTA2MDQsIC03OS4zNjM0NTE3XSwKICAgICAgICAgICAgICAgIHsiYnViYmxpbmdNb3VzZUV2ZW50cyI6IHRydWUsICJjb2xvciI6ICJibGFjayIsICJkYXNoQXJyYXkiOiBudWxsLCAiZGFzaE9mZnNldCI6IG51bGwsICJmaWxsIjogdHJ1ZSwgImZpbGxDb2xvciI6ICJyZWQiLCAiZmlsbE9wYWNpdHkiOiAwLjYsICJmaWxsUnVsZSI6ICJldmVub2RkIiwgImxpbmVDYXAiOiAicm91bmQiLCAibGluZUpvaW4iOiAicm91bmQiLCAib3BhY2l0eSI6IDEuMCwgInJhZGl1cyI6IDEwLCAic3Ryb2tlIjogdHJ1ZSwgIndlaWdodCI6IDN9CiAgICAgICAgICAgICkuYWRkVG8oZmVhdHVyZV9ncm91cF81OTU5MjkxNWJlMDk0ZmEzOWFmYmExMGUyNGQ1ZDdmNyk7CiAgICAgICAgCiAgICAKICAgICAgICAgICAgdmFyIGNpcmNsZV9tYXJrZXJfOTY1Yjk2ZjkxMzdjNGQ0YTkzMzk1ODY0YmUwY2NlMzcgPSBMLmNpcmNsZU1hcmtlcigKICAgICAgICAgICAgICAgIFs0My42NjIzMDE1LCAtNzkuMzg5NDkzOF0sCiAgICAgICAgICAgICAgICB7ImJ1YmJsaW5nTW91c2VFdmVudHMiOiB0cnVlLCAiY29sb3IiOiAiYmxhY2siLCAiZGFzaEFycmF5IjogbnVsbCwgImRhc2hPZmZzZXQiOiBudWxsLCAiZmlsbCI6IHRydWUsICJmaWxsQ29sb3IiOiAicmVkIiwgImZpbGxPcGFjaXR5IjogMC42LCAiZmlsbFJ1bGUiOiAiZXZlbm9kZCIsICJsaW5lQ2FwIjogInJvdW5kIiwgImxpbmVKb2luIjogInJvdW5kIiwgIm9wYWNpdHkiOiAxLjAsICJyYWRpdXMiOiAxMCwgInN0cm9rZSI6IHRydWUsICJ3ZWlnaHQiOiAzfQogICAgICAgICAgICApLmFkZFRvKGZlYXR1cmVfZ3JvdXBfNTk1OTI5MTViZTA5NGZhMzlhZmJhMTBlMjRkNWQ3ZjcpOwogICAgICAgIAogICAgCiAgICAgICAgICAgIHZhciBjaXJjbGVfbWFya2VyX2RjM2M0Nzg5Mzk4NDQzYTg5MDM5MDM3ZjRjMzZjNGUyID0gTC5jaXJjbGVNYXJrZXIoCiAgICAgICAgICAgICAgICBbNDMuNjczMTg1Mjk5OTk5OTksIC03OS40ODcyNjE5MDAwMDAwMV0sCiAgICAgICAgICAgICAgICB7ImJ1YmJsaW5nTW91c2VFdmVudHMiOiB0cnVlLCAiY29sb3IiOiAiYmxhY2siLCAiZGFzaEFycmF5IjogbnVsbCwgImRhc2hPZmZzZXQiOiBudWxsLCAiZmlsbCI6IHRydWUsICJmaWxsQ29sb3IiOiAicmVkIiwgImZpbGxPcGFjaXR5IjogMC42LCAiZmlsbFJ1bGUiOiAiZXZlbm9kZCIsICJsaW5lQ2FwIjogInJvdW5kIiwgImxpbmVKb2luIjogInJvdW5kIiwgIm9wYWNpdHkiOiAxLjAsICJyYWRpdXMiOiAxMCwgInN0cm9rZSI6IHRydWUsICJ3ZWlnaHQiOiAzfQogICAgICAgICAgICApLmFkZFRvKGZlYXR1cmVfZ3JvdXBfNTk1OTI5MTViZTA5NGZhMzlhZmJhMTBlMjRkNWQ3ZjcpOwogICAgICAgIAogICAgCiAgICAgICAgICAgIHZhciBjaXJjbGVfbWFya2VyXzkyOWIwYzcyYmM1NTQyYTg4ODY5OTBjNGJkNzJlMmY5ID0gTC5jaXJjbGVNYXJrZXIoCiAgICAgICAgICAgICAgICBbNDMuNjUxNTcwNiwgLTc5LjQ4NDQ0OTldLAogICAgICAgICAgICAgICAgeyJidWJibGluZ01vdXNlRXZlbnRzIjogdHJ1ZSwgImNvbG9yIjogImJsYWNrIiwgImRhc2hBcnJheSI6IG51bGwsICJkYXNoT2Zmc2V0IjogbnVsbCwgImZpbGwiOiB0cnVlLCAiZmlsbENvbG9yIjogInJlZCIsICJmaWxsT3BhY2l0eSI6IDAuNiwgImZpbGxSdWxlIjogImV2ZW5vZGQiLCAibGluZUNhcCI6ICJyb3VuZCIsICJsaW5lSm9pbiI6ICJyb3VuZCIsICJvcGFjaXR5IjogMS4wLCAicmFkaXVzIjogMTAsICJzdHJva2UiOiB0cnVlLCAid2VpZ2h0IjogM30KICAgICAgICAgICAgKS5hZGRUbyhmZWF0dXJlX2dyb3VwXzU5NTkyOTE1YmUwOTRmYTM5YWZiYTEwZTI0ZDVkN2Y3KTsKICAgICAgICAKICAgIAogICAgICAgICAgICB2YXIgY2lyY2xlX21hcmtlcl84ZjQzODQxMTQyODU0NzA3YjlkNWU1ZWM0Y2I4MWRkYSA9IEwuY2lyY2xlTWFya2VyKAogICAgICAgICAgICAgICAgWzQzLjc5OTUyNTIwMDAwMDAwNSwgLTc5LjMxODM4ODddLAogICAgICAgICAgICAgICAgeyJidWJibGluZ01vdXNlRXZlbnRzIjogdHJ1ZSwgImNvbG9yIjogImJsYWNrIiwgImRhc2hBcnJheSI6IG51bGwsICJkYXNoT2Zmc2V0IjogbnVsbCwgImZpbGwiOiB0cnVlLCAiZmlsbENvbG9yIjogInJlZCIsICJmaWxsT3BhY2l0eSI6IDAuNiwgImZpbGxSdWxlIjogImV2ZW5vZGQiLCAibGluZUNhcCI6ICJyb3VuZCIsICJsaW5lSm9pbiI6ICJyb3VuZCIsICJvcGFjaXR5IjogMS4wLCAicmFkaXVzIjogMTAsICJzdHJva2UiOiB0cnVlLCAid2VpZ2h0IjogM30KICAgICAgICAgICAgKS5hZGRUbyhmZWF0dXJlX2dyb3VwXzU5NTkyOTE1YmUwOTRmYTM5YWZiYTEwZTI0ZDVkN2Y3KTsKICAgICAgICAKICAgIAogICAgICAgICAgICB2YXIgY2lyY2xlX21hcmtlcl9kYTM1MzljMjNkMWQ0OThlYWNiMTg2ZDY5YzNmMTNlZCA9IEwuY2lyY2xlTWFya2VyKAogICAgICAgICAgICAgICAgWzQzLjY3MjcwOTcsIC03OS40MDU2Nzg0MDAwMDAwMV0sCiAgICAgICAgICAgICAgICB7ImJ1YmJsaW5nTW91c2VFdmVudHMiOiB0cnVlLCAiY29sb3IiOiAiYmxhY2siLCAiZGFzaEFycmF5IjogbnVsbCwgImRhc2hPZmZzZXQiOiBudWxsLCAiZmlsbCI6IHRydWUsICJmaWxsQ29sb3IiOiAicmVkIiwgImZpbGxPcGFjaXR5IjogMC42LCAiZmlsbFJ1bGUiOiAiZXZlbm9kZCIsICJsaW5lQ2FwIjogInJvdW5kIiwgImxpbmVKb2luIjogInJvdW5kIiwgIm9wYWNpdHkiOiAxLjAsICJyYWRpdXMiOiAxMCwgInN0cm9rZSI6IHRydWUsICJ3ZWlnaHQiOiAzfQogICAgICAgICAgICApLmFkZFRvKGZlYXR1cmVfZ3JvdXBfNTk1OTI5MTViZTA5NGZhMzlhZmJhMTBlMjRkNWQ3ZjcpOwogICAgICAgIAogICAgCiAgICAgICAgICAgIHZhciBjaXJjbGVfbWFya2VyXzk2ZTY4YjI4OTMwMDRlYmE5MGM5NmNhMWE1ZDQyNWNkID0gTC5jaXJjbGVNYXJrZXIoCiAgICAgICAgICAgICAgICBbNDMuNjc2MzU3Mzk5OTk5OTksIC03OS4yOTMwMzEyXSwKICAgICAgICAgICAgICAgIHsiYnViYmxpbmdNb3VzZUV2ZW50cyI6IHRydWUsICJjb2xvciI6ICJibGFjayIsICJkYXNoQXJyYXkiOiBudWxsLCAiZGFzaE9mZnNldCI6IG51bGwsICJmaWxsIjogdHJ1ZSwgImZpbGxDb2xvciI6ICJyZWQiLCAiZmlsbE9wYWNpdHkiOiAwLjYsICJmaWxsUnVsZSI6ICJldmVub2RkIiwgImxpbmVDYXAiOiAicm91bmQiLCAibGluZUpvaW4iOiAicm91bmQiLCAib3BhY2l0eSI6IDEuMCwgInJhZGl1cyI6IDEwLCAic3Ryb2tlIjogdHJ1ZSwgIndlaWdodCI6IDN9CiAgICAgICAgICAgICkuYWRkVG8oZmVhdHVyZV9ncm91cF81OTU5MjkxNWJlMDk0ZmEzOWFmYmExMGUyNGQ1ZDdmNyk7CiAgICAgICAgCiAgICAKICAgICAgICAgICAgdmFyIGNpcmNsZV9tYXJrZXJfMWM1NzBmM2JmMjZmNDY1ZGE3Y2RjNzRhMWM0ODU2ZGIgPSBMLmNpcmNsZU1hcmtlcigKICAgICAgICAgICAgICAgIFs0My42Nzk1NTcxLCAtNzkuMzUyMTg4XSwKICAgICAgICAgICAgICAgIHsiYnViYmxpbmdNb3VzZUV2ZW50cyI6IHRydWUsICJjb2xvciI6ICJibGFjayIsICJkYXNoQXJyYXkiOiBudWxsLCAiZGFzaE9mZnNldCI6IG51bGwsICJmaWxsIjogdHJ1ZSwgImZpbGxDb2xvciI6ICJyZWQiLCAiZmlsbE9wYWNpdHkiOiAwLjYsICJmaWxsUnVsZSI6ICJldmVub2RkIiwgImxpbmVDYXAiOiAicm91bmQiLCAibGluZUpvaW4iOiAicm91bmQiLCAib3BhY2l0eSI6IDEuMCwgInJhZGl1cyI6IDEwLCAic3Ryb2tlIjogdHJ1ZSwgIndlaWdodCI6IDN9CiAgICAgICAgICAgICkuYWRkVG8oZmVhdHVyZV9ncm91cF81OTU5MjkxNWJlMDk0ZmEzOWFmYmExMGUyNGQ1ZDdmNyk7CiAgICAgICAgCiAgICAKICAgICAgICAgICAgdmFyIGNpcmNsZV9tYXJrZXJfNjZlZjJlNjAyYTg0NDFiYmEwNmYwMTZhNGQwYjE5MGQgPSBMLmNpcmNsZU1hcmtlcigKICAgICAgICAgICAgICAgIFs0My43MDUzNjg5LCAtNzkuMzQ5MzcxOTAwMDAwMDFdLAogICAgICAgICAgICAgICAgeyJidWJibGluZ01vdXNlRXZlbnRzIjogdHJ1ZSwgImNvbG9yIjogImJsYWNrIiwgImRhc2hBcnJheSI6IG51bGwsICJkYXNoT2Zmc2V0IjogbnVsbCwgImZpbGwiOiB0cnVlLCAiZmlsbENvbG9yIjogInJlZCIsICJmaWxsT3BhY2l0eSI6IDAuNiwgImZpbGxSdWxlIjogImV2ZW5vZGQiLCAibGluZUNhcCI6ICJyb3VuZCIsICJsaW5lSm9pbiI6ICJyb3VuZCIsICJvcGFjaXR5IjogMS4wLCAicmFkaXVzIjogMTAsICJzdHJva2UiOiB0cnVlLCAid2VpZ2h0IjogM30KICAgICAgICAgICAgKS5hZGRUbyhmZWF0dXJlX2dyb3VwXzU5NTkyOTE1YmUwOTRmYTM5YWZiYTEwZTI0ZDVkN2Y3KTsKICAgICAgICAKICAgIAogICAgICAgICAgICB2YXIgY2lyY2xlX21hcmtlcl9mZDRhMzJkYWU2NGE0ZjcwOTYwN2MyOGI2MGU5MDY3ZCA9IEwuY2lyY2xlTWFya2VyKAogICAgICAgICAgICAgICAgWzQzLjc4OTA1MywgLTc5LjQwODQ5Mjc5OTk5OTk5XSwKICAgICAgICAgICAgICAgIHsiYnViYmxpbmdNb3VzZUV2ZW50cyI6IHRydWUsICJjb2xvciI6ICJibGFjayIsICJkYXNoQXJyYXkiOiBudWxsLCAiZGFzaE9mZnNldCI6IG51bGwsICJmaWxsIjogdHJ1ZSwgImZpbGxDb2xvciI6ICJyZWQiLCAiZmlsbE9wYWNpdHkiOiAwLjYsICJmaWxsUnVsZSI6ICJldmVub2RkIiwgImxpbmVDYXAiOiAicm91bmQiLCAibGluZUpvaW4iOiAicm91bmQiLCAib3BhY2l0eSI6IDEuMCwgInJhZGl1cyI6IDEwLCAic3Ryb2tlIjogdHJ1ZSwgIndlaWdodCI6IDN9CiAgICAgICAgICAgICkuYWRkVG8oZmVhdHVyZV9ncm91cF81OTU5MjkxNWJlMDk0ZmEzOWFmYmExMGUyNGQ1ZDdmNyk7CiAgICAgICAgCiAgICAKICAgICAgICAgICAgdmFyIG1hcmtlcl85MDg0YmQyMTI1NmQ0MTcyOGE5NzMwZTcyYmNmODBmOSA9IEwubWFya2VyKAogICAgICAgICAgICAgICAgWzQzLjczMzI4MjUsIC03OS40MTk3NDk3XSwKICAgICAgICAgICAgICAgIHt9CiAgICAgICAgICAgICkuYWRkVG8obWFwXzUwNDJiMjU4ODFjZjRkZmY5NTcxZGQwOGIxYzNkNmU2KTsKICAgICAgICAKICAgIAogICAgICAgICAgICB2YXIgaWNvbl83NGNlYWQyMGMxN2M0ODE5OGY0NmI1MGYwYzBhNjI2NCA9IEwuQXdlc29tZU1hcmtlcnMuaWNvbigKICAgICAgICAgICAgICAgIHsiZXh0cmFDbGFzc2VzIjogImZhLXJvdGF0ZS0wIiwgImljb24iOiAiY3V0bGVyeSIsICJpY29uQ29sb3IiOiAid2hpdGUiLCAibWFya2VyQ29sb3IiOiAicmVkIiwgInByZWZpeCI6ICJnbHlwaGljb24ifQogICAgICAgICAgICApOwogICAgICAgICAgICBtYXJrZXJfOTA4NGJkMjEyNTZkNDE3MjhhOTczMGU3MmJjZjgwZjkuc2V0SWNvbihpY29uXzc0Y2VhZDIwYzE3YzQ4MTk4ZjQ2YjUwZjBjMGE2MjY0KTsKICAgICAgICAKICAgIAogICAgICAgIHZhciBwb3B1cF85OThlMDFiMjcxZDI0NTFmOWU0ZmVkZjgwZjgxZDM3NiA9IEwucG9wdXAoeyJtYXhXaWR0aCI6ICIxMDAlIn0pOwoKICAgICAgICAKICAgICAgICAgICAgdmFyIGh0bWxfNTUwYjdiMmI3NzhjNDMwZTg0ZmQzMDJhNjBmOWFmOTIgPSAkKGA8ZGl2IGlkPSJodG1sXzU1MGI3YjJiNzc4YzQzMGU4NGZkMzAyYTYwZjlhZjkyIiBzdHlsZT0id2lkdGg6IDEwMC4wJTsgaGVpZ2h0OiAxMDAuMCU7Ij5CZWRmb3JkIFBhcmssIE5vcnRoIFlvcmsoNy4zKTwvZGl2PmApWzBdOwogICAgICAgICAgICBwb3B1cF85OThlMDFiMjcxZDI0NTFmOWU0ZmVkZjgwZjgxZDM3Ni5zZXRDb250ZW50KGh0bWxfNTUwYjdiMmI3NzhjNDMwZTg0ZmQzMDJhNjBmOWFmOTIpOwogICAgICAgIAoKICAgICAgICBtYXJrZXJfOTA4NGJkMjEyNTZkNDE3MjhhOTczMGU3MmJjZjgwZjkuYmluZFBvcHVwKHBvcHVwXzk5OGUwMWIyNzFkMjQ1MWY5ZTRmZWRmODBmODFkMzc2KQogICAgICAgIDsKCiAgICAgICAgCiAgICAKICAgIAogICAgICAgICAgICB2YXIgbWFya2VyXzM4YjIxZjNiZmZlOTRiNjI4OTY5ZDQ3MjkzMzY4OTE0ID0gTC5tYXJrZXIoCiAgICAgICAgICAgICAgICBbNDMuNjM2ODQ3MiwgLTc5LjQyODE5MTQwMDAwMDAyXSwKICAgICAgICAgICAgICAgIHt9CiAgICAgICAgICAgICkuYWRkVG8obWFwXzUwNDJiMjU4ODFjZjRkZmY5NTcxZGQwOGIxYzNkNmU2KTsKICAgICAgICAKICAgIAogICAgICAgICAgICB2YXIgaWNvbl82MDg1OTRiOGIxMDg0NWQ3OTAxYWFiNGMyZDY4MWVmZCA9IEwuQXdlc29tZU1hcmtlcnMuaWNvbigKICAgICAgICAgICAgICAgIHsiZXh0cmFDbGFzc2VzIjogImZhLXJvdGF0ZS0wIiwgImljb24iOiAiY3V0bGVyeSIsICJpY29uQ29sb3IiOiAid2hpdGUiLCAibWFya2VyQ29sb3IiOiAicmVkIiwgInByZWZpeCI6ICJnbHlwaGljb24ifQogICAgICAgICAgICApOwogICAgICAgICAgICBtYXJrZXJfMzhiMjFmM2JmZmU5NGI2Mjg5NjlkNDcyOTMzNjg5MTQuc2V0SWNvbihpY29uXzYwODU5NGI4YjEwODQ1ZDc5MDFhYWI0YzJkNjgxZWZkKTsKICAgICAgICAKICAgIAogICAgICAgIHZhciBwb3B1cF9lNmRhY2YzZGNiNmE0MGJkODg4MTA1Y2NmNmUxY2I0NSA9IEwucG9wdXAoeyJtYXhXaWR0aCI6ICIxMDAlIn0pOwoKICAgICAgICAKICAgICAgICAgICAgdmFyIGh0bWxfODU1ZGZkNmJjMzZjNGRjZmIyZjFiNDRlZjQ4MTNjNjkgPSAkKGA8ZGl2IGlkPSJodG1sXzg1NWRmZDZiYzM2YzRkY2ZiMmYxYjQ0ZWY0ODEzYzY5IiBzdHlsZT0id2lkdGg6IDEwMC4wJTsgaGVpZ2h0OiAxMDAuMCU7Ij5Ccm9ja3RvbiwgV2VzdCBUb3JvbnRvKDguMik8L2Rpdj5gKVswXTsKICAgICAgICAgICAgcG9wdXBfZTZkYWNmM2RjYjZhNDBiZDg4ODEwNWNjZjZlMWNiNDUuc2V0Q29udGVudChodG1sXzg1NWRmZDZiYzM2YzRkY2ZiMmYxYjQ0ZWY0ODEzYzY5KTsKICAgICAgICAKCiAgICAgICAgbWFya2VyXzM4YjIxZjNiZmZlOTRiNjI4OTY5ZDQ3MjkzMzY4OTE0LmJpbmRQb3B1cChwb3B1cF9lNmRhY2YzZGNiNmE0MGJkODg4MTA1Y2NmNmUxY2I0NSkKICAgICAgICA7CgogICAgICAgIAogICAgCiAgICAKICAgICAgICAgICAgdmFyIG1hcmtlcl80OTBmZjI2YWE0MTQ0MmFkOWQ1NDBkNzcwYTg4NjdiNCA9IEwubWFya2VyKAogICAgICAgICAgICAgICAgWzQzLjYzNjk2NTYsIC03OS42MTU4MTg5OTk5OTk5OV0sCiAgICAgICAgICAgICAgICB7fQogICAgICAgICAgICApLmFkZFRvKG1hcF81MDQyYjI1ODgxY2Y0ZGZmOTU3MWRkMDhiMWMzZDZlNik7CiAgICAgICAgCiAgICAKICAgICAgICAgICAgdmFyIGljb25fZTE5MzgxM2QzMjVkNDlkNDllZDFlMjc0ZmU2M2RlMGMgPSBMLkF3ZXNvbWVNYXJrZXJzLmljb24oCiAgICAgICAgICAgICAgICB7ImV4dHJhQ2xhc3NlcyI6ICJmYS1yb3RhdGUtMCIsICJpY29uIjogImN1dGxlcnkiLCAiaWNvbkNvbG9yIjogIndoaXRlIiwgIm1hcmtlckNvbG9yIjogInJlZCIsICJwcmVmaXgiOiAiZ2x5cGhpY29uIn0KICAgICAgICAgICAgKTsKICAgICAgICAgICAgbWFya2VyXzQ5MGZmMjZhYTQxNDQyYWQ5ZDU0MGQ3NzBhODg2N2I0LnNldEljb24oaWNvbl9lMTkzODEzZDMyNWQ0OWQ0OWVkMWUyNzRmZTYzZGUwYyk7CiAgICAgICAgCiAgICAKICAgICAgICB2YXIgcG9wdXBfNGQ0ODc4YTUyZTliNGRiNDliZjY0NmFmMjliNmZjMjIgPSBMLnBvcHVwKHsibWF4V2lkdGgiOiAiMTAwJSJ9KTsKCiAgICAgICAgCiAgICAgICAgICAgIHZhciBodG1sXzMwNWU3ZTQ5MGM4MzQ4NGFiM2NjNmE2NDU4OTEzYTI4ID0gJChgPGRpdiBpZD0iaHRtbF8zMDVlN2U0OTBjODM0ODRhYjNjYzZhNjQ1ODkxM2EyOCIgc3R5bGU9IndpZHRoOiAxMDAuMCU7IGhlaWdodDogMTAwLjAlOyI+Q2FuYWRhIFBvc3QgR2F0ZXdheSBQcm9jZXNzaW5nIENlbnRyZSwgTWlzc2lzc2F1Z2EoNi4zNSk8L2Rpdj5gKVswXTsKICAgICAgICAgICAgcG9wdXBfNGQ0ODc4YTUyZTliNGRiNDliZjY0NmFmMjliNmZjMjIuc2V0Q29udGVudChodG1sXzMwNWU3ZTQ5MGM4MzQ4NGFiM2NjNmE2NDU4OTEzYTI4KTsKICAgICAgICAKCiAgICAgICAgbWFya2VyXzQ5MGZmMjZhYTQxNDQyYWQ5ZDU0MGQ3NzBhODg2N2I0LmJpbmRQb3B1cChwb3B1cF80ZDQ4NzhhNTJlOWI0ZGI0OWJmNjQ2YWYyOWI2ZmMyMikKICAgICAgICA7CgogICAgICAgIAogICAgCiAgICAKICAgICAgICAgICAgdmFyIG1hcmtlcl8xYmE3NGQ4NmViZWI0NjRiYjM5N2Q0ZjE2NTQ1OWVhNCA9IEwubWFya2VyKAogICAgICAgICAgICAgICAgWzQzLjc3MzEzNiwgLTc5LjIzOTQ3NjA5OTk5OTk5XSwKICAgICAgICAgICAgICAgIHt9CiAgICAgICAgICAgICkuYWRkVG8obWFwXzUwNDJiMjU4ODFjZjRkZmY5NTcxZGQwOGIxYzNkNmU2KTsKICAgICAgICAKICAgIAogICAgICAgICAgICB2YXIgaWNvbl83Y2I3OTVkYWM2ZTc0NDljODJlZmE3ZWUzMjg4OWJiYyA9IEwuQXdlc29tZU1hcmtlcnMuaWNvbigKICAgICAgICAgICAgICAgIHsiZXh0cmFDbGFzc2VzIjogImZhLXJvdGF0ZS0wIiwgImljb24iOiAiY3V0bGVyeSIsICJpY29uQ29sb3IiOiAid2hpdGUiLCAibWFya2VyQ29sb3IiOiAicmVkIiwgInByZWZpeCI6ICJnbHlwaGljb24ifQogICAgICAgICAgICApOwogICAgICAgICAgICBtYXJrZXJfMWJhNzRkODZlYmViNDY0YmIzOTdkNGYxNjU0NTllYTQuc2V0SWNvbihpY29uXzdjYjc5NWRhYzZlNzQ0OWM4MmVmYTdlZTMyODg5YmJjKTsKICAgICAgICAKICAgIAogICAgICAgIHZhciBwb3B1cF8zMmIxMTA0MzU5MWE0NThjOWMwYzZkMDNlYmEwNzZlNCA9IEwucG9wdXAoeyJtYXhXaWR0aCI6ICIxMDAlIn0pOwoKICAgICAgICAKICAgICAgICAgICAgdmFyIGh0bWxfMWE0MDY5ZjZhZTNjNDE2NGJlNWEyOTE0NThkOWZjNWEgPSAkKGA8ZGl2IGlkPSJodG1sXzFhNDA2OWY2YWUzYzQxNjRiZTVhMjkxNDU4ZDlmYzVhIiBzdHlsZT0id2lkdGg6IDEwMC4wJTsgaGVpZ2h0OiAxMDAuMCU7Ij5DZWRhcmJyYWUsIFNjYXJib3JvdWdoKDcuMzAwMDAwMDAwMDAwMDAxKTwvZGl2PmApWzBdOwogICAgICAgICAgICBwb3B1cF8zMmIxMTA0MzU5MWE0NThjOWMwYzZkMDNlYmEwNzZlNC5zZXRDb250ZW50KGh0bWxfMWE0MDY5ZjZhZTNjNDE2NGJlNWEyOTE0NThkOWZjNWEpOwogICAgICAgIAoKICAgICAgICBtYXJrZXJfMWJhNzRkODZlYmViNDY0YmIzOTdkNGYxNjU0NTllYTQuYmluZFBvcHVwKHBvcHVwXzMyYjExMDQzNTkxYTQ1OGM5YzBjNmQwM2ViYTA3NmU0KQogICAgICAgIDsKCiAgICAgICAgCiAgICAKICAgIAogICAgICAgICAgICB2YXIgbWFya2VyXzI0NGZlNzg1MmE2MTRlZWQ5MWNmMGFlYTM0OTNjZDVjID0gTC5tYXJrZXIoCiAgICAgICAgICAgICAgICBbNDMuNjY5NTQyLCAtNzkuNDIyNTYzN10sCiAgICAgICAgICAgICAgICB7fQogICAgICAgICAgICApLmFkZFRvKG1hcF81MDQyYjI1ODgxY2Y0ZGZmOTU3MWRkMDhiMWMzZDZlNik7CiAgICAgICAgCiAgICAKICAgICAgICAgICAgdmFyIGljb25fMWJjMjdkNWMyMmM3NGMwNmI2OWQyMDMwZmQyNzhjM2QgPSBMLkF3ZXNvbWVNYXJrZXJzLmljb24oCiAgICAgICAgICAgICAgICB7ImV4dHJhQ2xhc3NlcyI6ICJmYS1yb3RhdGUtMCIsICJpY29uIjogImN1dGxlcnkiLCAiaWNvbkNvbG9yIjogIndoaXRlIiwgIm1hcmtlckNvbG9yIjogInJlZCIsICJwcmVmaXgiOiAiZ2x5cGhpY29uIn0KICAgICAgICAgICAgKTsKICAgICAgICAgICAgbWFya2VyXzI0NGZlNzg1MmE2MTRlZWQ5MWNmMGFlYTM0OTNjZDVjLnNldEljb24oaWNvbl8xYmMyN2Q1YzIyYzc0YzA2YjY5ZDIwMzBmZDI3OGMzZCk7CiAgICAgICAgCiAgICAKICAgICAgICB2YXIgcG9wdXBfMTJkYjlhNDcyZjlmNGU4ODg3NmIzOWQwM2Y4ZTBlMWEgPSBMLnBvcHVwKHsibWF4V2lkdGgiOiAiMTAwJSJ9KTsKCiAgICAgICAgCiAgICAgICAgICAgIHZhciBodG1sXzhiODIzODYwOGFhZDQ5NGM5NDA5NmMzZTU5N2M4OGI2ID0gJChgPGRpdiBpZD0iaHRtbF84YjgyMzg2MDhhYWQ0OTRjOTQwOTZjM2U1OTdjODhiNiIgc3R5bGU9IndpZHRoOiAxMDAuMCU7IGhlaWdodDogMTAwLjAlOyI+Q2hyaXN0aWUsIERvd250b3duIFRvcm9udG8oOC4yKTwvZGl2PmApWzBdOwogICAgICAgICAgICBwb3B1cF8xMmRiOWE0NzJmOWY0ZTg4ODc2YjM5ZDAzZjhlMGUxYS5zZXRDb250ZW50KGh0bWxfOGI4MjM4NjA4YWFkNDk0Yzk0MDk2YzNlNTk3Yzg4YjYpOwogICAgICAgIAoKICAgICAgICBtYXJrZXJfMjQ0ZmU3ODUyYTYxNGVlZDkxY2YwYWVhMzQ5M2NkNWMuYmluZFBvcHVwKHBvcHVwXzEyZGI5YTQ3MmY5ZjRlODg4NzZiMzlkMDNmOGUwZTFhKQogICAgICAgIDsKCiAgICAgICAgCiAgICAKICAgIAogICAgICAgICAgICB2YXIgbWFya2VyXzUxYTE4OGU2MmY4MzQzYTRiOGI2NjkyZDNhNTUyODVkID0gTC5tYXJrZXIoCiAgICAgICAgICAgICAgICBbNDMuNjY1ODU5OSwgLTc5LjM4MzE1OTkwMDAwMDAxXSwKICAgICAgICAgICAgICAgIHt9CiAgICAgICAgICAgICkuYWRkVG8obWFwXzUwNDJiMjU4ODFjZjRkZmY5NTcxZGQwOGIxYzNkNmU2KTsKICAgICAgICAKICAgIAogICAgICAgICAgICB2YXIgaWNvbl8wMTUzNTczOTI4MTU0MTM5ODQ3MmU5MDEyYzdkZDNiNSA9IEwuQXdlc29tZU1hcmtlcnMuaWNvbigKICAgICAgICAgICAgICAgIHsiZXh0cmFDbGFzc2VzIjogImZhLXJvdGF0ZS0wIiwgImljb24iOiAiY3V0bGVyeSIsICJpY29uQ29sb3IiOiAid2hpdGUiLCAibWFya2VyQ29sb3IiOiAicmVkIiwgInByZWZpeCI6ICJnbHlwaGljb24ifQogICAgICAgICAgICApOwogICAgICAgICAgICBtYXJrZXJfNTFhMTg4ZTYyZjgzNDNhNGI4YjY2OTJkM2E1NTI4NWQuc2V0SWNvbihpY29uXzAxNTM1NzM5MjgxNTQxMzk4NDcyZTkwMTJjN2RkM2I1KTsKICAgICAgICAKICAgIAogICAgICAgIHZhciBwb3B1cF9mZTFlYTU1OGQ3MGM0ZTgxOTBhNzEzMTIzZWIzZjJjMiA9IEwucG9wdXAoeyJtYXhXaWR0aCI6ICIxMDAlIn0pOwoKICAgICAgICAKICAgICAgICAgICAgdmFyIGh0bWxfNDIwZDg0MGIwOTY0NDMyZmJjMjRmOTUxMjBjZDMxZTAgPSAkKGA8ZGl2IGlkPSJodG1sXzQyMGQ4NDBiMDk2NDQzMmZiYzI0Zjk1MTIwY2QzMWUwIiBzdHlsZT0id2lkdGg6IDEwMC4wJTsgaGVpZ2h0OiAxMDAuMCU7Ij5DaHVyY2ggYW5kIFdlbGxlc2xleSwgRG93bnRvd24gVG9yb250byg4LjA1KTwvZGl2PmApWzBdOwogICAgICAgICAgICBwb3B1cF9mZTFlYTU1OGQ3MGM0ZTgxOTBhNzEzMTIzZWIzZjJjMi5zZXRDb250ZW50KGh0bWxfNDIwZDg0MGIwOTY0NDMyZmJjMjRmOTUxMjBjZDMxZTApOwogICAgICAgIAoKICAgICAgICBtYXJrZXJfNTFhMTg4ZTYyZjgzNDNhNGI4YjY2OTJkM2E1NTI4NWQuYmluZFBvcHVwKHBvcHVwX2ZlMWVhNTU4ZDcwYzRlODE5MGE3MTMxMjNlYjNmMmMyKQogICAgICAgIDsKCiAgICAgICAgCiAgICAKICAgIAogICAgICAgICAgICB2YXIgbWFya2VyXzkyYzU1ZWM1YWMyODQ5NDE4ZTA3Y2Y2MDk3YmRiMWQzID0gTC5tYXJrZXIoCiAgICAgICAgICAgICAgICBbNDMuNzA0MzI0NCwgLTc5LjM4ODc5MDFdLAogICAgICAgICAgICAgICAge30KICAgICAgICAgICAgKS5hZGRUbyhtYXBfNTA0MmIyNTg4MWNmNGRmZjk1NzFkZDA4YjFjM2Q2ZTYpOwogICAgICAgIAogICAgCiAgICAgICAgICAgIHZhciBpY29uXzRhN2FjOTg3NWIyYjRhYTBhYjMyODg2ZDhhMTQyYjRkID0gTC5Bd2Vzb21lTWFya2Vycy5pY29uKAogICAgICAgICAgICAgICAgeyJleHRyYUNsYXNzZXMiOiAiZmEtcm90YXRlLTAiLCAiaWNvbiI6ICJjdXRsZXJ5IiwgImljb25Db2xvciI6ICJ3aGl0ZSIsICJtYXJrZXJDb2xvciI6ICJyZWQiLCAicHJlZml4IjogImdseXBoaWNvbiJ9CiAgICAgICAgICAgICk7CiAgICAgICAgICAgIG1hcmtlcl85MmM1NWVjNWFjMjg0OTQxOGUwN2NmNjA5N2JkYjFkMy5zZXRJY29uKGljb25fNGE3YWM5ODc1YjJiNGFhMGFiMzI4ODZkOGExNDJiNGQpOwogICAgICAgIAogICAgCiAgICAgICAgdmFyIHBvcHVwXzEwOWU4NjFiNjg2ODQ2ODQ5MmY0ODI0NjdkYjgzYzQ4ID0gTC5wb3B1cCh7Im1heFdpZHRoIjogIjEwMCUifSk7CgogICAgICAgIAogICAgICAgICAgICB2YXIgaHRtbF8yZTQ4NDUyYWY3MGY0MDJmYjVhNzVlMzhlNjljMjM0MSA9ICQoYDxkaXYgaWQ9Imh0bWxfMmU0ODQ1MmFmNzBmNDAyZmI1YTc1ZTM4ZTY5YzIzNDEiIHN0eWxlPSJ3aWR0aDogMTAwLjAlOyBoZWlnaHQ6IDEwMC4wJTsiPkRhdmlzdmlsbGUsIENlbnRyYWwgVG9yb250byg3LjUpPC9kaXY+YClbMF07CiAgICAgICAgICAgIHBvcHVwXzEwOWU4NjFiNjg2ODQ2ODQ5MmY0ODI0NjdkYjgzYzQ4LnNldENvbnRlbnQoaHRtbF8yZTQ4NDUyYWY3MGY0MDJmYjVhNzVlMzhlNjljMjM0MSk7CiAgICAgICAgCgogICAgICAgIG1hcmtlcl85MmM1NWVjNWFjMjg0OTQxOGUwN2NmNjA5N2JkYjFkMy5iaW5kUG9wdXAocG9wdXBfMTA5ZTg2MWI2ODY4NDY4NDkyZjQ4MjQ2N2RiODNjNDgpCiAgICAgICAgOwoKICAgICAgICAKICAgIAogICAgCiAgICAgICAgICAgIHZhciBtYXJrZXJfMGY5NTg0YjI3MDM3NGQ5NDk0NDlmMmUzN2I1NWM4ZjggPSBMLm1hcmtlcigKICAgICAgICAgICAgICAgIFs0My43NTc0MDk2LCAtNzkuMjczMzA0MDAwMDAwMDFdLAogICAgICAgICAgICAgICAge30KICAgICAgICAgICAgKS5hZGRUbyhtYXBfNTA0MmIyNTg4MWNmNGRmZjk1NzFkZDA4YjFjM2Q2ZTYpOwogICAgICAgIAogICAgCiAgICAgICAgICAgIHZhciBpY29uXzVlZGY5ZGU5NzQ0NTQxZjBhZDQ5YTJhNjdkOWM3YWIzID0gTC5Bd2Vzb21lTWFya2Vycy5pY29uKAogICAgICAgICAgICAgICAgeyJleHRyYUNsYXNzZXMiOiAiZmEtcm90YXRlLTAiLCAiaWNvbiI6ICJjdXRsZXJ5IiwgImljb25Db2xvciI6ICJ3aGl0ZSIsICJtYXJrZXJDb2xvciI6ICJyZWQiLCAicHJlZml4IjogImdseXBoaWNvbiJ9CiAgICAgICAgICAgICk7CiAgICAgICAgICAgIG1hcmtlcl8wZjk1ODRiMjcwMzc0ZDk0OTQ0OWYyZTM3YjU1YzhmOC5zZXRJY29uKGljb25fNWVkZjlkZTk3NDQ1NDFmMGFkNDlhMmE2N2Q5YzdhYjMpOwogICAgICAgIAogICAgCiAgICAgICAgdmFyIHBvcHVwXzRlNGU2ZDc4NzM3YTQ0ZDhiNzY0NzVmMzQ0OWExZDNjID0gTC5wb3B1cCh7Im1heFdpZHRoIjogIjEwMCUifSk7CgogICAgICAgIAogICAgICAgICAgICB2YXIgaHRtbF9jZWIwYzQwNzIwNWU0NzI5OWQ4ZDMyMjJjOTcyZGFlOCA9ICQoYDxkaXYgaWQ9Imh0bWxfY2ViMGM0MDcyMDVlNDcyOTlkOGQzMjIyYzk3MmRhZTgiIHN0eWxlPSJ3aWR0aDogMTAwLjAlOyBoZWlnaHQ6IDEwMC4wJTsiPkRvcnNldCBQYXJrLCBTY2FyYm9yb3VnaCg2LjM1KTwvZGl2PmApWzBdOwogICAgICAgICAgICBwb3B1cF80ZTRlNmQ3ODczN2E0NGQ4Yjc2NDc1ZjM0NDlhMWQzYy5zZXRDb250ZW50KGh0bWxfY2ViMGM0MDcyMDVlNDcyOTlkOGQzMjIyYzk3MmRhZTgpOwogICAgICAgIAoKICAgICAgICBtYXJrZXJfMGY5NTg0YjI3MDM3NGQ5NDk0NDlmMmUzN2I1NWM4ZjguYmluZFBvcHVwKHBvcHVwXzRlNGU2ZDc4NzM3YTQ0ZDhiNzY0NzVmMzQ0OWExZDNjKQogICAgICAgIDsKCiAgICAgICAgCiAgICAKICAgIAogICAgICAgICAgICB2YXIgbWFya2VyX2I4NTJjMGI4NTE3NTQzNjBhODU2NjhhNGIzZDJkM2FhID0gTC5tYXJrZXIoCiAgICAgICAgICAgICAgICBbNDMuNjQwODE1NywgLTc5LjM4MTc1MjI5OTk5OTk5XSwKICAgICAgICAgICAgICAgIHt9CiAgICAgICAgICAgICkuYWRkVG8obWFwXzUwNDJiMjU4ODFjZjRkZmY5NTcxZGQwOGIxYzNkNmU2KTsKICAgICAgICAKICAgIAogICAgICAgICAgICB2YXIgaWNvbl80ZmYxODU2OGVhMGE0MDJmODllMzZjZTA1OTFmYThhOSA9IEwuQXdlc29tZU1hcmtlcnMuaWNvbigKICAgICAgICAgICAgICAgIHsiZXh0cmFDbGFzc2VzIjogImZhLXJvdGF0ZS0wIiwgImljb24iOiAiY3V0bGVyeSIsICJpY29uQ29sb3IiOiAid2hpdGUiLCAibWFya2VyQ29sb3IiOiAicmVkIiwgInByZWZpeCI6ICJnbHlwaGljb24ifQogICAgICAgICAgICApOwogICAgICAgICAgICBtYXJrZXJfYjg1MmMwYjg1MTc1NDM2MGE4NTY2OGE0YjNkMmQzYWEuc2V0SWNvbihpY29uXzRmZjE4NTY4ZWEwYTQwMmY4OWUzNmNlMDU5MWZhOGE5KTsKICAgICAgICAKICAgIAogICAgICAgIHZhciBwb3B1cF83YjJiNjBhM2EwOTA0NzEzYTM1MjA3M2ZhYjIyYmRjNyA9IEwucG9wdXAoeyJtYXhXaWR0aCI6ICIxMDAlIn0pOwoKICAgICAgICAKICAgICAgICAgICAgdmFyIGh0bWxfOWQ1NWI0OGE4OWI1NGM5MWFkNWE2ZGEwYTIzZWUyNWQgPSAkKGA8ZGl2IGlkPSJodG1sXzlkNTViNDhhODliNTRjOTFhZDVhNmRhMGEyM2VlMjVkIiBzdHlsZT0id2lkdGg6IDEwMC4wJTsgaGVpZ2h0OiAxMDAuMCU7Ij5IYXJib3VyZnJvbnQgRWFzdCwgRG93bnRvd24gVG9yb250byg3LjEpPC9kaXY+YClbMF07CiAgICAgICAgICAgIHBvcHVwXzdiMmI2MGEzYTA5MDQ3MTNhMzUyMDczZmFiMjJiZGM3LnNldENvbnRlbnQoaHRtbF85ZDU1YjQ4YTg5YjU0YzkxYWQ1YTZkYTBhMjNlZTI1ZCk7CiAgICAgICAgCgogICAgICAgIG1hcmtlcl9iODUyYzBiODUxNzU0MzYwYTg1NjY4YTRiM2QyZDNhYS5iaW5kUG9wdXAocG9wdXBfN2IyYjYwYTNhMDkwNDcxM2EzNTIwNzNmYWIyMmJkYzcpCiAgICAgICAgOwoKICAgICAgICAKICAgIAogICAgCiAgICAgICAgICAgIHZhciBtYXJrZXJfZDUyN2FhMzk5M2ZhNGQ2ZWJhYzBjYjEyNWJlZDE1NzYgPSBMLm1hcmtlcigKICAgICAgICAgICAgICAgIFs0My42NjE2MDgzLCAtNzkuNDY0NzYzMjk5OTk5OTldLAogICAgICAgICAgICAgICAge30KICAgICAgICAgICAgKS5hZGRUbyhtYXBfNTA0MmIyNTg4MWNmNGRmZjk1NzFkZDA4YjFjM2Q2ZTYpOwogICAgICAgIAogICAgCiAgICAgICAgICAgIHZhciBpY29uXzE0MGY4ZDkyMGNkYjRhYjI5ZWZiYWQ4YTU4NzRlY2IxID0gTC5Bd2Vzb21lTWFya2Vycy5pY29uKAogICAgICAgICAgICAgICAgeyJleHRyYUNsYXNzZXMiOiAiZmEtcm90YXRlLTAiLCAiaWNvbiI6ICJjdXRsZXJ5IiwgImljb25Db2xvciI6ICJ3aGl0ZSIsICJtYXJrZXJDb2xvciI6ICJyZWQiLCAicHJlZml4IjogImdseXBoaWNvbiJ9CiAgICAgICAgICAgICk7CiAgICAgICAgICAgIG1hcmtlcl9kNTI3YWEzOTkzZmE0ZDZlYmFjMGNiMTI1YmVkMTU3Ni5zZXRJY29uKGljb25fMTQwZjhkOTIwY2RiNGFiMjllZmJhZDhhNTg3NGVjYjEpOwogICAgICAgIAogICAgCiAgICAgICAgdmFyIHBvcHVwX2I3MDdlMzEwMjNiYzQ0MDZiOGM3ZTJiY2RlZTRjMDYxID0gTC5wb3B1cCh7Im1heFdpZHRoIjogIjEwMCUifSk7CgogICAgICAgIAogICAgICAgICAgICB2YXIgaHRtbF9hY2FjODU5MjUzZmY0MGVhOTUzYzY2MDkwNGQ2OGJiMCA9ICQoYDxkaXYgaWQ9Imh0bWxfYWNhYzg1OTI1M2ZmNDBlYTk1M2M2NjA5MDRkNjhiYjAiIHN0eWxlPSJ3aWR0aDogMTAwLjAlOyBoZWlnaHQ6IDEwMC4wJTsiPkhpZ2ggUGFyaywgV2VzdCBUb3JvbnRvKDguMyk8L2Rpdj5gKVswXTsKICAgICAgICAgICAgcG9wdXBfYjcwN2UzMTAyM2JjNDQwNmI4YzdlMmJjZGVlNGMwNjEuc2V0Q29udGVudChodG1sX2FjYWM4NTkyNTNmZjQwZWE5NTNjNjYwOTA0ZDY4YmIwKTsKICAgICAgICAKCiAgICAgICAgbWFya2VyX2Q1MjdhYTM5OTNmYTRkNmViYWMwY2IxMjViZWQxNTc2LmJpbmRQb3B1cChwb3B1cF9iNzA3ZTMxMDIzYmM0NDA2YjhjN2UyYmNkZWU0YzA2MSkKICAgICAgICA7CgogICAgICAgIAogICAgCiAgICAKICAgICAgICAgICAgdmFyIG1hcmtlcl83MmRmN2U0Y2JhNjY0ZDM3Yjk1NjlhZDkwMjk3ZDVmNyA9IEwubWFya2VyKAogICAgICAgICAgICAgICAgWzQzLjY2ODk5ODUsIC03OS4zMTU1NzE1OTk5OTk5OF0sCiAgICAgICAgICAgICAgICB7fQogICAgICAgICAgICApLmFkZFRvKG1hcF81MDQyYjI1ODgxY2Y0ZGZmOTU3MWRkMDhiMWMzZDZlNik7CiAgICAgICAgCiAgICAKICAgICAgICAgICAgdmFyIGljb25fODNkYWExM2MxNTk2NGE1NTg4ZTE4Y2Y3ZDViODhiZDggPSBMLkF3ZXNvbWVNYXJrZXJzLmljb24oCiAgICAgICAgICAgICAgICB7ImV4dHJhQ2xhc3NlcyI6ICJmYS1yb3RhdGUtMCIsICJpY29uIjogImN1dGxlcnkiLCAiaWNvbkNvbG9yIjogIndoaXRlIiwgIm1hcmtlckNvbG9yIjogInJlZCIsICJwcmVmaXgiOiAiZ2x5cGhpY29uIn0KICAgICAgICAgICAgKTsKICAgICAgICAgICAgbWFya2VyXzcyZGY3ZTRjYmE2NjRkMzdiOTU2OWFkOTAyOTdkNWY3LnNldEljb24oaWNvbl84M2RhYTEzYzE1OTY0YTU1ODhlMThjZjdkNWI4OGJkOCk7CiAgICAgICAgCiAgICAKICAgICAgICB2YXIgcG9wdXBfM2Y1NzkwMjk5ODk3NDQxZjlhZTQwMmFiYjliYWE2OWEgPSBMLnBvcHVwKHsibWF4V2lkdGgiOiAiMTAwJSJ9KTsKCiAgICAgICAgCiAgICAgICAgICAgIHZhciBodG1sX2E3NDM3OTU4YzE5NzRlNTdiYTc0NTdkM2UxYjM0NTVkID0gJChgPGRpdiBpZD0iaHRtbF9hNzQzNzk1OGMxOTc0ZTU3YmE3NDU3ZDNlMWIzNDU1ZCIgc3R5bGU9IndpZHRoOiAxMDAuMCU7IGhlaWdodDogMTAwLjAlOyI+SW5kaWEgQmF6YWFyLCBFYXN0IFRvcm9udG8oNS4yMjUpPC9kaXY+YClbMF07CiAgICAgICAgICAgIHBvcHVwXzNmNTc5MDI5OTg5NzQ0MWY5YWU0MDJhYmI5YmFhNjlhLnNldENvbnRlbnQoaHRtbF9hNzQzNzk1OGMxOTc0ZTU3YmE3NDU3ZDNlMWIzNDU1ZCk7CiAgICAgICAgCgogICAgICAgIG1hcmtlcl83MmRmN2U0Y2JhNjY0ZDM3Yjk1NjlhZDkwMjk3ZDVmNy5iaW5kUG9wdXAocG9wdXBfM2Y1NzkwMjk5ODk3NDQxZjlhZTQwMmFiYjliYWE2OWEpCiAgICAgICAgOwoKICAgICAgICAKICAgIAogICAgCiAgICAgICAgICAgIHZhciBtYXJrZXJfNTBmYjdmMzM5MGQwNDhlNmE1YTg3NWJlMWQ5MTdiMWQgPSBMLm1hcmtlcigKICAgICAgICAgICAgICAgIFs0My42NTMyMDU3LCAtNzkuNDAwMDQ5M10sCiAgICAgICAgICAgICAgICB7fQogICAgICAgICAgICApLmFkZFRvKG1hcF81MDQyYjI1ODgxY2Y0ZGZmOTU3MWRkMDhiMWMzZDZlNik7CiAgICAgICAgCiAgICAKICAgICAgICAgICAgdmFyIGljb25fOTdiN2JmMDk4Zjg0NDc0YmIwMGRmZjEyODFlNDEwN2IgPSBMLkF3ZXNvbWVNYXJrZXJzLmljb24oCiAgICAgICAgICAgICAgICB7ImV4dHJhQ2xhc3NlcyI6ICJmYS1yb3RhdGUtMCIsICJpY29uIjogImN1dGxlcnkiLCAiaWNvbkNvbG9yIjogIndoaXRlIiwgIm1hcmtlckNvbG9yIjogInJlZCIsICJwcmVmaXgiOiAiZ2x5cGhpY29uIn0KICAgICAgICAgICAgKTsKICAgICAgICAgICAgbWFya2VyXzUwZmI3ZjMzOTBkMDQ4ZTZhNWE4NzViZTFkOTE3YjFkLnNldEljb24oaWNvbl85N2I3YmYwOThmODQ0NzRiYjAwZGZmMTI4MWU0MTA3Yik7CiAgICAgICAgCiAgICAKICAgICAgICB2YXIgcG9wdXBfNTk1MmZiYzRlNjViNGQ5MWFjMmM1MDM0OWFiMmViMTYgPSBMLnBvcHVwKHsibWF4V2lkdGgiOiAiMTAwJSJ9KTsKCiAgICAgICAgCiAgICAgICAgICAgIHZhciBodG1sXzAyZDE4NDdjYjEyYjQ1N2M5NDUwNGRlYjA0YmVjNmE2ID0gJChgPGRpdiBpZD0iaHRtbF8wMmQxODQ3Y2IxMmI0NTdjOTQ1MDRkZWIwNGJlYzZhNiIgc3R5bGU9IndpZHRoOiAxMDAuMCU7IGhlaWdodDogMTAwLjAlOyI+S2Vuc2luZ3RvbiBNYXJrZXQsIERvd250b3duIFRvcm9udG8oNy44KTwvZGl2PmApWzBdOwogICAgICAgICAgICBwb3B1cF81OTUyZmJjNGU2NWI0ZDkxYWMyYzUwMzQ5YWIyZWIxNi5zZXRDb250ZW50KGh0bWxfMDJkMTg0N2NiMTJiNDU3Yzk0NTA0ZGViMDRiZWM2YTYpOwogICAgICAgIAoKICAgICAgICBtYXJrZXJfNTBmYjdmMzM5MGQwNDhlNmE1YTg3NWJlMWQ5MTdiMWQuYmluZFBvcHVwKHBvcHVwXzU5NTJmYmM0ZTY1YjRkOTFhYzJjNTAzNDlhYjJlYjE2KQogICAgICAgIDsKCiAgICAgICAgCiAgICAKICAgIAogICAgICAgICAgICB2YXIgbWFya2VyX2VjZjM0MjU0OThkMDQ0MzI4OTMzZTlhOTAxYjFmNTczID0gTC5tYXJrZXIoCiAgICAgICAgICAgICAgICBbNDMuNzA5MDYwNCwgLTc5LjM2MzQ1MTddLAogICAgICAgICAgICAgICAge30KICAgICAgICAgICAgKS5hZGRUbyhtYXBfNTA0MmIyNTg4MWNmNGRmZjk1NzFkZDA4YjFjM2Q2ZTYpOwogICAgICAgIAogICAgCiAgICAgICAgICAgIHZhciBpY29uXzRjNTUwMzNkNTEyYzQyM2I5ZDU3YWJmMTlkNmFiYzJlID0gTC5Bd2Vzb21lTWFya2Vycy5pY29uKAogICAgICAgICAgICAgICAgeyJleHRyYUNsYXNzZXMiOiAiZmEtcm90YXRlLTAiLCAiaWNvbiI6ICJjdXRsZXJ5IiwgImljb25Db2xvciI6ICJ3aGl0ZSIsICJtYXJrZXJDb2xvciI6ICJyZWQiLCAicHJlZml4IjogImdseXBoaWNvbiJ9CiAgICAgICAgICAgICk7CiAgICAgICAgICAgIG1hcmtlcl9lY2YzNDI1NDk4ZDA0NDMyODkzM2U5YTkwMWIxZjU3My5zZXRJY29uKGljb25fNGM1NTAzM2Q1MTJjNDIzYjlkNTdhYmYxOWQ2YWJjMmUpOwogICAgICAgIAogICAgCiAgICAgICAgdmFyIHBvcHVwXzlmMTI3MGY5MzVmZDQzOTg4MzhhNWY0M2Y3MjdmYzhiID0gTC5wb3B1cCh7Im1heFdpZHRoIjogIjEwMCUifSk7CgogICAgICAgIAogICAgICAgICAgICB2YXIgaHRtbF9hMDc1YjEyYmRiOGM0MzQ0OWNmNmUxZGNkMDljODBhNyA9ICQoYDxkaXYgaWQ9Imh0bWxfYTA3NWIxMmJkYjhjNDM0NDljZjZlMWRjZDA5YzgwYTciIHN0eWxlPSJ3aWR0aDogMTAwLjAlOyBoZWlnaHQ6IDEwMC4wJTsiPkxlYXNpZGUsIEVhc3QgWW9yayg2LjgpPC9kaXY+YClbMF07CiAgICAgICAgICAgIHBvcHVwXzlmMTI3MGY5MzVmZDQzOTg4MzhhNWY0M2Y3MjdmYzhiLnNldENvbnRlbnQoaHRtbF9hMDc1YjEyYmRiOGM0MzQ0OWNmNmUxZGNkMDljODBhNyk7CiAgICAgICAgCgogICAgICAgIG1hcmtlcl9lY2YzNDI1NDk4ZDA0NDMyODkzM2U5YTkwMWIxZjU3My5iaW5kUG9wdXAocG9wdXBfOWYxMjcwZjkzNWZkNDM5ODgzOGE1ZjQzZjcyN2ZjOGIpCiAgICAgICAgOwoKICAgICAgICAKICAgIAogICAgCiAgICAgICAgICAgIHZhciBtYXJrZXJfZmQyNGNmMzQ5OTQ2NDcyODlkYzRlMjcwNGRkMGRkNTQgPSBMLm1hcmtlcigKICAgICAgICAgICAgICAgIFs0My42NjIzMDE1LCAtNzkuMzg5NDkzOF0sCiAgICAgICAgICAgICAgICB7fQogICAgICAgICAgICApLmFkZFRvKG1hcF81MDQyYjI1ODgxY2Y0ZGZmOTU3MWRkMDhiMWMzZDZlNik7CiAgICAgICAgCiAgICAKICAgICAgICAgICAgdmFyIGljb25fNTc0Y2YwYWExM2IzNGMwMmJhOWQ3MDJjOGIzM2M0MjYgPSBMLkF3ZXNvbWVNYXJrZXJzLmljb24oCiAgICAgICAgICAgICAgICB7ImV4dHJhQ2xhc3NlcyI6ICJmYS1yb3RhdGUtMCIsICJpY29uIjogImN1dGxlcnkiLCAiaWNvbkNvbG9yIjogIndoaXRlIiwgIm1hcmtlckNvbG9yIjogInJlZCIsICJwcmVmaXgiOiAiZ2x5cGhpY29uIn0KICAgICAgICAgICAgKTsKICAgICAgICAgICAgbWFya2VyX2ZkMjRjZjM0OTk0NjQ3Mjg5ZGM0ZTI3MDRkZDBkZDU0LnNldEljb24oaWNvbl81NzRjZjBhYTEzYjM0YzAyYmE5ZDcwMmM4YjMzYzQyNik7CiAgICAgICAgCiAgICAKICAgICAgICB2YXIgcG9wdXBfYWZkY2I5YzMyMzgzNDE0MmJjNDY1MGMwZTBlNTY2NmQgPSBMLnBvcHVwKHsibWF4V2lkdGgiOiAiMTAwJSJ9KTsKCiAgICAgICAgCiAgICAgICAgICAgIHZhciBodG1sXzcxN2IwNjhjMmY2MzRiMzA4MjRkZmVlMjMwMmYyMjk2ID0gJChgPGRpdiBpZD0iaHRtbF83MTdiMDY4YzJmNjM0YjMwODI0ZGZlZTIzMDJmMjI5NiIgc3R5bGU9IndpZHRoOiAxMDAuMCU7IGhlaWdodDogMTAwLjAlOyI+UXVlZW4ncyBQYXJrLCBEb3dudG93biBUb3JvbnRvKDguMCk8L2Rpdj5gKVswXTsKICAgICAgICAgICAgcG9wdXBfYWZkY2I5YzMyMzgzNDE0MmJjNDY1MGMwZTBlNTY2NmQuc2V0Q29udGVudChodG1sXzcxN2IwNjhjMmY2MzRiMzA4MjRkZmVlMjMwMmYyMjk2KTsKICAgICAgICAKCiAgICAgICAgbWFya2VyX2ZkMjRjZjM0OTk0NjQ3Mjg5ZGM0ZTI3MDRkZDBkZDU0LmJpbmRQb3B1cChwb3B1cF9hZmRjYjljMzIzODM0MTQyYmM0NjUwYzBlMGU1NjY2ZCkKICAgICAgICA7CgogICAgICAgIAogICAgCiAgICAKICAgICAgICAgICAgdmFyIG1hcmtlcl82ZjE3MmMxZTE1NDk0NzhkYjA5Y2JiODAxNjJmZWRlMSA9IEwubWFya2VyKAogICAgICAgICAgICAgICAgWzQzLjY3MzE4NTI5OTk5OTk5LCAtNzkuNDg3MjYxOTAwMDAwMDFdLAogICAgICAgICAgICAgICAge30KICAgICAgICAgICAgKS5hZGRUbyhtYXBfNTA0MmIyNTg4MWNmNGRmZjk1NzFkZDA4YjFjM2Q2ZTYpOwogICAgICAgIAogICAgCiAgICAgICAgICAgIHZhciBpY29uXzA0OGIzMmExNjhkMDQyOWM5ZWExOGJhM2U0MzY4OTE0ID0gTC5Bd2Vzb21lTWFya2Vycy5pY29uKAogICAgICAgICAgICAgICAgeyJleHRyYUNsYXNzZXMiOiAiZmEtcm90YXRlLTAiLCAiaWNvbiI6ICJjdXRsZXJ5IiwgImljb25Db2xvciI6ICJ3aGl0ZSIsICJtYXJrZXJDb2xvciI6ICJyZWQiLCAicHJlZml4IjogImdseXBoaWNvbiJ9CiAgICAgICAgICAgICk7CiAgICAgICAgICAgIG1hcmtlcl82ZjE3MmMxZTE1NDk0NzhkYjA5Y2JiODAxNjJmZWRlMS5zZXRJY29uKGljb25fMDQ4YjMyYTE2OGQwNDI5YzllYTE4YmEzZTQzNjg5MTQpOwogICAgICAgIAogICAgCiAgICAgICAgdmFyIHBvcHVwX2M4Mzk2MDVmNDMwNjQyNjM5YzgyM2M3MmQ5YzAyMGNhID0gTC5wb3B1cCh7Im1heFdpZHRoIjogIjEwMCUifSk7CgogICAgICAgIAogICAgICAgICAgICB2YXIgaHRtbF8xYzA3MWFjY2I1MmM0ZDYxYjlmY2JiNTMzNjdiZDI1ZiA9ICQoYDxkaXYgaWQ9Imh0bWxfMWMwNzFhY2NiNTJjNGQ2MWI5ZmNiYjUzMzY3YmQyNWYiIHN0eWxlPSJ3aWR0aDogMTAwLjAlOyBoZWlnaHQ6IDEwMC4wJTsiPlJ1bm55bWVkZSwgWW9yayg2LjYpPC9kaXY+YClbMF07CiAgICAgICAgICAgIHBvcHVwX2M4Mzk2MDVmNDMwNjQyNjM5YzgyM2M3MmQ5YzAyMGNhLnNldENvbnRlbnQoaHRtbF8xYzA3MWFjY2I1MmM0ZDYxYjlmY2JiNTMzNjdiZDI1Zik7CiAgICAgICAgCgogICAgICAgIG1hcmtlcl82ZjE3MmMxZTE1NDk0NzhkYjA5Y2JiODAxNjJmZWRlMS5iaW5kUG9wdXAocG9wdXBfYzgzOTYwNWY0MzA2NDI2MzljODIzYzcyZDljMDIwY2EpCiAgICAgICAgOwoKICAgICAgICAKICAgIAogICAgCiAgICAgICAgICAgIHZhciBtYXJrZXJfYjI4NDlhYjU5ZjM5NDhhOGEyNjEyNTE4YjllZDRiMWYgPSBMLm1hcmtlcigKICAgICAgICAgICAgICAgIFs0My42NTE1NzA2LCAtNzkuNDg0NDQ5OV0sCiAgICAgICAgICAgICAgICB7fQogICAgICAgICAgICApLmFkZFRvKG1hcF81MDQyYjI1ODgxY2Y0ZGZmOTU3MWRkMDhiMWMzZDZlNik7CiAgICAgICAgCiAgICAKICAgICAgICAgICAgdmFyIGljb25fY2IwZjBjOGQ1NjViNDZhNDgxYmQ3ZWMxNWYyYzQ2ZTAgPSBMLkF3ZXNvbWVNYXJrZXJzLmljb24oCiAgICAgICAgICAgICAgICB7ImV4dHJhQ2xhc3NlcyI6ICJmYS1yb3RhdGUtMCIsICJpY29uIjogImN1dGxlcnkiLCAiaWNvbkNvbG9yIjogIndoaXRlIiwgIm1hcmtlckNvbG9yIjogInJlZCIsICJwcmVmaXgiOiAiZ2x5cGhpY29uIn0KICAgICAgICAgICAgKTsKICAgICAgICAgICAgbWFya2VyX2IyODQ5YWI1OWYzOTQ4YThhMjYxMjUxOGI5ZWQ0YjFmLnNldEljb24oaWNvbl9jYjBmMGM4ZDU2NWI0NmE0ODFiZDdlYzE1ZjJjNDZlMCk7CiAgICAgICAgCiAgICAKICAgICAgICB2YXIgcG9wdXBfZDBmZjBmNmIwYzdjNDQ5YmI5NDZiOGY4Yzg5ODM0M2IgPSBMLnBvcHVwKHsibWF4V2lkdGgiOiAiMTAwJSJ9KTsKCiAgICAgICAgCiAgICAgICAgICAgIHZhciBodG1sXzk1OGMyY2JjM2MzMDQwZGJhNjUzOWE4YzRhMTJjMWY3ID0gJChgPGRpdiBpZD0iaHRtbF85NThjMmNiYzNjMzA0MGRiYTY1MzlhOGM0YTEyYzFmNyIgc3R5bGU9IndpZHRoOiAxMDAuMCU7IGhlaWdodDogMTAwLjAlOyI+UnVubnltZWRlLCBXZXN0IFRvcm9udG8oNi42KTwvZGl2PmApWzBdOwogICAgICAgICAgICBwb3B1cF9kMGZmMGY2YjBjN2M0NDliYjk0NmI4ZjhjODk4MzQzYi5zZXRDb250ZW50KGh0bWxfOTU4YzJjYmMzYzMwNDBkYmE2NTM5YThjNGExMmMxZjcpOwogICAgICAgIAoKICAgICAgICBtYXJrZXJfYjI4NDlhYjU5ZjM5NDhhOGEyNjEyNTE4YjllZDRiMWYuYmluZFBvcHVwKHBvcHVwX2QwZmYwZjZiMGM3YzQ0OWJiOTQ2YjhmOGM4OTgzNDNiKQogICAgICAgIDsKCiAgICAgICAgCiAgICAKICAgIAogICAgICAgICAgICB2YXIgbWFya2VyX2JiMTkzMjNhZTRlMDRkOWNiN2VkNjBjZDQ1ODY0MGJiID0gTC5tYXJrZXIoCiAgICAgICAgICAgICAgICBbNDMuNzk5NTI1MjAwMDAwMDA1LCAtNzkuMzE4Mzg4N10sCiAgICAgICAgICAgICAgICB7fQogICAgICAgICAgICApLmFkZFRvKG1hcF81MDQyYjI1ODgxY2Y0ZGZmOTU3MWRkMDhiMWMzZDZlNik7CiAgICAgICAgCiAgICAKICAgICAgICAgICAgdmFyIGljb25fYzUzZWUyOWZiYTk3NDNhNmJmMDJjMjQ3ZTM1YzU5ZTUgPSBMLkF3ZXNvbWVNYXJrZXJzLmljb24oCiAgICAgICAgICAgICAgICB7ImV4dHJhQ2xhc3NlcyI6ICJmYS1yb3RhdGUtMCIsICJpY29uIjogImN1dGxlcnkiLCAiaWNvbkNvbG9yIjogIndoaXRlIiwgIm1hcmtlckNvbG9yIjogInJlZCIsICJwcmVmaXgiOiAiZ2x5cGhpY29uIn0KICAgICAgICAgICAgKTsKICAgICAgICAgICAgbWFya2VyX2JiMTkzMjNhZTRlMDRkOWNiN2VkNjBjZDQ1ODY0MGJiLnNldEljb24oaWNvbl9jNTNlZTI5ZmJhOTc0M2E2YmYwMmMyNDdlMzVjNTllNSk7CiAgICAgICAgCiAgICAKICAgICAgICB2YXIgcG9wdXBfOTE3ODNkOWU1NWJkNDIwYTk0NDg5ZmY5YmMwNTAwMWEgPSBMLnBvcHVwKHsibWF4V2lkdGgiOiAiMTAwJSJ9KTsKCiAgICAgICAgCiAgICAgICAgICAgIHZhciBodG1sXzk0ZDZhZjk1NTIwZjQzZjRiMmI4ZGFlYmYwYTNjYWI2ID0gJChgPGRpdiBpZD0iaHRtbF85NGQ2YWY5NTUyMGY0M2Y0YjJiOGRhZWJmMGEzY2FiNiIgc3R5bGU9IndpZHRoOiAxMDAuMCU7IGhlaWdodDogMTAwLjAlOyI+U3RlZWxlcyBXZXN0LCBTY2FyYm9yb3VnaCgwLjApPC9kaXY+YClbMF07CiAgICAgICAgICAgIHBvcHVwXzkxNzgzZDllNTViZDQyMGE5NDQ4OWZmOWJjMDUwMDFhLnNldENvbnRlbnQoaHRtbF85NGQ2YWY5NTUyMGY0M2Y0YjJiOGRhZWJmMGEzY2FiNik7CiAgICAgICAgCgogICAgICAgIG1hcmtlcl9iYjE5MzIzYWU0ZTA0ZDljYjdlZDYwY2Q0NTg2NDBiYi5iaW5kUG9wdXAocG9wdXBfOTE3ODNkOWU1NWJkNDIwYTk0NDg5ZmY5YmMwNTAwMWEpCiAgICAgICAgOwoKICAgICAgICAKICAgIAogICAgCiAgICAgICAgICAgIHZhciBtYXJrZXJfZWQ5MTFhYTIwNjM2NGI1YTliNjVlNTYyZmE1ZjRkYzQgPSBMLm1hcmtlcigKICAgICAgICAgICAgICAgIFs0My42NzI3MDk3LCAtNzkuNDA1Njc4NDAwMDAwMDFdLAogICAgICAgICAgICAgICAge30KICAgICAgICAgICAgKS5hZGRUbyhtYXBfNTA0MmIyNTg4MWNmNGRmZjk1NzFkZDA4YjFjM2Q2ZTYpOwogICAgICAgIAogICAgCiAgICAgICAgICAgIHZhciBpY29uX2UxZGI4M2U2NTE1NzQ5NDNiMWM0NmEzZGE5NzViZDY0ID0gTC5Bd2Vzb21lTWFya2Vycy5pY29uKAogICAgICAgICAgICAgICAgeyJleHRyYUNsYXNzZXMiOiAiZmEtcm90YXRlLTAiLCAiaWNvbiI6ICJjdXRsZXJ5IiwgImljb25Db2xvciI6ICJ3aGl0ZSIsICJtYXJrZXJDb2xvciI6ICJyZWQiLCAicHJlZml4IjogImdseXBoaWNvbiJ9CiAgICAgICAgICAgICk7CiAgICAgICAgICAgIG1hcmtlcl9lZDkxMWFhMjA2MzY0YjVhOWI2NWU1NjJmYTVmNGRjNC5zZXRJY29uKGljb25fZTFkYjgzZTY1MTU3NDk0M2IxYzQ2YTNkYTk3NWJkNjQpOwogICAgICAgIAogICAgCiAgICAgICAgdmFyIHBvcHVwXzIwOWRiMjBlZTRmOTRlOWJiNGZlMjZjNDAwZDc3Mzc3ID0gTC5wb3B1cCh7Im1heFdpZHRoIjogIjEwMCUifSk7CgogICAgICAgIAogICAgICAgICAgICB2YXIgaHRtbF82NjBjMWJiZmZkYzc0MWY3ODg0Nzk0YTYxMTQzOTIyNSA9ICQoYDxkaXYgaWQ9Imh0bWxfNjYwYzFiYmZmZGM3NDFmNzg4NDc5NGE2MTE0MzkyMjUiIHN0eWxlPSJ3aWR0aDogMTAwLjAlOyBoZWlnaHQ6IDEwMC4wJTsiPlRoZSBBbm5leCwgQ2VudHJhbCBUb3JvbnRvKDguNSk8L2Rpdj5gKVswXTsKICAgICAgICAgICAgcG9wdXBfMjA5ZGIyMGVlNGY5NGU5YmI0ZmUyNmM0MDBkNzczNzcuc2V0Q29udGVudChodG1sXzY2MGMxYmJmZmRjNzQxZjc4ODQ3OTRhNjExNDM5MjI1KTsKICAgICAgICAKCiAgICAgICAgbWFya2VyX2VkOTExYWEyMDYzNjRiNWE5YjY1ZTU2MmZhNWY0ZGM0LmJpbmRQb3B1cChwb3B1cF8yMDlkYjIwZWU0Zjk0ZTliYjRmZTI2YzQwMGQ3NzM3NykKICAgICAgICA7CgogICAgICAgIAogICAgCiAgICAKICAgICAgICAgICAgdmFyIG1hcmtlcl9hNGEyMTA5ODk2NzY0MDdkYjBjNDQ2NWI0YjU2OWY5MyA9IEwubWFya2VyKAogICAgICAgICAgICAgICAgWzQzLjY3NjM1NzM5OTk5OTk5LCAtNzkuMjkzMDMxMl0sCiAgICAgICAgICAgICAgICB7fQogICAgICAgICAgICApLmFkZFRvKG1hcF81MDQyYjI1ODgxY2Y0ZGZmOTU3MWRkMDhiMWMzZDZlNik7CiAgICAgICAgCiAgICAKICAgICAgICAgICAgdmFyIGljb25fYTEwM2NhM2IzNDVmNDg5Nzg0ZDlhNGFlNjAyZWM5YTMgPSBMLkF3ZXNvbWVNYXJrZXJzLmljb24oCiAgICAgICAgICAgICAgICB7ImV4dHJhQ2xhc3NlcyI6ICJmYS1yb3RhdGUtMCIsICJpY29uIjogImN1dGxlcnkiLCAiaWNvbkNvbG9yIjogIndoaXRlIiwgIm1hcmtlckNvbG9yIjogInJlZCIsICJwcmVmaXgiOiAiZ2x5cGhpY29uIn0KICAgICAgICAgICAgKTsKICAgICAgICAgICAgbWFya2VyX2E0YTIxMDk4OTY3NjQwN2RiMGM0NDY1YjRiNTY5ZjkzLnNldEljb24oaWNvbl9hMTAzY2EzYjM0NWY0ODk3ODRkOWE0YWU2MDJlYzlhMyk7CiAgICAgICAgCiAgICAKICAgICAgICB2YXIgcG9wdXBfZGM5ODg4NmI3MjU3NGZjOWE5ZjgxOWRjYjQ3NGI1MmEgPSBMLnBvcHVwKHsibWF4V2lkdGgiOiAiMTAwJSJ9KTsKCiAgICAgICAgCiAgICAgICAgICAgIHZhciBodG1sXzE2NDE3ZmRjZGVkNDQwOGE5N2Y5M2EwZGE1ZWQ4ZWNkID0gJChgPGRpdiBpZD0iaHRtbF8xNjQxN2ZkY2RlZDQ0MDhhOTdmOTNhMGRhNWVkOGVjZCIgc3R5bGU9IndpZHRoOiAxMDAuMCU7IGhlaWdodDogMTAwLjAlOyI+VGhlIEJlYWNoZXMsIEVhc3QgVG9yb250byg2LjkpPC9kaXY+YClbMF07CiAgICAgICAgICAgIHBvcHVwX2RjOTg4ODZiNzI1NzRmYzlhOWY4MTlkY2I0NzRiNTJhLnNldENvbnRlbnQoaHRtbF8xNjQxN2ZkY2RlZDQ0MDhhOTdmOTNhMGRhNWVkOGVjZCk7CiAgICAgICAgCgogICAgICAgIG1hcmtlcl9hNGEyMTA5ODk2NzY0MDdkYjBjNDQ2NWI0YjU2OWY5My5iaW5kUG9wdXAocG9wdXBfZGM5ODg4NmI3MjU3NGZjOWE5ZjgxOWRjYjQ3NGI1MmEpCiAgICAgICAgOwoKICAgICAgICAKICAgIAogICAgCiAgICAgICAgICAgIHZhciBtYXJrZXJfYjRjNThmMWMyZTNhNDBkNmE5NTk5OTEyZTJjOWMwMzUgPSBMLm1hcmtlcigKICAgICAgICAgICAgICAgIFs0My42Nzk1NTcxLCAtNzkuMzUyMTg4XSwKICAgICAgICAgICAgICAgIHt9CiAgICAgICAgICAgICkuYWRkVG8obWFwXzUwNDJiMjU4ODFjZjRkZmY5NTcxZGQwOGIxYzNkNmU2KTsKICAgICAgICAKICAgIAogICAgICAgICAgICB2YXIgaWNvbl81ZTRjZjU2NWE0M2U0NjJlYTg3MzAwYWEzZDJjM2VkMSA9IEwuQXdlc29tZU1hcmtlcnMuaWNvbigKICAgICAgICAgICAgICAgIHsiZXh0cmFDbGFzc2VzIjogImZhLXJvdGF0ZS0wIiwgImljb24iOiAiY3V0bGVyeSIsICJpY29uQ29sb3IiOiAid2hpdGUiLCAibWFya2VyQ29sb3IiOiAicmVkIiwgInByZWZpeCI6ICJnbHlwaGljb24ifQogICAgICAgICAgICApOwogICAgICAgICAgICBtYXJrZXJfYjRjNThmMWMyZTNhNDBkNmE5NTk5OTEyZTJjOWMwMzUuc2V0SWNvbihpY29uXzVlNGNmNTY1YTQzZTQ2MmVhODczMDBhYTNkMmMzZWQxKTsKICAgICAgICAKICAgIAogICAgICAgIHZhciBwb3B1cF8xZGE4OWE3NjI2MzE0NTgzYTU5MGZhNmVjMzI1ZWFmNyA9IEwucG9wdXAoeyJtYXhXaWR0aCI6ICIxMDAlIn0pOwoKICAgICAgICAKICAgICAgICAgICAgdmFyIGh0bWxfMWM4YTJlYzY1YTU2NDVmNzlhZTAyODljMGE4MGQyYTAgPSAkKGA8ZGl2IGlkPSJodG1sXzFjOGEyZWM2NWE1NjQ1Zjc5YWUwMjg5YzBhODBkMmEwIiBzdHlsZT0id2lkdGg6IDEwMC4wJTsgaGVpZ2h0OiAxMDAuMCU7Ij5UaGUgRGFuZm9ydGggV2VzdCwgRWFzdCBUb3JvbnRvKDcuMSk8L2Rpdj5gKVswXTsKICAgICAgICAgICAgcG9wdXBfMWRhODlhNzYyNjMxNDU4M2E1OTBmYTZlYzMyNWVhZjcuc2V0Q29udGVudChodG1sXzFjOGEyZWM2NWE1NjQ1Zjc5YWUwMjg5YzBhODBkMmEwKTsKICAgICAgICAKCiAgICAgICAgbWFya2VyX2I0YzU4ZjFjMmUzYTQwZDZhOTU5OTkxMmUyYzljMDM1LmJpbmRQb3B1cChwb3B1cF8xZGE4OWE3NjI2MzE0NTgzYTU5MGZhNmVjMzI1ZWFmNykKICAgICAgICA7CgogICAgICAgIAogICAgCiAgICAKICAgICAgICAgICAgdmFyIG1hcmtlcl9jNDc4NGEwYTIyMGQ0ZTAyOTQxNGFjOGQzNzc4MmE4NSA9IEwubWFya2VyKAogICAgICAgICAgICAgICAgWzQzLjcwNTM2ODksIC03OS4zNDkzNzE5MDAwMDAwMV0sCiAgICAgICAgICAgICAgICB7fQogICAgICAgICAgICApLmFkZFRvKG1hcF81MDQyYjI1ODgxY2Y0ZGZmOTU3MWRkMDhiMWMzZDZlNik7CiAgICAgICAgCiAgICAKICAgICAgICAgICAgdmFyIGljb25fYTlkOGE2ODVlNzllNGQxZTg5YTQzNDVmMWI2NDUyMTMgPSBMLkF3ZXNvbWVNYXJrZXJzLmljb24oCiAgICAgICAgICAgICAgICB7ImV4dHJhQ2xhc3NlcyI6ICJmYS1yb3RhdGUtMCIsICJpY29uIjogImN1dGxlcnkiLCAiaWNvbkNvbG9yIjogIndoaXRlIiwgIm1hcmtlckNvbG9yIjogInJlZCIsICJwcmVmaXgiOiAiZ2x5cGhpY29uIn0KICAgICAgICAgICAgKTsKICAgICAgICAgICAgbWFya2VyX2M0Nzg0YTBhMjIwZDRlMDI5NDE0YWM4ZDM3NzgyYTg1LnNldEljb24oaWNvbl9hOWQ4YTY4NWU3OWU0ZDFlODlhNDM0NWYxYjY0NTIxMyk7CiAgICAgICAgCiAgICAKICAgICAgICB2YXIgcG9wdXBfMWZjMTk2YzY2ODYzNDI5YTg1ZDQwZTgyMDEwZTA2YTYgPSBMLnBvcHVwKHsibWF4V2lkdGgiOiAiMTAwJSJ9KTsKCiAgICAgICAgCiAgICAgICAgICAgIHZhciBodG1sXzcxMGNjNjZjNmY0NTRkYTk4MzViYmVhZDhiYjRkYzAwID0gJChgPGRpdiBpZD0iaHRtbF83MTBjYzY2YzZmNDU0ZGE5ODM1YmJlYWQ4YmI0ZGMwMCIgc3R5bGU9IndpZHRoOiAxMDAuMCU7IGhlaWdodDogMTAwLjAlOyI+VGhvcm5jbGlmZmUgUGFyaywgRWFzdCBZb3JrKDUuMTI1KTwvZGl2PmApWzBdOwogICAgICAgICAgICBwb3B1cF8xZmMxOTZjNjY4NjM0MjlhODVkNDBlODIwMTBlMDZhNi5zZXRDb250ZW50KGh0bWxfNzEwY2M2NmM2ZjQ1NGRhOTgzNWJiZWFkOGJiNGRjMDApOwogICAgICAgIAoKICAgICAgICBtYXJrZXJfYzQ3ODRhMGEyMjBkNGUwMjk0MTRhYzhkMzc3ODJhODUuYmluZFBvcHVwKHBvcHVwXzFmYzE5NmM2Njg2MzQyOWE4NWQ0MGU4MjAxMGUwNmE2KQogICAgICAgIDsKCiAgICAgICAgCiAgICAKICAgIAogICAgICAgICAgICB2YXIgbWFya2VyX2I2NjFhZDU5YjJkODRlY2Y5MjVlYjQwYjRkY2VlNzYxID0gTC5tYXJrZXIoCiAgICAgICAgICAgICAgICBbNDMuNzg5MDUzLCAtNzkuNDA4NDkyNzk5OTk5OTldLAogICAgICAgICAgICAgICAge30KICAgICAgICAgICAgKS5hZGRUbyhtYXBfNTA0MmIyNTg4MWNmNGRmZjk1NzFkZDA4YjFjM2Q2ZTYpOwogICAgICAgIAogICAgCiAgICAgICAgICAgIHZhciBpY29uXzkzZGM0OTNjZDg5MzQxOTc4NDgxYTRmODMwNDZjMTNkID0gTC5Bd2Vzb21lTWFya2Vycy5pY29uKAogICAgICAgICAgICAgICAgeyJleHRyYUNsYXNzZXMiOiAiZmEtcm90YXRlLTAiLCAiaWNvbiI6ICJjdXRsZXJ5IiwgImljb25Db2xvciI6ICJ3aGl0ZSIsICJtYXJrZXJDb2xvciI6ICJyZWQiLCAicHJlZml4IjogImdseXBoaWNvbiJ9CiAgICAgICAgICAgICk7CiAgICAgICAgICAgIG1hcmtlcl9iNjYxYWQ1OWIyZDg0ZWNmOTI1ZWI0MGI0ZGNlZTc2MS5zZXRJY29uKGljb25fOTNkYzQ5M2NkODkzNDE5Nzg0ODFhNGY4MzA0NmMxM2QpOwogICAgICAgIAogICAgCiAgICAgICAgdmFyIHBvcHVwXzQwMmY0NDE3YzJjNzQwMzk4YTdkZmZiMTAxYmNlY2JlID0gTC5wb3B1cCh7Im1heFdpZHRoIjogIjEwMCUifSk7CgogICAgICAgIAogICAgICAgICAgICB2YXIgaHRtbF9iYzM4MzMwY2MwMTQ0ZTIyYmNjM2VmZjQ5MTRlMzRiMSA9ICQoYDxkaXYgaWQ9Imh0bWxfYmMzODMzMGNjMDE0NGUyMmJjYzNlZmY0OTE0ZTM0YjEiIHN0eWxlPSJ3aWR0aDogMTAwLjAlOyBoZWlnaHQ6IDEwMC4wJTsiPldpbGxvd2RhbGUsIE5vcnRoIFlvcmsoNi4xKTwvZGl2PmApWzBdOwogICAgICAgICAgICBwb3B1cF80MDJmNDQxN2MyYzc0MDM5OGE3ZGZmYjEwMWJjZWNiZS5zZXRDb250ZW50KGh0bWxfYmMzODMzMGNjMDE0NGUyMmJjYzNlZmY0OTE0ZTM0YjEpOwogICAgICAgIAoKICAgICAgICBtYXJrZXJfYjY2MWFkNTliMmQ4NGVjZjkyNWViNDBiNGRjZWU3NjEuYmluZFBvcHVwKHBvcHVwXzQwMmY0NDE3YzJjNzQwMzk4YTdkZmZiMTAxYmNlY2JlKQogICAgICAgIDsKCiAgICAgICAgCiAgICAKICAgIAogICAgICAgICAgICB2YXIgZmVhdHVyZV9ncm91cF9mZTBmZDBiZDUxMzI0ODdkYmZmZWMyZGMyMjNkZDYxNiA9IEwuZmVhdHVyZUdyb3VwKAogICAgICAgICAgICAgICAge30KICAgICAgICAgICAgKS5hZGRUbyhtYXBfNTA0MmIyNTg4MWNmNGRmZjk1NzFkZDA4YjFjM2Q2ZTYpOwogICAgICAgIAogICAgCiAgICAgICAgICAgIHZhciBjaXJjbGVfbWFya2VyXzNmMDJlOTdlNjI1ZjQzNDc5MjZkMjg2YmVkZDQ3ZGJhID0gTC5jaXJjbGVNYXJrZXIoCiAgICAgICAgICAgICAgICBbNDMuNzMzMjgyNSwgLTc5LjQxOTc0OTddLAogICAgICAgICAgICAgICAgeyJidWJibGluZ01vdXNlRXZlbnRzIjogdHJ1ZSwgImNvbG9yIjogImJsYWNrIiwgImRhc2hBcnJheSI6IG51bGwsICJkYXNoT2Zmc2V0IjogbnVsbCwgImZpbGwiOiB0cnVlLCAiZmlsbENvbG9yIjogInJlZCIsICJmaWxsT3BhY2l0eSI6IDAuNiwgImZpbGxSdWxlIjogImV2ZW5vZGQiLCAibGluZUNhcCI6ICJyb3VuZCIsICJsaW5lSm9pbiI6ICJyb3VuZCIsICJvcGFjaXR5IjogMS4wLCAicmFkaXVzIjogMTAsICJzdHJva2UiOiB0cnVlLCAid2VpZ2h0IjogM30KICAgICAgICAgICAgKS5hZGRUbyhmZWF0dXJlX2dyb3VwX2ZlMGZkMGJkNTEzMjQ4N2RiZmZlYzJkYzIyM2RkNjE2KTsKICAgICAgICAKICAgIAogICAgICAgICAgICB2YXIgY2lyY2xlX21hcmtlcl8zYjA2NzZmNDgxOTA0OWRjYjFhMDRkZGRkODliYzBkNyA9IEwuY2lyY2xlTWFya2VyKAogICAgICAgICAgICAgICAgWzQzLjYzNjg0NzIsIC03OS40MjgxOTE0MDAwMDAwMl0sCiAgICAgICAgICAgICAgICB7ImJ1YmJsaW5nTW91c2VFdmVudHMiOiB0cnVlLCAiY29sb3IiOiAiYmxhY2siLCAiZGFzaEFycmF5IjogbnVsbCwgImRhc2hPZmZzZXQiOiBudWxsLCAiZmlsbCI6IHRydWUsICJmaWxsQ29sb3IiOiAicmVkIiwgImZpbGxPcGFjaXR5IjogMC42LCAiZmlsbFJ1bGUiOiAiZXZlbm9kZCIsICJsaW5lQ2FwIjogInJvdW5kIiwgImxpbmVKb2luIjogInJvdW5kIiwgIm9wYWNpdHkiOiAxLjAsICJyYWRpdXMiOiAxMCwgInN0cm9rZSI6IHRydWUsICJ3ZWlnaHQiOiAzfQogICAgICAgICAgICApLmFkZFRvKGZlYXR1cmVfZ3JvdXBfZmUwZmQwYmQ1MTMyNDg3ZGJmZmVjMmRjMjIzZGQ2MTYpOwogICAgICAgIAogICAgCiAgICAgICAgICAgIHZhciBjaXJjbGVfbWFya2VyXzZkMmI1ZjAyYTE3ZjQ1YTZhZWU4OGRkNGI1NDA3NDgwID0gTC5jaXJjbGVNYXJrZXIoCiAgICAgICAgICAgICAgICBbNDMuNjM2OTY1NiwgLTc5LjYxNTgxODk5OTk5OTk5XSwKICAgICAgICAgICAgICAgIHsiYnViYmxpbmdNb3VzZUV2ZW50cyI6IHRydWUsICJjb2xvciI6ICJibGFjayIsICJkYXNoQXJyYXkiOiBudWxsLCAiZGFzaE9mZnNldCI6IG51bGwsICJmaWxsIjogdHJ1ZSwgImZpbGxDb2xvciI6ICJyZWQiLCAiZmlsbE9wYWNpdHkiOiAwLjYsICJmaWxsUnVsZSI6ICJldmVub2RkIiwgImxpbmVDYXAiOiAicm91bmQiLCAibGluZUpvaW4iOiAicm91bmQiLCAib3BhY2l0eSI6IDEuMCwgInJhZGl1cyI6IDEwLCAic3Ryb2tlIjogdHJ1ZSwgIndlaWdodCI6IDN9CiAgICAgICAgICAgICkuYWRkVG8oZmVhdHVyZV9ncm91cF9mZTBmZDBiZDUxMzI0ODdkYmZmZWMyZGMyMjNkZDYxNik7CiAgICAgICAgCiAgICAKICAgICAgICAgICAgdmFyIGNpcmNsZV9tYXJrZXJfMGRlNDFmZjgxNTZiNDIyZmE5NDBmNGFmOTgxYWZmYTEgPSBMLmNpcmNsZU1hcmtlcigKICAgICAgICAgICAgICAgIFs0My43NzMxMzYsIC03OS4yMzk0NzYwOTk5OTk5OV0sCiAgICAgICAgICAgICAgICB7ImJ1YmJsaW5nTW91c2VFdmVudHMiOiB0cnVlLCAiY29sb3IiOiAiYmxhY2siLCAiZGFzaEFycmF5IjogbnVsbCwgImRhc2hPZmZzZXQiOiBudWxsLCAiZmlsbCI6IHRydWUsICJmaWxsQ29sb3IiOiAicmVkIiwgImZpbGxPcGFjaXR5IjogMC42LCAiZmlsbFJ1bGUiOiAiZXZlbm9kZCIsICJsaW5lQ2FwIjogInJvdW5kIiwgImxpbmVKb2luIjogInJvdW5kIiwgIm9wYWNpdHkiOiAxLjAsICJyYWRpdXMiOiAxMCwgInN0cm9rZSI6IHRydWUsICJ3ZWlnaHQiOiAzfQogICAgICAgICAgICApLmFkZFRvKGZlYXR1cmVfZ3JvdXBfZmUwZmQwYmQ1MTMyNDg3ZGJmZmVjMmRjMjIzZGQ2MTYpOwogICAgICAgIAogICAgCiAgICAgICAgICAgIHZhciBjaXJjbGVfbWFya2VyX2E3N2JiN2M5ZDg3NTQ5ODdiYmQ1YzViZWFiZmNjODc2ID0gTC5jaXJjbGVNYXJrZXIoCiAgICAgICAgICAgICAgICBbNDMuNjY5NTQyLCAtNzkuNDIyNTYzN10sCiAgICAgICAgICAgICAgICB7ImJ1YmJsaW5nTW91c2VFdmVudHMiOiB0cnVlLCAiY29sb3IiOiAiYmxhY2siLCAiZGFzaEFycmF5IjogbnVsbCwgImRhc2hPZmZzZXQiOiBudWxsLCAiZmlsbCI6IHRydWUsICJmaWxsQ29sb3IiOiAicmVkIiwgImZpbGxPcGFjaXR5IjogMC42LCAiZmlsbFJ1bGUiOiAiZXZlbm9kZCIsICJsaW5lQ2FwIjogInJvdW5kIiwgImxpbmVKb2luIjogInJvdW5kIiwgIm9wYWNpdHkiOiAxLjAsICJyYWRpdXMiOiAxMCwgInN0cm9rZSI6IHRydWUsICJ3ZWlnaHQiOiAzfQogICAgICAgICAgICApLmFkZFRvKGZlYXR1cmVfZ3JvdXBfZmUwZmQwYmQ1MTMyNDg3ZGJmZmVjMmRjMjIzZGQ2MTYpOwogICAgICAgIAogICAgCiAgICAgICAgICAgIHZhciBjaXJjbGVfbWFya2VyXzY1YTUwYTgwMDQxZjRkZTY5ODAyNGJmMjY1MjcxMGZlID0gTC5jaXJjbGVNYXJrZXIoCiAgICAgICAgICAgICAgICBbNDMuNjY1ODU5OSwgLTc5LjM4MzE1OTkwMDAwMDAxXSwKICAgICAgICAgICAgICAgIHsiYnViYmxpbmdNb3VzZUV2ZW50cyI6IHRydWUsICJjb2xvciI6ICJibGFjayIsICJkYXNoQXJyYXkiOiBudWxsLCAiZGFzaE9mZnNldCI6IG51bGwsICJmaWxsIjogdHJ1ZSwgImZpbGxDb2xvciI6ICJyZWQiLCAiZmlsbE9wYWNpdHkiOiAwLjYsICJmaWxsUnVsZSI6ICJldmVub2RkIiwgImxpbmVDYXAiOiAicm91bmQiLCAibGluZUpvaW4iOiAicm91bmQiLCAib3BhY2l0eSI6IDEuMCwgInJhZGl1cyI6IDEwLCAic3Ryb2tlIjogdHJ1ZSwgIndlaWdodCI6IDN9CiAgICAgICAgICAgICkuYWRkVG8oZmVhdHVyZV9ncm91cF9mZTBmZDBiZDUxMzI0ODdkYmZmZWMyZGMyMjNkZDYxNik7CiAgICAgICAgCiAgICAKICAgICAgICAgICAgdmFyIGNpcmNsZV9tYXJrZXJfNzlhOTJjZWFhNTg5NDkzYmI0MWMyMGIzZWY0MWIyZDggPSBMLmNpcmNsZU1hcmtlcigKICAgICAgICAgICAgICAgIFs0My43MDQzMjQ0LCAtNzkuMzg4NzkwMV0sCiAgICAgICAgICAgICAgICB7ImJ1YmJsaW5nTW91c2VFdmVudHMiOiB0cnVlLCAiY29sb3IiOiAiYmxhY2siLCAiZGFzaEFycmF5IjogbnVsbCwgImRhc2hPZmZzZXQiOiBudWxsLCAiZmlsbCI6IHRydWUsICJmaWxsQ29sb3IiOiAicmVkIiwgImZpbGxPcGFjaXR5IjogMC42LCAiZmlsbFJ1bGUiOiAiZXZlbm9kZCIsICJsaW5lQ2FwIjogInJvdW5kIiwgImxpbmVKb2luIjogInJvdW5kIiwgIm9wYWNpdHkiOiAxLjAsICJyYWRpdXMiOiAxMCwgInN0cm9rZSI6IHRydWUsICJ3ZWlnaHQiOiAzfQogICAgICAgICAgICApLmFkZFRvKGZlYXR1cmVfZ3JvdXBfZmUwZmQwYmQ1MTMyNDg3ZGJmZmVjMmRjMjIzZGQ2MTYpOwogICAgICAgIAogICAgCiAgICAgICAgICAgIHZhciBjaXJjbGVfbWFya2VyXzkzMDI5NGY3NmUxOTQ3Y2I4NDZlMTU0MjA0YTNkYzkxID0gTC5jaXJjbGVNYXJrZXIoCiAgICAgICAgICAgICAgICBbNDMuNzU3NDA5NiwgLTc5LjI3MzMwNDAwMDAwMDAxXSwKICAgICAgICAgICAgICAgIHsiYnViYmxpbmdNb3VzZUV2ZW50cyI6IHRydWUsICJjb2xvciI6ICJibGFjayIsICJkYXNoQXJyYXkiOiBudWxsLCAiZGFzaE9mZnNldCI6IG51bGwsICJmaWxsIjogdHJ1ZSwgImZpbGxDb2xvciI6ICJyZWQiLCAiZmlsbE9wYWNpdHkiOiAwLjYsICJmaWxsUnVsZSI6ICJldmVub2RkIiwgImxpbmVDYXAiOiAicm91bmQiLCAibGluZUpvaW4iOiAicm91bmQiLCAib3BhY2l0eSI6IDEuMCwgInJhZGl1cyI6IDEwLCAic3Ryb2tlIjogdHJ1ZSwgIndlaWdodCI6IDN9CiAgICAgICAgICAgICkuYWRkVG8oZmVhdHVyZV9ncm91cF9mZTBmZDBiZDUxMzI0ODdkYmZmZWMyZGMyMjNkZDYxNik7CiAgICAgICAgCiAgICAKICAgICAgICAgICAgdmFyIGNpcmNsZV9tYXJrZXJfMTExYzkwZTVjMTdjNGZhODljZDViYjJlMjAyOTU5ZDggPSBMLmNpcmNsZU1hcmtlcigKICAgICAgICAgICAgICAgIFs0My42NDA4MTU3LCAtNzkuMzgxNzUyMjk5OTk5OTldLAogICAgICAgICAgICAgICAgeyJidWJibGluZ01vdXNlRXZlbnRzIjogdHJ1ZSwgImNvbG9yIjogImJsYWNrIiwgImRhc2hBcnJheSI6IG51bGwsICJkYXNoT2Zmc2V0IjogbnVsbCwgImZpbGwiOiB0cnVlLCAiZmlsbENvbG9yIjogInJlZCIsICJmaWxsT3BhY2l0eSI6IDAuNiwgImZpbGxSdWxlIjogImV2ZW5vZGQiLCAibGluZUNhcCI6ICJyb3VuZCIsICJsaW5lSm9pbiI6ICJyb3VuZCIsICJvcGFjaXR5IjogMS4wLCAicmFkaXVzIjogMTAsICJzdHJva2UiOiB0cnVlLCAid2VpZ2h0IjogM30KICAgICAgICAgICAgKS5hZGRUbyhmZWF0dXJlX2dyb3VwX2ZlMGZkMGJkNTEzMjQ4N2RiZmZlYzJkYzIyM2RkNjE2KTsKICAgICAgICAKICAgIAogICAgICAgICAgICB2YXIgY2lyY2xlX21hcmtlcl8xYzgwZGI4OTQyZTI0NmNjODE2NTYxODM1YmQ2NDBjZCA9IEwuY2lyY2xlTWFya2VyKAogICAgICAgICAgICAgICAgWzQzLjY2MTYwODMsIC03OS40NjQ3NjMyOTk5OTk5OV0sCiAgICAgICAgICAgICAgICB7ImJ1YmJsaW5nTW91c2VFdmVudHMiOiB0cnVlLCAiY29sb3IiOiAiYmxhY2siLCAiZGFzaEFycmF5IjogbnVsbCwgImRhc2hPZmZzZXQiOiBudWxsLCAiZmlsbCI6IHRydWUsICJmaWxsQ29sb3IiOiAicmVkIiwgImZpbGxPcGFjaXR5IjogMC42LCAiZmlsbFJ1bGUiOiAiZXZlbm9kZCIsICJsaW5lQ2FwIjogInJvdW5kIiwgImxpbmVKb2luIjogInJvdW5kIiwgIm9wYWNpdHkiOiAxLjAsICJyYWRpdXMiOiAxMCwgInN0cm9rZSI6IHRydWUsICJ3ZWlnaHQiOiAzfQogICAgICAgICAgICApLmFkZFRvKGZlYXR1cmVfZ3JvdXBfZmUwZmQwYmQ1MTMyNDg3ZGJmZmVjMmRjMjIzZGQ2MTYpOwogICAgICAgIAogICAgCiAgICAgICAgICAgIHZhciBjaXJjbGVfbWFya2VyXzYzZDRhMjEzOWYxMjQwZjZhNDZlOTM4MDA4ZjM2NmQzID0gTC5jaXJjbGVNYXJrZXIoCiAgICAgICAgICAgICAgICBbNDMuNjY4OTk4NSwgLTc5LjMxNTU3MTU5OTk5OTk4XSwKICAgICAgICAgICAgICAgIHsiYnViYmxpbmdNb3VzZUV2ZW50cyI6IHRydWUsICJjb2xvciI6ICJibGFjayIsICJkYXNoQXJyYXkiOiBudWxsLCAiZGFzaE9mZnNldCI6IG51bGwsICJmaWxsIjogdHJ1ZSwgImZpbGxDb2xvciI6ICJyZWQiLCAiZmlsbE9wYWNpdHkiOiAwLjYsICJmaWxsUnVsZSI6ICJldmVub2RkIiwgImxpbmVDYXAiOiAicm91bmQiLCAibGluZUpvaW4iOiAicm91bmQiLCAib3BhY2l0eSI6IDEuMCwgInJhZGl1cyI6IDEwLCAic3Ryb2tlIjogdHJ1ZSwgIndlaWdodCI6IDN9CiAgICAgICAgICAgICkuYWRkVG8oZmVhdHVyZV9ncm91cF9mZTBmZDBiZDUxMzI0ODdkYmZmZWMyZGMyMjNkZDYxNik7CiAgICAgICAgCiAgICAKICAgICAgICAgICAgdmFyIGNpcmNsZV9tYXJrZXJfMTNiNWUxYTYwOTYzNDNjZWI2NjJjNjRiZWRmNmY2ZmYgPSBMLmNpcmNsZU1hcmtlcigKICAgICAgICAgICAgICAgIFs0My42NTMyMDU3LCAtNzkuNDAwMDQ5M10sCiAgICAgICAgICAgICAgICB7ImJ1YmJsaW5nTW91c2VFdmVudHMiOiB0cnVlLCAiY29sb3IiOiAiYmxhY2siLCAiZGFzaEFycmF5IjogbnVsbCwgImRhc2hPZmZzZXQiOiBudWxsLCAiZmlsbCI6IHRydWUsICJmaWxsQ29sb3IiOiAicmVkIiwgImZpbGxPcGFjaXR5IjogMC42LCAiZmlsbFJ1bGUiOiAiZXZlbm9kZCIsICJsaW5lQ2FwIjogInJvdW5kIiwgImxpbmVKb2luIjogInJvdW5kIiwgIm9wYWNpdHkiOiAxLjAsICJyYWRpdXMiOiAxMCwgInN0cm9rZSI6IHRydWUsICJ3ZWlnaHQiOiAzfQogICAgICAgICAgICApLmFkZFRvKGZlYXR1cmVfZ3JvdXBfZmUwZmQwYmQ1MTMyNDg3ZGJmZmVjMmRjMjIzZGQ2MTYpOwogICAgICAgIAogICAgCiAgICAgICAgICAgIHZhciBjaXJjbGVfbWFya2VyXzEyNTA1NjUxNWI4NDRiYjg5ZTVhNGM4NmFhNTYyYzFhID0gTC5jaXJjbGVNYXJrZXIoCiAgICAgICAgICAgICAgICBbNDMuNzA5MDYwNCwgLTc5LjM2MzQ1MTddLAogICAgICAgICAgICAgICAgeyJidWJibGluZ01vdXNlRXZlbnRzIjogdHJ1ZSwgImNvbG9yIjogImJsYWNrIiwgImRhc2hBcnJheSI6IG51bGwsICJkYXNoT2Zmc2V0IjogbnVsbCwgImZpbGwiOiB0cnVlLCAiZmlsbENvbG9yIjogInJlZCIsICJmaWxsT3BhY2l0eSI6IDAuNiwgImZpbGxSdWxlIjogImV2ZW5vZGQiLCAibGluZUNhcCI6ICJyb3VuZCIsICJsaW5lSm9pbiI6ICJyb3VuZCIsICJvcGFjaXR5IjogMS4wLCAicmFkaXVzIjogMTAsICJzdHJva2UiOiB0cnVlLCAid2VpZ2h0IjogM30KICAgICAgICAgICAgKS5hZGRUbyhmZWF0dXJlX2dyb3VwX2ZlMGZkMGJkNTEzMjQ4N2RiZmZlYzJkYzIyM2RkNjE2KTsKICAgICAgICAKICAgIAogICAgICAgICAgICB2YXIgY2lyY2xlX21hcmtlcl8yM2YxNzU1MjU3M2E0ZjU1OGJkMjU5MWZkOTJkMGVlNCA9IEwuY2lyY2xlTWFya2VyKAogICAgICAgICAgICAgICAgWzQzLjY2MjMwMTUsIC03OS4zODk0OTM4XSwKICAgICAgICAgICAgICAgIHsiYnViYmxpbmdNb3VzZUV2ZW50cyI6IHRydWUsICJjb2xvciI6ICJibGFjayIsICJkYXNoQXJyYXkiOiBudWxsLCAiZGFzaE9mZnNldCI6IG51bGwsICJmaWxsIjogdHJ1ZSwgImZpbGxDb2xvciI6ICJyZWQiLCAiZmlsbE9wYWNpdHkiOiAwLjYsICJmaWxsUnVsZSI6ICJldmVub2RkIiwgImxpbmVDYXAiOiAicm91bmQiLCAibGluZUpvaW4iOiAicm91bmQiLCAib3BhY2l0eSI6IDEuMCwgInJhZGl1cyI6IDEwLCAic3Ryb2tlIjogdHJ1ZSwgIndlaWdodCI6IDN9CiAgICAgICAgICAgICkuYWRkVG8oZmVhdHVyZV9ncm91cF9mZTBmZDBiZDUxMzI0ODdkYmZmZWMyZGMyMjNkZDYxNik7CiAgICAgICAgCiAgICAKICAgICAgICAgICAgdmFyIGNpcmNsZV9tYXJrZXJfZWZiNDY0MTZlMDlkNDE2NGFmMTZkMGIwMWRlYmY3OGYgPSBMLmNpcmNsZU1hcmtlcigKICAgICAgICAgICAgICAgIFs0My42NzMxODUyOTk5OTk5OSwgLTc5LjQ4NzI2MTkwMDAwMDAxXSwKICAgICAgICAgICAgICAgIHsiYnViYmxpbmdNb3VzZUV2ZW50cyI6IHRydWUsICJjb2xvciI6ICJibGFjayIsICJkYXNoQXJyYXkiOiBudWxsLCAiZGFzaE9mZnNldCI6IG51bGwsICJmaWxsIjogdHJ1ZSwgImZpbGxDb2xvciI6ICJyZWQiLCAiZmlsbE9wYWNpdHkiOiAwLjYsICJmaWxsUnVsZSI6ICJldmVub2RkIiwgImxpbmVDYXAiOiAicm91bmQiLCAibGluZUpvaW4iOiAicm91bmQiLCAib3BhY2l0eSI6IDEuMCwgInJhZGl1cyI6IDEwLCAic3Ryb2tlIjogdHJ1ZSwgIndlaWdodCI6IDN9CiAgICAgICAgICAgICkuYWRkVG8oZmVhdHVyZV9ncm91cF9mZTBmZDBiZDUxMzI0ODdkYmZmZWMyZGMyMjNkZDYxNik7CiAgICAgICAgCiAgICAKICAgICAgICAgICAgdmFyIGNpcmNsZV9tYXJrZXJfMzhjN2ViNzBlMmQ1NGUwYTk0YjNkNGY1ZjE0ODUxZjkgPSBMLmNpcmNsZU1hcmtlcigKICAgICAgICAgICAgICAgIFs0My42NTE1NzA2LCAtNzkuNDg0NDQ5OV0sCiAgICAgICAgICAgICAgICB7ImJ1YmJsaW5nTW91c2VFdmVudHMiOiB0cnVlLCAiY29sb3IiOiAiYmxhY2siLCAiZGFzaEFycmF5IjogbnVsbCwgImRhc2hPZmZzZXQiOiBudWxsLCAiZmlsbCI6IHRydWUsICJmaWxsQ29sb3IiOiAicmVkIiwgImZpbGxPcGFjaXR5IjogMC42LCAiZmlsbFJ1bGUiOiAiZXZlbm9kZCIsICJsaW5lQ2FwIjogInJvdW5kIiwgImxpbmVKb2luIjogInJvdW5kIiwgIm9wYWNpdHkiOiAxLjAsICJyYWRpdXMiOiAxMCwgInN0cm9rZSI6IHRydWUsICJ3ZWlnaHQiOiAzfQogICAgICAgICAgICApLmFkZFRvKGZlYXR1cmVfZ3JvdXBfZmUwZmQwYmQ1MTMyNDg3ZGJmZmVjMmRjMjIzZGQ2MTYpOwogICAgICAgIAogICAgCiAgICAgICAgICAgIHZhciBjaXJjbGVfbWFya2VyXzRiYjQ5ODAyNGYwZjQ2ZWI4MTc3MTg1ZDI3MTNlOTc0ID0gTC5jaXJjbGVNYXJrZXIoCiAgICAgICAgICAgICAgICBbNDMuNzk5NTI1MjAwMDAwMDA1LCAtNzkuMzE4Mzg4N10sCiAgICAgICAgICAgICAgICB7ImJ1YmJsaW5nTW91c2VFdmVudHMiOiB0cnVlLCAiY29sb3IiOiAiYmxhY2siLCAiZGFzaEFycmF5IjogbnVsbCwgImRhc2hPZmZzZXQiOiBudWxsLCAiZmlsbCI6IHRydWUsICJmaWxsQ29sb3IiOiAicmVkIiwgImZpbGxPcGFjaXR5IjogMC42LCAiZmlsbFJ1bGUiOiAiZXZlbm9kZCIsICJsaW5lQ2FwIjogInJvdW5kIiwgImxpbmVKb2luIjogInJvdW5kIiwgIm9wYWNpdHkiOiAxLjAsICJyYWRpdXMiOiAxMCwgInN0cm9rZSI6IHRydWUsICJ3ZWlnaHQiOiAzfQogICAgICAgICAgICApLmFkZFRvKGZlYXR1cmVfZ3JvdXBfZmUwZmQwYmQ1MTMyNDg3ZGJmZmVjMmRjMjIzZGQ2MTYpOwogICAgICAgIAogICAgCiAgICAgICAgICAgIHZhciBjaXJjbGVfbWFya2VyXzY4MmE2OGZiM2JlMzQyYmJiZTE1OGY0NjQxNzk4MDM5ID0gTC5jaXJjbGVNYXJrZXIoCiAgICAgICAgICAgICAgICBbNDMuNjcyNzA5NywgLTc5LjQwNTY3ODQwMDAwMDAxXSwKICAgICAgICAgICAgICAgIHsiYnViYmxpbmdNb3VzZUV2ZW50cyI6IHRydWUsICJjb2xvciI6ICJibGFjayIsICJkYXNoQXJyYXkiOiBudWxsLCAiZGFzaE9mZnNldCI6IG51bGwsICJmaWxsIjogdHJ1ZSwgImZpbGxDb2xvciI6ICJyZWQiLCAiZmlsbE9wYWNpdHkiOiAwLjYsICJmaWxsUnVsZSI6ICJldmVub2RkIiwgImxpbmVDYXAiOiAicm91bmQiLCAibGluZUpvaW4iOiAicm91bmQiLCAib3BhY2l0eSI6IDEuMCwgInJhZGl1cyI6IDEwLCAic3Ryb2tlIjogdHJ1ZSwgIndlaWdodCI6IDN9CiAgICAgICAgICAgICkuYWRkVG8oZmVhdHVyZV9ncm91cF9mZTBmZDBiZDUxMzI0ODdkYmZmZWMyZGMyMjNkZDYxNik7CiAgICAgICAgCiAgICAKICAgICAgICAgICAgdmFyIGNpcmNsZV9tYXJrZXJfM2VlNzU2ZGVmODEwNGJmNTllZTdhMjdjNzE3ZDQ5ZjQgPSBMLmNpcmNsZU1hcmtlcigKICAgICAgICAgICAgICAgIFs0My42NzYzNTczOTk5OTk5OSwgLTc5LjI5MzAzMTJdLAogICAgICAgICAgICAgICAgeyJidWJibGluZ01vdXNlRXZlbnRzIjogdHJ1ZSwgImNvbG9yIjogImJsYWNrIiwgImRhc2hBcnJheSI6IG51bGwsICJkYXNoT2Zmc2V0IjogbnVsbCwgImZpbGwiOiB0cnVlLCAiZmlsbENvbG9yIjogInJlZCIsICJmaWxsT3BhY2l0eSI6IDAuNiwgImZpbGxSdWxlIjogImV2ZW5vZGQiLCAibGluZUNhcCI6ICJyb3VuZCIsICJsaW5lSm9pbiI6ICJyb3VuZCIsICJvcGFjaXR5IjogMS4wLCAicmFkaXVzIjogMTAsICJzdHJva2UiOiB0cnVlLCAid2VpZ2h0IjogM30KICAgICAgICAgICAgKS5hZGRUbyhmZWF0dXJlX2dyb3VwX2ZlMGZkMGJkNTEzMjQ4N2RiZmZlYzJkYzIyM2RkNjE2KTsKICAgICAgICAKICAgIAogICAgICAgICAgICB2YXIgY2lyY2xlX21hcmtlcl8zOGVhNGVhNWNjY2Q0OWFjODk5ZGY3NTZiZDVjMDAwYyA9IEwuY2lyY2xlTWFya2VyKAogICAgICAgICAgICAgICAgWzQzLjY3OTU1NzEsIC03OS4zNTIxODhdLAogICAgICAgICAgICAgICAgeyJidWJibGluZ01vdXNlRXZlbnRzIjogdHJ1ZSwgImNvbG9yIjogImJsYWNrIiwgImRhc2hBcnJheSI6IG51bGwsICJkYXNoT2Zmc2V0IjogbnVsbCwgImZpbGwiOiB0cnVlLCAiZmlsbENvbG9yIjogInJlZCIsICJmaWxsT3BhY2l0eSI6IDAuNiwgImZpbGxSdWxlIjogImV2ZW5vZGQiLCAibGluZUNhcCI6ICJyb3VuZCIsICJsaW5lSm9pbiI6ICJyb3VuZCIsICJvcGFjaXR5IjogMS4wLCAicmFkaXVzIjogMTAsICJzdHJva2UiOiB0cnVlLCAid2VpZ2h0IjogM30KICAgICAgICAgICAgKS5hZGRUbyhmZWF0dXJlX2dyb3VwX2ZlMGZkMGJkNTEzMjQ4N2RiZmZlYzJkYzIyM2RkNjE2KTsKICAgICAgICAKICAgIAogICAgICAgICAgICB2YXIgY2lyY2xlX21hcmtlcl85ZWI3Y2NiMzdkYjM0NGFiOTE5MzJlNzFmYWIwMTA1ZCA9IEwuY2lyY2xlTWFya2VyKAogICAgICAgICAgICAgICAgWzQzLjcwNTM2ODksIC03OS4zNDkzNzE5MDAwMDAwMV0sCiAgICAgICAgICAgICAgICB7ImJ1YmJsaW5nTW91c2VFdmVudHMiOiB0cnVlLCAiY29sb3IiOiAiYmxhY2siLCAiZGFzaEFycmF5IjogbnVsbCwgImRhc2hPZmZzZXQiOiBudWxsLCAiZmlsbCI6IHRydWUsICJmaWxsQ29sb3IiOiAicmVkIiwgImZpbGxPcGFjaXR5IjogMC42LCAiZmlsbFJ1bGUiOiAiZXZlbm9kZCIsICJsaW5lQ2FwIjogInJvdW5kIiwgImxpbmVKb2luIjogInJvdW5kIiwgIm9wYWNpdHkiOiAxLjAsICJyYWRpdXMiOiAxMCwgInN0cm9rZSI6IHRydWUsICJ3ZWlnaHQiOiAzfQogICAgICAgICAgICApLmFkZFRvKGZlYXR1cmVfZ3JvdXBfZmUwZmQwYmQ1MTMyNDg3ZGJmZmVjMmRjMjIzZGQ2MTYpOwogICAgICAgIAogICAgCiAgICAgICAgICAgIHZhciBjaXJjbGVfbWFya2VyX2RkMGI2NTVlY2MwMzRlNzdiZWFhNmNiOTAxMTEyMDdjID0gTC5jaXJjbGVNYXJrZXIoCiAgICAgICAgICAgICAgICBbNDMuNzg5MDUzLCAtNzkuNDA4NDkyNzk5OTk5OTldLAogICAgICAgICAgICAgICAgeyJidWJibGluZ01vdXNlRXZlbnRzIjogdHJ1ZSwgImNvbG9yIjogImJsYWNrIiwgImRhc2hBcnJheSI6IG51bGwsICJkYXNoT2Zmc2V0IjogbnVsbCwgImZpbGwiOiB0cnVlLCAiZmlsbENvbG9yIjogInJlZCIsICJmaWxsT3BhY2l0eSI6IDAuNiwgImZpbGxSdWxlIjogImV2ZW5vZGQiLCAibGluZUNhcCI6ICJyb3VuZCIsICJsaW5lSm9pbiI6ICJyb3VuZCIsICJvcGFjaXR5IjogMS4wLCAicmFkaXVzIjogMTAsICJzdHJva2UiOiB0cnVlLCAid2VpZ2h0IjogM30KICAgICAgICAgICAgKS5hZGRUbyhmZWF0dXJlX2dyb3VwX2ZlMGZkMGJkNTEzMjQ4N2RiZmZlYzJkYzIyM2RkNjE2KTsKICAgICAgICAKPC9zY3JpcHQ+ onload=\"this.contentDocument.open();this.contentDocument.write(atob(this.getAttribute('data-html')));this.contentDocument.close();\" allowfullscreen webkitallowfullscreen mozallowfullscreen></iframe></div></div>"
      ],
      "text/plain": [
       "<folium.folium.Map at 0x7f58e1c99190>"
      ]
     },
     "execution_count": 64,
     "metadata": {},
     "output_type": "execute_result"
    }
   ],
   "source": [
    "# instantiate a feature group for the neighborhoods in the dataframe\n",
    "neigh = folium.map.FeatureGroup()\n",
    "\n",
    "# loop through the neighborhoods and add each to the neigh feature group\n",
    "for lat, lng, in toronto_neigh_stats[['Latitude','Longitude']].values:\n",
    "    neigh.add_child(\n",
    "        folium.CircleMarker(\n",
    "            [lat, lng],\n",
    "            radius=10, # define how big you want the circle markers to be\n",
    "            color='black',\n",
    "            fill=True,\n",
    "            fill_color='red',\n",
    "            fill_opacity=0.6\n",
    "        )\n",
    "    ) \n",
    "\n",
    "toronto_neigh_stats['Label']=toronto_neigh_stats['Neighborhood']+', '+toronto_neigh_stats['Borough']+'('+toronto_neigh_stats['Average Rating'].map(str)+')'\n",
    "    \n",
    "for lat, lng, label in toronto_neigh_stats[['Latitude','Longitude','Label']].values:\n",
    "    folium.Marker([lat, lng],icon=folium.Icon(color=\"red\",icon=\"cutlery\"), popup=label).add_to(toronto_map)        \n",
    "# add incidents to map\n",
    "toronto_map.add_child(neigh)    \n",
    "    \n",
    "    \n",
    "toronto_map"
   ]
  },
  {
   "cell_type": "markdown",
   "metadata": {},
   "source": [
    "##### 5.8 Build a dataset of crimes committed in Toronto area in year 2019 with details such as Borough, Neighborhood, type of offence and type of premise."
   ]
  },
  {
   "cell_type": "markdown",
   "metadata": {},
   "source": [
    "As the real world dataset 'https://www.kaggle.com/kapastor/toronto-police-data-crime-rates-by-neighbourhood' is huge, we will consider data only for year 2019 for our analysis. \n",
    "Subset of above dataset has been uploaded to github repository after dropping irrelevant columns at below location:\n",
    "https://raw.githubusercontent.com/Anagha37/Coursera_Capstone/main/MCI_2019.csv. \n",
    "<br>Using this csv, let's build a dataset of crimes committed in Toronto area in year 2019 with details such as Borough, Neighborhood, type of offence and type of premise."
   ]
  },
  {
   "cell_type": "code",
   "execution_count": 58,
   "metadata": {},
   "outputs": [
    {
     "data": {
      "text/html": [
       "<div>\n",
       "<style scoped>\n",
       "    .dataframe tbody tr th:only-of-type {\n",
       "        vertical-align: middle;\n",
       "    }\n",
       "\n",
       "    .dataframe tbody tr th {\n",
       "        vertical-align: top;\n",
       "    }\n",
       "\n",
       "    .dataframe thead th {\n",
       "        text-align: right;\n",
       "    }\n",
       "</style>\n",
       "<table border=\"1\" class=\"dataframe\">\n",
       "  <thead>\n",
       "    <tr style=\"text-align: right;\">\n",
       "      <th></th>\n",
       "      <th>premisetype</th>\n",
       "      <th>offence</th>\n",
       "      <th>reportedyear</th>\n",
       "      <th>reportedmonth</th>\n",
       "      <th>reportedday</th>\n",
       "      <th>MCI</th>\n",
       "      <th>Neighbourhood</th>\n",
       "      <th>Borough</th>\n",
       "      <th>Long</th>\n",
       "      <th>Lat</th>\n",
       "    </tr>\n",
       "  </thead>\n",
       "  <tbody>\n",
       "    <tr>\n",
       "      <th>0</th>\n",
       "      <td>Apartment</td>\n",
       "      <td>Assault With Weapon</td>\n",
       "      <td>2019</td>\n",
       "      <td>June</td>\n",
       "      <td>14</td>\n",
       "      <td>Assault</td>\n",
       "      <td>Bedford Park-Nortown</td>\n",
       "      <td>North York</td>\n",
       "      <td>-79.415932</td>\n",
       "      <td>43.723015</td>\n",
       "    </tr>\n",
       "    <tr>\n",
       "      <th>1</th>\n",
       "      <td>Commercial</td>\n",
       "      <td>Robbery - Business</td>\n",
       "      <td>2019</td>\n",
       "      <td>January</td>\n",
       "      <td>3</td>\n",
       "      <td>Robbery</td>\n",
       "      <td>Princess-Rosethorn</td>\n",
       "      <td>Etobicoke</td>\n",
       "      <td>-79.555473</td>\n",
       "      <td>43.674221</td>\n",
       "    </tr>\n",
       "    <tr>\n",
       "      <th>2</th>\n",
       "      <td>Apartment</td>\n",
       "      <td>Assault - Resist/ Prevent Seiz</td>\n",
       "      <td>2019</td>\n",
       "      <td>January</td>\n",
       "      <td>4</td>\n",
       "      <td>Assault</td>\n",
       "      <td>Roncesvalles</td>\n",
       "      <td>West Toronto</td>\n",
       "      <td>-79.435364</td>\n",
       "      <td>43.644207</td>\n",
       "    </tr>\n",
       "    <tr>\n",
       "      <th>3</th>\n",
       "      <td>Outside</td>\n",
       "      <td>Discharge Firearm - Recklessly</td>\n",
       "      <td>2019</td>\n",
       "      <td>January</td>\n",
       "      <td>5</td>\n",
       "      <td>Assault</td>\n",
       "      <td>Tam O'Shanter-Sullivan</td>\n",
       "      <td>Scarborough</td>\n",
       "      <td>-79.322212</td>\n",
       "      <td>43.773506</td>\n",
       "    </tr>\n",
       "    <tr>\n",
       "      <th>4</th>\n",
       "      <td>Commercial</td>\n",
       "      <td>B&amp;E</td>\n",
       "      <td>2019</td>\n",
       "      <td>January</td>\n",
       "      <td>27</td>\n",
       "      <td>Break and Enter</td>\n",
       "      <td>Long Branch</td>\n",
       "      <td>Etobicoke</td>\n",
       "      <td>-79.532402</td>\n",
       "      <td>43.594738</td>\n",
       "    </tr>\n",
       "  </tbody>\n",
       "</table>\n",
       "</div>"
      ],
      "text/plain": [
       "  premisetype                         offence  reportedyear reportedmonth  \\\n",
       "0   Apartment             Assault With Weapon          2019          June   \n",
       "1  Commercial              Robbery - Business          2019       January   \n",
       "2   Apartment  Assault - Resist/ Prevent Seiz          2019       January   \n",
       "3     Outside  Discharge Firearm - Recklessly          2019       January   \n",
       "4  Commercial                             B&E          2019       January   \n",
       "\n",
       "   reportedday              MCI           Neighbourhood       Borough  \\\n",
       "0           14          Assault    Bedford Park-Nortown    North York   \n",
       "1            3          Robbery      Princess-Rosethorn     Etobicoke   \n",
       "2            4          Assault            Roncesvalles  West Toronto   \n",
       "3            5          Assault  Tam O'Shanter-Sullivan   Scarborough   \n",
       "4           27  Break and Enter             Long Branch     Etobicoke   \n",
       "\n",
       "        Long        Lat  \n",
       "0 -79.415932  43.723015  \n",
       "1 -79.555473  43.674221  \n",
       "2 -79.435364  43.644207  \n",
       "3 -79.322212  43.773506  \n",
       "4 -79.532402  43.594738  "
      ]
     },
     "execution_count": 58,
     "metadata": {},
     "output_type": "execute_result"
    }
   ],
   "source": [
    "#reading the csv file\n",
    "toronto_crime_df = pd.read_csv('https://raw.githubusercontent.com/Anagha37/Coursera_Capstone/main/MCI_2019.csv', index_col=None)\n",
    "toronto_crime_df.drop(['event_unique_id','ucr_code','ucr_ext','Division','ObjectId','Hood_ID','reporteddayofyear','reporteddayofweek','reportedhour','occurrenceyear','occurrencemonth','occurrencedayofyear','occurrencedayofweek','occurrenceday','occurrencehour'], axis = 1, inplace = True)\n",
    "toronto_crime_df.head()"
   ]
  },
  {
   "cell_type": "markdown",
   "metadata": {},
   "source": [
    "For our analysis, let's create a new dataframe that has only few columns"
   ]
  },
  {
   "cell_type": "code",
   "execution_count": 60,
   "metadata": {},
   "outputs": [
    {
     "data": {
      "text/html": [
       "<div>\n",
       "<style scoped>\n",
       "    .dataframe tbody tr th:only-of-type {\n",
       "        vertical-align: middle;\n",
       "    }\n",
       "\n",
       "    .dataframe tbody tr th {\n",
       "        vertical-align: top;\n",
       "    }\n",
       "\n",
       "    .dataframe thead th {\n",
       "        text-align: right;\n",
       "    }\n",
       "</style>\n",
       "<table border=\"1\" class=\"dataframe\">\n",
       "  <thead>\n",
       "    <tr style=\"text-align: right;\">\n",
       "      <th></th>\n",
       "      <th>Borough</th>\n",
       "      <th>Neighbourhood</th>\n",
       "      <th>premisetype</th>\n",
       "      <th>offence</th>\n",
       "    </tr>\n",
       "  </thead>\n",
       "  <tbody>\n",
       "    <tr>\n",
       "      <th>0</th>\n",
       "      <td>North York</td>\n",
       "      <td>Bedford Park-Nortown</td>\n",
       "      <td>Apartment</td>\n",
       "      <td>Assault With Weapon</td>\n",
       "    </tr>\n",
       "    <tr>\n",
       "      <th>1</th>\n",
       "      <td>Etobicoke</td>\n",
       "      <td>Princess-Rosethorn</td>\n",
       "      <td>Commercial</td>\n",
       "      <td>Robbery - Business</td>\n",
       "    </tr>\n",
       "    <tr>\n",
       "      <th>2</th>\n",
       "      <td>West Toronto</td>\n",
       "      <td>Roncesvalles</td>\n",
       "      <td>Apartment</td>\n",
       "      <td>Assault - Resist/ Prevent Seiz</td>\n",
       "    </tr>\n",
       "    <tr>\n",
       "      <th>3</th>\n",
       "      <td>Scarborough</td>\n",
       "      <td>Tam O'Shanter-Sullivan</td>\n",
       "      <td>Outside</td>\n",
       "      <td>Discharge Firearm - Recklessly</td>\n",
       "    </tr>\n",
       "    <tr>\n",
       "      <th>4</th>\n",
       "      <td>Etobicoke</td>\n",
       "      <td>Long Branch</td>\n",
       "      <td>Commercial</td>\n",
       "      <td>B&amp;E</td>\n",
       "    </tr>\n",
       "  </tbody>\n",
       "</table>\n",
       "</div>"
      ],
      "text/plain": [
       "        Borough           Neighbourhood premisetype  \\\n",
       "0    North York    Bedford Park-Nortown   Apartment   \n",
       "1     Etobicoke      Princess-Rosethorn  Commercial   \n",
       "2  West Toronto            Roncesvalles   Apartment   \n",
       "3   Scarborough  Tam O'Shanter-Sullivan     Outside   \n",
       "4     Etobicoke             Long Branch  Commercial   \n",
       "\n",
       "                          offence  \n",
       "0             Assault With Weapon  \n",
       "1              Robbery - Business  \n",
       "2  Assault - Resist/ Prevent Seiz  \n",
       "3  Discharge Firearm - Recklessly  \n",
       "4                             B&E  "
      ]
     },
     "execution_count": 60,
     "metadata": {},
     "output_type": "execute_result"
    }
   ],
   "source": [
    "crime_neigh_pt = toronto_crime_df[['Borough','Neighbourhood','premisetype','offence']]\n",
    "crime_neigh_pt.head()"
   ]
  },
  {
   "cell_type": "markdown",
   "metadata": {},
   "source": [
    "##### 5.9 Filter this dataset to get information about crimes committed only in Commercial premises."
   ]
  },
  {
   "cell_type": "code",
   "execution_count": 61,
   "metadata": {},
   "outputs": [
    {
     "data": {
      "text/html": [
       "<div>\n",
       "<style scoped>\n",
       "    .dataframe tbody tr th:only-of-type {\n",
       "        vertical-align: middle;\n",
       "    }\n",
       "\n",
       "    .dataframe tbody tr th {\n",
       "        vertical-align: top;\n",
       "    }\n",
       "\n",
       "    .dataframe thead th {\n",
       "        text-align: right;\n",
       "    }\n",
       "</style>\n",
       "<table border=\"1\" class=\"dataframe\">\n",
       "  <thead>\n",
       "    <tr style=\"text-align: right;\">\n",
       "      <th></th>\n",
       "      <th>Borough</th>\n",
       "      <th>Neighbourhood</th>\n",
       "      <th>premisetype</th>\n",
       "      <th>offence</th>\n",
       "    </tr>\n",
       "  </thead>\n",
       "  <tbody>\n",
       "    <tr>\n",
       "      <th>1</th>\n",
       "      <td>Etobicoke</td>\n",
       "      <td>Princess-Rosethorn</td>\n",
       "      <td>Commercial</td>\n",
       "      <td>Robbery - Business</td>\n",
       "    </tr>\n",
       "    <tr>\n",
       "      <th>4</th>\n",
       "      <td>Etobicoke</td>\n",
       "      <td>Long Branch</td>\n",
       "      <td>Commercial</td>\n",
       "      <td>B&amp;E</td>\n",
       "    </tr>\n",
       "    <tr>\n",
       "      <th>6</th>\n",
       "      <td>North York</td>\n",
       "      <td>Downsview-Roding-CFB</td>\n",
       "      <td>Commercial</td>\n",
       "      <td>B&amp;E</td>\n",
       "    </tr>\n",
       "    <tr>\n",
       "      <th>8</th>\n",
       "      <td>East Toronto</td>\n",
       "      <td>South Riverdale</td>\n",
       "      <td>Commercial</td>\n",
       "      <td>B&amp;E</td>\n",
       "    </tr>\n",
       "    <tr>\n",
       "      <th>16</th>\n",
       "      <td>Downtown Toronto</td>\n",
       "      <td>Waterfront Communities-The Island</td>\n",
       "      <td>Commercial</td>\n",
       "      <td>Assault With Weapon</td>\n",
       "    </tr>\n",
       "  </tbody>\n",
       "</table>\n",
       "</div>"
      ],
      "text/plain": [
       "             Borough                      Neighbourhood premisetype  \\\n",
       "1          Etobicoke                 Princess-Rosethorn  Commercial   \n",
       "4          Etobicoke                        Long Branch  Commercial   \n",
       "6         North York               Downsview-Roding-CFB  Commercial   \n",
       "8       East Toronto                    South Riverdale  Commercial   \n",
       "16  Downtown Toronto  Waterfront Communities-The Island  Commercial   \n",
       "\n",
       "                offence  \n",
       "1    Robbery - Business  \n",
       "4                   B&E  \n",
       "6                   B&E  \n",
       "8                   B&E  \n",
       "16  Assault With Weapon  "
      ]
     },
     "execution_count": 61,
     "metadata": {},
     "output_type": "execute_result"
    }
   ],
   "source": [
    "comm_crime= crime_neigh_pt[crime_neigh_pt['premisetype']=='Commercial']\n",
    "comm_crime.head()"
   ]
  },
  {
   "cell_type": "markdown",
   "metadata": {},
   "source": [
    "##### 5.10 Analyze the above dataset and identify the boroughs & neighborhoods that have least crime rate in commercial premises."
   ]
  },
  {
   "cell_type": "markdown",
   "metadata": {},
   "source": [
    "Let's group the data by Boroughs"
   ]
  },
  {
   "cell_type": "code",
   "execution_count": 62,
   "metadata": {},
   "outputs": [
    {
     "data": {
      "text/plain": [
       "Borough\n",
       "Central Toronto      342\n",
       "Downtown Toronto    1428\n",
       "East Toronto         320\n",
       "East York            126\n",
       "Etobicoke           1049\n",
       "North York          1083\n",
       "Scarborough         1214\n",
       "West Toronto         555\n",
       "York                 346\n",
       "Name: offence, dtype: int64"
      ]
     },
     "execution_count": 62,
     "metadata": {},
     "output_type": "execute_result"
    }
   ],
   "source": [
    "comm_crime_b=comm_crime.groupby(['Borough'])['offence'].count()\n",
    "comm_crime_b"
   ]
  },
  {
   "cell_type": "markdown",
   "metadata": {},
   "source": [
    "Now let's create a plot for number of offences by Borough in Toronto in 2019"
   ]
  },
  {
   "cell_type": "code",
   "execution_count": 63,
   "metadata": {},
   "outputs": [
    {
     "data": {
      "image/png": "[encoded data removed]",
      "text/plain": [
       "<Figure size 1080x576 with 1 Axes>"
      ]
     },
     "metadata": {
      "needs_background": "light"
     },
     "output_type": "display_data"
    }
   ],
   "source": [
    "#creating a plot\n",
    "ax = comm_crime_b.plot.bar(rot=90,figsize=(15, 8),color=\"tab:red\",width=0.5,fontsize=14)\n",
    "\n",
    "plt.title(label=\"Number of offences by Borough in Toronto in 2019\",fontdict={'fontsize':\"16\"} )           \n",
    "plt.legend(['No.of Offences'],loc='upper right', fontsize=14)\n",
    "plt.xlabel('Borough', fontsize = 16)\n",
    "ax.get_yaxis().set_visible(False)\n",
    "#plt.ylabel('No.of Indian Restaurants', fontsize=12)\n",
    "for p in ax.patches:\n",
    "    ax.annotate(format(p.get_height(), '.0f'), \n",
    "                   (p.get_x() + p.get_width() / 2., p.get_height()), \n",
    "                   ha = 'center', va = 'center', \n",
    "                   size=14,\n",
    "                   xytext = (0, 10), \n",
    "                   textcoords = 'offset points')"
   ]
  },
  {
   "cell_type": "markdown",
   "metadata": {},
   "source": [
    "The above plot shows that <u> **Downtown Toronto** </u> is the most vulnerable area and areas like <u> **East York, York, East & Central Toronto** </u> are safer compared to other boroughs."
   ]
  },
  {
   "cell_type": "markdown",
   "metadata": {},
   "source": [
    "## 6. Results"
   ]
  },
  {
   "cell_type": "markdown",
   "metadata": {},
   "source": [
    "Based on the above analysis & visualization of the data, here is what we have found:\n",
    "1. East Toronto & Downtown Toronto have large number of Indian restaurants and York & Central Toronto have least number of Indian restaurants.<br>\n",
    "When setting up a new business, it is best to avoid competition with existing established businesses. So, one should consider areas like Central Toronto and York which has a scarcity of Indian restaurants.\n",
    "2. Downtown Toronto & Central Toronto have the best Indian restaurants with higher average rating compared to Indian restaurants in other boroughs.<br>\n",
    "When an area is famous for a cuisine, people tend to be attracted to that area more. This can give an edge when starting a new restaurant with same cuisine.  \n",
    "3. Downtown Toronto is the most vulnerable area and areas like East York, York, East & Central Toronto are safer compared to other boroughs.<br>\n",
    "Safety is one of the most important aspects to consider while starting a new business. It is best to avoid areas where crime rates are high in commercial establishments.\n",
    "\n"
   ]
  },
  {
   "cell_type": "markdown",
   "metadata": {},
   "source": [
    "## 7. Discussion "
   ]
  },
  {
   "cell_type": "markdown",
   "metadata": {},
   "source": [
    "* Even though Downtown Toronto has best indian restaurants, the competition from existing indian restaurants will be very high in that area. Moreover, it has highest crime rate in commercial establishments. Hence, this area wouldn't be recommended.\n",
    "* Areas like York and East York, despite of being safer and having relatively less competition from existing indian restaurants, are not known for having good indian restaurants. Hence, this area wouldn't be recommended either.\n",
    "* **Central Toronto seems to be having least competition from existing indian restaurants and has best indian restaurants with higher average ratings. It is also one of the safer areas with lower crime rates in commercial establishments.<br> Hence, this area is highly recommended for setting up a new Indian Restaurant in Toronto.**\n",
    "\n"
   ]
  },
  {
   "cell_type": "markdown",
   "metadata": {},
   "source": [
    "## 8. Conclusion"
   ]
  },
  {
   "cell_type": "markdown",
   "metadata": {},
   "source": [
    "We analyzed and did a visual representation of the Indian restaurant data and crimes data within the commercial premise type in the city of Toronto using data analysis and data visualization techniques. This helped us understand the best and the safest place to start a new or establish existing Indian restaurant business. If you are just a customer looking for Indian restaurants around Toronto, this data will help you find places with the best Indian cuisine."
   ]
  }
 ],
 "metadata": {
  "kernelspec": {
   "display_name": "Python 3.7",
   "language": "python",
   "name": "python3"
  },
  "language_info": {
   "codemirror_mode": {
    "name": "ipython",
    "version": 3
   },
   "file_extension": ".py",
   "mimetype": "text/x-python",
   "name": "python",
   "nbconvert_exporter": "python",
   "pygments_lexer": "ipython3",
   "version": "3.7.9"
  }
 },
 "nbformat": 4,
 "nbformat_minor": 1
}
